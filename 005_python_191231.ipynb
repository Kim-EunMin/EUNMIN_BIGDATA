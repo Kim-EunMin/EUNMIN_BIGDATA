{
 "cells": [
  {
   "cell_type": "code",
   "execution_count": null,
   "metadata": {},
   "outputs": [],
   "source": []
  },
  {
   "cell_type": "code",
   "execution_count": null,
   "metadata": {},
   "outputs": [],
   "source": [
    "# Linux\n",
    "# - 서비스 제공을 제어 : systemctil\n",
    "#    systemcti get-default : graphic mode(GUI : graphic user interface ) /text mode ( 리눅스는 텍스트모드 그래픽 모드 왔다갔다 한다. )\n",
    "#        : text mode() - 서버가 서비스를 제공\n",
    "# - 보안 : firewall -cmd  (firewall 방화벽이라는 뜻이다)\n",
    "# - 컴퓨터가 서비스를 제공할때는 ip 와 port 를 알려줘야하는데, port (포트) 번호는 막혀있다.\n",
    "# 막힌것을 열때는, firewall - cmd --permanet -- zone = public  --add-port=3306/tcp        -> 이렇게 하면 포트가 개방된다.   \n",
    "# HeidiSQL : 원격으로 mariadb 접속 작업 (포트를 열면 heidSQL 은 윈도우쪽에서, mariadb 는 리눅스에있어서 리눅스쪽에서 원격으로 작업된다. )"
   ]
  },
  {
   "cell_type": "code",
   "execution_count": null,
   "metadata": {},
   "outputs": [],
   "source": [
    "# vi 편집기\n",
    "# - 명령모드 :ese 키 를 누르고, 커서가 있는 곳에서 dd 를 누르면 한줄이 지워진다. yy 를 누르면 복사, p 를 누르면 붙여넣기\n",
    "# - 입력모드 : a명령모드에서 입력모드로 바뀌려면 i, a, o 중에 하나를 누르면 된다. (보통  i 를 쓴다 )  \n",
    "# - 마지막행 모드 : w 라고하면 저장 , :q! 는 저장하지않고 종료"
   ]
  },
  {
   "cell_type": "code",
   "execution_count": null,
   "metadata": {},
   "outputs": [],
   "source": [
    "# 서버관리자 "
   ]
  }
 ],
 "metadata": {
  "kernelspec": {
   "display_name": "Python 3",
   "language": "python",
   "name": "python3"
  },
  "language_info": {
   "codemirror_mode": {
    "name": "ipython",
    "version": 3
   },
   "file_extension": ".py",
   "mimetype": "text/x-python",
   "name": "python",
   "nbconvert_exporter": "python",
   "pygments_lexer": "ipython3",
   "version": "3.7.4"
  }
 },
 "nbformat": 4,
 "nbformat_minor": 2
}
