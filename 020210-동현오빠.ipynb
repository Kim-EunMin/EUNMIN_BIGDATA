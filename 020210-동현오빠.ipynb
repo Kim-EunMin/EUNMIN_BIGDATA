{
 "cells": [
  {
   "cell_type": "code",
   "execution_count": null,
   "metadata": {},
   "outputs": [],
   "source": [
    "# CNN ( comvolution neural network ) --> 망을 깊게하는 그런 과정을 파악하는 것이 중요하다 ( 깊게 하기 위해 머리를 쓰는 것이 중요)\n",
    "\n",
    "# -> pixel 의 주변을 적분한다 \n",
    "# -> filter, padding, stride, con2D 이용\n",
    "##  ( 필터의 사이즈가 중요하다 -> 필터사이즈가 크면 큰 특징을, 작게하면 작은 특징을 뽑아낸다 ) \n",
    "# -> pooling 이용 \n",
    "\n",
    "#VGG ( 망을 깊게 함 ) \n",
    "\n",
    "#Inception : 망을 깊게하기전에 수평으로 늘어뜨렸다.  ( inception 늘여뜨려보니 정확해져간다. )  \n",
    "\n",
    "# image generator : 이미지 증강을 한다. ( 이미지 부족 문제를 해결해준다 ) <- 전이학습도 데이터 부족문제를 해결한다 ( transduction ) \n",
    "\n",
    "\n",
    "# static mode ( 모델 다 만들고나서 마지막에 실행시켜봐야 어떤 데이터가 있는지 그떄서야 확인 가능하다 ) \n",
    "# dynamic mode ( = graph mode, static mode 와 다르게 데이터확인할 수 있으나 속도는 static mode 를 따라잡진 못한다 ) \n",
    "\n",
    "# efficientNet(필터사이즈, 깊이) , ResLet\n"
   ]
  },
  {
   "cell_type": "code",
   "execution_count": null,
   "metadata": {},
   "outputs": [],
   "source": [
    "# K.set_image_data_format('channels_first') # chaccels_last"
   ]
  },
  {
   "cell_type": "code",
   "execution_count": 1,
   "metadata": {},
   "outputs": [
    {
     "name": "stderr",
     "output_type": "stream",
     "text": [
      "Using TensorFlow backend.\n"
     ]
    }
   ],
   "source": [
    "%matplotlib inline\n",
    "import matplotlib.pyplot as plt\n",
    "import keras\n",
    "from keras.datasets import mnist\n",
    "from keras.models import Sequential\n",
    "from keras.layers import Dense,Dropout, Flatten\n",
    "from keras.layers import Conv2D, MaxPooling2D\n",
    "from keras import backend as K\n",
    "\n",
    "batch_size = 128\n",
    "num_classes = 10\n",
    "epochs = 12\n",
    "img_rows, img_cols=28,28\n",
    "(X_train, Y_train), (X_test, Y_test) = mnist.load_data()"
   ]
  },
  {
   "cell_type": "code",
   "execution_count": 2,
   "metadata": {},
   "outputs": [],
   "source": [
    "X_train = X_train.reshape(X_train.shape[0],1,28,28)\n",
    "X_test = X_test.reshape(X_test.shape[0],1,28,28)\n",
    "\n",
    "X_train = X_train.reshape(X_train.shape[0],28,28,1)\n",
    "X_test = X_test.reshape(X_test.shape[0],28,28,1)\n",
    "\n",
    "\n",
    "X_train = X_train.astype('float32')\n",
    "X_test = X_test.astype('float32')\n",
    "X_train /= 255\n",
    "X_test /= 255"
   ]
  },
  {
   "cell_type": "code",
   "execution_count": 3,
   "metadata": {},
   "outputs": [
    {
     "name": "stdout",
     "output_type": "stream",
     "text": [
      "X_train shape : (60000, 28, 28, 1)\n",
      "X_train samples : 60000\n",
      "X_test samples : 10000\n"
     ]
    }
   ],
   "source": [
    "print('X_train shape : {}'.format(X_train.shape))\n",
    "print('X_train samples : {}'.format(X_train.shape[0]))\n",
    "print('X_test samples : {}'.format(X_test.shape[0]))\n",
    "\n",
    "Y_train = keras.utils.to_categorical(Y_train, num_classes)\n",
    "Y_test = keras.utils.to_categorical(Y_test,num_classes)"
   ]
  },
  {
   "cell_type": "code",
   "execution_count": null,
   "metadata": {},
   "outputs": [],
   "source": [
    "model = Sequential()\n",
    "# output : 32, (3,3) : 필터 사이즈\n",
    "# 28x28 => (128,26,26,32)\n",
    "# same(28,28) : 모서리 특징 포함\n",
    "model.add(Conv2D(32,(3,3),activation='relu', input_shape=(28,28,1)))\n",
    "# Conv2D(32, (3, 3), padding='valid', input_shape=(28, 28, 1), activation='relu')\n",
    "\n",
    "# (128,24,24,64)\n",
    "# (128,12,12,64)\n",
    "model.add(Conv2D(64,(3,3),activation='relu'))\n",
    "model.add(MaxPooling2D(pool_size=(2,2)))\n",
    "model.add(Dropout(0.25))\n",
    "model.add(Flatten())# 12x12x64 => 1차원\n",
    "\n",
    "# FFNN , FC(fully-connected)\n",
    "model.add(Dense(128,activation='relu'))# 9216x128\n",
    "# # 128x128\n",
    "model.add(Dropout(0.5)) # 계산회로만 생략\n",
    "model.add(Dense(10, activation='softmax'))# 128x10\n",
    "# 128x10"
   ]
  },
  {
   "cell_type": "code",
   "execution_count": null,
   "metadata": {},
   "outputs": [],
   "source": [
    "model.compile(loss=keras.losses.categorical_crossentropy, optimizer=keras.optimizers.Adadelta(), metrics=['accuracy'])\n",
    "\n",
    "# epoch마다 accuracy를 저장\n",
    "class AccuracyHistory(keras.callbacks.Callback):\n",
    "    # 오버라이딩(재정의)\n",
    "    def on_train_begin(self, logs={}): # 훈련시작시 이벤트\n",
    "        self.acc = []\n",
    "    def on_epoch_end(self, batch, logs={}):\n",
    "        self.acc.append(logs.get('accuracy'))\n",
    "        \n",
    "history = AccuracyHistory()\n",
    "\n",
    "# 트레인, test\n",
    "# train, validation_data\n",
    "hist = model.fit(X_train, Y_train, batch_size=batch_size,epochs=epochs, verbose=1, validation_data=(X_test,Y_test), callbacks=[history])\n",
    "score = model.evaluate(X_test,Y_test,verbose=0)"
   ]
  },
  {
   "cell_type": "code",
   "execution_count": null,
   "metadata": {},
   "outputs": [],
   "source": [
    "model.summary()"
   ]
  },
  {
   "cell_type": "code",
   "execution_count": null,
   "metadata": {},
   "outputs": [],
   "source": [
    "history.on_train_begin()\n",
    "hist.history['accuracy']"
   ]
  },
  {
   "cell_type": "code",
   "execution_count": null,
   "metadata": {},
   "outputs": [],
   "source": [
    "image = X_train[0,:,:,0]\n",
    "plt.imshow(image, cmap=plt.cm.Greys)\n"
   ]
  },
  {
   "cell_type": "code",
   "execution_count": null,
   "metadata": {},
   "outputs": [],
   "source": [
    "plt.plot(range(1,13), hist.history['accuracy'])\n",
    "plt.xlabel('Epochs')\n",
    "plt.ylabel('Accuracy')\n",
    "plt.show()"
   ]
  },
  {
   "cell_type": "code",
   "execution_count": null,
   "metadata": {},
   "outputs": [],
   "source": []
  },
  {
   "cell_type": "code",
   "execution_count": null,
   "metadata": {},
   "outputs": [],
   "source": [
    "# 모델 저장 / 로딩"
   ]
  },
  {
   "cell_type": "code",
   "execution_count": null,
   "metadata": {},
   "outputs": [],
   "source": [
    "# HDFS(hadoop file system) : 모델 구조 전체가 저장\n",
    "# 가중치, 구조, optimization state등이 저장\n",
    "# jsom으로 저장, 구조 , 가중치를 별도로 저장 => web에서 tensorflow 지원\n",
    "# tensorflow.js import  : web에서도 가능\n",
    "model.save('model_mnist.h5')\n",
    "print('모델이 저장되었습니다.')\n",
    "\n",
    "from keras.models import load_model\n",
    "\n",
    "model = load_model('model_mnist.h5')\n",
    "print('모델이 로딩되었습니다.')\n",
    "\n",
    "model.summary()"
   ]
  },
  {
   "cell_type": "code",
   "execution_count": null,
   "metadata": {},
   "outputs": [],
   "source": [
    "# 레이어 정보 확인\n",
    "l1 = model.layers[0]\n",
    "l2 = model.layers[1]\n",
    "l1.name\n",
    "l1.input_shape\n",
    "l1.activation\n",
    "l1.output_shape"
   ]
  },
  {
   "cell_type": "code",
   "execution_count": null,
   "metadata": {},
   "outputs": [],
   "source": [
    "# imageDataGenertor\n"
   ]
  },
  {
   "cell_type": "code",
   "execution_count": null,
   "metadata": {},
   "outputs": [],
   "source": [
    "from keras.datasets import mnist\n",
    "from keras.preprocessing.image import ImageDataGenerator\n",
    "from matplotlib import pyplot\n",
    "from keras import backend as K\n",
    "(X_train, y_train), (X_test, y_test) = mnist.load_data()\n",
    "X_train = X_train.reshape(X_train.shape[0], 28,28, 1)\n",
    "X_test = X_test.reshape(X_test.shape[0], 28,28,1)\n",
    "X_train = X_train.astype('float32')\n",
    "X_test = X_test.astype('float32')\n",
    "\n",
    "datagen = ImageDataGenerator(rotation_range=90)\n",
    "# datagen = ImageDataGenerator(horizontal_flip=True, vertical_flip=True)\n",
    "#datagen = ImageDataGenerator(width_shift_range=0.2, height_shift_range=0.2)\n",
    "#datagen = ImageDataGenerator(zca_whitening =True)           #>>>>>>>>>>     이미지 백색화 시키는법 -> noise 제거 (변수간 상관도를 없앤다 ( 즉 이미지의 pca 라고 생각하자 ))\n",
    "\n",
    "datagen.fit(X_train)\n",
    "\n",
    "for X_batch, y_batch in datagen.flow(X_train, y_train, batch_size=9,\n",
    "    save_to_dir = 'images', save_prefix='aug', save_format='png'):   # 코드의미 : images 폴더에 저장됐는데 증강이 됐다 -> augment = 증강됐다. \n",
    "    for i in range(0,9):\n",
    "        pyplot.subplot(330 + 1 + i)\n",
    "        pyplot.imshow(X_batch[i].reshape(28,28), cmap=pyplot.get_cmap('gray'))\n",
    "    pyplot.show()\n",
    "    break    "
   ]
  },
  {
   "cell_type": "code",
   "execution_count": null,
   "metadata": {},
   "outputs": [],
   "source": []
  },
  {
   "cell_type": "code",
   "execution_count": null,
   "metadata": {},
   "outputs": [],
   "source": [
    "from keras.datasets import cifar10       # cifar10 은 10개로 구성 (airplane, automobile, bird,cat,deer, dog,frog,horse,ship,truc 분류문제)\n",
    "from keras.optimizers import SGD, Adam, RMSprop\n",
    "from keras.utils import np_utils\n",
    "from keras.layers import Dense, Dropout,Flatten, Activation\n",
    "import tensorflow as tf\n",
    "from keras.preprocessing.image import ImageDataGenerator\n",
    "tf.reset_default_graph()\n",
    "\n",
    "(X_train, Y_train), (X_test, Y_test) = cifar10.load_data()\n",
    "\n",
    "print('X_train shape : {}'.format(X_train.shape))\n",
    "print('X_train shape : {}'.format(X_train.shape[0]))\n",
    "print('X_test shape : {}'.format(X_test.shape[0]))\n",
    "\n",
    "NB_CALSSES = 10\n",
    "Y_train = np_utils.to_categorical(Y_train, NB_CALSSES)\n",
    "Y_test = np_utils.to_categorical(Y_test, NB_CALSSES)\n",
    "\n",
    "X_train = X_train.astype('float32') / 255\n",
    "X_test = X_test.astype('float32') / 255"
   ]
  },
  {
   "cell_type": "code",
   "execution_count": null,
   "metadata": {},
   "outputs": [],
   "source": [
    "Y_train.shape"
   ]
  },
  {
   "cell_type": "code",
   "execution_count": null,
   "metadata": {},
   "outputs": [],
   "source": [
    "plt.imshow(X_train[5])\n",
    "plt.grid(False)\n",
    "plt.show()\n",
    "plt.imshow(X_train[6])\n",
    "plt.grid(False)\n",
    "plt.show()"
   ]
  },
  {
   "cell_type": "code",
   "execution_count": null,
   "metadata": {},
   "outputs": [],
   "source": [
    "IMG_CHANNELS=3\n",
    "IMG_ROWS=32\n",
    "IMG_COLS = 32\n",
    "BATCH_SIZE = 128\n",
    "NB_EPOCH = 40\n",
    "NB_CLASSES = 10\n",
    "VERBOSE = 1\n",
    "VALIDATION_SPLIT = 0.2\n",
    "OPTIM = RMSprop()"
   ]
  },
  {
   "cell_type": "code",
   "execution_count": null,
   "metadata": {},
   "outputs": [],
   "source": [
    "model = Sequential()\n",
    "# residual 망의 영향  (conv를 2번 하고 나서 pooling 을 해주면 residual 의 영향을 받아서 더 좋다 ) -> 망을 더 깊게하기 때문이다\n",
    "\n",
    " #input=32x32x3(=칼라) -> 가중치 = 32x32x32 \n",
    "model.add(Conv2D(32,kernel_size = 3, padding='same', input_shape=(IMG_ROWS, IMG_COLS, IMG_CHANNELS)))\n",
    "\n",
    "model.add(Activation('relu'))\n",
    "model.add(Conv2D(32, kernel_size=3, padding='same'))\n",
    "model.add(Activation('relu'))\n",
    "model.add(MaxPooling2D(pool_size=(2,2)))\n",
    "model.add(Dropout(0.25))\n"
   ]
  },
  {
   "cell_type": "code",
   "execution_count": null,
   "metadata": {},
   "outputs": [],
   "source": [
    "model.add(Conv2D(64,kernel_size = 3, padding='same'))\n",
    "model.add(Activation('relu'))\n",
    "model.add(Conv2D(64,3,3))\n",
    "model.add(Activation('relu'))\n",
    "model.add(MaxPooling2D(pool_size=(2,2)))\n",
    "model.add(Dropout(0.25))\n"
   ]
  },
  {
   "cell_type": "code",
   "execution_count": null,
   "metadata": {},
   "outputs": [],
   "source": [
    "model.add(Flatten())\n",
    "model.add(Dense(512))\n",
    "model.add(Activation('relu'))\n",
    "model.add(Dropout(0.5))\n",
    "model.add(Dense(NB_CLASSES))\n",
    "model.add(Activation('softmax'))\n",
    "model.summary()\n",
    "model.compile(loss='categorical_crossentropy', optimizer=OPTIM, metrics=['accuracy'])"
   ]
  },
  {
   "cell_type": "code",
   "execution_count": null,
   "metadata": {},
   "outputs": [],
   "source": [
    "history = model.fit(X_train, Y_train, batch_size = BATCH_SIZE, epochs=NB_EPOCH, validation_split = VALIDATION_SPLIT, verbose=VERBOSE)"
   ]
  },
  {
   "cell_type": "code",
   "execution_count": null,
   "metadata": {},
   "outputs": [],
   "source": [
    "score = model.evaluate(X_test, Y_test, batch_size=BATCH_SIZE, verbose=VERBOSE)\n",
    "score"
   ]
  },
  {
   "cell_type": "code",
   "execution_count": null,
   "metadata": {},
   "outputs": [],
   "source": [
    "datagen = ImageDataGenerator( # 똑같은 데이터  : Random 순서\n",
    "featurewise_center=False,\n",
    "samplewise_center = False,\n",
    "featurewise_std_normalization=False,\n",
    "samplewise_std_normalization=False,\n",
    "zca_whitening=False, # 이미지 PCA 노이즈 제거\n",
    "rotation_range=0,\n",
    "width_shift_range=0.1,\n",
    "height_shift_range=0.1,\n",
    "horizontal_flip = True,\n",
    "vertical_flip=False)\n",
    "datagen.fit(X_train)"
   ]
  },
  {
   "cell_type": "code",
   "execution_count": null,
   "metadata": {},
   "outputs": [],
   "source": [
    "model.fit_generator(datagen.flow(X_train, Y_train, batch_size=BATCH_SIZE),\n",
    "                    samples_per_epoch=X_train.shape[0], nb_epoch=NB_EPOCH, verbose=VERBOSE)\n",
    "print('Test score : {}'.format(score[0]))\n",
    "print('Test accuracy : {}'.format(score[1]))"
   ]
  },
  {
   "cell_type": "code",
   "execution_count": null,
   "metadata": {},
   "outputs": [],
   "source": [
    "# json\n",
    "model_json = model.to_json()\n",
    "open('cifar10_architecture.json', 'w').write(model_json)\n",
    "model.save_weights('cifar10_weights.h2', overwrite=True)"
   ]
  },
  {
   "cell_type": "code",
   "execution_count": null,
   "metadata": {},
   "outputs": [],
   "source": [
    "from keras.models import model_from_json\n",
    "json_file = open('cifar10_architecture.json', 'r')\n",
    "loaded_model_json = json_file.read()\n",
    "json_file.close()\n",
    "loaded_model = model_from_json(loaded_model_json)\n",
    "loaded_model.load_weights('cifar10_weights.h2')\n",
    "print('Loded model from disk')"
   ]
  },
  {
   "cell_type": "code",
   "execution_count": null,
   "metadata": {},
   "outputs": [],
   "source": []
  },
  {
   "cell_type": "code",
   "execution_count": null,
   "metadata": {},
   "outputs": [],
   "source": [
    "# 문제 accuracy graph 출력\n",
    "# 이미지 cat, dog를 다운로드한 다음 위의 모델로 예측해 보시요"
   ]
  },
  {
   "cell_type": "code",
   "execution_count": null,
   "metadata": {},
   "outputs": [],
   "source": [
    "# plt.imshow(history.history['accuracy'])\n",
    "# plt.title('Accuracy')\n",
    "# plt.xlabel('Epochs')\n",
    "# plt.ylabel('Accuracy')\n",
    "# plt.show()"
   ]
  },
  {
   "cell_type": "code",
   "execution_count": null,
   "metadata": {},
   "outputs": [],
   "source": [
    "import tensorflow as tf\n",
    "tf.test.gpu_device_name()"
   ]
  },
  {
   "cell_type": "code",
   "execution_count": null,
   "metadata": {},
   "outputs": [],
   "source": []
  },
  {
   "cell_type": "code",
   "execution_count": null,
   "metadata": {},
   "outputs": [],
   "source": [
    "plt.plot(history.history['accuracy'])\n",
    "plt.plot(history.history['val_accuracy'])\n",
    "plt.title('model accruacy')\n",
    "plt.ylabel('accuracy')\n",
    "plt.xlabel('epoch')\n",
    "plt.legend(['train','test'],loc='upper left')\n",
    "plt.show()"
   ]
  },
  {
   "cell_type": "code",
   "execution_count": null,
   "metadata": {},
   "outputs": [],
   "source": [
    "import numpy as np\n",
    "from imageio import imread\n",
    "from skimage.transform import resize\n",
    "from keras.models import model_from_json\n",
    "\n",
    "img_names = ['cat.jpg','dog.jpg']\n",
    "imgs = [resize(imread(img_name), (32,32)).astype('float32') for img_name in img_names]\n",
    "\n",
    "imgs = np.array(imgs) / 255\n",
    "predictions = model.predict_classes(imgs)\n",
    "print(predictions)"
   ]
  },
  {
   "cell_type": "code",
   "execution_count": null,
   "metadata": {},
   "outputs": [],
   "source": [
    "# 전이(transfer learning) 학습 Application\n",
    "# - 반지도학습(일부데이터의 라벨이 무) : knn, Trenductive SVM\n",
    "# - 가중치 활용 : 그대로 적용\n",
    "# - 가중치 중 일부만 활용\n",
    "# - FFNN 부분만 학습해서 사용"
   ]
  },
  {
   "cell_type": "code",
   "execution_count": null,
   "metadata": {},
   "outputs": [],
   "source": [
    "# pre-trainded, fine-tuning(FFNN부분만 Domain kno....)"
   ]
  },
  {
   "cell_type": "code",
   "execution_count": 8,
   "metadata": {},
   "outputs": [
    {
     "name": "stdout",
     "output_type": "stream",
     "text": [
      "PIL image size : (224, 224)\n"
     ]
    },
    {
     "data": {
      "image/png": "[encoded data removed]",
      "text/plain": [
       "<Figure size 432x288 with 1 Axes>"
      ]
     },
     "metadata": {
      "needs_background": "light"
     },
     "output_type": "display_data"
    }
   ],
   "source": [
    "%matplotlib inline\n",
    "import PIL\n",
    "import matplotlib.pyplot as plt\n",
    "from keras.preprocessing.image import load_img\n",
    "from keras.preprocessing.image import img_to_array # 배열\n",
    "from keras.applications.imagenet_utils import decode_predictions\n",
    "import numpy as np\n",
    "from keras.applications.resnet50 import ResNet50\n",
    "from keras.applications import resnet50\n",
    "import tensorflow as tf\n",
    "tf.reset_default_graph()\n",
    "\n",
    "filename = 'banana.jpg'\n",
    "original = load_img(filename, target_size=(224,224))\n",
    "print('PIL image size : {}'.format(original.size))\n",
    "plt.imshow(original)\n",
    "plt.show()\n",
    "\n"
   ]
  },
  {
   "cell_type": "code",
   "execution_count": 10,
   "metadata": {},
   "outputs": [
    {
     "name": "stdout",
     "output_type": "stream",
     "text": [
      "numpy array size (224, 224, 3)\n",
      "image batch size (1, 224, 224, 3)\n",
      "[[('n07753592', 'banana', 0.9939275), ('n07749582', 'lemon', 0.0016046377), ('n07747607', 'orange', 0.0013446137)]]\n"
     ]
    },
    {
     "data": {
      "image/png": "[encoded data removed]",
      "text/plain": [
       "<Figure size 432x288 with 1 Axes>"
      ]
     },
     "metadata": {
      "needs_background": "light"
     },
     "output_type": "display_data"
    }
   ],
   "source": [
    "numpy_image = img_to_array(original)\n",
    "plt.imshow(np.uint8(numpy_image))\n",
    "print('numpy array size',numpy_image.shape)\n",
    "# 차원확대 : 여러장 처리\n",
    "# 1장(3차원 -> 4차원으로 확장)\n",
    "image_batch = np.expand_dims(numpy_image, axis=0)\n",
    "print('image batch size',image_batch.shape)\n",
    "\n",
    "# prepare the image for the resnet50 model\n",
    "processed_image = resnet50.preprocess_input(image_batch.copy())\n",
    "# Dense을 이용해서 모델을 생성\n",
    "# 라벨 => 확률\n",
    "resnet_model = resnet50.ResNet50(weights='imagenet')\n",
    "# softmax 확률 (상위 3개로 예측)\n",
    "predictions = resnet_model.predict(processed_image)\n",
    "label = decode_predictions(predictions, top=3) # labelling\n",
    "print(label)\n",
    "\n"
   ]
  },
  {
   "cell_type": "code",
   "execution_count": null,
   "metadata": {},
   "outputs": [],
   "source": []
  },
  {
   "cell_type": "code",
   "execution_count": null,
   "metadata": {},
   "outputs": [],
   "source": []
  },
  {
   "cell_type": "code",
   "execution_count": null,
   "metadata": {},
   "outputs": [],
   "source": []
  },
  {
   "cell_type": "code",
   "execution_count": null,
   "metadata": {},
   "outputs": [],
   "source": []
  },
  {
   "cell_type": "code",
   "execution_count": null,
   "metadata": {},
   "outputs": [],
   "source": []
  },
  {
   "cell_type": "code",
   "execution_count": null,
   "metadata": {},
   "outputs": [],
   "source": []
  },
  {
   "cell_type": "code",
   "execution_count": null,
   "metadata": {},
   "outputs": [],
   "source": []
  },
  {
   "cell_type": "code",
   "execution_count": null,
   "metadata": {},
   "outputs": [],
   "source": []
  },
  {
   "cell_type": "code",
   "execution_count": null,
   "metadata": {},
   "outputs": [],
   "source": []
  },
  {
   "cell_type": "code",
   "execution_count": null,
   "metadata": {},
   "outputs": [],
   "source": []
  },
  {
   "cell_type": "code",
   "execution_count": null,
   "metadata": {},
   "outputs": [],
   "source": []
  },
  {
   "cell_type": "code",
   "execution_count": null,
   "metadata": {},
   "outputs": [],
   "source": []
  },
  {
   "cell_type": "code",
   "execution_count": null,
   "metadata": {},
   "outputs": [],
   "source": []
  },
  {
   "cell_type": "code",
   "execution_count": null,
   "metadata": {},
   "outputs": [],
   "source": []
  },
  {
   "cell_type": "code",
   "execution_count": null,
   "metadata": {},
   "outputs": [],
   "source": []
  },
  {
   "cell_type": "code",
   "execution_count": null,
   "metadata": {},
   "outputs": [],
   "source": []
  },
  {
   "cell_type": "code",
   "execution_count": null,
   "metadata": {},
   "outputs": [],
   "source": []
  },
  {
   "cell_type": "code",
   "execution_count": null,
   "metadata": {},
   "outputs": [],
   "source": []
  },
  {
   "cell_type": "code",
   "execution_count": null,
   "metadata": {},
   "outputs": [],
   "source": []
  },
  {
   "cell_type": "code",
   "execution_count": null,
   "metadata": {},
   "outputs": [],
   "source": []
  },
  {
   "cell_type": "code",
   "execution_count": null,
   "metadata": {},
   "outputs": [],
   "source": []
  },
  {
   "cell_type": "code",
   "execution_count": null,
   "metadata": {},
   "outputs": [],
   "source": []
  },
  {
   "cell_type": "code",
   "execution_count": null,
   "metadata": {},
   "outputs": [],
   "source": []
  },
  {
   "cell_type": "code",
   "execution_count": null,
   "metadata": {},
   "outputs": [],
   "source": []
  },
  {
   "cell_type": "code",
   "execution_count": null,
   "metadata": {},
   "outputs": [],
   "source": []
  },
  {
   "cell_type": "code",
   "execution_count": null,
   "metadata": {},
   "outputs": [],
   "source": []
  },
  {
   "cell_type": "code",
   "execution_count": null,
   "metadata": {},
   "outputs": [],
   "source": []
  },
  {
   "cell_type": "code",
   "execution_count": null,
   "metadata": {},
   "outputs": [],
   "source": []
  }
 ],
 "metadata": {
  "kernelspec": {
   "display_name": "Python 3",
   "language": "python",
   "name": "python3"
  },
  "language_info": {
   "codemirror_mode": {
    "name": "ipython",
    "version": 3
   },
   "file_extension": ".py",
   "mimetype": "text/x-python",
   "name": "python",
   "nbconvert_exporter": "python",
   "pygments_lexer": "ipython3",
   "version": "3.7.4"
  },
  "toc": {
   "base_numbering": 1,
   "nav_menu": {},
   "number_sections": true,
   "sideBar": true,
   "skip_h1_title": false,
   "title_cell": "Table of Contents",
   "title_sidebar": "Contents",
   "toc_cell": false,
   "toc_position": {},
   "toc_section_display": true,
   "toc_window_display": false
  }
 },
 "nbformat": 4,
 "nbformat_minor": 2
}
