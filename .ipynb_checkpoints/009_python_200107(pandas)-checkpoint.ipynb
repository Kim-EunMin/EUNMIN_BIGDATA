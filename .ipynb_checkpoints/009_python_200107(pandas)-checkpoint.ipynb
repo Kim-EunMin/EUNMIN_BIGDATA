{
 "cells": [
  {
   "cell_type": "code",
   "execution_count": null,
   "metadata": {},
   "outputs": [],
   "source": [
    "# pandas 가 나타내는 자료구조 : Series, DataFrame, Panel\n",
    "# pandas 의 base 는 numpy 로 numpy 방식의 인덱싱이 가능 \n",
    "# + numpy 에 dict 를 더하면서 중복을 허용하고 순서를 보장하면서 데이터를 처리한다."
   ]
  },
  {
   "cell_type": "code",
   "execution_count": null,
   "metadata": {},
   "outputs": [],
   "source": [
    "import pandas as pd\n",
    "data = {'a':0. , 'b':1.,'c' :2.}  # dict 형태로 초기화하고 있다. \n",
    "s=pd.Series(data)  # s 는 series 가 됐다. -> 넘파이, 딕셔너리 형식으로 인덱싱이 가능하다. s 는 1차원이다. \n",
    "\n",
    "print(s['a']) # 키이 인덱싱이 가능하다. \n",
    "s=pd.Series(data,index=['b','c','d','a']) # 키이가 인덱스로 변하고 인덱스는 행이름이 된다. \n",
    "\n",
    "print(s['a'])  \n",
    "print(s['d']) # d 는 데이터가 없다 -> nan 이 나온다. \n",
    "list(s)"
   ]
  },
  {
   "cell_type": "code",
   "execution_count": null,
   "metadata": {},
   "outputs": [],
   "source": [
    "s=pd.Series([1,2,3,4,5],index=['a','b','c','d','e'])\n",
    "\n",
    "s['f']=10\n",
    "print(s)\n",
    "print()\n",
    "print()\n",
    "print(s*2)"
   ]
  },
  {
   "cell_type": "code",
   "execution_count": null,
   "metadata": {},
   "outputs": [],
   "source": [
    "s =pd.Series([1,2,3,4,5],index = ['a','b','c','d','e'] ) # d위에선 딕셔너리로 데이터를 뒀는데 이번엔 1,2,3,4,5 의 리스트를 넣었다.\n",
    "# a=1, b=2, ...e=5 가 된다. \n",
    " \n",
    "print(\"인덱스에 의한 출력\",s[0])   # 순서에 의한 인덱싱도 가능하고\n",
    "print(s['a'])  #키이에 의한 인덱싱도 가능하다. \n",
    "\n",
    "print(s[:3]) # 처음부터 3번까지 ( 넘파이에 쓰던 것 으로 넘파이에 쓰던 것을 판다스에서도 쓸 수 있다 ) \n",
    "print(\"음수\",s[-3:])\n",
    "s['a']=100 # 값을 update \n",
    "\n",
    "print(s['a'])\n",
    "s['f']=10 # f 라는 것 추가 \n",
    "print(s['f'])\n",
    "\n",
    "print(\"filtering 에 의한 춣력\", s[s>4])  # boolean 인덱스 (F,F,F,T)\n",
    "print(s)\n",
    "print(s*2)  # 각요소에 2 곱해진것\n",
    "        "
   ]
  },
  {
   "cell_type": "code",
   "execution_count": null,
   "metadata": {},
   "outputs": [],
   "source": [
    "\n",
    "import numpy as np\n",
    "data = np.array(['a','b','c','d'])  # data 를 ndarray 로 초기화\n",
    "\n",
    "# Rangeindex 객체가 자동으로 생성된다. \n",
    "# range 의 결과값 -> 리스트\n",
    "# arange 의 결과값 -> ndarray\n",
    "# RangeIndex -> index\n",
    "\n",
    "s=pd.Series(data)  # ndarray 로 series 를 만들었다. \n",
    "print(\"시리즈 데이터\",s.values) # s.values 하게 되면 값들만 출력이 된다. (index 는 출력이 안된다) \n",
    "print(\"시리즈 인덱스\",s.index)  # rangeindex 라고 나온다. \n",
    "print(\"시리즈 초기화\" ,s)\n",
    "print(\"시리즈 인덱스의 값\",s.index.values)\n",
    "print(s[0])\n",
    "print(s.head())\n",
    "print(s.value_counts()) # 도수  분포표  \n",
    "print(s.value_counts(normalize=True)) # 사이즈 1로 -> 상대도수 분포표가 된다. \n",
    "print(s.describe()) # 숫자변수에 대해서만 출력하라!! , 문자열-> object\n",
    "\n",
    "print(\"데이터 타입은:\" , s.dtypes)\n",
    "print(\"차원\",s.ndim)\n",
    "print(\"차수\",s.shape)"
   ]
  },
  {
   "cell_type": "code",
   "execution_count": null,
   "metadata": {},
   "outputs": [],
   "source": [
    "sdata = {'Ohio' : 35000, \"Texas\" : 71000, \"Oregon\" : 16000, \"Utah\" : 5000}\n",
    "obj3 = pd.Series(sdata)\n",
    "print(obj3)\n",
    "print()\n",
    "states=['California',\"Ohio\",\"Oregon\",\"Texas\"]\n",
    "obj4 = pd.Series(sdata,index=states)\n",
    "print(obj4)\n",
    "print()\n",
    "print(pd.notnull(obj4))\n",
    "print()\n",
    "print(\"객체 출력\")\n",
    "print()\n",
    "print(obj3 + obj4)"
   ]
  },
  {
   "cell_type": "code",
   "execution_count": null,
   "metadata": {},
   "outputs": [],
   "source": [
    "sdata={'Ohio':35000, \"Texas\":71000, \"Oregon\":16000,\"Utah\":5000}  # dict 데이터를 가지고 초기화했음\n",
    "obj3 = pd.Series(sdata)\n",
    "print(obj3)\n",
    "print(obj3.shape) #4개 (series 는 1차원) \n",
    "states = ['California','Ohio',\"Oregon\",\"Texas\"]  # 캘리포니아 -> nan 이 될 것 (데이터가 없으니까 ) \n",
    "obj4 = pd.Series(sdata, index = states)\n",
    "print(obj4)\n",
    "print(\"시리즈 인덱스\",obj3.index) # range index 가 아니라 그냥 index 이다. \n",
    "print(\"시리즈 인덱스\",obj4.index)# 이것도 그냥 index  -> 이때 데이터 타입은 object ( =문자열 ) \n",
    "print(\"null이 있는가\",pd.isnull(obj4)) # 데이터가 null 인가?\n",
    "\n",
    "\n",
    "\n",
    "print(\"결측치가 있는가\",pd.notnull(obj4)) # 값이 있을때 true \n",
    "print(\"객체 출력\")\n",
    "print(\"obj3 을 출력합니다.\",obj3)\n",
    "print(\"obj4 을 출력합니다.\",obj4)\n",
    "# 짝이 맞지 않으면 연산이 불가능 (index 가 다름 )  -> 근데 연산이 됨 -> 짝이 없는건 NaN ( pandas 연산의 특징이다 ) -> \n",
    "# pandas 연산 : 짝이맞지않아도 연산이 가능하나, 짝이 없는건 NaN\n",
    "print(\"연산결과를 출력합니다\",obj3+obj4)"
   ]
  },
  {
   "cell_type": "code",
   "execution_count": null,
   "metadata": {},
   "outputs": [],
   "source": [
    "s=pd.Series(['A','B','Aaba',\"Baca\",np.nan,'CABA',\"cat\"])\n",
    "# series 는 내부적으로 string 함수도 지원한다. \n",
    "s.str.count('a')\n",
    "# count 함수로 a 의' 개수를 센다 "
   ]
  },
  {
   "cell_type": "code",
   "execution_count": null,
   "metadata": {},
   "outputs": [],
   "source": [
    "import matplotlib.pyplot as plt\n",
    "s=pd.Series([1,2,2.5, 3, 3.5, 4,5])\n",
    "s.plot.kde() # kernel density estimate ->실제데이터는 7개인데  부드러운 곡선으로 그려진다. \n",
    "plt.show()  # -> 어떻게 부드럽게 그려지나? 데이터가 없는 부분은 kernel 로 예측한다. \n",
    "                #kernel 이 여기서는 디폴트로 가우시안 분포\n",
    "\n",
    "# https://darkpgmr.tistory.com/147"
   ]
  },
  {
   "cell_type": "code",
   "execution_count": null,
   "metadata": {},
   "outputs": [],
   "source": [
    "s.plot.kde(bw_method=0.003) # 숫자조금줬다-> 조금조금씩 예측한다 ->  과적합 된다. -> 굴곡이 일어난다. \n",
    "# 넓게 예측하라는 건 뭉떵하게 예측, 조금씩 예측하는 건 당연히 굴곡이 생기게 된다. (0.3 대신 3 넣어봐라)\n",
    "plt.show()"
   ]
  },
  {
   "cell_type": "code",
   "execution_count": null,
   "metadata": {},
   "outputs": [],
   "source": [
    "import pandas as pd\n",
    " \n",
    "data = {\n",
    "    'year': [2016, 2017, 2018],\n",
    "    'GDP rate': [2.8, 3.1, 3.0],\n",
    "    'GDP': ['1.637M', '1.73M', '1.83M']\n",
    "}\n",
    " \n",
    "df = pd.DataFrame(data)\n",
    "df"
   ]
  },
  {
   "cell_type": "code",
   "execution_count": null,
   "metadata": {},
   "outputs": [],
   "source": [
    "import pandas as pd\n",
    "# 데이터프레임은 행인덱스와 열인덱스 \n",
    "area = pd.Series({'California': 423967, 'Texas': 695662, # series 는 행인덱스를 줬었다. \n",
    "                  'New York': 141297, 'Florida': 170312,\n",
    "                  'Illinois': 149995})\n",
    "pop = pd.Series({'California': 38332521, 'Texas': 26448193,\n",
    "                 'New York': 19651127, 'Florida': 19552860,\n",
    "                 'Illinois': 12882135})\n",
    "data = pd.DataFrame({'area':area, 'pop':pop})  #'area' 는 열이름으로 쓰이고 있고, area 는 값으로 쓰이고 있다. \n",
    "data \n",
    "\n",
    "data.axes"
   ]
  },
  {
   "cell_type": "code",
   "execution_count": null,
   "metadata": {},
   "outputs": [],
   "source": [
    "data['area'] # area 가 열이름이다. \n",
    "data.area   # 데이터.필드이름 으로 접근해도 같다. 위의 인덱스방식이랑 같은 것이다. "
   ]
  },
  {
   "cell_type": "code",
   "execution_count": null,
   "metadata": {},
   "outputs": [],
   "source": [
    " # 객체 비교( is  를 이용)  앞에서 is None 일때 썼었음\n",
    "data.area is data['area']"
   ]
  },
  {
   "cell_type": "code",
   "execution_count": null,
   "metadata": {},
   "outputs": [],
   "source": [
    "data[data['area']>600000]\n"
   ]
  },
  {
   "cell_type": "code",
   "execution_count": null,
   "metadata": {},
   "outputs": [],
   "source": [
    "# 객체에서 변수를 실시간으로 추가하는 것이 가능하다.\n",
    "# 리스트는 append 로 추가했음\n",
    "data['density'] = data['pop']/data['area']  \n",
    "data"
   ]
  },
  {
   "cell_type": "code",
   "execution_count": null,
   "metadata": {},
   "outputs": [],
   "source": [
    "data.values  #  ( 값만 가져온다. )=> ndarray 가 나온다 -> numpy 의 함수로 처리\n",
    "data.index\n",
    "data.columns     \n",
    "print(data.axes)"
   ]
  },
  {
   "cell_type": "code",
   "execution_count": null,
   "metadata": {},
   "outputs": [],
   "source": [
    "data.T"
   ]
  },
  {
   "cell_type": "code",
   "execution_count": null,
   "metadata": {},
   "outputs": [],
   "source": [
    " data.T  # 전치"
   ]
  },
  {
   "cell_type": "code",
   "execution_count": null,
   "metadata": {},
   "outputs": [],
   "source": [
    "data.values[0] # 행값을 가져온다 # 이렇게 쓰면 행인지 열인지 헷갈려서 iloc 를 만든다. "
   ]
  },
  {
   "cell_type": "code",
   "execution_count": null,
   "metadata": {},
   "outputs": [],
   "source": [
    "data"
   ]
  },
  {
   "cell_type": "code",
   "execution_count": null,
   "metadata": {},
   "outputs": [],
   "source": [
    "data.iloc[:3,:2] #숫자로 인덱싱 할때는  iloc / 키이로 인덱싱할때는 loc  # 행과열로 입력한다. "
   ]
  },
  {
   "cell_type": "code",
   "execution_count": null,
   "metadata": {},
   "outputs": [],
   "source": [
    "data.loc[:'Illinois',:'pop']  # 키이가 순서가 보장이 안되는데 판다스에서는 보장이 된다. "
   ]
  },
  {
   "cell_type": "code",
   "execution_count": null,
   "metadata": {},
   "outputs": [],
   "source": [
    "data['Florida':'Illinois']"
   ]
  },
  {
   "cell_type": "code",
   "execution_count": null,
   "metadata": {},
   "outputs": [],
   "source": [
    "import pandas as pd\n"
   ]
  },
  {
   "cell_type": "code",
   "execution_count": null,
   "metadata": {},
   "outputs": [],
   "source": [
    "import pandas as pd\n",
    "import numpy as np\n",
    "\n",
    "d = {'Name':pd.Series(['김하나','이하나','삼하나','사하나','오하나','육하나','칠하나', '팔하나']),\n",
    "   'Age':pd.Series([25,26,25,23,30,29,23]),\n",
    "   'Rating':pd.Series([4.23,3.24,3.98,2.56,3.20,4.6,3.8])}\n",
    "\n"
   ]
  },
  {
   "cell_type": "code",
   "execution_count": null,
   "metadata": {},
   "outputs": [],
   "source": [
    "df"
   ]
  },
  {
   "cell_type": "code",
   "execution_count": null,
   "metadata": {},
   "outputs": [],
   "source": []
  },
  {
   "cell_type": "code",
   "execution_count": null,
   "metadata": {},
   "outputs": [],
   "source": []
  },
  {
   "cell_type": "code",
   "execution_count": null,
   "metadata": {},
   "outputs": [],
   "source": []
  },
  {
   "cell_type": "code",
   "execution_count": null,
   "metadata": {},
   "outputs": [],
   "source": []
  },
  {
   "cell_type": "code",
   "execution_count": null,
   "metadata": {},
   "outputs": [],
   "source": [
    "df = pd.DataFrame(d)\n",
    "print(df)\n",
    "print('축',df.axes)\n",
    "print(\"데이터 타입\",df.dtypes)\n",
    "print(\"데이터 타입\",df.get_dtype_counts) # get_dtype_counts 하면 unique ( 중복무)-> 중복이 없다. \n",
    "print(\"비었나\",df.empty)  # 데이터가 비었니? \n",
    "print(\"차원\",df.ndim)\n",
    "print(\"차수\",df.shape)\n",
    "print(\"사이즈\",df.size)\n",
    "print('값',df.values)\n",
    "print(df.head(2))\n",
    "print(df.tail(2))"
   ]
  },
  {
   "cell_type": "code",
   "execution_count": null,
   "metadata": {},
   "outputs": [],
   "source": [
    "df"
   ]
  },
  {
   "cell_type": "code",
   "execution_count": null,
   "metadata": {},
   "outputs": [],
   "source": [
    "print(df.describe(include='all'))"
   ]
  },
  {
   "cell_type": "code",
   "execution_count": null,
   "metadata": {},
   "outputs": [],
   "source": [
    "print(\"합계\",df.sum()) # 전체데이터합\n",
    "print(df.mean()) # 숫자만 적용\n",
    "print(df.std()) # standard deviation 표준편차 \n",
    "print(df.describe()) # 숫자만 적용\n",
    "print('오브젝트',df.describe(include=['object'])) # 문자\n",
    "print(df.describe(include='all')) # unique, top, freq 가 추가돼서 출력된다. "
   ]
  },
  {
   "cell_type": "code",
   "execution_count": null,
   "metadata": {},
   "outputs": [],
   "source": []
  },
  {
   "cell_type": "code",
   "execution_count": null,
   "metadata": {},
   "outputs": [],
   "source": [
    "# 1) state 만 출력하시오\n",
    "# 2) debt 열을 추가하고 모든 값을 16.5 로 입력하시오\n",
    "# 3) debt 를  pd.Series([-1.2, -1.5, -1.7], index =['two','four','five']) 로 수정하시오\n",
    "# 4) 파생변수 'estern' 에 주소가 서울인가를 따져 서울은 true 아니면 false 가 입력되게 하시오\n"
   ]
  },
  {
   "cell_type": "code",
   "execution_count": null,
   "metadata": {},
   "outputs": [],
   "source": [
    "data={'state': ['경기','강원','서울','충북','인천'],\n",
    "     'year' : [2000,2001,2002,2001,2002],\n",
    "     'pop': [1.5 , 1.7, 3.6, 2.4, 2.9]}\n",
    "frame2 = pd.DataFrame(data, index=['one','two','three','four','five'])\n",
    "frame2"
   ]
  },
  {
   "cell_type": "code",
   "execution_count": null,
   "metadata": {},
   "outputs": [],
   "source": [
    "data={'state': ['경기', '강원', '서울', '충북', '인천'],\n",
    "      'year':[2000,2001,2002,2001,2002],\n",
    "      'pop':[1.5,1.7,3.6,2.4,2.9]}\n",
    "\n",
    "frame2=pd.DataFrame(data, columns=['year', 'state', 'pop', 'debt'],\n",
    "                 index=['one', 'two', 'three', 'four', 'five']) \n",
    "frame2\n"
   ]
  },
  {
   "cell_type": "code",
   "execution_count": null,
   "metadata": {},
   "outputs": [],
   "source": [
    "#1번 :  state 는 열이니까 아래처럼 접근한다. \n",
    "print(frame2['state'])\n",
    "print(frame2.state)"
   ]
  },
  {
   "cell_type": "code",
   "execution_count": null,
   "metadata": {},
   "outputs": [],
   "source": [
    "#2) 키이데이터식으로 넣어주면 된다. \n",
    "\n",
    "frame2['debt'] = 16.5 \n",
    "print(\"debt 값 적용후\",frame2)"
   ]
  },
  {
   "cell_type": "code",
   "execution_count": null,
   "metadata": {},
   "outputs": [],
   "source": [
    "#3 # 2,4,5 에만 값을 바꿔봐라. \n",
    "\n",
    "val = pd.Series([-1.2, -1.5, -1.7], index =['two','four','five'])\n",
    "frame2['debt']=val\n",
    "print(frame2)\n"
   ]
  },
  {
   "cell_type": "code",
   "execution_count": null,
   "metadata": {},
   "outputs": [],
   "source": [
    "#4. \n",
    "frame2['estern']=frame2.state==\"서울\"\n",
    "#자동으로 하나씩 가져와서 비교한다. \n",
    "print(frame2.columns)"
   ]
  },
  {
   "cell_type": "code",
   "execution_count": null,
   "metadata": {},
   "outputs": [],
   "source": [
    "# 만약 지우고싶다면\n",
    "del frame2['estern']"
   ]
  },
  {
   "cell_type": "code",
   "execution_count": null,
   "metadata": {},
   "outputs": [],
   "source": [
    "frame2"
   ]
  },
  {
   "cell_type": "code",
   "execution_count": null,
   "metadata": {},
   "outputs": [],
   "source": [
    "# 행열로 데이터 ㅊ ㅏㅈ을때 열이 먼저온다.\n",
    "print(frame2['year']['one'])  \n"
   ]
  },
  {
   "cell_type": "code",
   "execution_count": null,
   "metadata": {},
   "outputs": [],
   "source": [
    "# 우리는 행,열순이 편하다. 그럴땐 loc / iloc\n",
    "print(frame2.loc['one','year'])"
   ]
  },
  {
   "cell_type": "code",
   "execution_count": null,
   "metadata": {},
   "outputs": [],
   "source": []
  },
  {
   "cell_type": "code",
   "execution_count": null,
   "metadata": {},
   "outputs": [],
   "source": [
    "# \\시간함수\n",
    "# 리눅스 : timestamp  (1970.1.1 이후로 경과된 mili 초로 표현)\n",
    "\n",
    "# 판다스에서 내부적으로 데이터를 저장할때는 timestamp 형식으로 저장한다. \n",
    "# pandas 에서는 nano 초까지 표현한다. \n",
    "# 시간인덱스 : 시계열분석 : Datatimeindex, periodindex주기값을 지원한다. \n",
    "\n",
    "# 타임패키지의 타임은 파이썬에서 사용하는 것\n",
    "# time.time() : 2000.1.1 부터 경과된 mili 초로 표현\n",
    "#datatime(날짜와 시간을 표현) "
   ]
  },
  {
   "cell_type": "code",
   "execution_count": null,
   "metadata": {},
   "outputs": [],
   "source": [
    "import time\n",
    "print(time.time()) # 밀리초로 표현 (. 앞이 시분초/ . 뒤가 밀리초이다 ) \n",
    "print(time.localtime())  # 연월일, 시분초로 바꿔준다. \n",
    "yesterday = time.localtime(time.time()-60*60*24)  # --> 이런식으로 시간 연산도 가능하다. \n",
    "yesterday\n",
    "print(yesterday)\n",
    "time.strftime('%Y %m %d')  # time.strftime  을 쓰면 괄호뒤의 포맷으로 출력된다 (문자열로 변경됨) "
   ]
  },
  {
   "cell_type": "code",
   "execution_count": null,
   "metadata": {},
   "outputs": [],
   "source": [
    "from datetime import date, time, datetime, timedelta    # 시간차\n",
    "now = datetime.now()  # now 를 붙여주면 연, 월, 일 시분초를 출력한다.               \n",
    "print(now)\n",
    "now.year, now.month, now.day\n",
    "now.timestamp() # 시간을 밀리초로 표현하고 싶을 때, timestamp 를 호출한다. \n",
    "\n",
    "# 연월일로 출력되고 있다가 timestamp 에 의해서 밀리초로 표현\n"
   ]
  },
  {
   "cell_type": "code",
   "execution_count": null,
   "metadata": {},
   "outputs": [],
   "source": [
    "now_str = now.strftime('%Y-%m-%d %H:%M;%S')# 이런형식으로 문자열을 만든다 (년월일시분초로 표현)\n",
    "print(now_str)  # 문자열이다. "
   ]
  },
  {
   "cell_type": "code",
   "execution_count": null,
   "metadata": {},
   "outputs": [],
   "source": [
    "# 문자열로 들어오는 것 을 파싱한다. ('2019-11-01 11:49:09\" 와 같은 것을 날짜형식으로 변환해준다. )\n",
    "datetime.strptime(now_str, '%Y-%m-%d %H:%M;%S') "
   ]
  },
  {
   "cell_type": "code",
   "execution_count": null,
   "metadata": {},
   "outputs": [],
   "source": [
    "delta = datetime(2015,1,7) -datetime(2010,6,24,8,14)"
   ]
  },
  {
   "cell_type": "code",
   "execution_count": null,
   "metadata": {},
   "outputs": [],
   "source": [
    "print(\"시간차는=\",delta,delta.days,delta.seconds)  # 초로표현하면 56760 만큼 차이나고, ??"
   ]
  },
  {
   "cell_type": "code",
   "execution_count": null,
   "metadata": {},
   "outputs": [],
   "source": [
    "print(\"시간차는=\",delta)"
   ]
  },
  {
   "cell_type": "code",
   "execution_count": null,
   "metadata": {},
   "outputs": [],
   "source": [
    "start = datetime(2019,1,7)\n",
    "print(start+timedelta(12)) # 기본이 날짜로 12일 이후의 날짜를 출력해준다"
   ]
  },
  {
   "cell_type": "code",
   "execution_count": null,
   "metadata": {},
   "outputs": [],
   "source": [
    "start + timedelta(hours=-5) # 5시간 전을 표현해준다. "
   ]
  },
  {
   "cell_type": "code",
   "execution_count": null,
   "metadata": {},
   "outputs": [],
   "source": [
    "# 판다스에서 시간\n",
    "import pandas as pd\n",
    "print(pd.datetime.now())\n",
    "print(pd.Timestamp('2017-03-01'))\n",
    "print(pd.Timestamp(1587687255,unit='s'))\n"
   ]
  },
  {
   "cell_type": "code",
   "execution_count": null,
   "metadata": {},
   "outputs": [],
   "source": [
    "# 행을 지시하는 DatetimeIndex  만들어보자.      \n",
    "print(pd.date_range(\"11:00\",\"13:30\",freq=\"30min\")) # data_range 는 datetimeindex 를 생성한다.\n",
    "# 행은 인덱스, 열키는 colunms 라고 했다. \n",
    "#11시부터 1시30분까지 30분 단위로 만든다.\n",
    "\n",
    "\n",
    "\n",
    "print(\"시간으로\", pd.date_range(\"11:00\",\"13:30\",freq=\"30min\").time) # 그중 시간만 빼겠다\n",
    "\n",
    "print(pd.date_range(\"11:00\",\"13:30\",freq=\"H\")) # hour"
   ]
  },
  {
   "cell_type": "code",
   "execution_count": null,
   "metadata": {},
   "outputs": [],
   "source": [
    "\n"
   ]
  },
  {
   "cell_type": "code",
   "execution_count": null,
   "metadata": {},
   "outputs": [],
   "source": [
    "# 지정된 시간을 DatetimeIndex 로 생성\n",
    "print(pd.to_datetime(pd.Series(['Jul 31, 2009','2010-01-10',None])))\n",
    "print(pd.to_datetime(['2005/11/23','2010.12.31', None]))"
   ]
  },
  {
   "cell_type": "code",
   "execution_count": null,
   "metadata": {},
   "outputs": [],
   "source": [
    "print(pd.date_range('1/1/2017',periods=5))  # 기본주기는 일간격이다. "
   ]
  },
  {
   "cell_type": "code",
   "execution_count": null,
   "metadata": {},
   "outputs": [],
   "source": [
    "print(pd.date_range('1/1/2017',periods=5,freq=\"M\"))"
   ]
  },
  {
   "cell_type": "code",
   "execution_count": null,
   "metadata": {},
   "outputs": [],
   "source": [
    "ts=pd.Series(np.random.randn(1000), index = pd.date_range('1/1/2000',periods=1000)) # 1000일에 대해서 \n",
    "# 날짜별로 np.random.randn(1000) 이 출력이 된다. \n",
    "ts=ts.cumsum()    \n",
    "ts.plot()\n",
    "\n",
    "df=pd.DataFrame(np.random.randn(1000,4),index=ts.index, columns=list('ABCD')) #index=ts.index --->  ts 에 있는 index 를 그대로 사용해라 \n",
    "# 1000x 4 로 이름은 A,B,C,D 인 데이터가 만들어진다. \n",
    "df=df.cumsum()\n",
    "df.plot()\n",
    "df.plot.bar()"
   ]
  },
  {
   "cell_type": "code",
   "execution_count": null,
   "metadata": {},
   "outputs": [],
   "source": [
    "data={'state': ['경기', '강원', '서울', '충북', '인천'],\n",
    "      'year':[2000,2001,2002,2001,2002],\n",
    "      'pop':[1.5,1.7,3.6,2.4,2.9]}\n",
    "\n",
    "frame2=pd.DataFrame(data, columns=['year', 'state', 'pop', 'debt'],\n",
    "                 index=['one', 'two', 'three', 'four', 'five']) \n",
    "frame2"
   ]
  },
  {
   "cell_type": "code",
   "execution_count": null,
   "metadata": {},
   "outputs": [],
   "source": [
    "# 문제 다음 데이터를 데이터프레임에 저장하시요\n",
    "#         지역  2018     2017   2016     2015 2015-2018증가율\n",
    "# 서울 수도권  9904312 9631482 9762546 9853972    0.0283\n",
    "# 부산 경상권  3448737 3393191 3512547 3655437    0.0163\n",
    "# 인천 수도권  2890451 2632035 2517680 2466338    0.0982\n",
    "# 대구 경상권  2466052 2431774 2456016 2473990    0.0141 "
   ]
  },
  {
   "cell_type": "code",
   "execution_count": null,
   "metadata": {},
   "outputs": [],
   "source": [
    "# 컬림 이름과 INDEX 이름은 다음과 같을 때 문제를 풀어라.\n",
    "columns = ['지역','2015','2016','2017','2018','2015-2018 증가율']\n",
    "index = ['서울','부산','인천','대구']"
   ]
  },
  {
   "cell_type": "code",
   "execution_count": null,
   "metadata": {},
   "outputs": [],
   "source": [
    "# 문제 : '2015-2018 증가율' 을 % 로 변경하시오\n",
    "# 문제 : 2015-2017 의 증가율을 구해서 변수를 추가하시오\n",
    "#   ( 열이름 : '2015-2017 증가율')"
   ]
  },
  {
   "cell_type": "code",
   "execution_count": null,
   "metadata": {},
   "outputs": [],
   "source": [
    "data={'2016' : [9762546,3512547,2517680,2456016],\n",
    "      '2017' : [9631482,3393191,2632035,2431774],\n",
    "      '2018' : [9904312,3448737,2890451,2644052],\n",
    "      '2015' : [9853972,3655437,2466338,2473990],\n",
    "      '2015-2018 증가율' : [0.0283,0.0163,0.0982,0.0141],\n",
    "      '지역' : ['수도권','경상권', '수도권', '경상권']}\n",
    "\n",
    "df = pd.DataFrame(data,columns=['지역','2015','2016','2017','2018','2015-2018 증가율'],\n",
    "                 index=['서울','부산','인천','대구'])\n",
    "\n",
    "  \n",
    "df\n"
   ]
  },
  {
   "cell_type": "code",
   "execution_count": null,
   "metadata": {},
   "outputs": [],
   "source": [
    "#1번\n",
    "df['2015-2018 증가율']=df['2015-2018 증가율']*100\n",
    "df"
   ]
  },
  {
   "cell_type": "code",
   "execution_count": null,
   "metadata": {},
   "outputs": [],
   "source": [
    "#2번\n",
    "df['2015-2017 증가율'] = (df['2015']-df['2017'])/df['2015']\n",
    "df"
   ]
  },
  {
   "cell_type": "code",
   "execution_count": null,
   "metadata": {},
   "outputs": [],
   "source": []
  },
  {
   "cell_type": "code",
   "execution_count": null,
   "metadata": {},
   "outputs": [],
   "source": []
  }
 ],
 "metadata": {
  "kernelspec": {
   "display_name": "Python 3",
   "language": "python",
   "name": "python3"
  },
  "language_info": {
   "codemirror_mode": {
    "name": "ipython",
    "version": 3
   },
   "file_extension": ".py",
   "mimetype": "text/x-python",
   "name": "python",
   "nbconvert_exporter": "python",
   "pygments_lexer": "ipython3",
   "version": "3.7.4"
  }
 },
 "nbformat": 4,
 "nbformat_minor": 2
}
