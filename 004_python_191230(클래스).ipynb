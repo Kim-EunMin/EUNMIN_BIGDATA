{
 "cells": [
  {
   "cell_type": "code",
   "execution_count": null,
   "metadata": {},
   "outputs": [],
   "source": [
    "class Warehouse:\n",
    "    stock_num = 0   # 클래스 변수 = 재고\n",
    "    \n",
    "    def __init__(self, name):\n",
    "        self.name = name  #인스턴스변수이다\n",
    "        Warehouse.stock_num += 1  #객체가 하나 만들어질때  Warehouse 의 재고를 1씩 증가시켜준다.\n",
    "        \n",
    "    def __del__(self): # 객체가 소멸할 때 자동으로 호출되는 함수이다.\n",
    "        Warehouse.stock_num -= 1   # Warehouse 의 재고를 1씩 빼준다.\n",
    "\n",
    "#인스턴스화        \n",
    "user1 = Warehouse(\"Lee\")  #Lee 라는 사람이 들어옴\n",
    "user2 = Warehouse(\"Cho\")\n",
    "\n"
   ]
  },
  {
   "cell_type": "code",
   "execution_count": null,
   "metadata": {},
   "outputs": [],
   "source": [
    "# 객체 지향 프로그래밍 ( class(끝) => instance: 메모리확보) object(객체))\n",
    "# - class : 멤버변수 + 멤버함수 (멤버함수 1번만 정의되고 공유되어진다)\n",
    "# - 인스턴스할 때 멤버변수(속성)를 저장하는 공간만 확보 \n"
   ]
  },
  {
   "cell_type": "code",
   "execution_count": null,
   "metadata": {},
   "outputs": [],
   "source": [
    "width = 10    # 무엇의 높이인지 폭인지 모른다.\n",
    "height = 20\n",
    "area = 10*20/2 \n",
    "print(\"삼각형의 넓이는\",area)  # 이런게 프린트를 해줘야 삼각형의 넓이인지 알 수 있다. "
   ]
  },
  {
   "cell_type": "code",
   "execution_count": null,
   "metadata": {},
   "outputs": [],
   "source": [
    "class Triangle:  #위랑 똑같다. 위는 뭘 하는지 모르고 아래는 쉽게 할 수 있다. (class 이름은 traingle)\n",
    "    def setData(self,width, height):            #함수를 이용한 초기화\n",
    "        self.width = width     #변수 2개를 만들었다. \n",
    "        self.height = height \n",
    "    def area(self): #self 를 붙여줘야한다. -> 매개변수 취급은 안함. \n",
    "        return self.width * self.height/2\n",
    "    \n",
    "    \n",
    "tri1 = Triangle()  # 이걸 인스턴스한다고 한다. 위에는 괄호가 없었지만 여기에는 괄호붙인다. \n",
    "tri1.setData(10,20)  #--> 실시간으로 변수공간을 확보!\n",
    "print(tri1.width, tri1.height, tri1.area())"
   ]
  },
  {
   "cell_type": "code",
   "execution_count": null,
   "metadata": {},
   "outputs": [],
   "source": [
    "##__init__ : Object 에 있는 함수이다 ( 상속 : 클래스를 생성하면 자동으로 상속)   <- 언더바 2개 붙으면 오브젝트에 있는 함수이다. \n",
    "class Triangle:\n",
    "    def __init__(self,width,height):        #초기화함수 : 생성자이기 때문에 강제로 호출할 수 없다.(tri1=__init__(10,20) 이라고 호출불가능) \n",
    "        self.width=width                       # --> 단 instance 할때 자동으로 호출된다. \n",
    "        self.height=height\n",
    "    def area(self):    \n",
    "        return self.width*self.height/2\n",
    "tri1 = Triangle(10,20)                   # instance 할때 자동으로 호출!, 재정의한 함수\n",
    "#tri1.__init__(10,20) 이라고 하는 것 불가능한다. \n",
    "print(tri1.width,tri1.height,tri1.area())"
   ]
  },
  {
   "cell_type": "code",
   "execution_count": null,
   "metadata": {},
   "outputs": [],
   "source": [
    "#self 는 어느 함수건 붙여주고, 매개변수 갯수만큼  Triangle 에 넣어주면 된다!!"
   ]
  },
  {
   "cell_type": "code",
   "execution_count": null,
   "metadata": {},
   "outputs": [],
   "source": [
    "# 클래스변수, 멤버변수, 지역변수가 있다. \n"
   ]
  },
  {
   "cell_type": "code",
   "execution_count": null,
   "metadata": {},
   "outputs": [],
   "source": [
    "class MyClass(object):    #파이썬은 선언하는 순간에 메모리에 자리를 잡는다. (i는 메모리를 잡는다. )   \n",
    "#class MyClass():  이렇게 생략해도 되고 위처럼 명시적으로 상속받아도된다.   \n",
    "    \"\"\"클래스의 예\"\"\"\n",
    "    i = 12345       #함수밖에서 선언된 변수를 클래스 변수라고 한다. 클래스변수는 공용변수이다. \n",
    "    def __init__(self):\n",
    "        self.i=54321     #함수안에 있고 self  가 붙으면 멤버변수이다. (함수실행이 종료되더라도 ㅈ멤버변수는 메모리에 남아있다)\n",
    "        num=100       # self 안 붙고 함수안에 있으면 이것은 지역변수이다. (함수실행이 종료되면 지역변수는 사라짐)\n",
    "    def f(self):\n",
    "        return self.i   \n",
    "MyClass.__doc__     #object의 속성을 말하는 것"
   ]
  },
  {
   "cell_type": "code",
   "execution_count": null,
   "metadata": {},
   "outputs": [],
   "source": [
    "print(Myclass.i)  #정의할때 이름인 myclass에 i 를 붙이면 12345 가 호출된다. (인스턴스 하지 않고도 호출이 가능하다)\n",
    "           # class 변수는 인스턴스 하지 않고도 호출이 가능하다!\n",
    "          # "
   ]
  },
  {
   "cell_type": "code",
   "execution_count": null,
   "metadata": {},
   "outputs": [],
   "source": [
    "myclass=MyClass() # self.i 에 대한 메모리 확보\n",
    "print(myclass.i)      # 멤버변수가 호출된다. ( 왜냐하면 첫줄에서 인스턴스하고 호출했기 때문이다)\n",
    "myclass.f()\n",
    "\n",
    " #MyClass() f라고 인스턴스하고 myclass 로 참조했음 (myclass 로 참조했기 때문에 메모리에 남아있을 수 있는 것이다)"
   ]
  },
  {
   "cell_type": "code",
   "execution_count": null,
   "metadata": {},
   "outputs": [],
   "source": [
    "print(MyClass.i)    #클래스변수호출\n",
    "print(MyClass().i)  # 멤버변수호출 그러나 위랑 다른 것은 사용한 즉시 사라진다. 참조한것이 없기 떄문\n",
    "                    #= (참조가 없기 떄문에 사용과 동시에 메모리에서 사라짐ㅁ0)\n",
    "                  # 위에서는 myclass=Myclass() 라고 myclass 라는 것에 참조를 했었음 근데 여기서는 참조가 없다. \n",
    "                 #MyClass() 라고 인스턴스는 했으나 참조를 안했다. (인스턴스해서 호출은 했으나 메모리에서 사라진다)"
   ]
  },
  {
   "cell_type": "code",
   "execution_count": null,
   "metadata": {},
   "outputs": [],
   "source": [
    "from time import time,ctime,sleep  # 시간은 초로 관리 ctime(문자열로 convert)\n",
    "class Life: # class 만듬\n",
    "    def __init__(self):  #이건 생성자 (메모리에 만들어지면서 호출된다)\n",
    "        self.birth=ctime()      #현재의 시간을 문자열로변환해서 입력하라는 것!\n",
    "        print(\"생성\",self.birth)\n",
    "    def __del__(self):  #이건 소멸자 (메모리에 사라질때 자동으로 호출된다)\n",
    "        print(\"사망\",ctime())  #출력할수있게해둠\n",
    "    def test(self):\n",
    "        #mylife = Life()\n",
    "        print(\"Sleeping for 3 sec\")  \n",
    "        sleep(3)# 3 은 초를 말하는 것\n",
    "li = Life()  # 오른쪽은 heap 에 저장, 그 주소를  stack 에 생성한것이 왼쪽이다. \n",
    "li.test()\n",
    "del li # del 이라고 하니까 삭제  \n",
    "       #-> 왼쪽에 있는 변수를 없애라했다. - > 참조하는 놈이 사라짐 (참조가 지워짐) -> 자동으로 가비지 컬렉션된다. "
   ]
  },
  {
   "cell_type": "code",
   "execution_count": null,
   "metadata": {},
   "outputs": [],
   "source": [
    "#사원관리\n",
    "class Employee:  # 사ㅐ원이름과 급여를 저장하는 class\n",
    "    empCount = 0  #사원수를 저장 : 클래스 변수 생성\n",
    "    def __init__(self,name,salary): # 이름과 급여넣고 초기화\n",
    "        self.name = name # 이름\n",
    "        self.salary = salary # 급여 \n",
    "        Employee.empCount += 1  #한사람이 들어올때 1이라고 출력\n",
    "    def displayCount(self):\n",
    "        print('직원 수 =%d' % Employee.empCount)\n",
    "    def displayEmployee(self):\n",
    "        print(\"이름:\", self.name, \",급여 :\", self.salary)\n",
    "    def __call__(self,*pargs,**kargs):      # \n",
    "        print(\"Called:\",pargs,kargs)"
   ]
  },
  {
   "cell_type": "code",
   "execution_count": null,
   "metadata": {},
   "outputs": [],
   "source": [
    "#아래 다시하기"
   ]
  },
  {
   "cell_type": "code",
   "execution_count": null,
   "metadata": {},
   "outputs": [],
   "source": [
    "emp = Employee(\"김종호\",500) #인스턴스해서 데이터2개 넣는다.\n",
    "print(emp.displayCount()) #한사림이 들어올때 1이라고 출력\n",
    "emp1 = Employee(\"빅데타\",500) #한사름을 더 출력\n",
    "print(emp1.displayCount()) #그러므로 2가 출력됨\n",
    "emp.displayCount()# 얘도 또 2이다. 이유는 empCount = o 가 공유변수이기 때문이다. \n",
    "print(emp.displayEmployee())  # 데이터를 담고 있는 위치가 다르기 때문에 같은함수를 호출하더라도 다른값이 호출된다.\n",
    "print(emp1.displayEmployee())  # -> emㅔ 는 김종호를 저장 , emp1 은 빅데타를 저장 \n",
    "print(emp(\"빅데타\",500,100,c=100))  # class 를 함수처럼 사용하고 싶을때 __call__ 을 오버라이딩 (함수가 없는데 emp 괄호열고 내용쓰고 괄호닫고가 가능)"
   ]
  },
  {
   "cell_type": "code",
   "execution_count": null,
   "metadata": {},
   "outputs": [],
   "source": [
    "# age 란 변수를 추가시켜보자. "
   ]
  },
  {
   "cell_type": "code",
   "execution_count": null,
   "metadata": {},
   "outputs": [],
   "source": [
    "emp1.age = 7\n",
    "emp.age = 8 #실시간으로 변수를 추가할 수 있다. (그래서 error 가 안난다)"
   ]
  },
  {
   "cell_type": "code",
   "execution_count": null,
   "metadata": {},
   "outputs": [],
   "source": [
    "print(emp1.age)\n",
    "#맨 처음 클래스만들때 age 란 변수는 없었지만 실시간으로 변수추가가 가능하다.  "
   ]
  },
  {
   "cell_type": "code",
   "execution_count": null,
   "metadata": {},
   "outputs": [],
   "source": [
    "print(emp.__dict__)  # object 를 상속       -> emp 가 가지고 있는게 전부 나온다. 원래 2개 였는데 age 추가해서 3개가된다. "
   ]
  },
  {
   "cell_type": "code",
   "execution_count": null,
   "metadata": {},
   "outputs": [],
   "source": [
    "print(Employee.empCount)"
   ]
  },
  {
   "cell_type": "code",
   "execution_count": null,
   "metadata": {},
   "outputs": [],
   "source": [
    "print(dir(emp)) #dir 로 얘가 가지고 있는 함수들을 모두 확인할 수 있다. "
   ]
  },
  {
   "cell_type": "code",
   "execution_count": null,
   "metadata": {},
   "outputs": [],
   "source": [
    "# 문제\n",
    "# - 이름과 나이를 저장하는 Student class 를 생성하시오\n",
    "# -  이름과 나이를 출력하는 print 함수를 클래스 내에 정의하시오 "
   ]
  },
  {
   "cell_type": "code",
   "execution_count": null,
   "metadata": {},
   "outputs": [],
   "source": [
    "class Employee:  # 사ㅐ원이름과 급여를 저장하는 class\n",
    "    empCount = 0  #사원수를 저장 : 클래스 변수 생성\n",
    "    def __init__(self,name,salary): # 이름과 급여넣고 초기화\n",
    "        self.name = name # 이름\n",
    "        self.salary = salary # 급여 \n",
    "        Employee.empCount += 1  #한사람이 들어올때 1이라고 출력\n",
    "    def displayCount(self):\n",
    "        print('직원 수 =%d' % Employee.empCount)\n",
    "    def displayEmployee(self):\n",
    "        print(\"이름:\", self.name, \",급여 :\", self.salary)\n",
    "    def __call__(self,*pargs,**kargs):\n",
    "        print(\"Called:\",pargs,kargs)"
   ]
  },
  {
   "cell_type": "code",
   "execution_count": null,
   "metadata": {},
   "outputs": [],
   "source": [
    "class Student:\n",
    "    def __init__(self, name, age):\n",
    "        self.name=name\n",
    "        self.age=age\n",
    "    def printStudent(self):\n",
    "        print('이름은 = ',self.name, \"나이는\", self.age)\n"
   ]
  },
  {
   "cell_type": "code",
   "execution_count": null,
   "metadata": {},
   "outputs": [],
   "source": [
    "class Student:\n",
    "    \"\"\"학생관리\"\"\"\n",
    "    def __init__(self, name, age):       #초기화할떄는 __init__ 를 쓴다.ㅣ (처음에 해주는것이 좋다)\n",
    "        self.full_name=name\n",
    "        self.age=age\n",
    "    def print(self):  #출력하면 되니까 매개변수필요없다.\n",
    "        print(\"이름:\",self.full_name,\"나이:\",self.age)\n",
    "    def __repr__(self): #__str__       #repr 쓰는 이유 : 위의 def print() 없어도 가능. \n",
    "                                       # repr 을 오버라이딩 해 놓은 경우 편하게 쓸 수 있다. \n",
    "        return \"나의 이름은\" + self.full_name"
   ]
  },
  {
   "cell_type": "code",
   "execution_count": null,
   "metadata": {},
   "outputs": [],
   "source": [
    "f= Student(\"다함께\",23)\n",
    "f.print()"
   ]
  },
  {
   "cell_type": "code",
   "execution_count": null,
   "metadata": {},
   "outputs": [],
   "source": [
    "print(f) # repr 이 있기 때문에 이렇게 출력이 가능하다. "
   ]
  },
  {
   "cell_type": "code",
   "execution_count": null,
   "metadata": {},
   "outputs": [],
   "source": [
    "class Student:\n",
    "    \"\"\"학생관리\"\"\"\n",
    "    def __init__(self, name, age):       #초기화할떄는 __init__ 를 쓴다.ㅣ (처음에 해주는것이 좋다)\n",
    "        self.full_name=name\n",
    "        self.age=age\n",
    "    \n",
    "    def __repr__(self): #__str__       #repr 쓰는 이유 : 위의 def print() 없어도 가능. \n",
    "                                       # repr 을 오버라이딩 해 놓은 경우 편하게 쓸 수 있다. \n",
    "        return \"나의 이름은\" + self.full_name"
   ]
  },
  {
   "cell_type": "code",
   "execution_count": null,
   "metadata": {},
   "outputs": [],
   "source": [
    "print(f)  # repr 이 있기 때문에 이렇게 출력이 가능하다. "
   ]
  },
  {
   "cell_type": "code",
   "execution_count": null,
   "metadata": {},
   "outputs": [],
   "source": [
    "#원래  object 로 부터 상속을 받았기 때문에  \n",
    "print(f.__class__)   # __class__   하면 어떤 클래스에서 인스턴스 되었는지 확인할 수 있다.  -> main의 Student 에서 만들어졌다. "
   ]
  },
  {
   "cell_type": "code",
   "execution_count": null,
   "metadata": {},
   "outputs": [],
   "source": [
    "#위에서 Student 에서 만들어진 것을 확인했다. 즉 f.__class__ 는 student 인것이라고 생각하자. \n",
    "g=f.__class__(\"김종호\",34) #인스턴스 된 변수로부터 클래스 생성\n",
    "print(g)      # 언더바 클래스를 쓰면은 Student('김종호',34) 와 똑같은 효과가 있따. "
   ]
  },
  {
   "cell_type": "code",
   "execution_count": null,
   "metadata": {},
   "outputs": [],
   "source": [
    "# class 란 변수란 함수를 묶어둔 것이라고 생각하자."
   ]
  },
  {
   "cell_type": "code",
   "execution_count": null,
   "metadata": {},
   "outputs": [],
   "source": [
    "import math\n",
    "# 1개를 다루는 클래스를 작성하고 있지만 거리값은 두개를 이용한다. \n",
    "class Point:\n",
    "    def __init__(self,x,y):  # 생성자\n",
    "        self.x=x    #멤버변수를 초기화시키고 있다. self.x 가 멤버변수, x가 매개변수이다. 멤버변수는 사라지지 않고, x 는 사라진다. \n",
    "        self.y=y\n",
    "    def __str__(self):   #str 은  __repr__ 과 같다. -> 문자열을 요구하는 함수에 들어가서 쓰인다. \n",
    "        return \"좌표는 (%d,%d)\" %(self.x,self.y)     # d가 정수\n",
    "    def dist(self,other):   #매개변수로 other 을 받는다. \n",
    "        distance=math.sqrt((self.x-other.x)**2 + (self.y-other.y)**2)   # self 의 x,y 2개  이고 other 도 2개이므로 other.x  other.y  \n",
    "        return distance\n",
    "    def collision(self,other):# 충돌했냐 안했냐? (자기자신과 다른 매개변수가 충돌했냐 안했냐)\n",
    "        return self.dist(other)<3  #거리값이 3보다 작으면 충돌이다. "
   ]
  },
  {
   "cell_type": "code",
   "execution_count": null,
   "metadata": {},
   "outputs": [],
   "source": [
    "first = Point(7,3)\n",
    "second = Point(4,7)\n",
    "print(first)  #__str__ 덕분에 그냥 바로 문자열이 출력이 된다. \n",
    "print(second)"
   ]
  },
  {
   "cell_type": "code",
   "execution_count": null,
   "metadata": {},
   "outputs": [],
   "source": [
    "print(\"두점사이의 거리는 =\",first.dist(second))\n",
    "if first.collision(second):\n",
    "    print(\"충돌했다\")\n",
    "else:\n",
    "    print(\"충돌안했다\")"
   ]
  },
  {
   "cell_type": "code",
   "execution_count": null,
   "metadata": {},
   "outputs": [],
   "source": [
    "x1=10;y1=20\n",
    "x2=20;y2=30\n",
    "distance=math.sqrt((x1-x2)**2+(y1-y2)**2) #와 위는 같은 것이다. "
   ]
  },
  {
   "cell_type": "code",
   "execution_count": null,
   "metadata": {},
   "outputs": [],
   "source": [
    "# 문제 : Point 클래스를 이용하여 Circle 클래스를 정의하시오\n",
    "# 원 : 중심점하고 반지름  (point 클래스를 멤버변수로하라)\n",
    "# 원과 원이 충돌하는 여부를 확인하는 함수를 작성하시오. \n"
   ]
  },
  {
   "cell_type": "code",
   "execution_count": null,
   "metadata": {},
   "outputs": [],
   "source": [
    "# 내가 한 것 ( 참조하는 것은 모르겠다)\n",
    "class Circle:\n",
    "    def __init__(self,x,y,r):\n",
    "        self.x=x\n",
    "        self.y=y\n",
    "        self.r=r\n",
    "    def __str__(self):\n",
    "        return \"좌표는 (%d,%d)\" %(self.x,self.y)\n",
    "    def dist(self, other):\n",
    "        distance=math.sqrt((self.x-other.x)**2+(self.y-other.y)**2)\n",
    "        return distance\n",
    "    def collision(self,other):\n",
    "        return self.dist(other)<self.r\n",
    "\n",
    "    \n",
    "first=Circle(3,7,2)\n",
    "second=Circle(3,4,2)\n",
    "print(first)\n",
    "print(second)\n",
    "print(\"두점사이의 거리는 = \",first.dist(second))\n",
    "if first.collision(second):\n",
    "    print(\"충돌\")\n",
    "else:\n",
    "    print(\"충돌no\")"
   ]
  },
  {
   "cell_type": "code",
   "execution_count": null,
   "metadata": {},
   "outputs": [],
   "source": [
    "# 선생님답:\n",
    "# center =Point() 라고 생각하고 프로그램짜보자\n",
    "class circle:\n",
    "    def __init__(self,center,radius):\n",
    "        self.center= center\n",
    "        self.radius= radius\n",
    "    def __repr__(self): # 문자열 캐스팅\n",
    "        return \" 원 중심은\" + str(self.center) + \"반지름은\"+str(self.radius)\n",
    "    def collision(self,other):\n",
    "        if self.center.dist(other.center) < self.radius + other.radius: #= 각원반지름의 합\n",
    "            result = \" 충돌한다\"\n",
    "        else:\n",
    "            result = \"충돌안한다\"\n",
    "        return result"
   ]
  },
  {
   "cell_type": "code",
   "execution_count": null,
   "metadata": {},
   "outputs": [],
   "source": [
    "cir = circle(first,1)\n",
    "cir2=circle(second,5)\n",
    "print(cir)\n",
    "print(cir2)"
   ]
  },
  {
   "cell_type": "code",
   "execution_count": null,
   "metadata": {},
   "outputs": [],
   "source": [
    "print(cir.collision(cir2))\n",
    "circle.collision(cir,cir2)  # self 가 있기때문에 2개 써도 된다)"
   ]
  },
  {
   "cell_type": "code",
   "execution_count": null,
   "metadata": {},
   "outputs": [],
   "source": [
    "# Point 를 이용해서 사각형 Rectangle 클래스를 작성하시오\n",
    "# 사각형의 면적을 구하는 함수를 작성하라\n",
    "# 사각형의 둘레를 구하는 함수를 작성하라\n",
    "# 대각선의 길이를 구하는 함수를 작성하라"
   ]
  },
  {
   "cell_type": "code",
   "execution_count": null,
   "metadata": {},
   "outputs": [],
   "source": [
    "#절대값 abs \n",
    "#point =Point()=(x,y)\n",
    "class Rectangle:\n",
    "    def __init__(self,point,point2):\n",
    "        self.point=point\n",
    "        self.point2=point2\n",
    "    def rec_dist(self):   #대각선의 길이\n",
    "        rectange_dist=self.point.dist(point)+self.point2.dist(other.point2)\n",
    "        return rectange_dist"
   ]
  },
  {
   "cell_type": "code",
   "execution_count": null,
   "metadata": {},
   "outputs": [],
   "source": [
    "# 선생님\n",
    "class Rectangle:\n",
    "    def __init__(self,po1,po2):          #po1 = point() 매핑\n",
    "        self.po1 = po1\n",
    "        self.po2 = po2  \n",
    "    def area(self):\n",
    "        result = abs((po1.x - po2.x) * (po1.y-po2.y))   #po1, po2 안에 x,y가 있으니까 이렇게 표현\n",
    "        return result\n",
    "    def perimeter(self):\n",
    "        result = abs(po1.x-po2.x)*2 + abs(po1.y-po2.y)*2\n",
    "        return result\n",
    "    def diagonal_dist(self):\n",
    "        result = math.sqrt((po1.x-po2.x)**2 + (po1.y-po2.y)**2)\n",
    "\n",
    "    #def __str(self):\n",
    "    #동현오빠 사진"
   ]
  },
  {
   "cell_type": "code",
   "execution_count": null,
   "metadata": {},
   "outputs": [],
   "source": [
    "# 문제 : vector class 를 작성하시오\n",
    "# x,y 의 2차원 벡터 구현\n",
    "# 벡터의 연산 (+,-,*,/) : 요소별로 계산하면됨\n",
    "# dot 함수를 구현하시오 : 벡터의 요소별로 곱하고, 모두 더해주면 내적 유사도\n",
    "# cos 값으로 변환하는 함수를 구현하시오.\n",
    "#     cos theta = acos(A내적B/ |A||B|)\n",
    "#        |A| = math.sqrt(x^2 + y^2) \n"
   ]
  },
  {
   "cell_type": "code",
   "execution_count": null,
   "metadata": {},
   "outputs": [],
   "source": [
    "#a=10\n",
    "#b=20\n",
    "# c=a+b\n",
    "#vector(10,20) + vector(30,40) 은 어떻게 구하냐? -> 밑에 __add__ 를 이용\n",
    "class Vector:\n",
    "    def __init__(self,x,y):\n",
    "        self.x=x\n",
    "        self.y=y\n",
    "    def __repr__(self):\n",
    "        return \" (좌표는 %d,%d) \" % (self.x,self.y)              \n",
    "    def __add__(self,other):           # 연산자 오버로딩을 오버라이딩으로 구현한것   #self 받고 other 한놈을 더 받는다. \n",
    "                                     # (원래 있는 것을 우리가 정의해서 쓴다)\n",
    "        return Vector(self.x + other.x, self.y + other.y)\n",
    "    def __mul__(self,other):\n",
    "        return Vector(self.x * other.x, self.y * other.y)\n",
    "    def __sub__(self,other):\n",
    "        return Vector(self.x-other.x,self.y-other.y)\n",
    "    def __truediv__(self,other):\n",
    "        return Vector(self.x / other.x , self.y/other.y)"
   ]
  },
  {
   "cell_type": "code",
   "execution_count": null,
   "metadata": {},
   "outputs": [],
   "source": [
    "f= Vector(10,23)\n",
    "g= Vector(20,27)\n",
    "print(f)\n",
    "print(f + f)\n",
    "print(f + g)\n",
    "print(f * g)\n",
    "print(f - g)\n",
    "print(f / g)"
   ]
  },
  {
   "cell_type": "code",
   "execution_count": null,
   "metadata": {},
   "outputs": [],
   "source": [
    "class Vector:\n",
    "    def __init__(self,x,y,z):\n",
    "        self.x=x\n",
    "        self.y=y\n",
    "        self.z=z\n",
    "    def __repr__(self):\n",
    "        return \" (좌표는 %d,%d,%d) \" % (self.x,self.y,self.z)              \n",
    "    def __add__(self,other):           # 연산자 오버로딩을 오버라이딩으로 구현한것   #self 받고 other 한놈을 더 받는다. \n",
    "        return Vector(self.x + other.x, self.y + other.y, self.z+other.z)\n",
    "    def __mul__(self,other):\n",
    "        return Vector(self.x * other.x, self.y * other.y , self.z * other.z)\n",
    "    def __sub__(self,other):\n",
    "        return Vector(self.x-other.x,self.y-other.y,self.z-other.z)\n",
    "    def __truediv__(self,other):\n",
    "        return Vector(self.x / other.x , self.y/other.y, self.z/other.z)\n",
    "    def dist(self):\n",
    "        return math.sqrt(self.x*self.x +self.y*self.y + self.z*self.z)\n",
    "    #방향만 바뀌어야지 크기까지 바뀌면 안됨\n",
    "    def norm(self) : # 정규화(normalization) : 크기값이 1인 사이즈로 변경(반지름이 1인사이즈)\n",
    "        dist = self.dist()\n",
    "        return self.x/dist, self.y/dist, self.z/dist\n",
    "    def dot(self,other):   #내적값 구하기\n",
    "        return (self.x*other.x + self.y*other.y + self.z*other.z)\n",
    "    def theta(self, other):\n",
    "        dot = self.dot(other)\n",
    "        dist1=self.dist()\n",
    "        dist2=other.dist() #radian => degree 로 (컴퓨터는 라디안만 사용)\n",
    "        return math.acos(dot/(dist1*dist2))*(180/math.pi) #라디언 -> 디그리로 변경\n",
    "    #변환과정이 필요 -> 사람이 사용하는 각도입력(90) -> 라디안변환 (math.pi/180) -> 계산 후\n",
    "    # -> 사람이 사용하는 degree 로 변환해서 출력 (180/math.pi)"
   ]
  },
  {
   "cell_type": "code",
   "execution_count": null,
   "metadata": {},
   "outputs": [],
   "source": [
    "f=Vector(10,0,0)\n",
    "g=Vector(0,27,0)\n",
    "print(f)\n",
    "print(f + f)\n",
    "print(f + g)\n",
    "print(f * g)\n",
    "print(f - g)\n",
    "# print(f / g)\n",
    "\n",
    "print(\"f벡터의 크기 = \",f.dist())\n",
    "print(\"g벡터의 크기는 =\", g.dist())\n",
    "print('f의 normal vector = ',f.norm()) #1.0 0.0 0.0\n",
    "print('g의 normal vector = ',g.norm()) #0.0 1.0 0.0\n",
    "print(\"두벡터의 내적=\",g.dot(f))         #     -> 내적이 0 이면 두 벡터는 90 도 직교한다. (직교하지 않으면 두 값은 서로 영향을 끼친다)\n",
    "print(\"f와 g 의 사이각은 = \", f.theta(g)) # 90"
   ]
  },
  {
   "cell_type": "code",
   "execution_count": null,
   "metadata": {},
   "outputs": [],
   "source": [
    "# (직교하지 않으면 두 값은 서로 영향을 끼친다) -> 직교하게 만들어서 분석하는 것 = 주성분분석"
   ]
  },
  {
   "cell_type": "code",
   "execution_count": null,
   "metadata": {},
   "outputs": [],
   "source": [
    "import copy\n",
    "a=[1,2,3]\n",
    "b=[4,5,a]  #주소\n",
    "x=[a,b,100]  \n",
    "y=copy.copy(x)     #주소값만 복사     #copy 와 deepcopy 의 차이는? \n",
    "t=copy.deepcopy(x) # 원래의 요소를 별도의 공간에 복사한 다음, 주소를 전달해준다. (x와 t  의 주소는 다르다)\n",
    "e=copy.deepcopy(y)\n",
    "print(\"a=\",a)\n",
    "print(x)\n",
    "print(y)\n",
    "print(t)\n",
    "print(e)\n",
    "a.append(100)\n",
    "print(x)\n",
    "print(y)\n",
    "print(t)\n",
    "print(e)"
   ]
  },
  {
   "cell_type": "code",
   "execution_count": null,
   "metadata": {},
   "outputs": [],
   "source": [
    "# 이름, 국어, 수학 ,영어를 관리하는 Student class 를 작성하시오.(1인분 관리)\n",
    "# 총점과 평균도 계산해서 멤버 변수에 저장.\n"
   ]
  },
  {
   "cell_type": "code",
   "execution_count": null,
   "metadata": {},
   "outputs": [],
   "source": [
    "class Student:\n",
    "    studCount = 0# 학생수 저장\n",
    "    def __init__(self, name, kor, eng,mat):\n",
    "        self.name=name\n",
    "        self.kor=int(kor)\n",
    "        self.eng=int(eng)\n",
    "        self.mat=int(mat)\n",
    "        self.tot=self.kor + self.mat + self.eng\n",
    "        self.avg = self.tot/3\n",
    "        Student.studCount += 1\n"
   ]
  },
  {
   "cell_type": "code",
   "execution_count": null,
   "metadata": {},
   "outputs": [],
   "source": [
    "chuisu = Student(\"김철수\",90,90,90)\n",
    "print(chuisu.name)\n",
    "print(chuisu.kor)"
   ]
  },
  {
   "cell_type": "code",
   "execution_count": null,
   "metadata": {},
   "outputs": [],
   "source": [
    "    students = []\n",
    "    while True:\n",
    "        choice = input(\"1: 입력 2: 출력 3:계산 4:종료 =>\")\n",
    "        if choice ==\"1\":\n",
    "            name = input(\"이름:\")\n",
    "            kor = input(\"국어점수:\")\n",
    "            eng = input(\"영어점수:\")\n",
    "            mat = input(\"수학점수:\")\n",
    "            stud = Student(name,kor,eng,mat)\n",
    "            students.append(stud)\n",
    "        elif choice =='2':\n",
    "            for s in students:\n",
    "                print(\"이름 :{} 국어:{} 영어:{} 수학:{} 총점:{} 평균:{}\".format(s.name, s.kor, s.eng, s.mat, s.tot, s.avg))\n",
    "        elif choice=='3':\n",
    "            kor_tot =0; eng_tot =0; mat_tot=0;\n",
    "            \n",
    "            for s in students:\n",
    "                kor_tot+=s.kor\n",
    "                eng_tot+=s.eng\n",
    "                mat_tot+=s.mat\n",
    "            kor_avg=round(kor_tot / len(students),2)\n",
    "            eng_avg=round(eng_tot / len(students),2)\n",
    "            mat_avg=round(mat_tot/ len(students),2)\n",
    "            print(\"총 학생수 : %s명\" % len(students))\n",
    "            print(\"국어평균:%s\\t\\t 영어평균: %s\\t\\t 수학평균:%s\\t\\t\" %(kor_avg, eng_avg,mat_avg))\n",
    "                  \n",
    "        elif choice ==\"4\":\n",
    "            break\n",
    "        else:\n",
    "            break\n",
    "                  \n",
    "start()"
   ]
  },
  {
   "cell_type": "code",
   "execution_count": null,
   "metadata": {},
   "outputs": [],
   "source": [
    "# 3번 국어, 영어, 수학의 반평균을 출력하시오\n"
   ]
  },
  {
   "cell_type": "code",
   "execution_count": null,
   "metadata": {},
   "outputs": [],
   "source": [
    "# 2개로 분리된 class\n",
    "##- 기본적인 데이터를 저장하는 클래스\n",
    "##- Management(입력,출력,검색,수정등)\n",
    "##- 메뉴함수"
   ]
  },
  {
   "cell_type": "code",
   "execution_count": 2,
   "metadata": {},
   "outputs": [],
   "source": [
    "#1d인분에 대한 처리\n",
    "import sys\n",
    "class Student:\n",
    "    def __init__(self):  # -> 밑에 inputData() 에 쓰려고 self옆에 안부른다. \n",
    "        self.bunho=0; self.name=\"\";        \n",
    "        self.kor = 0; self.mat = 0; self.eng = 0\n",
    "        self.total = 0; self.average=0; self.grade=\"\"\n",
    "    def inputData(self):\n",
    "        self.name = input(\"이름을 입력하세요\")\n",
    "        self.kor = eval(input(\"국어점수:\"))\n",
    "        self.mat = eval(input(\"수학점수:\"))\n",
    "        self.eng = eval(input(\"영어점수:\"))\n",
    "    def calc_total_average(self):          #수정도 염두에 두어서 별도의 함수화\n",
    "        self.total = self.kor + self.mat + self.eng\n",
    "        self.average = round(self.total/3, 2)\n",
    "        self.grade = self.calcSemGrade()\n",
    "    def calcSemGrade(self): \n",
    "        if self.average >=90:\n",
    "            return \"A\"\n",
    "        elif self.average >=80:\n",
    "            return \"B\"\n",
    "        elif self.average >=70:\n",
    "            return \"C\"\n",
    "        elif self.average >=60:\n",
    "            return \"D\"\n",
    "        else:\n",
    "            return \"F\"\n",
    "    def __str__(self):           #학생의 개인 정보 출력\n",
    "        return '%5s %5s %6.2f %6.2f %6.2f %7.2f %7.2f %5s' %(self.bunho,self.name, self.kor, self.mat, self.eng, self.total, self.average, self.grade)\n",
    "    def __cmp__(self,other):  # compare , true/false 로 결과 리턴   #??검색시 사용할것같음\n",
    "        return self.name == other.name      "
   ]
  },
  {
   "cell_type": "code",
   "execution_count": 3,
   "metadata": {},
   "outputs": [],
   "source": [
    "#student 란  class 를 관리하기 위해 만든 class\n",
    "class Management:                  \n",
    "    schoolname = \"제주 아카데미\"\n",
    "    bunho = 0\n",
    "    def __init__(self,count):\n",
    "        print(\"메뉴를 선택하시요\")\n",
    "        self.sungjuk=[]       #성적 리스트를 만듬\n",
    "        self.count=count       # 몇번 학생을 입력할 것인가? (밑에 Management(3) 말한다. count=3)\n",
    "        \n",
    "    def input(self):\n",
    "        for co_in in range(self.count):  #count 만큼 학생 입력(즉 3번 입력)\n",
    "            stu=Student()             # 클래스를 인스턴스 해준다. (객체생성)  위에서 만든 Student 를 점 찍어서 쓸 수 있다. \n",
    "            stu.inputData()              # 윗줄에서 인스턴스 해왔기 때문에 점찍고 student 에 있는 inputData() 사용 가능\n",
    "            Management.bunho += 1     # 번호를 자동으로 입력하기 위해 (객체가 하나 만들어질때  bunho 를 1씩 증가시켜준다.)\n",
    "            stu.bunho = Management.bunho   # student 클래스의 번호를 management 번호로 입력 (Mangement 에 bunho 가 초기화됐었는데, stu=Student()에 있던 bunho에 넣는다. )\n",
    "            self.sungjuk.append(stu)       #  성적리스트 안에 stu 넣는다. \n",
    "    def print_sungjuk(self): # 성적출력\n",
    "        for per in self.sungjuk:  #self.sungjuk - 리스트\n",
    "            print(per)\n",
    "            print()\n",
    "    def calc_sungjuk(self): #성적계산\n",
    "        for per in self.sungjuk:\n",
    "            per.calc_total_average()\n",
    "    def search_name(self):\n",
    "        name = input(\"검색할 학생 이름을 추가하시요\")\n",
    "        for per in self.sungjuk:                           #t성적리스트에서 1개를 빼온다. \n",
    "            if (per.name == name):\n",
    "                print(per)\n",
    "                return\n",
    "        print(\"검색하고자 하는 학생이 없습니다.\")\n",
    "        return\n",
    "    \n",
    "    \n",
    "    def revise_name(self):    # 이름수정해보자\n",
    "        name = input(\"수정할 학생 이름을 추가하시요\")\n",
    "        name2 = input(\"바꿀 이름은 쓰시오\")\n",
    "        for per in self.sungjuk:\n",
    "            if (per.name == name ):\n",
    "                per.name = name2\n",
    "                return\n",
    "        print(\"검색하고자 하는 학생이 없습니다.\")\n",
    "        return\n",
    "    \n",
    "    def delete_name(self):  # 이름 삭제해보자.\n",
    "        name = input(\"삭제할 학생 이름을 쓰세요\")\n",
    "        for per in self.sungjuk:\n",
    "            if (per.name == name):\n",
    "                self.sungjuk.remove(per)\n",
    "                return    \n",
    "        print(\"검색하고자 하는 학생이 없습니다.\")\n",
    "        return    \n",
    "        \n",
    "    def sort_sungjuk(self):   #정렬해보자.        \n",
    "        return self.sungjuk.sort(key=lambda row: row.total, reverse = True) "
   ]
  },
  {
   "cell_type": "code",
   "execution_count": 5,
   "metadata": {},
   "outputs": [
    {
     "name": "stdout",
     "output_type": "stream",
     "text": [
      "메뉴를 선택하시요\n",
      "['입력(1),출력(2),계산(3),검색(4),이름수정(5),이름삭제(6),정렬(8),종료(9)']1\n",
      "이름을 입력하세요김은민\n",
      "국어점수:90\n",
      "수학점수:20\n",
      "영어점수:60\n",
      "이름을 입력하세요김창욱\n",
      "국어점수:30\n",
      "수학점수:20\n",
      "영어점수:70\n",
      "이름을 입력하세요이민기\n",
      "국어점수:30\n",
      "수학점수:20\n",
      "영어점수:77\n",
      "['입력(1),출력(2),계산(3),검색(4),이름수정(5),이름삭제(6),정렬(8),종료(9)']2\n",
      "제주 아카데미 성적 계산표\n",
      "  번 호   이 름    국 어    수 학    영 어     총 점     평 균     학 점\n",
      "    4   김은민  90.00  20.00  60.00    0.00    0.00      \n",
      "\n",
      "    5   김창욱  30.00  20.00  70.00    0.00    0.00      \n",
      "\n",
      "    6   이민기  30.00  20.00  77.00    0.00    0.00      \n",
      "\n",
      "['입력(1),출력(2),계산(3),검색(4),이름수정(5),이름삭제(6),정렬(8),종료(9)']3\n",
      "계산이 완료 되었습니다, -확인하려면 출력해 보세요\n",
      "['입력(1),출력(2),계산(3),검색(4),이름수정(5),이름삭제(6),정렬(8),종료(9)']2\n",
      "제주 아카데미 성적 계산표\n",
      "  번 호   이 름    국 어    수 학    영 어     총 점     평 균     학 점\n",
      "    4   김은민  90.00  20.00  60.00  170.00   56.67     F\n",
      "\n",
      "    5   김창욱  30.00  20.00  70.00  120.00   40.00     F\n",
      "\n",
      "    6   이민기  30.00  20.00  77.00  127.00   42.33     F\n",
      "\n",
      "['입력(1),출력(2),계산(3),검색(4),이름수정(5),이름삭제(6),정렬(8),종료(9)']4\n",
      "검색할 학생 이름을 추가하시요이민기\n",
      "    6   이민기  30.00  20.00  77.00  127.00   42.33     F\n",
      "['입력(1),출력(2),계산(3),검색(4),이름수정(5),이름삭제(6),정렬(8),종료(9)']5\n",
      "수정할 학생 이름을 추가하시요김민지\n",
      "바꿀 이름은 쓰시오2\n",
      "검색하고자 하는 학생이 없습니다.\n",
      "['입력(1),출력(2),계산(3),검색(4),이름수정(5),이름삭제(6),정렬(8),종료(9)']5\n",
      "수정할 학생 이름을 추가하시요이민기\n",
      "바꿀 이름은 쓰시오김민지\n",
      "['입력(1),출력(2),계산(3),검색(4),이름수정(5),이름삭제(6),정렬(8),종료(9)']2\n",
      "제주 아카데미 성적 계산표\n",
      "  번 호   이 름    국 어    수 학    영 어     총 점     평 균     학 점\n",
      "    4   김은민  90.00  20.00  60.00  170.00   56.67     F\n",
      "\n",
      "    5   김창욱  30.00  20.00  70.00  120.00   40.00     F\n",
      "\n",
      "    6   김민지  30.00  20.00  77.00  127.00   42.33     F\n",
      "\n",
      "['입력(1),출력(2),계산(3),검색(4),이름수정(5),이름삭제(6),정렬(8),종료(9)']8\n",
      "['입력(1),출력(2),계산(3),검색(4),이름수정(5),이름삭제(6),정렬(8),종료(9)']2\n",
      "제주 아카데미 성적 계산표\n",
      "  번 호   이 름    국 어    수 학    영 어     총 점     평 균     학 점\n",
      "    4   김은민  90.00  20.00  60.00  170.00   56.67     F\n",
      "\n",
      "    6   김민지  30.00  20.00  77.00  127.00   42.33     F\n",
      "\n",
      "    5   김창욱  30.00  20.00  70.00  120.00   40.00     F\n",
      "\n",
      "['입력(1),출력(2),계산(3),검색(4),이름수정(5),이름삭제(6),정렬(8),종료(9)']9\n",
      "이제 stop 입니다\n"
     ]
    }
   ],
   "source": [
    "sj = [\"번호\",\"이름\",\"국어\",\"수학\",\"영어\",\"총점\",\"평균\",\"학점\"]  \n",
    "\n",
    "menu = [\"입력(1),출력(2),계산(3),검색(4),이름수정(5),이름삭제(6),정렬(8),종료(9)\"] \n",
    "man_sung =Management(3) # 몇 명을 한번에 입력할 것인가?\n",
    "while 1:      #1= True 0=False\n",
    "    sel = input(menu)       \n",
    "    if sel ==\"1\":        \n",
    "        man_sung.input()       #man.sung.input() 이니까 management 의 input 이고 그건 또 student 로 올라가야한다.    \n",
    "        continue     #break 말고 continue 썼으니 끝내지않고 while 로 올라감.\n",
    "    elif sel == '2':\n",
    "        print(Management.schoolname +\" 성적 계산표\")\n",
    "        print('%5s %5s %6s %6s %6s %7s %7s %7s' % ('번 호','이 름','국 어','수 학','영 어','총 점','평 균','학 점'))\n",
    "        man_sung.print_sungjuk()\n",
    "        continue\n",
    "    elif sel =='3':\n",
    "        man_sung.calc_sungjuk()\n",
    "        print(\"계산이 완료 되었습니다, -확인하려면 출력해 보세요\")\n",
    "        continue\n",
    "    elif sel =='4':\n",
    "        man_sung.search_name()\n",
    "        continue\n",
    "    elif sel =='5':\n",
    "        man_sung.revise_name()\n",
    "        continue\n",
    "    elif sel =='6':\n",
    "        man_sung.delete_name()\n",
    "        continue\n",
    "\n",
    "    \n",
    "    elif sel =='8':\n",
    "        man_sung.sort_sungjuk()\n",
    "        continue\n",
    "    \n",
    "    elif sel =='9':\n",
    "        print(\"이제 stop 입니다\")\n",
    "        break\n",
    "    \n",
    "    else:\n",
    "        print(\"잘못된 입력입니다. 다시 입력 하시오\")\n",
    "        continue"
   ]
  }
 ],
 "metadata": {
  "kernelspec": {
   "display_name": "Python 3",
   "language": "python",
   "name": "python3"
  },
  "language_info": {
   "codemirror_mode": {
    "name": "ipython",
    "version": 3
   },
   "file_extension": ".py",
   "mimetype": "text/x-python",
   "name": "python",
   "nbconvert_exporter": "python",
   "pygments_lexer": "ipython3",
   "version": "3.7.4"
  }
 },
 "nbformat": 4,
 "nbformat_minor": 2
}
