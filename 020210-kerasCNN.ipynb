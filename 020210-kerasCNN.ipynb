{
 "cells": [
  {
   "cell_type": "code",
   "execution_count": null,
   "metadata": {},
   "outputs": [],
   "source": [
    "# CNN ( comvolution neural network ) --> 망을 깊게하는 그런 과정을 파악하는 것이 중요하다 ( 깊게 하기 위해 머리를 쓰는 것이 중요)\n",
    "\n",
    "# -> pixel 의 주변을 적분한다 \n",
    "# -> filter, padding, stride, con2D 이용\n",
    "##  ( 필터의 사이즈가 중요하다 -> 필터사이즈가 크면 큰 특징을, 작게하면 작은 특징을 뽑아낸다 ) \n",
    "# -> pooling 이용 \n",
    "\n",
    "#VGG ( 망을 깊게 함 ) \n",
    "\n",
    "#Inception : 망을 깊게하기전에 수평으로 늘어뜨렸다.  ( inception 늘여뜨려보니 정확해져간다. )  \n",
    "\n",
    "# image generator : 이미지 증강을 한다. ( 이미지 부족 문제를 해결해준다 ) <- 전이학습도 데이터 부족문제를 해결한다 ( transduction ) \n",
    "\n",
    "\n",
    "# static mode ( 모델 다 만들고나서 마지막에 실행시켜봐야 어떤 데이터가 있는지 그떄서야 확인 가능하다 ) \n",
    "# dynamic mode ( = graph mode, static mode 와 다르게 데이터확인할 수 있으나 속도는 static mode 를 따라잡진 못한다 ) \n",
    "\n",
    "# efficientNet(필터사이즈, 깊이) , ResLet\n",
    "\n"
   ]
  },
  {
   "cell_type": "code",
   "execution_count": null,
   "metadata": {},
   "outputs": [],
   "source": [
    "# transform learning 대세다 ( 범용적으로 학습을 한다 )\n",
    "\n",
    "# global average pooling  "
   ]
  },
  {
   "cell_type": "markdown",
   "metadata": {},
   "source": [
    "# GPU 설치"
   ]
  },
  {
   "cell_type": "code",
   "execution_count": null,
   "metadata": {},
   "outputs": [],
   "source": []
  },
  {
   "cell_type": "markdown",
   "metadata": {},
   "source": [
    "# MNIST CNN"
   ]
  },
  {
   "cell_type": "markdown",
   "metadata": {},
   "source": [
    "##  데이터 로딩"
   ]
  },
  {
   "cell_type": "code",
   "execution_count": null,
   "metadata": {},
   "outputs": [],
   "source": []
  },
  {
   "cell_type": "code",
   "execution_count": null,
   "metadata": {},
   "outputs": [],
   "source": [
    "import keras\n",
    "from keras.datasets import mnist\n",
    "from keras.models import Sequential\n",
    "from keras.layers import Dense, Dropout,Flatten  # flatten -> CNN 결과를 1차원으로 만들어준다. \n",
    "from keras.layers import Conv2D, MaxPooling2D\n",
    "from keras import backend as K\n",
    "K.set_image_data_format('channels_first') # channels_first 로 할지, last 로 할지 정해주는 것이다!! \n",
    "\n",
    "batch_size= 128\n",
    "num_classes = 10\n",
    "epochs=12\n",
    "img_rows, img_cols= 28,28\n",
    "(x_train, y_train), (x_test, y_test) = mnist.load_data()\n",
    "\n",
    "# channel_first, channel_last : 이미지 들어오는 방법 "
   ]
  },
  {
   "cell_type": "markdown",
   "metadata": {},
   "source": [
    "## 데이터 전처리 ( 차수 조정, categorical, 정규화등  ) "
   ]
  },
  {
   "cell_type": "code",
   "execution_count": null,
   "metadata": {},
   "outputs": [],
   "source": [
    "#x_train = x_train.reshape(x_train.shape[0], 1, 28, 28)  ## >>>channel_first이다 ( channel 즉 1이 앞에 있으니까) \n",
    "# x_test = x_test.reshape(x_test.shape[0], 1, 28,28 )   \n",
    "#print(x_train.shape)\n",
    "\n",
    "x_train = x_train.reshape(x_train.shape[0], 28, 28,1 )  ## >>>channel_last이다 ( channel 즉 1이 뒤에 있으니까) \n",
    "x_test = x_test.reshape(x_test.shape[0],28,28, 1 ) \n",
    "\n",
    "\n",
    "x_train = x_train.astype('float32')  # 타입을 바꾸는 이유는? >> 255로 나누기 위해서 \n",
    "x_test = x_test.astype('float32')\n",
    "x_train /= 255\n",
    "x_test /= 255\n",
    "\n",
    "print('x_train.shape:', x_train.shape) \n",
    "print(x_train.shape[0],'train samples') \n",
    "print(x_test.shape[0], 'test samples')  \n",
    "\n",
    "y_train = keras.utils.to_categorical(y_train, num_classes)  # y_Train 과 y_test 를 categorical 로 바꿔줘야한다!!!! \n",
    "y_test = keras.utils.to_categorical(y_test, num_classes)"
   ]
  },
  {
   "cell_type": "markdown",
   "metadata": {},
   "source": [
    "## 모델만들기"
   ]
  },
  {
   "cell_type": "code",
   "execution_count": null,
   "metadata": {},
   "outputs": [],
   "source": [
    "model = Sequential()\n",
    "\n",
    "model.add(Conv2D(32,(3,3), activation='relu', input_shape= (28,28,1))) #input shape 도 channel last 로 해줘야한다.(위에서 그렇게했으니까)\n",
    "          # >> 32 는 '필터개수' , 필터사이즈는 3x3 이란 뜻이다.\n",
    "          # >> 28x28 이 input 으로 들어왔고,  output 되는 출력값은 (128,26,26,32) 이다. (padding=valid 일때 이다)\n",
    "          #                                   output 이 (128,28,28,32) 이면  padding=same 일때 이다.(모서리특징유지됨)\n",
    "        \n",
    "        \n",
    "model.add(Conv2D(64 ,(3 , 3), activation='relu')) \n",
    "         # output 은 128 , 24 , 24 , 64 가 된다. (128장이 들어왔고 사이즈는 24x24)\n",
    "    \n",
    "    \n",
    "model.add(MaxPooling2D(pool_size=(2,2)))  # output 은 128,12,12,64\n",
    "model.add(Dropout(0.25))\n",
    "\n",
    "\n",
    "model.add(Flatten())  # Flatten -> 1차원 배열로 바꿔준다 --> 1장에대해서 12x12x64= 9216으로 바뀐다 -> flatten 시켰으니 이제부터는 FFNN 망이다.\n",
    "model.add(Dense(128, activation='relu'))  # 128(들어오는장) x 128(열값이라고생각하자)은 출력차수 즉,Dense 망의 가중치는 ?? 9216x128 이다. \n",
    "\n",
    "model.add(Dropout(0.5))  # 계산회로만 생략\n",
    "model.add(Dense(10, activation='softmax')) #>> 128 x 10 으로 출력이 된다. \n",
    "\n",
    "\n",
    "# model.summary()"
   ]
  },
  {
   "cell_type": "markdown",
   "metadata": {},
   "source": [
    "##  모델 compile ,fit"
   ]
  },
  {
   "cell_type": "code",
   "execution_count": null,
   "metadata": {},
   "outputs": [],
   "source": [
    "model.compile(loss=keras.losses.categorical_crossentropy, optimizer=keras.optimizers.Adadelta(), metrics=['accuracy'])\n",
    "\n",
    "\n",
    "# epoch 마다 accuracy 를 저장하게 해준다.  ( 안해도 별차니는 없다 ) \n",
    "class AccuracyHistory(keras.callbacks.Callback):\n",
    "    def on_train_begin(self,logs={}): # 오버라이팅 ( -> 반드시 이름이 on_train_begin 으로 ! )\n",
    "        self.acc=[]              #>> 훈련시작시 이벤트(on_train_begin) 가 발생하도록 발생했다 \n",
    "    def on_epochs_end(self, batch, logs={}):   # epoch 하나 끝날때마다 하도록 설정 \n",
    "        self.acc.append(logs.get('acc'))\n",
    "history = AccuracyHistory()  # 인스턴스 해주고 아래 fit에 , callbacks에  history 지정한다.\n",
    "\n",
    "\n",
    "\n",
    "model.fit(x_train, y_train, batch_size=batch_size,epochs=epochs, verbose=1, validation_data=(x_test,y_test), callbacks=[history])"
   ]
  },
  {
   "cell_type": "markdown",
   "metadata": {},
   "source": [
    "## 모델 성능평가"
   ]
  },
  {
   "cell_type": "code",
   "execution_count": null,
   "metadata": {},
   "outputs": [],
   "source": [
    "score = model.evaluate(x_test,y_test,verbose=0)\n",
    "# print(score[0])\n",
    "\n",
    "# print(score[1])  -> accuracy "
   ]
  },
  {
   "cell_type": "markdown",
   "metadata": {},
   "source": [
    "## 모델 저장하기"
   ]
  },
  {
   "cell_type": "code",
   "execution_count": null,
   "metadata": {},
   "outputs": [],
   "source": [
    "# HDFS(hadoop file system) : model 구조 전체를 저장\n",
    "# 가중치, 구조, optimization, stage 등이 저장\n",
    "# json 으로 저장할때는 구조, 가중치를 별도로 저장해야한다. => json 쓰는이유는? web에서도 tensorflow 를 쓰기때문이다. ( tensorflow.js import)\n",
    "model.save('model_mnist.h5')\n",
    "print('모델이 저장되었습니다')\n",
    "from keras.models import load_model\n",
    "\n",
    "model = load_model('model_mnist.h5')\n",
    "print('모델이 로딩되었습니다')\n",
    "model.summary()"
   ]
  },
  {
   "cell_type": "code",
   "execution_count": null,
   "metadata": {},
   "outputs": [],
   "source": [
    "# 레이어 정보 확인\n",
    "l1 = model.layers[0]\n",
    "l2 = model.layers[1]\n",
    "\n",
    "print(l1.name)\n",
    "print(l2.name)\n",
    "print(l1.input_shape)\n",
    "print(l1.activation)\n",
    "print(l1.output_shape)"
   ]
  },
  {
   "cell_type": "code",
   "execution_count": null,
   "metadata": {},
   "outputs": [],
   "source": []
  },
  {
   "cell_type": "markdown",
   "metadata": {},
   "source": [
    "# 데이터 generator"
   ]
  },
  {
   "cell_type": "code",
   "execution_count": null,
   "metadata": {},
   "outputs": [],
   "source": [
    "from keras.datasets import mnist\n",
    "from keras.preprocessing.image import ImageDataGenerator\n",
    "from matplotlib import pyplot\n",
    "from keras import backend as K\n",
    "(X_train, y_train), (X_test, y_test) = mnist.load_data()\n",
    "X_train = X_train.reshape(X_train.shape[0], 28,28, 1)\n",
    "X_test = X_test.reshape(X_test.shape[0], 28,28,1)\n",
    "X_train = X_train.astype('float32')\n",
    "X_test = X_test.astype('float32')\n",
    "\n",
    "datagen = ImageDataGenerator(rotation_range=90)\n",
    "#datagen = ImageDataGenerator(horizontal_flip=True, vertical_flip=True)\n",
    "#datagen = ImageDataGenerator(width_shift_range=0.2, height_shift_range=0.2)\n",
    "#datagen = ImageDataGenerator(zca_whitening =True)           #>>>>>>>>>>     이미지 백색화 시키는법 -> noise 제거 (변수간 상관도를 없앤다 ( 즉 이미지의 pca 라고 생각하자 ))\n",
    "\n",
    "datagen.fit(X_train)\n",
    "\n",
    "for X_batch, y_batch in datagen.flow(X_train, y_train, batch_size=9,\n",
    "    save_to_dir = 'images', save_prefix='aug', save_format='png'):   # 코드의미 : images 폴더에 저장됐는데 증강이 됐다 -> augment = 증강됐다. \n",
    "    for i in range(0,9):\n",
    "        pyplot.subplot(330 + 1 + i)\n",
    "        pyplot.imshow(X_batch[i].reshape(28,28), cmap=pyplot.get_cmap('gray'))\n",
    "    pyplot.show()\n",
    "    break"
   ]
  },
  {
   "cell_type": "code",
   "execution_count": null,
   "metadata": {},
   "outputs": [],
   "source": []
  },
  {
   "cell_type": "markdown",
   "metadata": {},
   "source": [
    "# cifar10 CNN"
   ]
  },
  {
   "cell_type": "markdown",
   "metadata": {},
   "source": [
    "## 데이터 로딩 후 train, test 나누기"
   ]
  },
  {
   "cell_type": "code",
   "execution_count": null,
   "metadata": {},
   "outputs": [],
   "source": [
    "import matplotlib.pyplot as plt\n",
    "import keras\n",
    "from keras.datasets import mnist\n",
    "from keras.models import Sequential\n",
    "from keras.layers import Dense,Dropout, Flatten\n",
    "from keras.layers import Conv2D, MaxPooling2D\n",
    "from keras import backend as K"
   ]
  },
  {
   "cell_type": "code",
   "execution_count": null,
   "metadata": {},
   "outputs": [],
   "source": [
    "from keras.datasets import cifar10       # cifar10 은 10개로 구성 (airplane, automobile, bird,cat,deer, dog,frog,horse,ship,truc 분류문제)\n",
    "from keras.optimizers import SGD, Adam, RMSprop\n",
    "from keras.utils import np_utils\n",
    "from keras.layers import Dense, Dropout,Flatten, Activation\n",
    "import tensorflow as tf\n",
    "from keras.preprocessing.image import ImageDataGenerator\n",
    "tf.reset_default_graph()\n",
    "\n",
    "(X_train, Y_train), (X_test, Y_test) = cifar10.load_data()\n",
    "\n",
    "print('X_train shape : {}'.format(X_train.shape))\n",
    "print('X_train shape : {}'.format(X_train.shape[0]))\n",
    "print('X_test shape : {}'.format(X_test.shape[0]))\n",
    "\n"
   ]
  },
  {
   "cell_type": "markdown",
   "metadata": {},
   "source": [
    "## Y값 범주화(categorical), 정규화"
   ]
  },
  {
   "cell_type": "code",
   "execution_count": null,
   "metadata": {},
   "outputs": [],
   "source": [
    "NB_CALSSES = 10\n",
    "Y_train = np_utils.to_categorical(Y_train, NB_CALSSES)\n",
    "Y_test = np_utils.to_categorical(Y_test, NB_CALSSES)\n",
    "\n",
    "X_train = X_train.astype('float32') / 255\n",
    "X_test = X_test.astype('float32') / 255"
   ]
  },
  {
   "cell_type": "code",
   "execution_count": null,
   "metadata": {},
   "outputs": [],
   "source": [
    "# 이미지 확인\n",
    "import matplotlib.pyplot as plt\n",
    "plt.imshow(X_train[5])\n",
    "plt.grid(False)\n",
    "plt.show()\n",
    "plt.imshow(X_train[6])\n",
    "plt.grid(False)\n",
    "plt.show()"
   ]
  },
  {
   "cell_type": "markdown",
   "metadata": {},
   "source": [
    "## 모델 만들기(망깊게만들기)"
   ]
  },
  {
   "cell_type": "code",
   "execution_count": null,
   "metadata": {
    "scrolled": true
   },
   "outputs": [],
   "source": [
    "IMG_CHANNELS=3\n",
    "IMG_ROWS=32\n",
    "IMG_COLS = 32\n",
    "BATCH_SIZE = 128\n",
    "NB_EPOCH = 20  # 40으로 바꾸자 \n",
    "NB_CLASSES = 10\n",
    "VERBOSE = 1\n",
    "VALIDATION_SPLIT = 0.2\n",
    "OPTIM = RMSprop()"
   ]
  },
  {
   "cell_type": "code",
   "execution_count": null,
   "metadata": {},
   "outputs": [],
   "source": [
    "from keras.models import Sequential\n",
    "from keras.layers import Conv2D, MaxPooling2D\n",
    "model = Sequential()\n",
    "# residual 망의 영향  (conv를 2번 하고 나서 pooling 을 해주면 residual 의 영향을 받아서 더 좋다 ) -> 망을 더 깊게하기 때문이다\n",
    "\n",
    " #input=32x32x3(=칼라) -> 가중치 = 32x32x32 \n",
    "model.add(Conv2D(32,kernel_size = 3, padding='same', input_shape=(IMG_ROWS, IMG_COLS, IMG_CHANNELS)))\n",
    "\n",
    "model.add(Activation('relu'))\n",
    "model.add(Conv2D(32, kernel_size=3, padding='same'))\n",
    "model.add(Activation('relu'))\n",
    "model.add(MaxPooling2D(pool_size=(2,2)))\n",
    "model.add(Dropout(0.25))"
   ]
  },
  {
   "cell_type": "code",
   "execution_count": null,
   "metadata": {},
   "outputs": [],
   "source": [
    "model.add(Conv2D(64,kernel_size = 3, padding='same'))\n",
    "model.add(Activation('relu'))\n",
    "model.add(Conv2D(64,3,3))\n",
    "model.add(Activation('relu'))\n",
    "model.add(MaxPooling2D(pool_size=(2,2)))\n",
    "model.add(Dropout(0.25))\n"
   ]
  },
  {
   "cell_type": "code",
   "execution_count": null,
   "metadata": {},
   "outputs": [],
   "source": [
    "model.add(Flatten())\n",
    "model.add(Dense(512))\n",
    "model.add(Activation('relu'))\n",
    "model.add(Dropout(0.5))\n",
    "model.add(Dense(NB_CLASSES))\n",
    "model.add(Activation('softmax'))\n",
    "model.summary()\n",
    "model.compile(loss='categorical_crossentropy', optimizer=OPTIM, metrics=['accuracy'])"
   ]
  },
  {
   "cell_type": "code",
   "execution_count": null,
   "metadata": {},
   "outputs": [],
   "source": [
    "history = model.fit(X_train, Y_train, batch_size=BATCH_SIZE, epochs= NB_EPOCH, validation_split=VALIDATION_SPLIT, verbose=VERBOSE)"
   ]
  },
  {
   "cell_type": "markdown",
   "metadata": {},
   "source": [
    "## data 증강"
   ]
  },
  {
   "cell_type": "code",
   "execution_count": null,
   "metadata": {},
   "outputs": [],
   "source": [
    "datagen = ImageDataGenerator(      \n",
    "    featurewise_center=False,\n",
    "    samplewise_center = False,\n",
    "    featurewise_std_normalization=False,\n",
    "    samplewise_std_normalization=False,\n",
    "    zca_whitening=False,         #>>>>>>>> 이미지 백색화는 이미지 PCA ( 이미지 노이즈 제거 효과 있다 ) \n",
    "    rotation_range=0,\n",
    "    width_shift_range=0.1,\n",
    "    height_shift_range=0.1,\n",
    "    horizontal_flip = True,\n",
    "    vertical_flip=False)\n",
    "datagen.fit(X_train) "
   ]
  },
  {
   "cell_type": "code",
   "execution_count": null,
   "metadata": {},
   "outputs": [],
   "source": [
    "# generator 하고 나서 model 에 다시 fit 시킬때는 아래처럼 한다. \n",
    "#= 케라스에서는 모델을 학습시킬 때 주로 fit() 함수를 사용하지만\n",
    "# 제네레이터로 생성된 배치로 학습시킬 경우에는 \n",
    "# fit_generator() 함수를 사용합니다.\n",
    "model.fit_generator(datagen.flow(X_train, Y_train, batch_size=BATCH_SIZE),\n",
    "                   samples_per_epoch=X_train.shape[0], nb_epoch=NB_EPOCH, verbose=VERBOSE)\n",
    "\n",
    "# flow : 흘러들어가진다 "
   ]
  },
  {
   "cell_type": "code",
   "execution_count": null,
   "metadata": {},
   "outputs": [],
   "source": [
    "score = model.evaluate(X_test, Y_test, batch_size = BATCH_SIZE,verbose=VERBOSE )\n",
    "print('\\nTest Score:', score[0])\n",
    "print('\\nTest accuracy:', score[1])"
   ]
  },
  {
   "cell_type": "markdown",
   "metadata": {},
   "source": [
    "## json 파일로 저장"
   ]
  },
  {
   "cell_type": "code",
   "execution_count": null,
   "metadata": {},
   "outputs": [],
   "source": [
    "# json 파일 형식으로 저장하기 \n",
    "model_json = model.to_json()\n",
    "open('cifar10_architecture.json', 'w').write(model_json)\n",
    "\n",
    "# weights 를 h5 파일 포맷으로 만들어 저장하기 ( json 은 가중치 따로 저장)\n",
    "model.save_weights('cifar10_weights.h5', overwrite=True)"
   ]
  },
  {
   "cell_type": "code",
   "execution_count": null,
   "metadata": {},
   "outputs": [],
   "source": [
    "\n",
    "# 저장된 json 파일로부터 모델 로드하기\n",
    "from keras.models import model_from_json\n",
    "json_file = open('cifar10_architecture.json', 'r')\n",
    "loaded_model_json=json_file.read()\n",
    "json_file.close()\n",
    "loaded_model = model_from_json(loaded_model_json)\n",
    "\n",
    "# 로드한 모델에 weight 로드하기 \n",
    "loaded_model.load_weights('cifar10_weights.h5')\n",
    "print(\"Loaded model from disk\")"
   ]
  },
  {
   "cell_type": "code",
   "execution_count": null,
   "metadata": {},
   "outputs": [],
   "source": [
    "import tensorflow as tf\n",
    "tf.test.gpu_device_name()"
   ]
  },
  {
   "cell_type": "code",
   "execution_count": null,
   "metadata": {},
   "outputs": [],
   "source": []
  },
  {
   "cell_type": "code",
   "execution_count": null,
   "metadata": {},
   "outputs": [],
   "source": [
    "#Q . 1. accuracy graph 를 출력해보시오 \n",
    "#    2. 이미지 cat, dog 를 다운로드한 후 다음 위의 모델로 예측해보시오 "
   ]
  },
  {
   "cell_type": "code",
   "execution_count": null,
   "metadata": {},
   "outputs": [],
   "source": [
    "import numpy as np   \n",
    "from imageio import imread\n",
    "from skimage.transform import resize\n",
    "from keras.models import model_from_json"
   ]
  },
  {
   "cell_type": "code",
   "execution_count": null,
   "metadata": {},
   "outputs": [],
   "source": [
    "img_names = ['cat.jpg', 'dog.jpg']\n",
    "imgs = [resize(imread(img_name), (32,32)).astype('float32') \n",
    "        for img_name in img_names]\n",
    "imgs = np.array(imgs) / 255\n",
    "predictions = model.predict_classes(imgs)\n",
    "print(predictions)"
   ]
  },
  {
   "cell_type": "code",
   "execution_count": null,
   "metadata": {},
   "outputs": [],
   "source": []
  },
  {
   "cell_type": "markdown",
   "metadata": {},
   "source": [
    "# 전이학습"
   ]
  },
  {
   "cell_type": "code",
   "execution_count": null,
   "metadata": {},
   "outputs": [],
   "source": [
    "# 전이(transfer learning) 학습 application\n",
    "# 반지도학습 : 일부데이터에만 라벨이 없다. ( Knn : 주변에 있는 비슷한 것의 라벨을 가져온다 ) , Trenductive SVM \n",
    "#- 가중치 활용 : 그대로 적용\n",
    "#- 가중치 중 일부만 활용\n",
    "#- FFNN 부분만 학습해서 사용 "
   ]
  },
  {
   "cell_type": "code",
   "execution_count": null,
   "metadata": {},
   "outputs": [],
   "source": [
    "# pre-trained, fine-tuning  ( FFNN 부분만 domin knwledge"
   ]
  },
  {
   "cell_type": "code",
   "execution_count": null,
   "metadata": {},
   "outputs": [],
   "source": [
    "# RESNET : ( 입력되는 데이터를 identity 시켜줘서 더해주는 망을 만든다 ) ????"
   ]
  },
  {
   "cell_type": "code",
   "execution_count": null,
   "metadata": {},
   "outputs": [],
   "source": []
  },
  {
   "cell_type": "code",
   "execution_count": null,
   "metadata": {},
   "outputs": [],
   "source": [
    "import PIL\n",
    "from keras.preprocessing.image import load_img, img_to_array\n",
    "from keras.applications.imagenet_utils import decode_predictions\n",
    "import numpy as np\n",
    "from keras.applications.resnet50 import ResNet50\n",
    "from keras.applications import resnet50\n",
    "import matplotlib.pyplot as plt\n",
    "\n",
    "# 전처리\n",
    "filename = 'banana.jpg'\n",
    "original = load_img(filename, target_size=(224,224))  #어떤이미지가 들어오더라도 사이즈를 (224,224) 로 고정해준다. \n",
    "print('PIL image size', original.size)\n"
   ]
  },
  {
   "cell_type": "code",
   "execution_count": null,
   "metadata": {},
   "outputs": [],
   "source": []
  },
  {
   "cell_type": "code",
   "execution_count": null,
   "metadata": {},
   "outputs": [],
   "source": [
    "plt.imshow(original)\n",
    "plt.show()\n",
    "numpy_image = img_to_array(original)  # 이미지를 배열로 만들어준다. \n",
    "plt.imshow(np.uint8(numpy_image))\n",
    "print('numpy array size' , numpy_image.shape)   # 차원확대 : 여러장 처리, 1장( 3차원->4차원으로 확장)\n",
    "image_batch=np.expand_dims(numpy_image, axis=0)\n",
    "print('image array size' , image_batch.shape)   \n",
    "\n",
    "\n",
    "#prepare the image for the resnet50 model\n",
    "precessed_image = resnet50.preprocess_input(image_batch.copy())\n",
    "# dense 이용해서 모델을 생성, 라벨 -> 확률\n",
    "\n",
    "resnet_model = resnet50.ResNet50(weights = 'imagenet')  # resnet50 이 쓰는 가중치 imagenet \n",
    "predictions = resnet_model.predict(precessed_image)\n",
    "label = decode_predictions(predictions)\n"
   ]
  },
  {
   "cell_type": "code",
   "execution_count": null,
   "metadata": {},
   "outputs": [],
   "source": [
    "print(label)  # 예상되는 목록 5개가 나옴."
   ]
  },
  {
   "cell_type": "code",
   "execution_count": null,
   "metadata": {},
   "outputs": [],
   "source": []
  },
  {
   "cell_type": "markdown",
   "metadata": {},
   "source": [
    "# VGG16"
   ]
  },
  {
   "cell_type": "code",
   "execution_count": null,
   "metadata": {},
   "outputs": [],
   "source": [
    "# tf.keras\n",
    "# fine_tuning : FFNN 부분만 학습\n"
   ]
  },
  {
   "cell_type": "code",
   "execution_count": null,
   "metadata": {},
   "outputs": [],
   "source": [
    "# resnet, vgg16() -> 동영상 처리에도 많이 쓴다. \n",
    "# vgg16 : 깊은망임 "
   ]
  },
  {
   "cell_type": "code",
   "execution_count": 1,
   "metadata": {},
   "outputs": [
    {
     "name": "stderr",
     "output_type": "stream",
     "text": [
      "Using TensorFlow backend.\n"
     ]
    }
   ],
   "source": [
    "from numpy.random import randn\n",
    "import pathlib\n",
    "import random\n",
    "import matplotlib.pyplot as plt\n",
    "import tensorflow as tf\n",
    "import numpy as np\n",
    "from matplotlib.image import imread\n",
    "from keras.preprocessing import image\n",
    "# tf.enable_eager_execution()  -> 2.0 이 아닌경우 맨처음에 실행해줘야한다\n",
    "AUTOTUNE = tf.data.experimental.AUTOTUNE"
   ]
  },
  {
   "cell_type": "code",
   "execution_count": 2,
   "metadata": {},
   "outputs": [],
   "source": [
    "data_dir = 'C:/Users/ICT01_17/Downloads/전달/flowers/flower_photos'\n",
    "data_dir = pathlib.Path(data_dir)\n",
    "label_names= {'daisy':0, 'dandelion':1, 'roses':2, 'sunflowers':3, 'tulips':4}\n",
    "label_key = ['daisy','dandelion','roses','sunflowers','tulips']"
   ]
  },
  {
   "cell_type": "code",
   "execution_count": 3,
   "metadata": {},
   "outputs": [],
   "source": [
    "all_images = list(data_dir.glob(\"*/*\")) # 모든데이터의 파일명을 읽어온다. \n",
    "all_images = [str(path) for path in all_images]  \n",
    "random.shuffle(all_images) "
   ]
  },
  {
   "cell_type": "code",
   "execution_count": 4,
   "metadata": {},
   "outputs": [],
   "source": [
    " # all_images 는 화일명인데 이름에 대한 라벨을 할당해줘야한다   # pathlib.Path 는 디렉터리의 경로를 관리하는 라이브러리다. (?)\n",
    "all_labels = [label_names[pathlib.Path(path).parent.name] for path in all_images]  # >>> 라벨을 달아주는 코드이다.\n",
    "\n",
    "data_size = len(all_images)\n",
    "train_test_split=(int)(data_size*0.2)  # 20: 80로 나눴다. \n",
    "x_train=all_images[train_test_split:] # 이미 위에서 shuffle 해줬으니 이렇게 앞을 불러오고 뒤를 불러오는 방식으로 해도 괜찮다. \n",
    "x_test=all_images[:train_test_split]\n",
    "y_train=all_labels[train_test_split:]\n",
    "y_test = all_labels[:train_test_split]\n",
    "IMG_SIZE=160\n",
    "BATCH_SIZE=32"
   ]
  },
  {
   "cell_type": "code",
   "execution_count": 5,
   "metadata": {},
   "outputs": [
    {
     "name": "stdout",
     "output_type": "stream",
     "text": [
      "WARNING:tensorflow:From C:\\Users\\ICT01_17\\Anaconda3\\lib\\site-packages\\tensorflow_core\\python\\autograph\\converters\\directives.py:119: The name tf.read_file is deprecated. Please use tf.io.read_file instead.\n",
      "\n"
     ]
    }
   ],
   "source": [
    "def _parse_data(x,y):\n",
    "    image = tf.read_file(x)  # 데이터 읽는다. \n",
    "    image = tf.image.decode_jpeg(image, channels= 3) # 데이터를 jpeg 파일로 해독해라(읽는다) ,채널은3개다=칼러이미지다. \n",
    "    image = tf.cast(image,tf.float32)\n",
    "    image = (image/127.5) -1      # 데이터를 나누기위해서 float 형으로 바꿈-> 왜 127.5로 나누고 -1인가? 이미지를 -1에서 1사이즈로 만들기위해서 \n",
    "                                  # >> 이미지 사이즈를 통일시켜준다. \n",
    "    image = tf.image.resize(image, (IMG_SIZE, IMG_SIZE)) # 이미지 사이즈 통일해준다 ( 160x160)\n",
    "    return image,y \n",
    "\n",
    "def _input_fn(x,y): \n",
    "    # 기본단위 요소로 분해 \n",
    "    ds = tf.data.Dataset.from_tensor_slices((x,y))   #imageDataGenerator 와 비슷한 역할을 하는 것= from_tensor_slices 로 dataset 을 생성해준다. \n",
    "    ds = ds.map(_parse_data)  # map? 언제쓰나 ? 함수를 적용할때 사용한다. ( 데이터마다 함수를 적용할때 사용) \n",
    "                            # parse_data 는 위에나온것\n",
    "    ds = ds.shuffle(buffer_size=data_size)  #shuffle 하려면  충분한 공간확보를 해야하므로 data_size 를 해줬다. \n",
    "    # shuffle : 뒤섞어라 \n",
    "    ds = ds.repeat()  # 데이터가 부족하면 처음부터 다시 시작하라는 뜻 \n",
    "    ds = ds.batch(BATCH_SIZE)  # batch 는 데이터를 한번에 읽어들일 minibatch size 를 말한다. \n",
    "    ds = ds.prefetch(buffer_size=AUTOTUNE)  # 데이터를 읽어올때 시간이 손실이되니까 너가 알아서 조정해라 (autotune) : 몇개의 데이터를 읽어올지 너가 정해라\n",
    "     # 즉 학습할때는 batchsize 만큼 주지만 몇개를 읽을지는 너가 알아서 정하라는뜻! \n",
    "    return ds\n",
    "\n",
    "\n",
    "train_ds = _input_fn(x_train,y_train)\n",
    "validation_ds = _input_fn(x_test, y_test)"
   ]
  },
  {
   "cell_type": "code",
   "execution_count": 6,
   "metadata": {},
   "outputs": [
    {
     "name": "stdout",
     "output_type": "stream",
     "text": [
      "WARNING:tensorflow:From C:\\Users\\ICT01_17\\Anaconda3\\lib\\site-packages\\tensorflow_core\\python\\ops\\resource_variable_ops.py:1630: calling BaseResourceVariable.__init__ (from tensorflow.python.ops.resource_variable_ops) with constraint is deprecated and will be removed in a future version.\n",
      "Instructions for updating:\n",
      "If using Keras pass *_constraint arguments to layers.\n"
     ]
    }
   ],
   "source": [
    "IMG_SHAPE = (IMG_SIZE, IMG_SIZE, 3)\n",
    "VGG16_MODEL = tf.keras.applications.VGG16(input_shape=IMG_SHAPE, include_top=False, weights='imagenet') \n",
    "# 이미 tf안에 keras 안에 applications 안에 vgg16 모델 만들어져있다. \n",
    "# include_top=False 인경우에는 반드시 input_shape=IMG_shape 을 지정해야한다. \n",
    "# wieghts 는 이미 학습된 것을 사용한다. ( imagenet) \n",
    "#>> 즉vgg16 에는 convolution 에 대한 가중치 학습이 없다. ( 학습시켜둔것 그대로 쓰고 있다 ) "
   ]
  },
  {
   "cell_type": "code",
   "execution_count": 7,
   "metadata": {},
   "outputs": [],
   "source": [
    "VGG16_MODEL.trainable =False  # >>>>> vgg16 모델에는 flatten 이 없다. ( 그걸 대신 하는 것이 아래 globalaveragepooling2d 이다.) # 원래, flatten 할때 가중치가 필요)\n",
    "\n",
    "\n",
    "global_average_layer = tf.keras.layers.GlobalAveragePooling2D()\n",
    "\n",
    "\n",
    "prediction_layer = tf.keras.layers.Dense(len(label_names),activation='softmax') # ffnn 의 가중치는 학습이 됐다. ->이렇게만 했는데 80퍼가 나옴."
   ]
  },
  {
   "cell_type": "code",
   "execution_count": 8,
   "metadata": {},
   "outputs": [],
   "source": [
    "model=tf.keras.Sequential([ VGG16_MODEL, global_average_layer, prediction_layer]) \n",
    "                         # -> 이렇게 묶어준다. ( 즉 model 은 vgg16가중치를와 FFNN 의 가중치학습을 이용해서 80퍼를 만들어냄 )"
   ]
  },
  {
   "cell_type": "code",
   "execution_count": 9,
   "metadata": {},
   "outputs": [],
   "source": [
    "model.compile(optimizer=tf.train.AdamOptimizer(),  # tf안에 있는 adam 을 지정해줬다. 근데 loss 는 keras 안에 있는 것을 사용했다. \n",
    "             loss=tf.keras.losses.sparse_categorical_crossentropy, metrics=['accuracy'])\n",
    "# sparse_categorical_crossentropy 은 희소행렬을 의미한다. --> 분류하는 것이 많을때 쓴다. (한 1000개 정도로 분류될때 쓰기 좋다 ) "
   ]
  },
  {
   "cell_type": "code",
   "execution_count": 10,
   "metadata": {},
   "outputs": [
    {
     "name": "stdout",
     "output_type": "stream",
     "text": [
      "Train on 2 steps\n",
      "Epoch 1/100\n",
      "2/2 [==============================] - 11s 5s/step - loss: 1.9631 - acc: 0.1875\n",
      "Epoch 2/100\n",
      "2/2 [==============================] - 0s 185ms/step - loss: 2.1081 - acc: 0.1094\n",
      "Epoch 3/100\n",
      "2/2 [==============================] - 0s 185ms/step - loss: 1.8612 - acc: 0.1250\n",
      "Epoch 4/100\n",
      "2/2 [==============================] - 0s 185ms/step - loss: 1.6333 - acc: 0.2812\n",
      "Epoch 5/100\n",
      "2/2 [==============================] - 0s 182ms/step - loss: 1.7663 - acc: 0.1562\n",
      "Epoch 6/100\n",
      "2/2 [==============================] - 0s 185ms/step - loss: 1.6640 - acc: 0.2344\n",
      "Epoch 7/100\n",
      "2/2 [==============================] - 0s 185ms/step - loss: 1.6170 - acc: 0.2500\n",
      "Epoch 8/100\n",
      "2/2 [==============================] - 0s 181ms/step - loss: 1.6424 - acc: 0.1250\n",
      "Epoch 9/100\n",
      "2/2 [==============================] - 0s 185ms/step - loss: 1.6274 - acc: 0.2812\n",
      "Epoch 10/100\n",
      "2/2 [==============================] - 0s 185ms/step - loss: 1.6211 - acc: 0.4219\n",
      "Epoch 11/100\n",
      "2/2 [==============================] - 0s 185ms/step - loss: 1.6074 - acc: 0.3594\n",
      "Epoch 12/100\n",
      "2/2 [==============================] - 0s 189ms/step - loss: 1.5178 - acc: 0.4219\n",
      "Epoch 13/100\n",
      "2/2 [==============================] - 0s 185ms/step - loss: 1.5566 - acc: 0.3750\n",
      "Epoch 14/100\n",
      "2/2 [==============================] - 0s 193ms/step - loss: 1.5668 - acc: 0.3281\n",
      "Epoch 15/100\n",
      "2/2 [==============================] - 0s 185ms/step - loss: 1.4915 - acc: 0.3594\n",
      "Epoch 16/100\n",
      "2/2 [==============================] - 0s 182ms/step - loss: 1.5790 - acc: 0.2969\n",
      "Epoch 17/100\n",
      "2/2 [==============================] - 0s 193ms/step - loss: 1.5137 - acc: 0.2969\n",
      "Epoch 18/100\n",
      "2/2 [==============================] - 0s 185ms/step - loss: 1.4546 - acc: 0.4844\n",
      "Epoch 19/100\n",
      "2/2 [==============================] - 0s 182ms/step - loss: 1.5333 - acc: 0.3906\n",
      "Epoch 20/100\n",
      "2/2 [==============================] - 0s 179ms/step - loss: 1.4260 - acc: 0.4531\n",
      "Epoch 21/100\n",
      "2/2 [==============================] - 0s 193ms/step - loss: 1.3703 - acc: 0.5312\n",
      "Epoch 22/100\n",
      "2/2 [==============================] - 0s 185ms/step - loss: 1.4950 - acc: 0.4688\n",
      "Epoch 23/100\n",
      "2/2 [==============================] - 0s 182ms/step - loss: 1.4434 - acc: 0.4219\n",
      "Epoch 24/100\n",
      "2/2 [==============================] - 0s 192ms/step - loss: 1.5131 - acc: 0.4219\n",
      "Epoch 25/100\n",
      "2/2 [==============================] - 1s 258ms/step - loss: 1.3773 - acc: 0.4844\n",
      "Epoch 26/100\n",
      "2/2 [==============================] - 0s 220ms/step - loss: 1.4147 - acc: 0.5156\n",
      "Epoch 27/100\n",
      "2/2 [==============================] - 0s 192ms/step - loss: 1.3656 - acc: 0.5469\n",
      "Epoch 28/100\n",
      "2/2 [==============================] - 0s 190ms/step - loss: 1.3848 - acc: 0.5000\n",
      "Epoch 29/100\n",
      "2/2 [==============================] - 0s 185ms/step - loss: 1.3443 - acc: 0.5469\n",
      "Epoch 30/100\n",
      "2/2 [==============================] - 0s 190ms/step - loss: 1.3282 - acc: 0.5781\n",
      "Epoch 31/100\n",
      "2/2 [==============================] - 0s 185ms/step - loss: 1.3325 - acc: 0.5469\n",
      "Epoch 32/100\n",
      "2/2 [==============================] - 0s 189ms/step - loss: 1.3745 - acc: 0.5156\n",
      "Epoch 33/100\n",
      "2/2 [==============================] - 0s 186ms/step - loss: 1.3324 - acc: 0.5312\n",
      "Epoch 34/100\n",
      "2/2 [==============================] - 0s 185ms/step - loss: 1.3546 - acc: 0.5000\n",
      "Epoch 35/100\n",
      "2/2 [==============================] - 0s 193ms/step - loss: 1.3063 - acc: 0.5312\n",
      "Epoch 36/100\n",
      "2/2 [==============================] - 0s 189ms/step - loss: 1.2826 - acc: 0.6562\n",
      "Epoch 37/100\n",
      "2/2 [==============================] - 0s 185ms/step - loss: 1.2671 - acc: 0.6250\n",
      "Epoch 38/100\n",
      "2/2 [==============================] - 0s 185ms/step - loss: 1.3014 - acc: 0.5312\n",
      "Epoch 39/100\n",
      "2/2 [==============================] - 0s 181ms/step - loss: 1.2771 - acc: 0.4844\n",
      "Epoch 40/100\n",
      "2/2 [==============================] - 0s 185ms/step - loss: 1.2462 - acc: 0.6094\n",
      "Epoch 41/100\n",
      "2/2 [==============================] - 0s 185ms/step - loss: 1.2216 - acc: 0.5781\n",
      "Epoch 42/100\n",
      "2/2 [==============================] - 0s 186ms/step - loss: 1.3644 - acc: 0.4531\n",
      "Epoch 43/100\n",
      "2/2 [==============================] - 0s 183ms/step - loss: 1.2582 - acc: 0.4844\n",
      "Epoch 44/100\n",
      "2/2 [==============================] - 0s 189ms/step - loss: 1.2677 - acc: 0.6094\n",
      "Epoch 45/100\n",
      "2/2 [==============================] - 0s 181ms/step - loss: 1.2159 - acc: 0.6562\n",
      "Epoch 46/100\n",
      "2/2 [==============================] - 0s 194ms/step - loss: 1.2188 - acc: 0.5938\n",
      "Epoch 47/100\n",
      "2/2 [==============================] - 0s 192ms/step - loss: 1.1232 - acc: 0.6562\n",
      "Epoch 48/100\n",
      "2/2 [==============================] - 0s 185ms/step - loss: 1.2775 - acc: 0.5625\n",
      "Epoch 49/100\n",
      "2/2 [==============================] - 0s 185ms/step - loss: 1.0816 - acc: 0.7344\n",
      "Epoch 50/100\n",
      "2/2 [==============================] - 0s 185ms/step - loss: 1.1911 - acc: 0.5781\n",
      "Epoch 51/100\n",
      "2/2 [==============================] - 0s 185ms/step - loss: 1.2718 - acc: 0.5469\n",
      "Epoch 52/100\n",
      "2/2 [==============================] - 0s 189ms/step - loss: 1.1871 - acc: 0.6562\n",
      "Epoch 53/100\n",
      "2/2 [==============================] - 0s 190ms/step - loss: 1.2417 - acc: 0.5469\n",
      "Epoch 54/100\n",
      "2/2 [==============================] - 0s 180ms/step - loss: 1.1200 - acc: 0.6406\n",
      "Epoch 55/100\n",
      "2/2 [==============================] - 0s 189ms/step - loss: 1.1717 - acc: 0.6094\n",
      "Epoch 56/100\n",
      "2/2 [==============================] - 0s 192ms/step - loss: 1.1727 - acc: 0.6250\n",
      "Epoch 57/100\n",
      "2/2 [==============================] - 0s 179ms/step - loss: 1.1244 - acc: 0.6406\n",
      "Epoch 58/100\n",
      "2/2 [==============================] - 0s 192ms/step - loss: 1.1549 - acc: 0.6094\n",
      "Epoch 59/100\n",
      "2/2 [==============================] - 0s 185ms/step - loss: 1.1079 - acc: 0.6094\n",
      "Epoch 60/100\n",
      "2/2 [==============================] - 0s 183ms/step - loss: 1.1309 - acc: 0.5938\n",
      "Epoch 61/100\n",
      "2/2 [==============================] - 0s 185ms/step - loss: 1.1712 - acc: 0.6250\n",
      "Epoch 62/100\n",
      "2/2 [==============================] - 0s 193ms/step - loss: 1.1598 - acc: 0.5938\n",
      "Epoch 63/100\n",
      "2/2 [==============================] - 0s 189ms/step - loss: 1.0796 - acc: 0.6875\n",
      "Epoch 64/100\n",
      "2/2 [==============================] - 0s 187ms/step - loss: 1.1133 - acc: 0.7188\n",
      "Epoch 65/100\n",
      "2/2 [==============================] - 0s 180ms/step - loss: 1.0856 - acc: 0.6406\n",
      "Epoch 66/100\n",
      "2/2 [==============================] - 0s 185ms/step - loss: 1.1013 - acc: 0.7031\n",
      "Epoch 67/100\n",
      "2/2 [==============================] - 0s 189ms/step - loss: 1.0660 - acc: 0.7031\n",
      "Epoch 68/100\n",
      "2/2 [==============================] - 0s 194ms/step - loss: 1.1218 - acc: 0.5938\n",
      "Epoch 69/100\n",
      "2/2 [==============================] - 0s 185ms/step - loss: 1.0257 - acc: 0.7031\n",
      "Epoch 70/100\n",
      "2/2 [==============================] - 0s 185ms/step - loss: 1.1366 - acc: 0.5625\n",
      "Epoch 71/100\n",
      "2/2 [==============================] - 0s 182ms/step - loss: 1.1087 - acc: 0.6562\n",
      "Epoch 72/100\n",
      "2/2 [==============================] - 0s 177ms/step - loss: 1.1466 - acc: 0.5625\n",
      "Epoch 73/100\n",
      "2/2 [==============================] - 1s 269ms/step - loss: 1.1639 - acc: 0.5938\n",
      "Epoch 74/100\n",
      "2/2 [==============================] - 0s 186ms/step - loss: 1.0636 - acc: 0.7031\n",
      "Epoch 75/100\n",
      "2/2 [==============================] - 0s 182ms/step - loss: 1.1021 - acc: 0.6562\n",
      "Epoch 76/100\n",
      "2/2 [==============================] - 0s 190ms/step - loss: 1.0311 - acc: 0.6562\n",
      "Epoch 77/100\n",
      "2/2 [==============================] - 0s 181ms/step - loss: 0.9957 - acc: 0.6875\n",
      "Epoch 78/100\n",
      "2/2 [==============================] - 0s 193ms/step - loss: 1.0654 - acc: 0.7188\n",
      "Epoch 79/100\n",
      "2/2 [==============================] - 0s 179ms/step - loss: 1.0330 - acc: 0.7344\n",
      "Epoch 80/100\n",
      "2/2 [==============================] - 0s 185ms/step - loss: 1.0986 - acc: 0.5781\n",
      "Epoch 81/100\n",
      "2/2 [==============================] - 0s 182ms/step - loss: 1.0257 - acc: 0.7344\n",
      "Epoch 82/100\n",
      "2/2 [==============================] - 0s 185ms/step - loss: 0.9392 - acc: 0.7969\n",
      "Epoch 83/100\n",
      "2/2 [==============================] - 0s 192ms/step - loss: 0.9354 - acc: 0.8281\n",
      "Epoch 84/100\n",
      "2/2 [==============================] - 0s 185ms/step - loss: 0.9947 - acc: 0.6875\n",
      "Epoch 85/100\n",
      "2/2 [==============================] - 0s 189ms/step - loss: 0.9982 - acc: 0.7188\n",
      "Epoch 86/100\n",
      "2/2 [==============================] - 0s 192ms/step - loss: 1.0202 - acc: 0.6719\n",
      "Epoch 87/100\n"
     ]
    },
    {
     "name": "stdout",
     "output_type": "stream",
     "text": [
      "2/2 [==============================] - 0s 180ms/step - loss: 0.9689 - acc: 0.7188\n",
      "Epoch 88/100\n",
      "2/2 [==============================] - 0s 193ms/step - loss: 0.9367 - acc: 0.7031\n",
      "Epoch 89/100\n",
      "2/2 [==============================] - 0s 189ms/step - loss: 1.0797 - acc: 0.6406\n",
      "Epoch 90/100\n",
      "2/2 [==============================] - 0s 192ms/step - loss: 1.0617 - acc: 0.6875\n",
      "Epoch 91/100\n",
      "2/2 [==============================] - 0s 185ms/step - loss: 1.0829 - acc: 0.6250\n",
      "Epoch 92/100\n",
      "2/2 [==============================] - 0s 185ms/step - loss: 0.9810 - acc: 0.6562\n",
      "Epoch 93/100\n",
      "2/2 [==============================] - 0s 189ms/step - loss: 1.0003 - acc: 0.6875\n",
      "Epoch 94/100\n",
      "2/2 [==============================] - 0s 181ms/step - loss: 0.9335 - acc: 0.7188\n",
      "Epoch 95/100\n",
      "2/2 [==============================] - 0s 185ms/step - loss: 0.9760 - acc: 0.7656\n",
      "Epoch 96/100\n",
      "2/2 [==============================] - 0s 190ms/step - loss: 0.9925 - acc: 0.7188\n",
      "Epoch 97/100\n",
      "2/2 [==============================] - 0s 185ms/step - loss: 0.9556 - acc: 0.7188\n",
      "Epoch 98/100\n",
      "2/2 [==============================] - 0s 185ms/step - loss: 0.9007 - acc: 0.7500\n",
      "Epoch 99/100\n",
      "2/2 [==============================] - 0s 185ms/step - loss: 0.9097 - acc: 0.7344\n",
      "Epoch 100/100\n",
      "2/2 [==============================] - 0s 189ms/step - loss: 0.8522 - acc: 0.8281\n"
     ]
    }
   ],
   "source": [
    "history = model.fit(train_ds, epochs=100, steps_per_epoch=2)"
   ]
  },
  {
   "cell_type": "code",
   "execution_count": 12,
   "metadata": {},
   "outputs": [
    {
     "ename": "KeyError",
     "evalue": "'val_acc'",
     "output_type": "error",
     "traceback": [
      "\u001b[1;31m---------------------------------------------------------------------------\u001b[0m",
      "\u001b[1;31mKeyError\u001b[0m                                  Traceback (most recent call last)",
      "\u001b[1;32m<ipython-input-12-1c6ea0624647>\u001b[0m in \u001b[0;36m<module>\u001b[1;34m\u001b[0m\n\u001b[0;32m      1\u001b[0m \u001b[0mplt\u001b[0m\u001b[1;33m.\u001b[0m\u001b[0mplot\u001b[0m\u001b[1;33m(\u001b[0m\u001b[0mhistory\u001b[0m\u001b[1;33m.\u001b[0m\u001b[0mhistory\u001b[0m\u001b[1;33m[\u001b[0m\u001b[1;34m'acc'\u001b[0m\u001b[1;33m]\u001b[0m\u001b[1;33m)\u001b[0m\u001b[1;33m\u001b[0m\u001b[1;33m\u001b[0m\u001b[0m\n\u001b[1;32m----> 2\u001b[1;33m \u001b[0mplt\u001b[0m\u001b[1;33m.\u001b[0m\u001b[0mplot\u001b[0m\u001b[1;33m(\u001b[0m\u001b[0mhistory\u001b[0m\u001b[1;33m.\u001b[0m\u001b[0mhistory\u001b[0m\u001b[1;33m[\u001b[0m\u001b[1;34m'val_acc'\u001b[0m\u001b[1;33m]\u001b[0m\u001b[1;33m)\u001b[0m\u001b[1;33m\u001b[0m\u001b[1;33m\u001b[0m\u001b[0m\n\u001b[0m\u001b[0;32m      3\u001b[0m \u001b[0mplt\u001b[0m\u001b[1;33m.\u001b[0m\u001b[0mtitle\u001b[0m\u001b[1;33m(\u001b[0m\u001b[1;34m'model accuracy'\u001b[0m\u001b[1;33m)\u001b[0m\u001b[1;33m\u001b[0m\u001b[1;33m\u001b[0m\u001b[0m\n\u001b[0;32m      4\u001b[0m \u001b[0mplt\u001b[0m\u001b[1;33m.\u001b[0m\u001b[0mylabel\u001b[0m\u001b[1;33m(\u001b[0m\u001b[1;34m'accuracy'\u001b[0m\u001b[1;33m)\u001b[0m\u001b[1;33m\u001b[0m\u001b[1;33m\u001b[0m\u001b[0m\n\u001b[0;32m      5\u001b[0m \u001b[0mplt\u001b[0m\u001b[1;33m.\u001b[0m\u001b[0mxlabel\u001b[0m\u001b[1;33m(\u001b[0m\u001b[1;34m'epoch'\u001b[0m\u001b[1;33m)\u001b[0m\u001b[1;33m\u001b[0m\u001b[1;33m\u001b[0m\u001b[0m\n",
      "\u001b[1;31mKeyError\u001b[0m: 'val_acc'"
     ]
    },
    {
     "data": {
      "image/png": "[encoded data removed]",
      "text/plain": [
       "<Figure size 432x288 with 1 Axes>"
      ]
     },
     "metadata": {
      "needs_background": "light"
     },
     "output_type": "display_data"
    }
   ],
   "source": [
    "plt.plot(history.history['acc'])\n",
    "plt.title('model accuracy')\n",
    "plt.ylabel('accuracy')\n",
    "plt.xlabel('epoch')\n",
    "plt.legend(['train', 'test'], loc='upper left')\n",
    "plt.show()"
   ]
  },
  {
   "cell_type": "code",
   "execution_count": null,
   "metadata": {},
   "outputs": [],
   "source": []
  }
 ],
 "metadata": {
  "kernelspec": {
   "display_name": "Python 3",
   "language": "python",
   "name": "python3"
  },
  "language_info": {
   "codemirror_mode": {
    "name": "ipython",
    "version": 3
   },
   "file_extension": ".py",
   "mimetype": "text/x-python",
   "name": "python",
   "nbconvert_exporter": "python",
   "pygments_lexer": "ipython3",
   "version": "3.7.4"
  },
  "toc": {
   "base_numbering": 1,
   "nav_menu": {},
   "number_sections": true,
   "sideBar": true,
   "skip_h1_title": false,
   "title_cell": "Table of Contents",
   "title_sidebar": "Contents",
   "toc_cell": false,
   "toc_position": {
    "height": "calc(100% - 180px)",
    "left": "10px",
    "top": "150px",
    "width": "248px"
   },
   "toc_section_display": true,
   "toc_window_display": true
  }
 },
 "nbformat": 4,
 "nbformat_minor": 2
}
