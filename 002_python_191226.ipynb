{
 "cells": [
  {
   "cell_type": "code",
   "execution_count": null,
   "metadata": {},
   "outputs": [],
   "source": [
    "# 반복문\n"
   ]
  },
  {
   "cell_type": "code",
   "execution_count": null,
   "metadata": {},
   "outputs": [],
   "source": [
    "num1=6\n",
    "num1+=1       #num1=num1+1\n",
    "num2=7\n",
    "num2-=5      #num2=num2-5\n",
    "num3=8\n",
    "num3/=2       #num3=num3/2\n",
    "print(num1,num2,round(num3))\n",
    "num1=1\n",
    "num1*=3\n",
    "num2=2\n",
    "num2**3 #** , ^ 같은 의미다\n",
    "print(num1,num2)"
   ]
  },
  {
   "cell_type": "code",
   "execution_count": null,
   "metadata": {},
   "outputs": [],
   "source": [
    "#3항 연산자\n",
    "x=5\n",
    "ans=\"Non-negative\" if x>=0 else \"Negative\"       # 참이면 if 앞에를 출력, 틀리면 else 뒤를 출력\n",
    "print(ans)         #문자열 str 이다."
   ]
  },
  {
   "cell_type": "code",
   "execution_count": null,
   "metadata": {},
   "outputs": [],
   "source": [
    "city= ''            #싱글quotation 안에 아무것도 없으면 문자열 거짓이다. -> 거짓이므로 출력이 되지 않는다.\n",
    "if city:             #조건이 참인 경우만 if문이 실행된다\n",
    "    print('empty city')"
   ]
  },
  {
   "cell_type": "code",
   "execution_count": null,
   "metadata": {},
   "outputs": [],
   "source": [
    "#문자의 거짓은 ''처럼 아무것도 없는 경우이고, 숫자는 0일때 거짓, list는 [] 일때 거짓, dict의 거짓은 {} 이다. tuple 의 거짓은 () 이다. "
   ]
  },
  {
   "cell_type": "code",
   "execution_count": null,
   "metadata": {},
   "outputs": [],
   "source": [
    "city=' ' #한칸을 띄면 문자열이다. 즉 공백도 문자열-> 그러므로 출력이 된다.\n",
    "if city:             \n",
    "    print('empty city')"
   ]
  },
  {
   "cell_type": "code",
   "execution_count": null,
   "metadata": {},
   "outputs": [],
   "source": [
    "# 날짜의 입력은 문자열이다. \n",
    "# 특수하게 해석해서 년월일로 해석\n",
    "import datetime\n",
    "dt= datetime.datetime.now()  #함수는() 를 사용해야 한다.  now() 라는 함수는 현재의 시분초를 보여준다. \n",
    "print(dt)\n",
    "print() #한줄 빈칸으로 두려고 쓴 것\n",
    "#데이터 입력\n",
    "age=input(\"생년원일(19951031)을 입력하시오\")\n",
    "#데이터 처리\n",
    "year=int(age[0:4])    #-> 마지막은 포함되지 않으므로 0부터 3까지 읽는다.\n",
    "month=int(age[4:6])   #-> 4번째부터 5까지 읽는다 그래서 2개 나온다.\n",
    "day=int(age[6:])        # 6부터 끝까지 읽는다. \n",
    "   #빼기 연산\n",
    "    # 분산 : 상계방지를 위해서 제곱을 해준다. \n",
    "year_diff=dt.year-year                          #dt 에서 year 가져옴 (객체지향)\n",
    "month_diff=dt.month-month\n",
    "day_diff=dt.day-day\n",
    "if day_diff<0 :     #일 내림 처리\n",
    "    month_diff-=1\n",
    "if month_diff <0:    #월 내림 처리\n",
    "    year_diff-=1\n",
    "#데이터 출력\n",
    "print(\"당신의 나이는  \", year_diff+1)\n",
    "if year_diff<18:\n",
    "    print(\"당신은 미성년자입니다.\")\n",
    "else:\n",
    "    print(\"당신은 미성년자가 아닙니다\")"
   ]
  },
  {
   "cell_type": "code",
   "execution_count": null,
   "metadata": {},
   "outputs": [],
   "source": [
    "#데이터 입력  -> 처리(연산자), 제어문(판단문, 한가지 규칙을 여러데이터에 적용: 반복문)\n"
   ]
  },
  {
   "cell_type": "code",
   "execution_count": null,
   "metadata": {},
   "outputs": [],
   "source": [
    "#  for문\n",
    "# for ( i=0; i<=100:i++):   ==> 이렇게 사용하면 인덱스 오버플로우가 난다. 그래서 도입한게 아래와 같다.\n",
    "# for in 문 이다.      -> in 문 뒤에 있는 내용만 돌아간다. "
   ]
  },
  {
   "cell_type": "code",
   "execution_count": null,
   "metadata": {},
   "outputs": [],
   "source": [
    "# 데이터를 이용하는 방법 ( 아래에 인덱스를 이용하는 방법도 있다)\n",
    "elements = [\"earth\", \"air\", \"fire\", \"water\"]  #리스트에 4개의 데이터를 집어넣었다. elements 는 리스트 데이터 파일이다.\n",
    "for i in elements:                 #이게 실행되면 earth 가 i 로 들어간다. (i= \"earth\")            \n",
    "    print(i, end=\" \")               # i가 출력되고 공백생기고 다음엔 i 에 air 가 들어온다."
   ]
  },
  {
   "cell_type": "code",
   "execution_count": null,
   "metadata": {},
   "outputs": [],
   "source": [
    "               # in 문 뒤에는 collections, iterator, generator, enumerate 가 들어올 수 있다. "
   ]
  },
  {
   "cell_type": "code",
   "execution_count": null,
   "metadata": {},
   "outputs": [],
   "source": [
    "#Collections  : list, tuple , dict , set 을 말하는 것이다.\n",
    "# iterator : range \n",
    "#               ( i=0; i<=100 : i++ 와 같은 방법으로 사용 한다. start, end , step 으로 구성 된다) \n",
    "#                start  end    step \n",
    "# generator : 데이터를 생성 (데이터를 실시간으로 생성하므로 메모리를 차지하지 않는다)\n",
    "# enumerate :  매핑을 해줌 ( 번호를 매겨준다 는 뜻으로 0 은 earth, 1 은 air, 2 는 fire, 3 은 water )"
   ]
  },
  {
   "cell_type": "code",
   "execution_count": null,
   "metadata": {},
   "outputs": [],
   "source": [
    "for i in range(5):  #end 가 5 라는 것이다. \n",
    "    print(i)"
   ]
  },
  {
   "cell_type": "code",
   "execution_count": null,
   "metadata": {},
   "outputs": [],
   "source": [
    "# 파이썬은 오버로딩이 없음 : default 값으로 처리   \n",
    "#    -> 위에  start 값이 없지만 0으로 디폴트 된다, 아래에서는 step 이 없지만 디폴트값이 있다 이런 의미로 보자\n",
    "for i in range(2,5):  #2가 start, end 가 5 이다\n",
    "    print(i)\n"
   ]
  },
  {
   "cell_type": "code",
   "execution_count": null,
   "metadata": {},
   "outputs": [],
   "source": [
    "for i in range(0,10,2):   #0이 start/ 10이 end / 2 가 step\n",
    "    print(i)"
   ]
  },
  {
   "cell_type": "code",
   "execution_count": null,
   "metadata": {},
   "outputs": [],
   "source": [
    "# 인덱스를 이용하는 방법 \n",
    "for i in range(4):           # 0,1,2,3\n",
    "    print(i)\n",
    "    print(elements[i])"
   ]
  },
  {
   "cell_type": "code",
   "execution_count": null,
   "metadata": {},
   "outputs": [],
   "source": [
    "# 조심하자, 위에서 range(4) 는 잘되었지만, 아래처럼 변수에 대입을 하면 출력이 잘 안된다.\n",
    "#  range 는 객체(object ) 다. 즉 for 문에서 작동이 잘된다. \n",
    "ra = range(4)\n",
    "print(ra)\n",
    "\n",
    "print(list(ra))  # 리스트로 캐스팅 해야 0,1,2,3,  으로 출력이 잘 된다.\n"
   ]
  },
  {
   "cell_type": "code",
   "execution_count": null,
   "metadata": {},
   "outputs": [],
   "source": [
    "ra=reversed(range(4))  # range 를 reverse 해라 순서를 거꾸로 해라.\n",
    "print(ra)\n",
    "print(list(ra))"
   ]
  },
  {
   "cell_type": "code",
   "execution_count": null,
   "metadata": {},
   "outputs": [],
   "source": [
    "print(list(range(5,-1,-1)))  # start가 5, end 는 -1, step 은 -1 이다.\n"
   ]
  },
  {
   "cell_type": "code",
   "execution_count": null,
   "metadata": {},
   "outputs": [],
   "source": [
    "# for 문으로 1 부터 10까지 더해봐라\n",
    " # 증가변수와 누적변수가 v필요\n",
    "sum=0\n",
    "for x in range(1,11):\n",
    "    #sum= sum+x\n",
    "    sum+=x\n",
    "print(sum)\n"
   ]
  },
  {
   "cell_type": "code",
   "execution_count": null,
   "metadata": {},
   "outputs": [],
   "source": [
    "# 중첩된 for 문\n",
    "for x in range(2,4):   #x=2 일 때 y = 2,3,4,...9 까지 돌고 ,x =3 일때 , y=2,3,4,...9 까지 돈다.\n",
    "    print()\n",
    "    for y in range(2,10):\n",
    "        print(x , '*' , y , '=' , x*y ,end=\"    \")\n",
    "    "
   ]
  },
  {
   "cell_type": "code",
   "execution_count": null,
   "metadata": {},
   "outputs": [],
   "source": [
    "for x in range(2,4):   #x=2 일 때 y = 2,3,4,...9 까지 돌고 ,x =3 일때 , y=2,3,4,...9 까지 돈다.\n",
    "    print()\n",
    "    for y in range(2,10):\n",
    "        print(x , '*' , y , '=' , x*y)"
   ]
  },
  {
   "cell_type": "code",
   "execution_count": null,
   "metadata": {},
   "outputs": [],
   "source": [
    "for x in range(2,4):\n",
    "    print()\n",
    "    for y in range(2,10):\n",
    "        print('{} * {} = {}'.format(x,y,x*y))"
   ]
  },
  {
   "cell_type": "code",
   "execution_count": null,
   "metadata": {
    "scrolled": true
   },
   "outputs": [],
   "source": [
    "for x in range(2,10): \n",
    "    print()\n",
    "    for y in range(2,10):\n",
    "        print('{} * {} = {}'.format(x,y,x*y))"
   ]
  },
  {
   "cell_type": "code",
   "execution_count": null,
   "metadata": {},
   "outputs": [],
   "source": [
    "for x in range(2,10):   \n",
    "    print()\n",
    "    for y in range(2,10):\n",
    "        print(y , '*' , x , '=' , x*y ,'\\t',end=\"  \")"
   ]
  },
  {
   "cell_type": "code",
   "execution_count": null,
   "metadata": {},
   "outputs": [],
   "source": [
    "for x in range(2,10):   \n",
    "    print()\n",
    "    for y in range(2,10):\n",
    "        print(x , '*' , y , '=' , x*y ,'\\t',end=\"  \")"
   ]
  },
  {
   "cell_type": "code",
   "execution_count": null,
   "metadata": {},
   "outputs": [],
   "source": [
    "# 내장리스트 : 동적으로 데이터 생성\n",
    "[i for i in range(10)]        # 리스트안에 for 문을 넣었음."
   ]
  },
  {
   "cell_type": "code",
   "execution_count": null,
   "metadata": {},
   "outputs": [],
   "source": [
    "[i**2 for i in range(10)]  # 내장리스트는 for 문 앞에 실행문이 나온다. (ex) i**2)"
   ]
  },
  {
   "cell_type": "code",
   "execution_count": null,
   "metadata": {},
   "outputs": [],
   "source": [
    "{i: i**3 for i in range(10)}  # 리스트 말고 딕셔너리도 가능"
   ]
  },
  {
   "cell_type": "code",
   "execution_count": null,
   "metadata": {},
   "outputs": [],
   "source": [
    "[i**2 for i in range(10) if i%2 == 0] # for  문과 판단문 결합 "
   ]
  },
  {
   "cell_type": "code",
   "execution_count": null,
   "metadata": {},
   "outputs": [],
   "source": [
    "#for r in rows:\n",
    "#    for c in cols:    \n",
    "#        (r,c) \n",
    "# 이것을 아래와 같이 표현 가능\n",
    "rows = range(1,5)\n",
    "cols = range(10,15)\n",
    "vectors = [(r,c) for r in rows for c in cols]\n",
    "vectors"
   ]
  },
  {
   "cell_type": "code",
   "execution_count": null,
   "metadata": {},
   "outputs": [],
   "source": [
    "#문자열 연산자 +,  *는 반복하는 용도\n",
    "[\"3의 배수\" * (i%3==0) + \"5의 배수\" * (i%5==0) or i for i in range(1,21)]\n",
    "#1부터 20까지는 i 에 대입된다.\n",
    "# or 기준으로 앞에 있는 것을 봐보자\n",
    "# or 이니까 앞이 참이면 뒤의 것은 계산하지 않는다. \n",
    "# i 를 3 으로 나눠서 0이면 3의 배수로 출력, \n",
    "# + 는 문자열 결합을 의미한다. 3과5의 공배수는 3의 배수란 글자와 5의 배수란 글자가 결합된다. \n"
   ]
  },
  {
   "cell_type": "code",
   "execution_count": null,
   "metadata": {},
   "outputs": [],
   "source": [
    "# 점수를 입력받다 A.B.C.D.F 학점으로 출력하시오 ( 점수를 학점으로 mapping)\n",
    "while True:         # True 가 들어갔다-> 참일동안 계속 반복하라는 뜻 -> 이건 무한루프  -> 무한루프인경우 종료조건 필수\n",
    "    print('점수입력 :', end = '  ')\n",
    "    jumsu=int(input())\n",
    "    if jumsu == 0:   # 무한루프인경우 종료조건 지정\n",
    "        break # 반복문 종료명령이다\n",
    "    if jumsu >=90 : print('A')\n",
    "    elif jumsu >=80: print('B')\n",
    "    elif jumsu >=70: print('C')\n",
    "    elif jumsu >=60: print('D')\n",
    "    else: print('F')"
   ]
  },
  {
   "cell_type": "code",
   "execution_count": null,
   "metadata": {},
   "outputs": [],
   "source": [
    "# 번호 이름 국어 영어 수학 점수를 입력하는 프로그램 작성(3명 분)\n",
    "# -> 3번 반복되어야 한다. -> 2차원 리스트로 생성하는 것이 좋다. -> 3명이니까 리스트가 3개가 되어야한다.ㅣ"
   ]
  },
  {
   "cell_type": "code",
   "execution_count": null,
   "metadata": {},
   "outputs": [],
   "source": [
    "# 2차원 리스트\n",
    "final = []                    \n",
    "for i in range(3):\n",
    "    sungjuk=[]                   #sungjuk=[] 이 for 문 안에 있는 이유는? final 아래줄에 있으면 안되는 이유 는? \n",
    "                                 #for 문 안에 넣어야  초기화 3번 됨\n",
    "    num=input(\"번호를 입력하시오: \")\n",
    "    name=input(\"이름을 입력하시오: \")\n",
    "    kor = int(input(\"국어 점수 입력 : \"))\n",
    "    eng = int(input(\"영어 점수 입력 : \"))\n",
    "    math = int(input(\"수학 점수 입력 : \"))\n",
    "    sungjuk.append(num)\n",
    "    sungjuk.append(name)\n",
    "    sungjuk.append(kor)\n",
    "    sungjuk.append(eng)\n",
    "    sungjuk.append(math)\n",
    "    final.append(sungjuk)\n",
    "print(final)"
   ]
  },
  {
   "cell_type": "code",
   "execution_count": null,
   "metadata": {},
   "outputs": [],
   "source": [
    "final = []                    \n",
    "sungjuk=[]\n",
    "for i in range(3):\n",
    "                       #sungjuk=[] 이 for 문 안에 있는 이유는? final 아래줄에 있으면 안되는 이유 는?\n",
    "    num=input(\"번호를 입력하시오: \")\n",
    "    name=input(\"이름을 입력하시오: \")\n",
    "    kor = int(input(\"국어 점수 입력 : \"))\n",
    "    eng = int(input(\"영어 점수 입력 : \"))\n",
    "    math = int(input(\"수학 점수 입력 : \"))\n",
    "    sungjuk.append(num)\n",
    "    sungjuk.append(name)\n",
    "    sungjuk.append(kor)\n",
    "    sungjuk.append(eng)\n",
    "    sungjuk.append(math)\n",
    "    final.append(sungjuk)\n",
    "print(final)"
   ]
  },
  {
   "cell_type": "code",
   "execution_count": null,
   "metadata": {},
   "outputs": [],
   "source": [
    "# 문제 합계와 평균을 구해서 추가시켜 보시요.\n",
    "# 평균은 소수점 3째자리에서 반올림하고 2째자리까지 표현하시오\n"
   ]
  },
  {
   "cell_type": "code",
   "execution_count": null,
   "metadata": {},
   "outputs": [],
   "source": [
    "final = []                   \n",
    "for i in range(3):\n",
    "    sungjuk=[]                   \n",
    "    num=input(\"번호를 입력하시오: \")\n",
    "    name=input(\"이름을 입력하시오: \")\n",
    "    kor = int(input(\"국어 점수 입력 : \"))\n",
    "    eng = int(input(\"영어 점수 입력 : \"))\n",
    "    math = int(input(\"수학 점수 입력 : \"))\n",
    "    sungjuk.append(num)\n",
    "    sungjuk.append(name)\n",
    "    sungjuk.append(kor)\n",
    "    sungjuk.append(eng)\n",
    "    sungjuk.append(math)\n",
    "    \n",
    "    tot = kor+eng+math\n",
    "    avg = round(tot/3,2)    \n",
    "    sungjuk.append(tot)\n",
    "    sungjuk.append(avg)\n",
    "    \n",
    "    final.append(sungjuk)\n",
    "print(final)"
   ]
  },
  {
   "cell_type": "code",
   "execution_count": null,
   "metadata": {},
   "outputs": [],
   "source": [
    "final = []                   \n",
    "for i in range(3):\n",
    "    sungjuk=[]                   \n",
    "    num=input(\"번호를 입력하시오: \")\n",
    "    name=input(\"이름을 입력하시오: \")\n",
    "    kor = int(input(\"국어 점수 입력 : \"))\n",
    "    eng = int(input(\"영어 점수 입력 : \"))\n",
    "    math = int(input(\"수학 점수 입력 : \"))\n",
    "    \n",
    "    tot = kor+eng+math\n",
    "    avg = round(tot/3,2)\n",
    "    \n",
    "    #리스트는 순서가 있는 자료구조\n",
    "    \n",
    "    sungjuk.append(num)\n",
    "    sungjuk.append(name)\n",
    "    sungjuk.append(kor)\n",
    "    sungjuk.append(eng)\n",
    "    sungjuk.append(math)    \n",
    "    sungjuk.append(tot)\n",
    "    sungjuk.append(avg)\n",
    "    \n",
    "    final.append(sungjuk)\n",
    "print(final)                  "
   ]
  },
  {
   "cell_type": "code",
   "execution_count": null,
   "metadata": {},
   "outputs": [],
   "source": [
    "final = []                   \n",
    "for i in range(3):\n",
    "    sungjuk=[]                   \n",
    "    num=input(\"번호를 입력하시오: \")\n",
    "    name=input(\"이름을 입력하시오: \")\n",
    "    kor = int(input(\"국어 점수 입력 : \"))\n",
    "    eng = int(input(\"영어 점수 입력 : \"))\n",
    "    math = int(input(\"수학 점수 입력 : \"))\n",
    "    \n",
    "    tot = kor+eng+math\n",
    "    avg = round(tot/3,2)\n",
    "    if avg>=90:\n",
    "        grade=\"A\"\n",
    "    elif avg>=80:\n",
    "        grade=\"B\"\n",
    "    elif avg >=70:\n",
    "        grade =\"C\"\n",
    "    elif avg>= 60:\n",
    "        grade=\"D\"\n",
    "    else:\n",
    "        grade=\"F\"\n",
    "    \n",
    "        # 프로그램은 순서적으로 실행됨 : 순서를 변경하는 것 - 제어문과 함수\n",
    "        \n",
    "    sungjuk.append(num)\n",
    "    sungjuk.append(name)\n",
    "    sungjuk.append(kor)\n",
    "    sungjuk.append(eng)\n",
    "    sungjuk.append(math)    \n",
    "    sungjuk.append(tot)\n",
    "    sungjuk.append(avg)\n",
    "    sungjuk.append(grade)\n",
    "    \n",
    "    final.append(sungjuk)\n",
    "print(final)  "
   ]
  },
  {
   "cell_type": "code",
   "execution_count": null,
   "metadata": {},
   "outputs": [],
   "source": [
    "# 정렬하고 싶은 경우\n",
    "# 기본데이터타입 : str, int , float, list , dict, set, tuple   \n",
    "# 파이썬은 모든 것이 객체(변수+함수) : 사용자 정의 데이터 타입 (조합해서 만든 것이 사용자 정의 데이터 타입이다)\n",
    "final.sort()           # final.sort() 하면 첫번째 데이터로 정렬된다."
   ]
  },
  {
   "cell_type": "code",
   "execution_count": null,
   "metadata": {},
   "outputs": [],
   "source": [
    "# final.sort 를 실행했는데 변화가 없다. \n",
    "# 다른 것들을 기준으로 정렬하기 위해서는 함수를 만들어서 넣어줘야한다. -> 함수를 키로한다. "
   ]
  },
  {
   "cell_type": "code",
   "execution_count": null,
   "metadata": {},
   "outputs": [],
   "source": [
    "# 정렬하고 싶은 경우 (이름으로 정렬)\n",
    "# 이름은 2번째에 있다. (인덱스로 치면 1번째라고 하는게 맞지만 2번째에 있음)\n",
    "\n",
    "def getKey(a1):           \n",
    "    return a1[1]       #a1의 첫번째 있는 것을 중심으로 정렬한다. 즉 이름으로 정렬이 된다.\n",
    "final.sort(key=getKey)\n",
    "print(final)"
   ]
  },
  {
   "cell_type": "code",
   "execution_count": null,
   "metadata": {},
   "outputs": [],
   "source": [
    "def getKey(a1):           \n",
    "    return a1[1]       \n",
    "final.sort(key=getKey,reverse=True)   # 내림차수 ㄴ\n",
    "print(final)"
   ]
  },
  {
   "cell_type": "code",
   "execution_count": null,
   "metadata": {},
   "outputs": [],
   "source": [
    "# def getKey(a1)~return  이건 앞으로 쓸 일이 없음 그래서  간편하게 쓰는게 람다 함수이다.\n",
    "#  def getKey(row):\n",
    "#      return row[1]\n",
    "# final.sort(key=getKey)  와 같은것이 밑에 final.sort(key=lambda row:row[1])\n",
    "\n",
    "# lambda 함수 : 무명함수, 간단한 함수를 작성할 때 사용  ( 이름 없이 쓴다 ) \n",
    "  \n",
    "final.sort(key=lambda row:row[1], reverse =True)  # 위에선 getkey 라고 이름이 있었는데 람다는 무명함수이므로 이름이 없음\n",
    "                                                  # 번호, 이름, 국어, 영어, 수학, 합, 평균을 전체 row 라고 칭한 것인데\n",
    "                                                # row[1] 이니까 이름이다. \n",
    "                                                  # final.sort(~~~row[1] ): 해야할일로 첫번째 껏을 기준으로 정렬하라는 뜻\n",
    "print(final)"
   ]
  },
  {
   "cell_type": "code",
   "execution_count": null,
   "metadata": {},
   "outputs": [],
   "source": [
    "final.sort(key=lambda abc:abc[1])   \n",
    "print(final)"
   ]
  },
  {
   "cell_type": "code",
   "execution_count": null,
   "metadata": {},
   "outputs": [],
   "source": [
    "final      #final 하면 3줄이 나온다.  즉 abc 는 3줄 하나하나를 말하는 것 (1인분데이터), abc[1]은 그 한줄에서 1번 즉 이름을 말하는 것이다."
   ]
  },
  {
   "cell_type": "code",
   "execution_count": null,
   "metadata": {},
   "outputs": [],
   "source": [
    "# 등수를 입력하는 필드를 추가하시요.  \n",
    "        # 힌트 : 역순으로 정렬해보고 나서 1,2,3,4,5를 등수필드에 추가해봐라. 그 다음 다시 번호순으로 정렬하면 원래 자료가 나올 것이다. "
   ]
  },
  {
   "cell_type": "code",
   "execution_count": null,
   "metadata": {},
   "outputs": [],
   "source": [
    "final"
   ]
  },
  {
   "cell_type": "code",
   "execution_count": null,
   "metadata": {},
   "outputs": [],
   "source": [
    "# 내가 푼 것\n",
    "final.sort(key=lambda abc:abc[5],reverse=True)   #1. 역순으로 정렬함(점수기준)\n",
    "for i in range(3):         # i는 0,1,2,\n",
    "    final[i].append(i+1)   # final은 리스트 안의 리스트 이다. 리스트0번째에 추가를 하는데 i+1 을 추가해주자.  (성적을 넣어주면 안됨,위에 있는 포문에서 만들었던 것이니까_)   \n"
   ]
  },
  {
   "cell_type": "code",
   "execution_count": null,
   "metadata": {},
   "outputs": [],
   "source": [
    "print(final)"
   ]
  },
  {
   "cell_type": "code",
   "execution_count": null,
   "metadata": {},
   "outputs": [],
   "source": [
    "final.sort(key=lambda abc:abc[8], reverse=True)"
   ]
  },
  {
   "cell_type": "code",
   "execution_count": null,
   "metadata": {},
   "outputs": [],
   "source": [
    "print(final)"
   ]
  },
  {
   "cell_type": "code",
   "execution_count": null,
   "metadata": {},
   "outputs": [],
   "source": [
    "# 선생님 답 \n",
    "# final.sort(key=lambda row: row[6], reverse =True) # 총점중심 내림차순\n",
    "# print(final)\n"
   ]
  },
  {
   "cell_type": "code",
   "execution_count": null,
   "metadata": {},
   "outputs": [],
   "source": [
    "# rank =0\n",
    "# for i in range(len(final)):\n",
    "#     rank=rank+1\n",
    "#     final[i].append(rank)\n",
    "# final.sort(key=lambda row:row[0])\n",
    "# tot_list=[\"번호\",\"이름\",\"국어\",\"수학\",\"영어\",\"합계\",\"평균\",\"순위\"]\n",
    "# for j in rnage(len(final[0])):\n",
    "#     print(tot_list[j],end=\" \")\n",
    "#for i in range(len(final)):\n",
    "#     pirnt(end = \"\\n\")\n",
    "#     for j in range(8):\n",
    "#         print(final[i][j], end= \" \")"
   ]
  },
  {
   "cell_type": "code",
   "execution_count": null,
   "metadata": {},
   "outputs": [],
   "source": [
    "final = []                   \n",
    "for i in range(3):\n",
    "    sungjuk=[]                   \n",
    "    num=input(\"번호를 입력하시오: \")\n",
    "    name=input(\"이름을 입력하시오: \")\n",
    "    kor = int(input(\"국어 점수 입력 : \"))\n",
    "    eng = int(input(\"영어 점수 입력 : \"))\n",
    "    math = int(input(\"수학 점수 입력 : \"))\n",
    "    \n",
    "    tot = kor+eng+math\n",
    "    avg = round(tot/3,2)\n",
    "    \n",
    "    #리스트는 순서가 있는 자료구조\n",
    "    \n",
    "    sungjuk.append(num)\n",
    "    sungjuk.append(name)\n",
    "    sungjuk.append(kor)\n",
    "    sungjuk.append(eng)\n",
    "    sungjuk.append(math)    \n",
    "    sungjuk.append(tot)\n",
    "    sungjuk.append(avg)\n",
    "    \n",
    "    final.append(sungjuk)\n",
    "print(final)    "
   ]
  },
  {
   "cell_type": "code",
   "execution_count": null,
   "metadata": {},
   "outputs": [],
   "source": [
    "final.sort(key=lambda row: row[6], reverse =True) # 총점중심 내림차순\n",
    "print(final)\n"
   ]
  },
  {
   "cell_type": "code",
   "execution_count": null,
   "metadata": {},
   "outputs": [],
   "source": [
    "rank =0\n",
    "for i in range(len(final)):\n",
    "    rank=rank+1  \n",
    "    final[i].append(rank)\n",
    "final.sort(key=lambda row:row[0])\n"
   ]
  },
  {
   "cell_type": "code",
   "execution_count": null,
   "metadata": {},
   "outputs": [],
   "source": [
    "final"
   ]
  },
  {
   "cell_type": "code",
   "execution_count": null,
   "metadata": {},
   "outputs": [],
   "source": [
    "tot_list=[\"번호\",\"이름\",\"국어\",\"수학\",\"영어\",\"합계\",\"평균\",\"순위\"]\n",
    "for j in range(len(final[0])):\n",
    "    print(tot_list[j],end=' ')\n",
    "    \n",
    "for i in range(len(final)):\n",
    "    print(end = '\\n')       # final 마지막까지 오면 한 줄 띄어쓰기 해라.\n",
    "    for j in range(8):\n",
    "        print(final[i][j], end= ' ')"
   ]
  },
  {
   "cell_type": "code",
   "execution_count": null,
   "metadata": {},
   "outputs": [],
   "source": []
  },
  {
   "cell_type": "code",
   "execution_count": null,
   "metadata": {},
   "outputs": [],
   "source": []
  },
  {
   "cell_type": "code",
   "execution_count": null,
   "metadata": {},
   "outputs": [],
   "source": [
    "# 문제 number guess(숫자 맞추기 게임 1:1)\n",
    "#1) computer 는 숫자를 랜덤으로 발생시킵니다. (1~100)\n",
    "#2) 사용자는 숫자를 입력합니다.\n",
    "#3) 컴퓨터가 낸 숫자와 사용자가 입력한 숫자가 일치하는지 확인하고 일치하면 \n",
    "#    확인하고 다시 다음 게임으로 진행합니다.\n",
    "#4) 만약 맞추지 못하였으면 사용자가 입력한 숫자가 컴퓨터가 가지고 있는\n",
    "#    수 보다 큰지 작은지를 알려줍니다.\n",
    "#5) 무한루프로 진행하던 게임은 q가 눌리면 종료합니다.\n",
    "#6) 몇회만에 맞추었는지를 확인하여 출력해줍니다.\n",
    "# 7) 총 진행회수하고 guess 횟수를 누적시킨다음 평균 시도횟수를 출력하시요.\n",
    "\n",
    "# 필요한 변수 : 컴퓨터선정수, 사용자 입력, 총횟수, 평균시도횟수"
   ]
  },
  {
   "cell_type": "code",
   "execution_count": null,
   "metadata": {},
   "outputs": [],
   "source": [
    "#1) computer 는 숫자를 랜덤으로 발생시킵니다. (1~100)\n",
    "#2) 사용자는 숫자를 입력합니다.\n",
    "#3) 컴퓨터가 낸 숫자와 사용자가 입력한 숫자가 일치하는지 확인하고 일치하면 \n",
    "#    확인하고 다시 다음 게임으로 진행합니다.\n",
    "#4) 만약 맞추지 못하였으면 사용자가 입력한 숫자가 컴퓨터가 가지고 있는\n",
    "#    수 보다 큰지 작은지를 알려줍니다.\n",
    "\n",
    "from random import randint\n",
    "import sys\n",
    "while True:\n",
    "    n= randint(1, 101)  #  컴퓨터는 수 하나를 선택 ( while 썻으니 여러번 돌아간다)\n",
    "    while True:\n",
    "        ans = input(\"상상의 수를 입력 (Q to exit):\")  # 사람이 수를 선택\n",
    "        if ans.upper() == \"Q\":  # 대문자로 만든다.  ans 를 대문자로 바꾼다. 그게 Q 라고 같으면 sys.exit( 프로그램을 종료시켜라)\n",
    "            sys.exit(0) #프로그램을 종료\n",
    "            ians=int(ans)\n",
    "        if (n==ians):\n",
    "            print(\"정답!\")\n",
    "            break\n",
    "        elif (n>ians):\n",
    "            print(\"높은 수를 선택하시요\")\n",
    "        else:\n",
    "            print(\"작은 수를 선택하시요\")"
   ]
  },
  {
   "cell_type": "code",
   "execution_count": null,
   "metadata": {},
   "outputs": [],
   "source": [
    "\n",
    "from random import randint\n",
    "import sys                        #패키지를 불러왔다.(sys.exit 쓰려고_\n",
    "tot_game=0 #총게임수               \n",
    "win=0  # 이긴 경우의수\n",
    "tot_attempt=[]   #전체 시도회수\n",
    "while True:  # 사용자 정의하고 이미 정의된 내장 명령어를 구분\n",
    "    n= randint(1, 101)  #  컴퓨터는 수 하나를 선택 \n",
    "    tot_game +=1 ; game =0\n",
    "    while True:\n",
    "        ans = input(\"상상의 수를 입력 (Q to exit):\")  \n",
    "        game+=1;        \n",
    "        if ans.upper() == \"Q\":  #\n",
    "            print(\"총게임수\", tot_game-1, \"이긴게임수\", win)\n",
    "            game_tot = sum(tot_attempt)\n",
    "            print(\"평균시도횟수\", tot_game/(tot_game-1))\n",
    "            sys.exit(0) #프로그램을 종료\n",
    "        ians=int(ans)\n",
    "        if (n==ians):\n",
    "            print(\"정답!\"); win+=1; tot_attempt.append(game)\n",
    "            break\n",
    "        elif (n > ians):\n",
    "            print(\"높은 수를 선택하시요\")\n",
    "        else:\n",
    "            print (\"작은 수를 선택하시요\")"
   ]
  },
  {
   "cell_type": "code",
   "execution_count": null,
   "metadata": {},
   "outputs": [],
   "source": []
  },
  {
   "cell_type": "code",
   "execution_count": null,
   "metadata": {},
   "outputs": [],
   "source": []
  },
  {
   "cell_type": "code",
   "execution_count": null,
   "metadata": {},
   "outputs": [],
   "source": []
  },
  {
   "cell_type": "code",
   "execution_count": null,
   "metadata": {},
   "outputs": [],
   "source": [
    "# 경우의 수는 3가지(정답, 작은 경우, 큰경우)\n",
    "# 전체게임회수와 이긴 회수\n",
    "# 평균 시도횟수를 계산하기 위해서 변수를 정의하고 계산\n",
    "\n",
    "from random import randint\n",
    "import sys  \n",
    "while True:   \n",
    "    n= randint(1, 101)  #  컴퓨터는 수 하나를 선택 \n",
    "    while True:\n",
    "        ans = input(\"상상의 수를 입력 (Q to exit):\")         \n",
    "        if ans.upper() == \"Q\":  #\n",
    "            sys.exit(0) #프로그램을 종료\n",
    "        ians=int(ans)\n",
    "        if (n==ians):\n",
    "            print(\"정답!\"); win+=1; tot_attempt.append(game)\n",
    "            break\n",
    "        elif (n > ians):\n",
    "            print(\"높은 수를 선택하시요\")\n",
    "        else:\n",
    "            print (\"작은 수를 선택하시요\")                            "
   ]
  },
  {
   "cell_type": "code",
   "execution_count": null,
   "metadata": {},
   "outputs": [],
   "source": []
  },
  {
   "cell_type": "code",
   "execution_count": null,
   "metadata": {},
   "outputs": [],
   "source": [
    "#문제 1 ) 제곱미티로 입력되는 아파트 면적을 평형으로 계산하여 종류 판정\n",
    "#(30평을 기준으로 판정) 하는 프로그램 작성\n",
    "# 소형(17) 중소형(25) 중형(30)\n",
    "#평형수=제곱미터 / 3.305"
   ]
  },
  {
   "cell_type": "code",
   "execution_count": null,
   "metadata": {},
   "outputs": [],
   "source": [
    "# 내가 푼 것 \n",
    "mm = input(\"아파트 면적을 제곱미터로 입력하시오:\")\n",
    "abc = int(mm)/3.305\n",
    "\n",
    "if abc>=30:\n",
    "    print(\"중형\")\n",
    "elif abc>=25:\n",
    "    print(\"중소형\")\n",
    "else:\n",
    "    print(\"소형\")"
   ]
  },
  {
   "cell_type": "code",
   "execution_count": null,
   "metadata": {},
   "outputs": [],
   "source": [
    "# 선생님 답\n",
    "meter = int(input(\"제곱미터를 입력하시오:\"))\n",
    "p=meter/ 3.305\n",
    "\n",
    "if p >=30:\n",
    "    print(\"아파트 유형은 중형입니다.\",p)\n",
    "elif p >=25:\n",
    "    print(\"아파트 유형은 중소형입니다.\",p)\n",
    "else:\n",
    "    print(\"아파트 유형은 소형입니다.\",p)"
   ]
  },
  {
   "cell_type": "code",
   "execution_count": null,
   "metadata": {},
   "outputs": [],
   "source": []
  },
  {
   "cell_type": "code",
   "execution_count": null,
   "metadata": {},
   "outputs": [],
   "source": [
    "#문제2 일 수를 입력하면 이를 초로 변경하는 프로그램 작성\n"
   ]
  },
  {
   "cell_type": "code",
   "execution_count": null,
   "metadata": {},
   "outputs": [],
   "source": [
    "# 내가 푼 것 \n",
    "day=int(input(\"일 수를 입력하시오:\"))\n",
    "second = day * 24 * 60 * 60\n",
    "print(second,\"초\")"
   ]
  },
  {
   "cell_type": "code",
   "execution_count": null,
   "metadata": {},
   "outputs": [],
   "source": [
    "# 선생님 답\n",
    "days = int(input(\"날 수를 입력하시오: \"))\n",
    "sec = days * 24 * 60 * 60\n",
    "print(sec, \"초\")\n",
    "\n",
    "\n",
    "\n",
    "\n",
    "\n",
    "\n",
    "\n",
    "\n",
    "\n",
    "\n",
    "\n",
    "\n"
   ]
  },
  {
   "cell_type": "code",
   "execution_count": null,
   "metadata": {},
   "outputs": [],
   "source": []
  },
  {
   "cell_type": "code",
   "execution_count": null,
   "metadata": {},
   "outputs": [],
   "source": [
    "# 소득세 계산 : 소득 세율표를 구해보고 이를 이용하여 소득이 들어오면 세금이 얼마인지 계산해보시오(연봉, 단순히 세율만 적용합니다)\n",
    "# 1천만원 미만시 연봉 9.5% / 1천~4천 : 19% / 4천~8천 : 28%/ 8천이상 : 37%"
   ]
  },
  {
   "cell_type": "code",
   "execution_count": null,
   "metadata": {},
   "outputs": [],
   "source": [
    "# 내가 푼 것 \n",
    "income = int(input(\"소득을 입력하시오:\"))\n",
    "if income >= 8000:\n",
    "    tax = income * 0.37\n",
    "    print(tax)\n",
    "elif income >= 4000:\n",
    "    tax = income * 0.28\n",
    "    print(tax)\n",
    "elif income >= 1000:\n",
    "    tax = income * 0.19\n",
    "    print(tax)\n",
    "else:\n",
    "    tax = income * 0.95\n",
    "    print(tax)"
   ]
  },
  {
   "cell_type": "code",
   "execution_count": null,
   "metadata": {},
   "outputs": [],
   "source": [
    "# 선생님 푼 것\n",
    "annual_income = int(input(\"연봉을 입력하시오:\"))\n",
    "tax=0.0            # float 형 초기화 ( 즉 포맷을 지정한 것)\n",
    "if annual_income < 100000000:\n",
    "    tax = annual_income * 0.095\n",
    "elif annual_income < 40000000:\n",
    "    tax= 100000000*0.095  + (annual_income-100000000)*0.019\n",
    "elif annual_income < 80000000:\n",
    "    tax= 100000000*0.095  + 300000000 * 0.019 + (annual_income-400000000) * 0.028\n",
    "else:\n",
    "    tax= 100000000*0.095  + 300000000 * 0.019 + 400000000 * 0.028 +(annual_income-900000000) * 0.037\n",
    "print(\"입력하신 연봉\", income,\"에 대한 세금=\", tax)"
   ]
  },
  {
   "cell_type": "code",
   "execution_count": null,
   "metadata": {},
   "outputs": [],
   "source": []
  },
  {
   "cell_type": "code",
   "execution_count": null,
   "metadata": {},
   "outputs": [],
   "source": [
    "#놀이공원 매표소 단체 입장료 계산하기\n",
    "# 조건 : 팀별 인원 구성을 입력(초등, 청소년, 일반인, 경로대상) 하면 입장료 소견표에\n",
    "# 정산요금 : 초등(5000원), 청소년(10000원)ㅒ, 일반인 (15000원), 경로대상(3000원)\n",
    "# 팀별 할인 카드 확인\n",
    "#카드 없음 : 할인 무, 일반카드 : 10%, VIP : 20%"
   ]
  },
  {
   "cell_type": "code",
   "execution_count": null,
   "metadata": {},
   "outputs": [],
   "source": [
    "# 내가 푼 것 \n",
    "elementary = int(input(\"초등학생은 몇 명인가요:\"))\n",
    "teenager = int(input(\"청소년은 몇 명인가요:\"))\n",
    "average = int(input(\"일반인은 몇 명인가요:\"))\n",
    "old = int(input(\"경로대상은 몇 명인가요:\"))\n",
    "\n",
    "money = elementary * 5000 + teenager * 10000 + average * 15000 + old * 3000\n",
    "print(money)\n",
    "\n",
    "card = input(\"카드가 있으세요?(없다, 일반, VIP):\")\n",
    "if card == \"없다\":\n",
    "    print(money)\n",
    "elif card == \"일반\":\n",
    "    print(money * 0.9)\n",
    "else:\n",
    "    print(money * 0.8)\n"
   ]
  },
  {
   "cell_type": "code",
   "execution_count": null,
   "metadata": {},
   "outputs": [],
   "source": [
    "# 선생님 푼 것\n",
    "ele = int(input(\"초등학생은 몇명입니까?\"))\n",
    "mid = int(input(\"청소년은 몇명입니까?\"))\n",
    "adult = int(input(\"일반은 몇명입니까?\"))\n",
    "old = int(input(\"경로대상은 몇명입니까?\"))\n",
    "\n",
    "ele_tot = 5000*ele\n",
    "mid_tot = 10000*mid\n",
    "adult_tot = 15000*adult\n",
    "old_tot = 3000 *old\n",
    "tot=ele_tot + mid_tot + adult_tot + old_tot\n",
    "# if 문을 사용하지 않고 선택\n",
    "dis = int(input(\"카드없음(0), 일반카드(1), VIP(2)를 선택해주세요\"))\n",
    "select =[tot, tot*0.9, tot*0.8]\n",
    "print(\"총요금은\",select[dis],\"원 입니다\")"
   ]
  },
  {
   "cell_type": "code",
   "execution_count": null,
   "metadata": {},
   "outputs": [],
   "source": []
  },
  {
   "cell_type": "code",
   "execution_count": null,
   "metadata": {},
   "outputs": [],
   "source": [
    "numberOfRows = int(input(\"숫자를 입력하시요: \"))  #10을 입력해본다. \n",
    "for i in range(numberOfRows): #10을 입력해서 10줄이 찍힌다.\n",
    "    for j in range(numberOfRows):  #10을 입력해서 한 줄 당 10개씩 찍힌다. \n",
    "        print(\"*\",end=\"\")\n",
    "    print()"
   ]
  },
  {
   "cell_type": "code",
   "execution_count": null,
   "metadata": {},
   "outputs": [],
   "source": [
    "numberOfRows = int(input(\"숫자를 입력하시요: \"))    #10을 입력해본다.\n",
    "for i in range(numberOfRows):  \n",
    "    for j in range(i+1):    # i의 첫번째 값은 0이니까 j는 1\n",
    "        print(\"*\",end=\"\")\n",
    "    print()"
   ]
  },
  {
   "cell_type": "code",
   "execution_count": null,
   "metadata": {},
   "outputs": [],
   "source": [
    "numOfRows = int(input('write number:'))\n",
    "for i in range(numberOfRows):  \n",
    "    for k in range(numOfRows-i):\n",
    "        print(' ',end='')\n",
    "    for j in range(i+1):    \n",
    "        print('*', end='')\n",
    "    print()"
   ]
  },
  {
   "cell_type": "code",
   "execution_count": null,
   "metadata": {},
   "outputs": [],
   "source": [
    "num=int(input(\"write number:\"))\n",
    "\n",
    "for i in range(num):\n",
    "    for j in range(num-i):\n",
    "        print(\" \",end=\"\")\n",
    "    for k in range(2*i+1):\n",
    "        print(\"*\",end=\"\")\n",
    "    for j in range(num-i):\n",
    "        print(\" \",end=\"\")\n",
    "        \n",
    "    print()"
   ]
  },
  {
   "cell_type": "code",
   "execution_count": null,
   "metadata": {},
   "outputs": [],
   "source": [
    "# 선생님답\n",
    "numOfRows = int(input('write number:'))\n",
    "for i in range(numOfRows):\n",
    "    for k in range(numOfRows-i):\n",
    "        print(\" \",end=\"\")\n",
    "    for j in range(i+1):\n",
    "        print(\"*\",end='')\n",
    "    for j in range(i):\n",
    "        print(\"*\",end=\"\")\n",
    "    print()"
   ]
  },
  {
   "cell_type": "code",
   "execution_count": null,
   "metadata": {},
   "outputs": [],
   "source": [
    "# 선생님답\n",
    "print(\"\")\n",
    "for i in range(1,11):\n",
    "    print(\" \"*(10-i),\"*\"*(i*2-1))"
   ]
  },
  {
   "cell_type": "code",
   "execution_count": 4,
   "metadata": {},
   "outputs": [
    {
     "name": "stdout",
     "output_type": "stream",
     "text": [
      "숫자를 입력하시요: 3\n",
      "*\n",
      "**\n",
      "***\n",
      "**\n",
      "*\n"
     ]
    }
   ],
   "source": [
    "#선생님 답\n",
    "numOfRows = int(input(\"숫자를 입력하시요: \"))    #10을 입력해본다.\n",
    "numOfRows2=numOfRows-1\n",
    "for i in range(numOfRows):  \n",
    "    for j in range(i+1):    # i의 첫번째 값은 0이니까 j는 1\n",
    "        print(\"*\",end=\"\")\n",
    "    print()\n",
    "for i in range(numOfRows2):  \n",
    "    for k in range(numOfRows2-i):    # i의 첫번째 값은 0이니까 j는 1\n",
    "        print(\"*\",end=\"\")\n",
    "    print()"
   ]
  },
  {
   "cell_type": "code",
   "execution_count": 15,
   "metadata": {},
   "outputs": [
    {
     "name": "stdout",
     "output_type": "stream",
     "text": [
      "숫자를 입력하시오:\n"
     ]
    },
    {
     "ename": "ValueError",
     "evalue": "invalid literal for int() with base 10: ''",
     "output_type": "error",
     "traceback": [
      "\u001b[1;31m---------------------------------------------------------------------------\u001b[0m",
      "\u001b[1;31mValueError\u001b[0m                                Traceback (most recent call last)",
      "\u001b[1;32m<ipython-input-15-4e4f1d0728eb>\u001b[0m in \u001b[0;36m<module>\u001b[1;34m\u001b[0m\n\u001b[0;32m      1\u001b[0m \u001b[1;31m# 선생님답\u001b[0m\u001b[1;33m\u001b[0m\u001b[1;33m\u001b[0m\u001b[1;33m\u001b[0m\u001b[0m\n\u001b[1;32m----> 2\u001b[1;33m \u001b[0mnumberOfRows\u001b[0m \u001b[1;33m=\u001b[0m \u001b[0mint\u001b[0m\u001b[1;33m(\u001b[0m\u001b[0minput\u001b[0m\u001b[1;33m(\u001b[0m\u001b[1;34m\"숫자를 입력하시오:\"\u001b[0m\u001b[1;33m)\u001b[0m\u001b[1;33m)\u001b[0m\u001b[1;33m\u001b[0m\u001b[1;33m\u001b[0m\u001b[0m\n\u001b[0m\u001b[0;32m      3\u001b[0m \u001b[1;32mfor\u001b[0m \u001b[0mi\u001b[0m \u001b[1;32min\u001b[0m \u001b[0mrange\u001b[0m\u001b[1;33m(\u001b[0m\u001b[0mnumberOfRows\u001b[0m\u001b[1;33m)\u001b[0m\u001b[1;33m:\u001b[0m\u001b[1;33m\u001b[0m\u001b[1;33m\u001b[0m\u001b[0m\n\u001b[0;32m      4\u001b[0m     \u001b[1;32mif\u001b[0m \u001b[0mi\u001b[0m\u001b[1;33m<\u001b[0m\u001b[0mnumberOfRows\u001b[0m \u001b[1;33m/\u001b[0m \u001b[1;36m2\u001b[0m \u001b[1;33m:\u001b[0m\u001b[1;33m\u001b[0m\u001b[1;33m\u001b[0m\u001b[0m\n\u001b[0;32m      5\u001b[0m         \u001b[1;32mfor\u001b[0m \u001b[0mj\u001b[0m \u001b[1;32min\u001b[0m \u001b[0mrange\u001b[0m\u001b[1;33m(\u001b[0m\u001b[0mi\u001b[0m\u001b[1;33m+\u001b[0m\u001b[1;36m1\u001b[0m\u001b[1;33m)\u001b[0m\u001b[1;33m:\u001b[0m\u001b[1;33m\u001b[0m\u001b[1;33m\u001b[0m\u001b[0m\n",
      "\u001b[1;31mValueError\u001b[0m: invalid literal for int() with base 10: ''"
     ]
    }
   ],
   "source": [
    "# 선생님답\n",
    "numberOfRows = int(input(\"숫자를 입력하시오:\"))\n",
    "for i in range(numberOfRows):\n",
    "    if i<numberOfRows / 2 :\n",
    "        for j in range(i+1):\n",
    "            print(\"*\",end=\"\")\n",
    "    else:\n",
    "        for j in range(numberOfRows//2-1,-1,-1):\n",
    "            if(j >=i-numberOfRows//2):\n",
    "                print(\"*\",end=\"\")\n",
    "    print()"
   ]
  },
  {
   "cell_type": "code",
   "execution_count": 16,
   "metadata": {},
   "outputs": [
    {
     "name": "stdout",
     "output_type": "stream",
     "text": [
      "\n",
      "*\n",
      "**\n",
      "***\n",
      "****\n",
      "*****\n",
      "****\n",
      "***\n",
      "**\n",
      "*\n"
     ]
    }
   ],
   "source": [
    "print(\"\")\n",
    "for i in range(1,10):\n",
    "    print(\"*\"*(i-int(i/6)*(i*2-10)))"
   ]
  },
  {
   "cell_type": "code",
   "execution_count": null,
   "metadata": {},
   "outputs": [],
   "source": [
    "ㅇㄹ"
   ]
  },
  {
   "cell_type": "code",
   "execution_count": null,
   "metadata": {},
   "outputs": [],
   "source": []
  },
  {
   "cell_type": "code",
   "execution_count": null,
   "metadata": {},
   "outputs": [],
   "source": []
  },
  {
   "cell_type": "code",
   "execution_count": null,
   "metadata": {},
   "outputs": [],
   "source": []
  },
  {
   "cell_type": "code",
   "execution_count": null,
   "metadata": {},
   "outputs": [],
   "source": []
  }
 ],
 "metadata": {
  "kernelspec": {
   "display_name": "Python 3",
   "language": "python",
   "name": "python3"
  },
  "language_info": {
   "codemirror_mode": {
    "name": "ipython",
    "version": 3
   },
   "file_extension": ".py",
   "mimetype": "text/x-python",
   "name": "python",
   "nbconvert_exporter": "python",
   "pygments_lexer": "ipython3",
   "version": "3.7.4"
  }
 },
 "nbformat": 4,
 "nbformat_minor": 2
}
