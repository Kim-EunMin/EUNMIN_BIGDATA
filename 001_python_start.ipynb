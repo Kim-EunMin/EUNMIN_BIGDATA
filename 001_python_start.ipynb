{
 "cells": [
  {
   "cell_type": "code",
   "execution_count": null,
   "metadata": {},
   "outputs": [],
   "source": [
    "#편집모드와 명령행 모드    (#은 주석처리)"
   ]
  },
  {
   "cell_type": "code",
   "execution_count": null,
   "metadata": {},
   "outputs": [],
   "source": [
    "a = 10         # 주소 => 값 저장 (앱 핑)\n",
    "b = a          # 10이 대입되는 것이 아니고, a 가 가리키는 주소가 대입 (그러므로 a, b 주소 동일)\n",
    "print(a)\n",
    "print(b)"
   ]
  },
  {
   "cell_type": "code",
   "execution_count": null,
   "metadata": {},
   "outputs": [],
   "source": []
  },
  {
   "cell_type": "code",
   "execution_count": 8,
   "metadata": {},
   "outputs": [
    {
     "name": "stdout",
     "output_type": "stream",
     "text": [
      "주소값 대입 140727252198064\n",
      "140727252198064\n"
     ]
    },
    {
     "data": {
      "text/plain": [
       "(None, None)"
      ]
     },
     "execution_count": 8,
     "metadata": {},
     "output_type": "execute_result"
    }
   ],
   "source": [
    "print(\"주소값 대입\",id(a)),print(id(b))      #id(a) 는 a 의 주소를 출력하라는 것이다. \n",
    "                                            # b는 a 랑 주소값이 동일하다"
   ]
  },
  {
   "cell_type": "code",
   "execution_count": 11,
   "metadata": {},
   "outputs": [
    {
     "name": "stdout",
     "output_type": "stream",
     "text": [
      "20\n",
      "10\n",
      "주소값 대입 140727252198384\n",
      "140727252198064\n"
     ]
    },
    {
     "data": {
      "text/plain": [
       "(None, None)"
      ]
     },
     "execution_count": 11,
     "metadata": {},
     "output_type": "execute_result"
    }
   ],
   "source": [
    "a=20\n",
    "print(a)      #여기서 a 와 b 의 주소는 다르다. \n",
    "print(b)\n",
    "print(\"주소값 대입\", id(a)),print(id(b))"
   ]
  },
  {
   "cell_type": "code",
   "execution_count": null,
   "metadata": {},
   "outputs": [],
   "source": [
    "# 파이썬은 대소문자를 구분한다.  "
   ]
  },
  {
   "cell_type": "code",
   "execution_count": 15,
   "metadata": {},
   "outputs": [
    {
     "data": {
      "text/plain": [
       "int"
      ]
     },
     "execution_count": 15,
     "metadata": {},
     "output_type": "execute_result"
    }
   ],
   "source": [
    "type(a) #type 이란 함수를 이용해서 타입을 자주 확인하자\n"
   ]
  },
  {
   "cell_type": "code",
   "execution_count": 16,
   "metadata": {},
   "outputs": [
    {
     "name": "stdout",
     "output_type": "stream",
     "text": [
      "10\n"
     ]
    }
   ],
   "source": [
    "a = 10\n",
    "A = 20\n",
    "print(a)"
   ]
  },
  {
   "cell_type": "code",
   "execution_count": 1,
   "metadata": {},
   "outputs": [
    {
     "name": "stdout",
     "output_type": "stream",
     "text": [
      "수식을 입력하시오10+20\n",
      "10+20\n",
      "30\n"
     ]
    }
   ],
   "source": [
    "# 데이터 입력 : 프롬프트 텍스트\n",
    "problem = input(\"수식을 입력하시오\")     #데이터 입출력은 문자열로 입출력됨 (input 은 데이터를 실시간으로 입력받기 위해서 쓰는 것이다)\n",
    "# 연산을 위해 데이터 타입을 숫자로 변경해야 한다. (int 와 eval 이용)\n",
    "print(problem)                             #아래 10+20 은 문자열\n",
    "# print(int(problem))             #int : 데이터 casting : 데이터 형변환 (+ 는 숫자가 아니여서 error 가 난다)\n",
    "print(eval(problem))           #eval 을 하게 되면 평가"
   ]
  },
  {
   "cell_type": "code",
   "execution_count": 2,
   "metadata": {},
   "outputs": [
    {
     "name": "stdout",
     "output_type": "stream",
     "text": [
      "0.00424\n",
      "127\n"
     ]
    }
   ],
   "source": [
    "a3 = 4.24e-3  #exponent 지수형\n",
    "a4 = 0o177    #octal : 8진수로 표현\n",
    "print(a3)\n",
    "print(a4)"
   ]
  },
  {
   "cell_type": "code",
   "execution_count": 2,
   "metadata": {},
   "outputs": [
    {
     "name": "stdout",
     "output_type": "stream",
     "text": [
      "이름을입력하세요: 김 은민\n",
      "김\n",
      " \n",
      "은\n",
      "1\n",
      "이름: 은민\n",
      "성(s): 김\n"
     ]
    }
   ],
   "source": [
    "#fullName 은 문자열,문자열은 기본이 1차원 배열,,숫자 int : 4 바이트float  \n",
    "fullName = input(\"이름을입력하세요: \")\n",
    "n= fullName.rfind(\" \")  #공백을 찾는다. #김은민이라고 치면 -1 이라고 나옴(뒤에서부터하면 -1)\n",
    "\n",
    "#배열과 리스트의 인덱싱은 동일하다. \n",
    "print(fullName[0])  #0번째(0부터 시작한다) R 만 1부터 시작\n",
    "print(fullName[1])  #1번째-> 공백\n",
    "print(fullName[2])  #2번째\n",
    "print(n)            #1자리에 있는 놈이 공백이다\n",
    "print(\"이름:\", fullName[n+1:])  #n+1 부터 끝까지   (마지막값은 제외된다)\n",
    "print(\"성(s):\", fullName[:n])   #처음부터 n까지     #마지막은 포함이 안된다 예를 들면 2:10 이면 2부터 9까지다. "
   ]
  },
  {
   "cell_type": "code",
   "execution_count": 5,
   "metadata": {},
   "outputs": [
    {
     "name": "stdout",
     "output_type": "stream",
     "text": [
      "이름을 입력하세요김은민\n",
      "-1\n"
     ]
    }
   ],
   "source": [
    "fullName=input(\"이름을 입력하세요\")\n",
    "n=fullName.rfind(\" \")\n",
    "print(n)"
   ]
  },
  {
   "cell_type": "code",
   "execution_count": 6,
   "metadata": {},
   "outputs": [
    {
     "name": "stdout",
     "output_type": "stream",
     "text": [
      "koreakorea\n",
      "koreakoreakorea\n",
      "korea\n",
      "a\n",
      "a\n",
      "or\n",
      "ea\n",
      "ea\n",
      "e\n",
      "5\n"
     ]
    },
    {
     "data": {
      "text/plain": [
       "['ko', 'ea']"
      ]
     },
     "execution_count": 6,
     "metadata": {},
     "output_type": "execute_result"
    }
   ],
   "source": [
    "#문자열은 \"'\"single quotation\", \"korea\", : double quotation\n",
    "# \"\"\" \"\"\" : 3개인 경우는 입력하는 대로 저장함\n",
    "s='korea'    #문자열 : \"  \" 해도 되고 '  ' 해도 된다. \n",
    "print(s+s)\n",
    "print(s*3)  #횟수지정\n",
    "print(s[0:])  #0부터 끝까지\n",
    "print(s[4])  #4번째\n",
    "print(s[-1])  #R 에서 - 는 제외하는 것, python 은 뒤에서 라는 의미이다 (뒤에서1번째)\n",
    "print(s[1:3]) #1,2 를 본다 (3은 제외된다, 끝은 제외!!)\n",
    "print(s[-2:])  # 끝에서 2번째부터 끝까지 가져와라 \n",
    "print(s[-2:5])  #끝에서 2번째에서 5번째까지)\n",
    "print(s[3:-1])  #3번째에서 끝에서1번째까지 (마찬가지로 끝은 제외)\n",
    "print(len(s))   #5글자\n",
    "s.split('r')  #r 을 중심으로 2개로 나눈다. "
   ]
  },
  {
   "cell_type": "code",
   "execution_count": 11,
   "metadata": {},
   "outputs": [
    {
     "name": "stdout",
     "output_type": "stream",
     "text": [
      "['Seoul', ' Incheon', ' won']\n"
     ]
    }
   ],
   "source": [
    "#csv 데이터 : comma 로 분리된 데이터 \n",
    "t='Seoul, Incheon, won'. split(\",\") #리스트로 분할 해준다. \n",
    "print(t)  "
   ]
  },
  {
   "cell_type": "code",
   "execution_count": 12,
   "metadata": {},
   "outputs": [
    {
     "data": {
      "text/plain": [
       "'Seoul, Incheon, won'"
      ]
     },
     "execution_count": 12,
     "metadata": {},
     "output_type": "execute_result"
    }
   ],
   "source": [
    "','.join(t)"
   ]
  },
  {
   "cell_type": "code",
   "execution_count": 15,
   "metadata": {},
   "outputs": [
    {
     "name": "stdout",
     "output_type": "stream",
     "text": [
      "Korea\n",
      "2\n",
      "1\n",
      "True\n",
      "False\n",
      "True\n",
      "koRea\n",
      "False\n",
      "True\n"
     ]
    }
   ],
   "source": [
    "#파이썬은 객체 지향 프로그래밍으로 설계된 언어임 : 모든 것이 객체임. 함수도 객체임\n",
    "# c, java 는 객체지향을 별도로 학습\n",
    "# python 은 자체가 객체지향언어임 \n",
    "#( 문자도 객체)=> 객체선언하고 점찍고 함수 쓴다 => \"Seoul,incheon,won\".split(\",\") 이런식으로\n",
    "# 객체이기 때문에 함수가 만들어져있다.\n",
    "\n",
    "s= 'korea'\n",
    "print(s.capitalize())\n",
    "print(s.find('r'))\n",
    "print(s.count('re'))\n",
    "print(s.isalpha())\n",
    "print(s.isdigit())\n",
    "print('0123'.isdigit())\n",
    "print(s.replace('r','R'))   #크롤링하면서 원치않는 단어 들어올때 많이쓴다\n",
    "print(s.startswith('K'))\n",
    "print(s.endswith('a'))"
   ]
  },
  {
   "cell_type": "code",
   "execution_count": 16,
   "metadata": {},
   "outputs": [
    {
     "name": "stdout",
     "output_type": "stream",
     "text": [
      "7 -1 12 0.75\n",
      "0.75\n",
      "3\n",
      "1\n",
      "0\n",
      "1\n",
      "0\n",
      "1.75\n",
      "1\n"
     ]
    }
   ],
   "source": [
    "#산술연산\n",
    "a=3\n",
    "b=4\n",
    "\n",
    "print(a+b,a-b,a*b,a/b)\n",
    "print(a/b)\n",
    "print(a%b) #나머지연산자 : 경우의 수를 생성할때 : 변수가 가질 수 있는 경우수를 확인 \n",
    "print(1%2)\n",
    "print(2%2)\n",
    "print(3%2)\n",
    "print(4%2)\n",
    "\n",
    "print(7/4)\n",
    "print(7//4) # 몫연산자\n",
    "\n"
   ]
  },
  {
   "cell_type": "code",
   "execution_count": 21,
   "metadata": {},
   "outputs": [
    {
     "name": "stdout",
     "output_type": "stream",
     "text": [
      "sum([1,2,3]) : 6\n",
      "min([1,2,3]) : 1\n",
      "abs(-11) : 11\n",
      "pow(2,10): 1024\n",
      "round(3.141595): 3\n",
      "round(3.141595): 3.14\n"
     ]
    }
   ],
   "source": [
    "# 내장함수\n",
    "print(\"sum([1,2,3]) :\", sum([1,2,3]))         #tuple, 함수에서 사용\n",
    "print(\"min([1,2,3]) :\",min([1,2,3,]))\n",
    "print(\"abs(-11) :\",abs(-11))                #absolute\n",
    "print(\"pow(2,10):\",pow(2,10))               #power\n",
    "print(\"round(3.141595):\",round(3.141592))   # 반올림\n",
    "print(\"round(3.141595):\", round(3.141592,2)) #3째자리에서 반올림하고 2째짜리까지 표현해라\n",
    "# 함수의 형태가 다르면 : 오버로딩\n",
    "#파이썬 오버로딩이 없음 => 디폴트 매개변수             "
   ]
  },
  {
   "cell_type": "code",
   "execution_count": 26,
   "metadata": {},
   "outputs": [
    {
     "name": "stdout",
     "output_type": "stream",
     "text": [
      "19\n"
     ]
    }
   ],
   "source": [
    "#문제 : 숫자 4,7,8 을 리스트로 초기화하고 합계를 출력하시오\n",
    "li=4,7,8\n",
    "print(sum(li))"
   ]
  },
  {
   "cell_type": "code",
   "execution_count": 31,
   "metadata": {},
   "outputs": [
    {
     "name": "stdout",
     "output_type": "stream",
     "text": [
      "정수를 입력하시오:10\n",
      "정수를 입력하시오:3\n",
      "입력된 수를 2로 나눈 결과 몫 = 6 나머지= 1\n",
      "홀수입니다.\n"
     ]
    }
   ],
   "source": [
    "#문제 : 두수를 입력받아 몫과 나머지를 출력하시오\n",
    "num1=input(\"정수를 입력하시오:\")\n",
    "num2=input(\"정수를 입력하시오:\")\n",
    "hab = int(num1)+int(num2)\n",
    "quotient = hab//2\n",
    "remainder= hab%2\n",
    "print(\"입력된 수를 2로 나눈 결과 몫 =\",quotient,\"나머지=\",remainder)\n",
    "# 파이썬의 블록은 들여쓰기임,      블록 : 여러일을 묶는 역할을 한다.\n",
    "# : 조건문, 반복문, 함수에서 사용된다\n",
    "if remainder==0:\n",
    "    print(\"짝수입니다,\")\n",
    "else:\n",
    "    print(\"홀수입니다.\")\n"
   ]
  },
  {
   "cell_type": "code",
   "execution_count": 34,
   "metadata": {},
   "outputs": [
    {
     "name": "stdout",
     "output_type": "stream",
     "text": [
      "정수를 입력하시오:10\n",
      "정수를 입력하시오:2\n",
      "입력된 수를 2로 나눈 결과 몫 = 6 나머지= 0\n",
      "짝수입니다,\n",
      "짝수입니다,\n"
     ]
    }
   ],
   "source": [
    "#문제 : 두수를 입력받아 몫과 나머지를 출력하시오\n",
    "num1=input(\"정수를 입력하시오:\")\n",
    "num2=input(\"정수를 입력하시오:\")\n",
    "hab = int(num1)+int(num2)\n",
    "quotient = hab//2\n",
    "remainder= hab%2\n",
    "print(\"입력된 수를 2로 나눈 결과 몫 =\",quotient,\"나머지=\",remainder)\n",
    "# 파이썬의 블록은 들여쓰기임,      블록 : 여러일을 묶는 역할을 한다.\n",
    "# : 조건문, 반복문, 함수에서 사용된다\n",
    "if remainder==0:\n",
    "    print(\"짝수입니다,\")\n",
    "    print(\"짝수입니다,\")   #들여쓰기가 블록으로 딱딱 맞춰줘야한다.\n",
    "else:\n",
    "    print(\"홀수입니다.\")\n"
   ]
  },
  {
   "cell_type": "markdown",
   "metadata": {},
   "source": [
    "# scope"
   ]
  },
  {
   "cell_type": "code",
   "execution_count": 37,
   "metadata": {},
   "outputs": [
    {
     "name": "stdout",
     "output_type": "stream",
     "text": [
      "200\n",
      "300\n"
     ]
    }
   ],
   "source": [
    "x= 300        #전역변수\n",
    "def myfunc() : # 함수도 리턴타입을 지정하지 않음 #def 를 붙이면 함수를 선언하겠다는 것\n",
    "    x = 200     #중괄호 없이 바로 함수가 하는일 선언\n",
    "    print(x)   #지역변수 : 함수와 생사를 같이함  \n",
    "myfunc()\n",
    "print(x)"
   ]
  },
  {
   "cell_type": "code",
   "execution_count": 38,
   "metadata": {},
   "outputs": [],
   "source": [
    "# 어떤 수가 입력되어도 나머지가 0: 가위, 1: 바위, 2 : 보 로 출력 하시요"
   ]
  },
  {
   "cell_type": "code",
   "execution_count": 39,
   "metadata": {},
   "outputs": [
    {
     "name": "stdout",
     "output_type": "stream",
     "text": [
      "정수를 입력하시오:3\n",
      "가위\n"
     ]
    }
   ],
   "source": [
    "select = int(input(\"정수를 입력하시오:\"))%3\n",
    "if select ==0:\n",
    "    print(\"가위\")\n",
    "elif select ==1:\n",
    "    print(\"바위\")\n",
    "elif select ==2:\n",
    "    print(\"보\")"
   ]
  },
  {
   "cell_type": "code",
   "execution_count": 54,
   "metadata": {},
   "outputs": [
    {
     "name": "stdout",
     "output_type": "stream",
     "text": [
      "4\n",
      "earths\n",
      "['fire', 'air']\n",
      "['air', 1, 'water', 'fire', 'earths']\n"
     ]
    }
   ],
   "source": [
    "#random : 프로그램에서 난수는 의사난수임   # 순서가 있는 난수라는 뜻이다. \n",
    "import random            #난수를 만드는 패키지로 import 를 하고 써야한다. import 는 내장명령어로 random 하나만 그냥 쓰면 안먹힌다.\n",
    "random.seed(1000)               #random.seed 하면 랜덤이긴한데 시작점을 고정시킨다  즉 4가 고정돼서 바뀌지 않는다. 주석처리하면 안바뀐다. \n",
    "print(random.randint(1,5)) #1,2,3,4, 중 하나의 값으로 만들어준다. \n",
    "elements=[\"earth\",1,\"air\",\"fire\",\"water\"] #앞뒤가 대괄호면 list 다  (이질적인 것들도 리스트 안에 묶일 수 있다)\n",
    "elements[0]=\"earths\"\n",
    "print(random.choice(elements))  # 하나 선택\n",
    "print(random.sample(elements,2))  # 샘플링 (2개를 끄집어내라)\n",
    "random.shuffle(elements)    #셔플링 (화투칠때 처럼 패를 섞어라)\n",
    "print(elements)\n"
   ]
  },
  {
   "cell_type": "code",
   "execution_count": 67,
   "metadata": {},
   "outputs": [
    {
     "name": "stdout",
     "output_type": "stream",
     "text": [
      "2\n",
      "earths\n",
      "['air', 1]\n",
      "['water', 'air', 'fire', 'earths', 1]\n"
     ]
    }
   ],
   "source": [
    "import random            #난수를 만드는 패키지로 import 를 하고 써야한다. import 는 내장명령어로 random 하나만 그냥 쓰면 안먹힌다.\n",
    "#random.seed(1000)               #random.seed 하면 랜덤이긴한데 시작점을 고정시킨다  즉 4가 고정돼서 바뀌지 않는다. 주석처리하면 안바뀐다. \n",
    "print(random.randint(1,5)) #1,2,3,4, 중 하나의 값으로 만들어준다. \n",
    "elements=[\"earth\",1,\"air\",\"fire\",\"water\"] #앞뒤가 대괄호면 list 다  (이질적인 것들도 리스트 안에 묶일 수 있다)\n",
    "elements[0]=\"earths\"\n",
    "print(random.choice(elements))  # 하나 선택\n",
    "print(random.sample(elements,2))  # 샘플링 (2개를 끄집어내라)\n",
    "random.shuffle(elements)    #셔플링 (화투칠때 처럼 패를 섞어라)\n",
    "print(elements)\n",
    "\n"
   ]
  },
  {
   "cell_type": "code",
   "execution_count": 68,
   "metadata": {},
   "outputs": [
    {
     "name": "stdout",
     "output_type": "stream",
     "text": [
      "True\n",
      "True\n"
     ]
    }
   ],
   "source": [
    "# 비교연산자(>=,<=,==) 와 논리 연산자(and,or,not)\n",
    "a=20\n",
    "b=10\n",
    "c=a>10 and b<50\n",
    "print(c)\n",
    "\n",
    "c=10<a<50\n",
    "print(c)"
   ]
  },
  {
   "cell_type": "code",
   "execution_count": 69,
   "metadata": {},
   "outputs": [
    {
     "name": "stdout",
     "output_type": "stream",
     "text": [
      "6 5\n"
     ]
    }
   ],
   "source": [
    "# swap\n",
    "x=5\n",
    "y=6\n",
    "x,y=y,x  #다른 언어에서는 리턴값이 한개지만 파이썬에서는 리턴값이 2개 이상도 가능  (x,y 바꿈)\n",
    "print(x,y)"
   ]
  },
  {
   "cell_type": "code",
   "execution_count": 71,
   "metadata": {},
   "outputs": [
    {
     "name": "stdout",
     "output_type": "stream",
     "text": [
      "[3, ['a', 'b', 'c'], 4]\n",
      "['a', 'b']\n",
      "1\n",
      "Life\n"
     ]
    }
   ],
   "source": [
    "#LIST 안의 list\n",
    "a=[1,2,3,['a','b','c'],4,5]      #a 에는 직접 데이터가 담겨있는게 아니라 주소를 담아놓은 항아리이다\n",
    "print(a[2:5])        \n",
    "print(a[3][:2])\n",
    "#3차 리스트\n",
    "a=[1,2,['a','b',['Life','is']]]\n",
    "print(a[0])\n",
    "print(a[2][2][0])\n",
    "\n"
   ]
  },
  {
   "cell_type": "code",
   "execution_count": 74,
   "metadata": {},
   "outputs": [
    {
     "name": "stdout",
     "output_type": "stream",
     "text": [
      "60\n",
      "[10, 20, 30, 40, 50]\n",
      "60\n",
      "80\n"
     ]
    }
   ],
   "source": [
    "# 리스트(list) 를 이용한 스택 (stack)  LIFO 복귀주소저장(함수의 운용)\n",
    "a=[10,20,30,40,50]\n",
    "a.append(60)     #데이터 추가시 append 함수 사용\n",
    "print(a.pop())  # 뒤에서 데이터를 가지고 오면서 삭제  9( 맨마지막에 들어간걸 가져온다)\n",
    "print(a)   #pop 으로 60을 뺏으니 10~50까지 있음\n",
    "a.append(60)\n",
    "print(a.pop())\n",
    "a.append(70)\n",
    "a.append(80)\n",
    "print(a.pop())"
   ]
  },
  {
   "cell_type": "code",
   "execution_count": 75,
   "metadata": {},
   "outputs": [
    {
     "name": "stdout",
     "output_type": "stream",
     "text": [
      "7 12\n",
      "7\n"
     ]
    },
    {
     "data": {
      "text/plain": [
       "(9, 20)"
      ]
     },
     "execution_count": 75,
     "metadata": {},
     "output_type": "execute_result"
    }
   ],
   "source": [
    "#파이썬 함수 - 리턴값의 지정은 없음\n",
    "# define\n",
    "def calc(a,b):     ##함수의 역할 : 작업, 매개변수 : 작업을 할 때 필요한 데이터\n",
    "    return a+b, a*b\n",
    "x,y=calc(3,4)  #매개변수를 2개 넣었음\n",
    "print(x,y)\n",
    "print(x)\n",
    "x,y\n",
    "args=(4,5)        #괄호를 치면 tuple 이 된다. \n",
    "calc(*args) # 포인터   # args 에는 4,5로 묶여 있다,-> 묶인 걸 *  를 통해서 풀어준다.x,y=calc(3,4) 는 매개변수로 각각 매개변수는 떨어져잇으니 *는 필요없다., \n",
    "#우리가 보는 데이터들은 묶여져있기 때문에 * 를 해야한다)"
   ]
  },
  {
   "cell_type": "code",
   "execution_count": 76,
   "metadata": {},
   "outputs": [
    {
     "data": {
      "text/plain": [
       "dict_items([('one', 1), ('two', 2)])"
      ]
     },
     "execution_count": 76,
     "metadata": {},
     "output_type": "execute_result"
    }
   ],
   "source": [
    "#dictionary\n",
    "#colon 으로 구분된 키이 데이터 형식으로 입력\n",
    "d={'one':1,'two':2}     #키이 => 저장될 주소값으로 계산됨   'one': 이나 'two': 이런게 키이 다. \n",
    "d.items()            #키이 데이터를 묶어서 list 방식으로 출력하게 하는 것이; items () 함수이다.\n",
    "#mongodb => NOSQL "
   ]
  },
  {
   "cell_type": "code",
   "execution_count": 81,
   "metadata": {},
   "outputs": [
    {
     "name": "stdout",
     "output_type": "stream",
     "text": [
      "2\n",
      "True\n",
      "1\n"
     ]
    },
    {
     "data": {
      "text/plain": [
       "['suwon', 'seoul', 'incheon']"
      ]
     },
     "execution_count": 81,
     "metadata": {},
     "output_type": "execute_result"
    }
   ],
   "source": [
    "cities=('seoul','incheon', 'suwon')    #[]면 list / () 면 tuple\n",
    "print(cities.index('suwon')) #2\n",
    "print('incheon' in cities) # 포함연산자\n",
    "print(cities.count('seoul'))  #seoul 이 몇개 있냐\n",
    "sorted(cities)               #오름차순 (ㄱ,ㄴ,ㄷ,...)\n",
    "sorted(cities,reverse=True) #내림차순"
   ]
  },
  {
   "cell_type": "code",
   "execution_count": 106,
   "metadata": {},
   "outputs": [
    {
     "name": "stdout",
     "output_type": "stream",
     "text": [
      "['seoul', 'incheon', 'suwon']\n",
      "['seoul', 'incheon', 'suwon', 'busan']\n",
      "['daegu', 'seoul', 'incheon', 'suwon', 'busan']\n",
      "결합 ['daegu', 'seoul', 'incheon', 'suwon', 'busan', 'jeju', 'kwangju']\n",
      "['daegu', 'seoul', 'incheon', 'suwon', 'busan', ['daejun', 'ulsan']]\n",
      "['daegu', 'seoul', 'incheon', 'suwon', 'busan', ['daejun', 'ulsan'], 'jeju', 'kwangju']\n"
     ]
    }
   ],
   "source": [
    "#리스트는 데이터 삽입 삭제가 용이\n",
    "cities=['seoul','incheon', 'suwon']      \n",
    "print(cities)\n",
    "cities.append('busan')\n",
    "print(cities)\n",
    "cities.insert(0,'daegu') #데이터 삽입\n",
    "print(cities)\n",
    "other_cities=['jeju','kwangju']\n",
    "print('결합', cities+other_cities) # 리스트+연산자\n",
    "cities.append(['daejun','ulsan']) #모양이 유지가 된다.\n",
    "print(cities)\n",
    "cities.extend(['jeju','kwangju'])  #리스트가 풀어져서 들어가진다.\n",
    "print(cities)"
   ]
  },
  {
   "cell_type": "code",
   "execution_count": 108,
   "metadata": {},
   "outputs": [
    {
     "name": "stdout",
     "output_type": "stream",
     "text": [
      "['daejun', 'ulsan']\n"
     ]
    }
   ],
   "source": [
    "print(cities[5])"
   ]
  },
  {
   "cell_type": "code",
   "execution_count": 109,
   "metadata": {},
   "outputs": [
    {
     "name": "stdout",
     "output_type": "stream",
     "text": [
      "ulsan\n"
     ]
    }
   ],
   "source": [
    "print(cities[5][1])\n"
   ]
  },
  {
   "cell_type": "code",
   "execution_count": 110,
   "metadata": {},
   "outputs": [
    {
     "name": "stdout",
     "output_type": "stream",
     "text": [
      "['daegu', 'seoul', 'incheon', 'suwon', 'busan', ['daejun', 'jeju'], 'jeju', 'kwangju']\n"
     ]
    }
   ],
   "source": [
    "cities[5][1]='jeju'    #바뀐다.\n",
    "print(cities)"
   ]
  },
  {
   "cell_type": "code",
   "execution_count": 111,
   "metadata": {},
   "outputs": [
    {
     "name": "stdout",
     "output_type": "stream",
     "text": [
      "['daegu', 'seoul', 'incheon', 'suwon', 'busan', ['daejun'], 'jeju', 'kwangju']\n"
     ]
    }
   ],
   "source": [
    "#cities[5].remove(cities[5][1]) #지운다\n",
    "del(cities[5][1])\n",
    "print(cities)"
   ]
  },
  {
   "cell_type": "code",
   "execution_count": 112,
   "metadata": {},
   "outputs": [
    {
     "name": "stdout",
     "output_type": "stream",
     "text": [
      "['daegu', 'seoul', 'incheon', 'suwon', 'busan', 'jeju', 'kwangju']\n"
     ]
    }
   ],
   "source": [
    "cities.remove(cities[5])\n",
    "print(cities)"
   ]
  },
  {
   "cell_type": "code",
   "execution_count": null,
   "metadata": {},
   "outputs": [],
   "source": [
    "# 자료구조를 데이터 타입화\n",
    "#list   : 데이터의 앞뒤에 다음이나 이전 데이터의 주소가 저장\n",
    "#        : 메모리를 효율적으로 사용하고 삽입삭제를 용이하게 하기 위해서 사용하는 자료구조, 검색에서는 속도가 느림\n",
    "\n",
    "# dict : 키이값이 데이터가 저장되어지는 주소값으로 계산되는 hash  함수를 이용해 데이터 저장, 검색속도가 빠름\n",
    " # 데이터 주소값으로 변환되어지는 키이 : 데이터형식으로 저장됨\n",
    "# set # 키이만 저장 (중복불허) : 범주형 데이터의 종류를 확인 할 때 사용\n",
    "# tuple : list 와 동일한데 변경이 불가능함  (함수가 작음)ㅒ, 함수의 매개변수로 값을 전달하거나 여러개의 값을 리턴하고 싶을때 사용\n",
    "  #tuple 을 사용하는 이유 : 속도가 빠르다.  (python 에)"
   ]
  },
  {
   "cell_type": "code",
   "execution_count": 114,
   "metadata": {},
   "outputs": [
    {
     "name": "stdout",
     "output_type": "stream",
     "text": [
      "점수입력:100\n",
      "A\n"
     ]
    }
   ],
   "source": [
    "print('점수입력:',end='')    # print 출력하면 '\\n'로 끝난다. # '\\n' 이 의미하는 것은 enter 즉 end를 쓰면 옆으로 계속 출력된다. \n",
    "jumsu=int(input())\n",
    "if jumsu >=90: print('A')\n",
    "elif jumsu >= 80: print('B')  #list \n",
    "elif jumsu >=70: print('C')\n",
    "elif jumsu >=60 : print('D')\n",
    "else: print('F')\n"
   ]
  },
  {
   "cell_type": "code",
   "execution_count": 117,
   "metadata": {},
   "outputs": [
    {
     "name": "stdout",
     "output_type": "stream",
     "text": [
      "정수를 입력하시오BLUE\n",
      "정수를 입력하시오a\n",
      "구름\n"
     ]
    }
   ],
   "source": [
    "# \n",
    "#  다음 표 ( color 와 mode 에 따른 날씨) 를  if 문을 이용하여 출력하시요\n",
    "#                ( 반응에 따른 날씨 예측 프로그램)_\n",
    "#                            BLUE           RED\n",
    "#         STEADY            화창            비오는날\n",
    "#         FLASHING           구름           눈오는날\n",
    "\n",
    "color=input(\"정수를 입력하시오\")\n",
    "mode=input(\"정수를 입력하시오\")\n",
    "if color == 'BLUE':\n",
    "    if mode==\"STEADY\": print(\"화창\")\n",
    "    else: print(\"구름\")\n",
    "else:\n",
    "    if mode==\"STEADY\": print(\"비오는날\")\n",
    "    else: print(\"눈오는날\")"
   ]
  },
  {
   "cell_type": "code",
   "execution_count": 1,
   "metadata": {},
   "outputs": [
    {
     "name": "stdout",
     "output_type": "stream",
     "text": [
      "색입력(BLUE or RED):RED\n",
      "mode 입력 (STEADY or FLASHING): FLASHING\n",
      "예측된 날씨는 눈오는 날\n"
     ]
    }
   ],
   "source": [
    "#답\n",
    "color=input(\"색입력(BLUE or RED):\")\n",
    "mode=input(\"mode 입력 (STEADY or FLASHING): \")\n",
    "color = color.upper()\n",
    "mode = mode.upper()\n",
    "result = \"\"\n",
    "if color ==\"BLUE\":\n",
    "    if mode ==\"STEADY\":\n",
    "        result =\"화창한 날\"\n",
    "    else:\n",
    "        result =\"구름낀 날\"\n",
    "else:\n",
    "    if mode ==\"STEADY\":\n",
    "        result =\"비오는 날\"\n",
    "    else : \n",
    "        result = \"눈오는 날\"\n",
    "print(\"예측된 날씨는\", result)\n"
   ]
  },
  {
   "cell_type": "code",
   "execution_count": null,
   "metadata": {},
   "outputs": [],
   "source": [
    "# 수입(revenue)과 지출(costs)을 입력받다 순수입을 출력하는 프로그램을 작성하시오\n",
    "#       -제약조건 :소수점 이하 2자리까지 출력 (round)\n",
    "#                      :수입과 지출이 동일한 경우를 고려하시요 (손익분기점)\n",
    "#                      : 결과 출력시 경우에 따라 순수익, 순손실도 같이 출력하도록 하시요 "
   ]
  },
  {
   "cell_type": "code",
   "execution_count": 1,
   "metadata": {},
   "outputs": [
    {
     "name": "stdout",
     "output_type": "stream",
     "text": [
      "총비용을 입력하시오30\n",
      "총수익을 입력하시오30\n",
      "손익분기점입니다.\n"
     ]
    }
   ],
   "source": [
    "#평균 , 분산, 표준편차, 표준오차(데이터개수의 root 값으로 나누어서\n",
    " # 분산 : 관측치- 평균 \n",
    "\n",
    "#for 문 : \n",
    "costs=eval(input(\"총비용을 입력하시오\"))\n",
    "revenue=eval(input(\"총수익을 입력하시오\"))\n",
    "if costs == revenue:\n",
    "    result = \"손익분기점입니다.\"\n",
    "else:\n",
    "    if costs < revenue:\n",
    "        profit = revenue -costs\n",
    "        result = \"순수익 = {0: ,.2f}.\".format(round(profit,2)) # 포멧문자열\n",
    "    else:        \n",
    "        loss = costs-revenue\n",
    "        result = \"순손실 = {0:,.2f}.\".format(round(loss,2))\n",
    "print(result)"
   ]
  },
  {
   "cell_type": "code",
   "execution_count": null,
   "metadata": {},
   "outputs": [],
   "source": [
    "#0:, 는 0부터 끝까지 본다.  2f 는 소수점2째자리까지 표현해라 를 의미한다.  round 는 반올림\n",
    "# {}.format(profit) ===> 즉 profit 값이 여러개든 한개든 모두 소숫점 2째자리까지 표현한다는 뜻 ->> round 를 쓴건 그걸 반올림한다는 것"
   ]
  }
 ],
 "metadata": {
  "kernelspec": {
   "display_name": "Python 3",
   "language": "python",
   "name": "python3"
  },
  "language_info": {
   "codemirror_mode": {
    "name": "ipython",
    "version": 3
   },
   "file_extension": ".py",
   "mimetype": "text/x-python",
   "name": "python",
   "nbconvert_exporter": "python",
   "pygments_lexer": "ipython3",
   "version": "3.7.4"
  }
 },
 "nbformat": 4,
 "nbformat_minor": 2
}
