{
 "cells": [
  {
   "cell_type": "code",
   "execution_count": null,
   "metadata": {},
   "outputs": [],
   "source": [
    "#model select -> crossvalidation 을 통해 모델 검증해주자\n",
    "#feature select ->  변수, 특성 선택 -> 변수제거하는 방법으로 RFE  를 했다!! \n",
    "#feature extraction -> 이미지 특징 추출, 텍스트 특징 추출   (manifold 의 대표적인 것 : MDS )"
   ]
  },
  {
   "cell_type": "code",
   "execution_count": null,
   "metadata": {},
   "outputs": [],
   "source": [
    "# preprocessing -> learning- > model -> predict service   ( learning 하면서도 predict 는 계속 이루어진다 ) \n",
    "\n",
    "###learning  : ex ) boston 집값은 500x30 으로 데이터가 들어왔다. \n",
    "#           여기에 30x1 가중치(=변환기=transform=특징추출)를 곱하면 결과가 500x1 이 된다 \n",
    "#          500x300 일때 500x1 로 줄이면 손실되는 정보가 많다--> multi rayer 로 보안한다!! (= 500x300 에 300x100 을 하고 그다음 100x1 을 곱한다 ) \n",
    "\n",
    "# 차원확대를 할때도 있다 -> SVC 는 차원확대를 좋아한다 (차원확대할때 중요한 것 : kunnel ) \n",
    "\n",
    "\n",
    "### 활성화함수 ( 매핑시키는 역할 , identity와 sigmoid, softmax 를 이용해서 매핑시킨다 , sigmoid 는 0~1사이로 매핑시킨다 즉 확률값으로 매핑하는것이므로 분류가 된다 identity 는 가중치를 곱해서 나온값 그대로 내보내므로  회귀가 된다 , softmax 는 클래스가 여러개일때 쓴다 )  를 통과한다 \n",
    "### activation function=활성화함수=분류나 회귀(예측) 인지 결정한다 -> scikits 에서는MLP Regression , MLP classifier 함수가 존재한다. (이미무엇인지 결정되어있다) -> tensorflow 에서는 직접 정해야함 \n",
    "\n",
    "# learning rate : 학습률 (우리가 직접하는 것이 아니다 . solver 가 해준다 ) \n",
    "####learning rate 와 가중치를 계산하는 방법에 따라 solver 여러가지있다 ->  sgd (stock cast gradian descent ,배치학습아니고 일부분씩 잘라서 조금씩 조절하게 되면 지역해로 넘어갈수도 있고 속도가 빨라진다 ) , adam ( learningrate 와 가중치를 조절할 수 있다 , 지역해를 넘어서기 위해서 가던방향으로 계속 가보자. momentum 의 개념?? )\n",
    "####---> 우리는 어떤 solver 를 선택할것인지, learning rate 를 얼마로 줄지만 결정하면 된다\n",
    "\n",
    "\n",
    "#과정이름  순전파(yhat 을 만드는것, 순서대로 진행된다고 보기 ) / 역전파(가중치를 조절하는것) 개념"
   ]
  },
  {
   "cell_type": "code",
   "execution_count": null,
   "metadata": {},
   "outputs": [],
   "source": [
    "# 4차 산업혁명 : IOT , BigData, AI, AR/VR/MR , (금융으로 넘어간것)fintech -> (보안으로 넘어가서) blockchain , \n",
    "#               AI + IOT = AIOT ( 신경망 )  "
   ]
  },
  {
   "cell_type": "code",
   "execution_count": null,
   "metadata": {},
   "outputs": [],
   "source": [
    "# 신경망을 잘 만들수 있는 것 : tensorflow  (망과 망을 연결해서 우리 마음대로 모델을 만들 수 있다 ) "
   ]
  },
  {
   "cell_type": "code",
   "execution_count": null,
   "metadata": {},
   "outputs": [],
   "source": [
    "# 오늘 배우는 것 : ANN ( FFNN : feed forward neural network 라고도 한다 )  -> scikits 에서 모델을 만든 것이 MLD ( multi-layer perceptron )  "
   ]
  },
  {
   "cell_type": "code",
   "execution_count": null,
   "metadata": {},
   "outputs": [],
   "source": [
    "# multi layer 을 달다보니까 기울기가 소멸된다   ---> LSTM  : 소멸되는 기울기를 기억해서 방지해준다 \n",
    "\n",
    "# MLD 도 지도학습, 비지도학습있다 . \n",
    "\n",
    "# 신경망 : 전처리 특히 정규화를 해주지 않으면 잘 작동하지 않고 발산하게 된다 ( 신경망의 경우 전처리에서 정규화는 필수!! ) "
   ]
  },
  {
   "cell_type": "code",
   "execution_count": null,
   "metadata": {},
   "outputs": [],
   "source": []
  },
  {
   "cell_type": "code",
   "execution_count": 5,
   "metadata": {},
   "outputs": [],
   "source": [
    "%matplotlib inline \n",
    "#위는 쥬피터 에서 쓰는 것\n",
    "import matplotlib.pyplot as plt # 시각화 할때 쓰는 패키지\n",
    "import mglearn  # 학습 도움을 위해서 만든 패키지\n",
    "from sklearn.neural_network import MLPClassifier # neural_network 안에 MLP classifier 가 있다!! MLP Regressor 도 있다 \n",
    "\n",
    "# MLP : multi layer perceptron : FFNN (Feed forward neural network)\n",
    "# forward propagation : 순전파 (순전파과정은 예측분류 과정이다, 가중치random 하게 초기화되어있어서 모르니까 학습을 해준다. 역전파를 통해 학습을 한다 ) \n",
    "# backward propagation : 역전파 (가중치를 학습하는 과정이다--> cost function 의 기울기와 learning rate 를 이용해서 학습한다 ) \n",
    "### 역전파하는 과정을 담당하는 것이 solver !!! (estimator, transformer 의 solver ?! 무슨말인지 모르곘다  )\n",
    "#### solver = 미분하고 learning rate 를 조절하는 역할을 하는 것이다, 그리고 가중치를 조절하는 역핟로 한다 \n",
    "\n",
    "# 랜덤하게 사이즈를 채운 후 , 행렬제곱을 하면 정방행렬이면서 대칭행렬인 행렬이 만들어진다 \n",
    "# 그리고 만들어진 행렬에 고유값분해를 하면 고유치와 고유벡터가 얻어진다 ( 정직교하는 벡터가 만들어지는데 이걸 MDS 행렬에 곱해서 특징을 추출) \n",
    "# 어제 배운 MDS 행렬곱 ( 직교하는 2,3차원을 곱해주면 변환이 된다 )--> 그래서 MDS 는 2차원이나 3차원의 특징을 추출하는데 도움을 준다  \n",
    "\n",
    "from sklearn.datasets import make_moons\n",
    "from sklearn.model_selection import train_test_split\n",
    "X, y = make_moons(n_samples=100, noise=0.25, random_state=3)  # make_moons -> 반달모양으로 데이터를 만든다 (교육용으로 데이터 만듬x,y 만들어짐)"
   ]
  },
  {
   "cell_type": "code",
   "execution_count": 9,
   "metadata": {},
   "outputs": [
    {
     "name": "stderr",
     "output_type": "stream",
     "text": [
      "C:\\Users\\ICT01_09\\Anaconda3\\lib\\site-packages\\sklearn\\neural_network\\multilayer_perceptron.py:566: ConvergenceWarning: Stochastic Optimizer: Maximum iterations (200) reached and the optimization hasn't converged yet.\n",
      "  % self.max_iter, ConvergenceWarning)\n"
     ]
    },
    {
     "data": {
      "text/plain": [
       "Text(0, 0.5, '특성1')"
      ]
     },
     "execution_count": 9,
     "metadata": {},
     "output_type": "execute_result"
    },
    {
     "name": "stderr",
     "output_type": "stream",
     "text": [
      "C:\\Users\\ICT01_09\\Anaconda3\\lib\\site-packages\\matplotlib\\backends\\backend_agg.py:211: RuntimeWarning: Glyph 53945 missing from current font.\n",
      "  font.set_text(s, 0.0, flags=flags)\n",
      "C:\\Users\\ICT01_09\\Anaconda3\\lib\\site-packages\\matplotlib\\backends\\backend_agg.py:211: RuntimeWarning: Glyph 49457 missing from current font.\n",
      "  font.set_text(s, 0.0, flags=flags)\n",
      "C:\\Users\\ICT01_09\\Anaconda3\\lib\\site-packages\\matplotlib\\backends\\backend_agg.py:180: RuntimeWarning: Glyph 53945 missing from current font.\n",
      "  font.set_text(s, 0, flags=flags)\n",
      "C:\\Users\\ICT01_09\\Anaconda3\\lib\\site-packages\\matplotlib\\backends\\backend_agg.py:180: RuntimeWarning: Glyph 49457 missing from current font.\n",
      "  font.set_text(s, 0, flags=flags)\n"
     ]
    },
    {
     "data": {
      "image/png": "[encoded data removed]",
      "text/plain": [
       "<Figure size 432x288 with 1 Axes>"
      ]
     },
     "metadata": {},
     "output_type": "display_data"
    }
   ],
   "source": [
    "# stratify : 층화변수선택법 ( 무작위로 뽑는것이 아니라 y 값의 비율을 0.75, 0.25 로 나눠서 하는 것 )\n",
    "\n",
    "X_train, X_test, y_train, y_test = train_test_split(X,y, stratify=y, random_state = 42)\n",
    "\n",
    "# multi layer 을 쓰는 이유 :  문제를 해결한다, 레이어가 많으면 정밀도가 자동으로 높아진다 \n",
    "mlp = MLPClassifier(random_state=0).fit(X_train, y_train)   # 피팅한 데이터에 적합하게 가중치가 완성이 된다 \n",
    "# 우리가 레이어에 대해 지정한 것은 없다 -> 이럴땐 자동으로 MLPClassifier 가 가중치 레이어 사이즈를 결정한다 (tensorflow 가면 우리가 줘야한다) \n",
    "\n",
    "mglearn.plots.plot_2d_separator(mlp, X_train, fill=True, alpha=.3) # 점들을 다 넣어보라는 것 , fill=true는 색을 채우라는것\n",
    "mglearn.discrete_scatter(X_train[:,0],X_train[:,1], y_train)       \n",
    "plt.xlabel(\"특성0\")\n",
    "plt.ylabel(\"특성1\")"
   ]
  },
  {
   "cell_type": "code",
   "execution_count": 10,
   "metadata": {},
   "outputs": [
    {
     "data": {
      "text/plain": [
       "{'activation': 'relu',\n",
       " 'alpha': 0.0001,\n",
       " 'batch_size': 'auto',\n",
       " 'beta_1': 0.9,\n",
       " 'beta_2': 0.999,\n",
       " 'early_stopping': False,\n",
       " 'epsilon': 1e-08,\n",
       " 'hidden_layer_sizes': (100,),\n",
       " 'learning_rate': 'constant',\n",
       " 'learning_rate_init': 0.001,\n",
       " 'max_iter': 200,\n",
       " 'momentum': 0.9,\n",
       " 'n_iter_no_change': 10,\n",
       " 'nesterovs_momentum': True,\n",
       " 'power_t': 0.5,\n",
       " 'random_state': 0,\n",
       " 'shuffle': True,\n",
       " 'solver': 'adam',\n",
       " 'tol': 0.0001,\n",
       " 'validation_fraction': 0.1,\n",
       " 'verbose': False,\n",
       " 'warm_start': False}"
      ]
     },
     "execution_count": 10,
     "metadata": {},
     "output_type": "execute_result"
    }
   ],
   "source": [
    "mlp.get_params()  # 매개변수값이 출력된다 .우리가 mlp 만들때 random_state 만 지정해줬다. 나머지는 전부 디폴트 매개변수이다\n",
    "#relu : 0이하를 제거한 활성화 함수이다 ( 이 activation function 을 쓰면 속도가 빨라진다 ) \n",
    "# learning_rate 도 출력이 된다 (constant 로 변하지 않는다는 뜻이다)\n",
    "# learning_rate_init : 0.001 로 초기화되어있다\n",
    "# max_iter : 반복회수 ( 1회 반복하는 것을 epoch 라고 한다 ) \n",
    "\n",
    "# solver 로 adam 이 쓰이고 있다  (adam 은 learning-rate 를 조절하고, Momentum 을 사용하는 optimizer(=최적화기) 이다 . solver 라고 할수도 있고, optimizer 라고 할 수도 있다 ) \n"
   ]
  },
  {
   "cell_type": "code",
   "execution_count": 13,
   "metadata": {},
   "outputs": [
    {
     "data": {
      "text/plain": [
       "3"
      ]
     },
     "execution_count": 13,
     "metadata": {},
     "output_type": "execute_result"
    }
   ],
   "source": [
    "mlp.n_layers_  "
   ]
  },
  {
   "cell_type": "code",
   "execution_count": 19,
   "metadata": {},
   "outputs": [
    {
     "data": {
      "text/plain": [
       "[array([[ 1.96423650e-01,  1.86414048e-01,  2.73074871e-02,\n",
       "          1.32154297e-01, -9.48047217e-05,  2.82807555e-03,\n",
       "         -7.29479240e-02,  1.45878653e-01,  2.97837159e-01,\n",
       "         -1.12611776e-01,  2.34714552e-01,  1.30702586e-01,\n",
       "         -2.85623212e-02,  1.12399918e-01, -1.71442282e-01,\n",
       "         -3.24829063e-01, -3.85153290e-01,  2.38832765e-01,\n",
       "          2.13193712e-01,  2.63746115e-01,  1.70653255e-01,\n",
       "          7.41106685e-02,  1.04573476e-01,  6.73150355e-02,\n",
       "         -3.77696555e-01,  1.10071889e-01,  4.88102808e-03,\n",
       "          3.03409150e-01, -6.64267214e-02, -1.08723630e-01,\n",
       "         -2.67443736e-01,  2.19702964e-01, -9.77933350e-02,\n",
       "          3.95350833e-05, -1.67873856e-01,  1.32818304e-01,\n",
       "          2.23922646e-02, -1.13671191e-02,  2.94106612e-01,\n",
       "          3.48486041e-02, -1.28573692e-01, -1.62111791e-05,\n",
       "          1.34093216e-01, -3.48957410e-01,  1.73951614e-01,\n",
       "          2.50280090e-02, -3.77490782e-01, -3.22208104e-01,\n",
       "         -8.09493846e-02, -4.14861544e-02,  1.76672050e-01,\n",
       "         -9.21001914e-02,  2.21774574e-01, -1.48112358e-01,\n",
       "          5.77944904e-03, -1.30543710e-01,  1.44098820e-02,\n",
       "         -2.49587499e-01, -7.93067419e-02, -6.79805570e-02,\n",
       "         -3.06594354e-01, -1.65532265e-01,  3.73325038e-03,\n",
       "         -1.57036829e-01, -1.06700038e-01, -1.21604912e-01,\n",
       "          2.64529903e-01, -3.64314761e-01,  2.61796638e-01,\n",
       "         -1.32786078e-01,  3.19718175e-01, -7.28975836e-02,\n",
       "          3.12328622e-01,  1.47669323e-01,  8.71731889e-02,\n",
       "         -3.41836388e-01,  6.73800845e-04, -1.60403151e-01,\n",
       "         -6.93240437e-02, -2.07438408e-02, -5.32717961e-02,\n",
       "         -1.03671704e-01, -1.00347616e-01,  8.04972189e-03,\n",
       "          7.16681013e-02, -1.53493682e-02,  1.05625531e-01,\n",
       "         -3.39522477e-01,  9.38858858e-02,  1.67392956e-01,\n",
       "         -2.51517884e-01,  6.74628420e-02, -2.98746672e-01,\n",
       "          2.10531162e-01, -4.01824728e-02, -1.23725711e-01,\n",
       "          2.15077228e-04, -3.64948438e-01,  8.37942720e-02,\n",
       "         -2.07215780e-01],\n",
       "        [-7.60539476e-02, -2.94113409e-01,  2.95912661e-01,\n",
       "          3.81733181e-01, -1.88516163e-02,  9.31453472e-05,\n",
       "          1.90915690e-01,  1.64374879e-01, -3.21044672e-01,\n",
       "          3.59057766e-01, -1.75883158e-01,  3.36985074e-01,\n",
       "          2.38562896e-01, -7.41039697e-02,  1.21119451e-01,\n",
       "          4.48507925e-02,  3.27708543e-01, -1.72943309e-01,\n",
       "          3.92953787e-02, -5.83962499e-02,  2.34262388e-01,\n",
       "          1.18204938e-01,  3.66152864e-01,  1.96128084e-01,\n",
       "          9.11923320e-02, -9.44989334e-02, -4.19878499e-01,\n",
       "         -3.04406806e-01,  2.38341421e-01, -3.52504596e-02,\n",
       "          1.88539119e-01, -2.18020378e-01, -1.20597429e-01,\n",
       "         -9.44812099e-03, -4.38742952e-03, -1.40422272e-01,\n",
       "          4.70957982e-02,  2.67191856e-01, -1.22919932e-01,\n",
       "          9.79228414e-02,  3.59360073e-01, -1.87784860e-03,\n",
       "         -2.36103204e-01,  3.01733991e-01, -4.60232845e-03,\n",
       "          2.69774043e-01, -2.80988596e-02,  3.31646014e-01,\n",
       "          9.70500593e-02,  1.46960722e-01, -3.98052539e-01,\n",
       "          3.16938676e-01, -2.93138299e-01,  2.66617882e-01,\n",
       "         -4.06271226e-01,  1.35316544e-01,  3.10334096e-01,\n",
       "          1.50706351e-01,  9.78145556e-02, -1.49034964e-01,\n",
       "          2.14822173e-01, -2.52503624e-02,  1.29310519e-02,\n",
       "          3.64123844e-01,  1.40525858e-01,  3.67848240e-01,\n",
       "         -4.68457522e-01,  5.36433351e-02, -5.62770750e-02,\n",
       "         -2.03098399e-01, -1.44080018e-01, -1.49548247e-01,\n",
       "         -3.45496464e-01, -4.15441633e-01,  3.31472567e-01,\n",
       "         -5.77972896e-02, -2.35968440e-01,  1.06031806e-01,\n",
       "          2.92250921e-01, -4.48263171e-01, -1.27481305e-01,\n",
       "          2.50881503e-01, -4.43559616e-02, -2.13114804e-02,\n",
       "          1.24201092e-01,  9.43739998e-04, -1.35507487e-01,\n",
       "          1.43875434e-01,  3.72651794e-02, -1.07007386e-01,\n",
       "          9.51395014e-02, -1.27514829e-01, -5.78077511e-02,\n",
       "          1.03959368e-01,  2.67122378e-01, -2.31526542e-02,\n",
       "         -2.38078100e-02, -2.37528836e-02, -7.90028156e-02,\n",
       "          1.23066570e-01]]), array([[ 4.41575952e-01],\n",
       "        [ 2.66608399e-01],\n",
       "        [-2.76700384e-01],\n",
       "        [-4.05660754e-01],\n",
       "        [-3.32450597e-04],\n",
       "        [-2.29615593e-02],\n",
       "        [-3.26467959e-01],\n",
       "        [-2.29331081e-01],\n",
       "        [ 2.31425537e-01],\n",
       "        [-3.69746219e-01],\n",
       "        [ 2.53856284e-01],\n",
       "        [-3.92523291e-01],\n",
       "        [-3.79664677e-01],\n",
       "        [-1.39381376e-01],\n",
       "        [ 5.62828712e-02],\n",
       "        [-2.47033750e-01],\n",
       "        [-1.71740481e-01],\n",
       "        [ 1.57089463e-01],\n",
       "        [ 2.74675250e-01],\n",
       "        [ 2.22545222e-01],\n",
       "        [-1.29959120e-01],\n",
       "        [-1.39412677e-01],\n",
       "        [-3.95189254e-01],\n",
       "        [-1.20065288e-01],\n",
       "        [-3.43362933e-01],\n",
       "        [ 9.10878252e-02],\n",
       "        [ 3.15286222e-01],\n",
       "        [ 2.24732992e-01],\n",
       "        [-2.62541719e-01],\n",
       "        [-5.60671656e-02],\n",
       "        [-3.51639334e-01],\n",
       "        [ 2.93838917e-01],\n",
       "        [-2.42306707e-01],\n",
       "        [ 8.86709456e-03],\n",
       "        [ 8.76170170e-02],\n",
       "        [ 3.19110689e-01],\n",
       "        [-9.05925150e-02],\n",
       "        [-2.53440881e-01],\n",
       "        [ 1.40733958e-01],\n",
       "        [-9.72914750e-02],\n",
       "        [-1.94457378e-01],\n",
       "        [-3.20809942e-02],\n",
       "        [ 1.35759858e-01],\n",
       "        [-3.73912440e-01],\n",
       "        [ 3.09381023e-01],\n",
       "        [-3.98889384e-01],\n",
       "        [-2.41205448e-01],\n",
       "        [-2.43275657e-01],\n",
       "        [ 2.51438990e-02],\n",
       "        [ 1.55003367e-01],\n",
       "        [ 2.88381464e-01],\n",
       "        [-3.68229530e-01],\n",
       "        [ 7.10936743e-02],\n",
       "        [-1.21347044e-01],\n",
       "        [ 2.28784997e-01],\n",
       "        [ 6.05716984e-02],\n",
       "        [-2.94266659e-01],\n",
       "        [-2.99448969e-01],\n",
       "        [-8.14959761e-02],\n",
       "        [ 1.79729484e-01],\n",
       "        [-3.21411274e-01],\n",
       "        [ 1.77387667e-01],\n",
       "        [-7.78041328e-06],\n",
       "        [-1.41014825e-01],\n",
       "        [ 1.01592630e-01],\n",
       "        [-1.55086605e-01],\n",
       "        [ 2.65392807e-01],\n",
       "        [-1.87093754e-01],\n",
       "        [ 3.55609539e-01],\n",
       "        [-6.08484859e-03],\n",
       "        [ 2.08029492e-01],\n",
       "        [ 1.78467676e-02],\n",
       "        [ 2.49438320e-01],\n",
       "        [ 2.04514362e-01],\n",
       "        [-3.25745924e-01],\n",
       "        [-3.07162242e-01],\n",
       "        [ 3.59134895e-01],\n",
       "        [ 1.44709429e-01],\n",
       "        [-1.60470805e-01],\n",
       "        [ 2.75007372e-01],\n",
       "        [ 1.47135667e-01],\n",
       "        [-1.72259603e-01],\n",
       "        [ 1.37875288e-01],\n",
       "        [ 9.28637396e-05],\n",
       "        [ 1.03707204e-01],\n",
       "        [ 6.55948635e-02],\n",
       "        [ 3.19398224e-01],\n",
       "        [-2.94485057e-01],\n",
       "        [ 6.88057971e-02],\n",
       "        [ 2.83915088e-02],\n",
       "        [-4.16221834e-01],\n",
       "        [-2.47831958e-02],\n",
       "        [-2.79461085e-01],\n",
       "        [ 2.97709709e-01],\n",
       "        [-3.70726216e-01],\n",
       "        [ 2.00252889e-01],\n",
       "        [-2.78460984e-03],\n",
       "        [-2.01823875e-01],\n",
       "        [-1.45803911e-01],\n",
       "        [-2.40875639e-01]])]"
      ]
     },
     "execution_count": 19,
     "metadata": {},
     "output_type": "execute_result"
    }
   ],
   "source": [
    "mlp.coefs_ # coefficient\n",
    "# bias : 계수들이 0으로 가는 것을 방지해서 처음에 1로 세팅을 한다"
   ]
  },
  {
   "cell_type": "code",
   "execution_count": 20,
   "metadata": {},
   "outputs": [
    {
     "data": {
      "text/plain": [
       "array([0, 1], dtype=int64)"
      ]
     },
     "execution_count": 20,
     "metadata": {},
     "output_type": "execute_result"
    }
   ],
   "source": [
    "mlp.classes_"
   ]
  },
  {
   "cell_type": "code",
   "execution_count": 22,
   "metadata": {},
   "outputs": [
    {
     "data": {
      "text/plain": [
       "1"
      ]
     },
     "execution_count": 22,
     "metadata": {},
     "output_type": "execute_result"
    }
   ],
   "source": [
    "mlp.n_outputs_"
   ]
  },
  {
   "cell_type": "code",
   "execution_count": 31,
   "metadata": {},
   "outputs": [
    {
     "data": {
      "text/plain": [
       "Text(0, 0.5, '특성1')"
      ]
     },
     "execution_count": 31,
     "metadata": {},
     "output_type": "execute_result"
    },
    {
     "name": "stderr",
     "output_type": "stream",
     "text": [
      "C:\\Users\\ICT01_09\\Anaconda3\\lib\\site-packages\\matplotlib\\backends\\backend_agg.py:211: RuntimeWarning: Glyph 53945 missing from current font.\n",
      "  font.set_text(s, 0.0, flags=flags)\n",
      "C:\\Users\\ICT01_09\\Anaconda3\\lib\\site-packages\\matplotlib\\backends\\backend_agg.py:211: RuntimeWarning: Glyph 49457 missing from current font.\n",
      "  font.set_text(s, 0.0, flags=flags)\n",
      "C:\\Users\\ICT01_09\\Anaconda3\\lib\\site-packages\\matplotlib\\backends\\backend_agg.py:180: RuntimeWarning: Glyph 53945 missing from current font.\n",
      "  font.set_text(s, 0, flags=flags)\n",
      "C:\\Users\\ICT01_09\\Anaconda3\\lib\\site-packages\\matplotlib\\backends\\backend_agg.py:180: RuntimeWarning: Glyph 49457 missing from current font.\n",
      "  font.set_text(s, 0, flags=flags)\n"
     ]
    },
    {
     "data": {
      "image/png": "[encoded data removed]",
      "text/plain": [
       "<Figure size 432x288 with 1 Axes>"
      ]
     },
     "metadata": {},
     "output_type": "display_data"
    }
   ],
   "source": [
    "# solver 를 바꿨을떄? \n",
    "mlp = MLPClassifier(solver= 'lbfgs', random_state= 0, hidden_layer_sizes=[10,10])\n",
    "\n",
    "  # 히든레이어 사이즈 지정시 무엇을 지정하는가? 10x10의 앞자리 10 처럼 출력차수만 지정해주면 된다(=추출할 특징수) -> 밑에보면 2x10 이 만들어지고, 10x10 이 만들어진다  \n",
    "  # 그리고 레이어가 10개 이상주면 기울기소실문제가 발생한다  \n",
    "\n",
    "mlp.fit(X_train, y_train)\n",
    "mglearn.plots.plot_2d_separator(mlp, X_train, fill=True, alpha=.3) # 점들을 다 넣어보라는 것 , fill=true는 색을 채우라는것\n",
    "mglearn.discrete_scatter(X_train[:,0],X_train[:,1], y_train)       \n",
    "plt.xlabel(\"특성0\")\n",
    "plt.ylabel(\"특성1\")\n",
    "\n",
    "# solver 가 바뀌고 아래 그림을 보면 과적합되고 있는 것을 확인해볼수있다"
   ]
  },
  {
   "cell_type": "code",
   "execution_count": 32,
   "metadata": {},
   "outputs": [
    {
     "data": {
      "text/plain": [
       "[array([[-0.15855127,  1.65408267, -0.74007897, -3.95416422, -0.1076738 ,\n",
       "          7.37539571, -0.08802416,  9.81913382,  7.99356564,  0.25296731],\n",
       "        [-1.40130717,  1.17896331,  4.7764105 , -1.35478871, -0.60499122,\n",
       "         -3.93952976, -0.67666214,  0.47959084,  0.40007515, -0.46719005]]),\n",
       " array([[-2.57212608e-01,  2.54649014e-01, -1.14412726e+00,\n",
       "          1.00730872e+00, -5.41076910e-01, -5.93907060e-01,\n",
       "          3.78895783e-01,  7.68311646e-02, -2.08326606e+00,\n",
       "          4.07711948e+00],\n",
       "        [-1.53481421e-01, -6.77908766e-02, -4.28876578e-01,\n",
       "         -1.27504242e-01,  1.82185280e-01,  4.66638824e-01,\n",
       "         -1.69792897e+00, -4.13108923e-01, -6.64731654e-01,\n",
       "          3.06872837e+00],\n",
       "        [ 7.66868751e-02, -6.58955426e-02,  1.70524181e+00,\n",
       "         -7.43717100e-01, -3.18039302e-01, -5.11723931e-01,\n",
       "          1.60457073e+00, -2.69518041e-01,  1.28711884e-01,\n",
       "         -7.33164618e-01],\n",
       "        [-3.72560686e-01, -4.43794280e-01,  1.33587069e+00,\n",
       "         -9.62160493e-01, -3.43702248e-01, -2.77560866e+00,\n",
       "          8.38735335e-01, -4.45748053e-01,  6.27962645e-01,\n",
       "          2.29176261e+00],\n",
       "        [ 5.20510947e-01, -3.42471793e-02,  5.20840457e-01,\n",
       "          1.14539105e-01,  2.61384906e-01, -5.03417009e-01,\n",
       "         -2.37273812e-01, -4.14918503e-01, -2.22707841e-01,\n",
       "         -4.16523148e-01],\n",
       "        [-1.98845347e-01, -1.04991505e-01, -1.17925456e+00,\n",
       "          1.59150925e+00, -1.22850411e-01,  2.02523573e-01,\n",
       "         -1.18110225e+00, -4.64099890e-01,  2.10702448e+00,\n",
       "          2.80257381e+00],\n",
       "        [-1.98205416e-01,  1.82888455e-01, -4.02244593e-01,\n",
       "          2.36327928e-01, -2.30064553e-01, -3.46099462e-01,\n",
       "          9.45115649e-02, -5.24261336e-01,  3.59352471e-01,\n",
       "         -5.41098343e-01],\n",
       "        [ 1.94256722e-01, -2.72257874e-01, -2.14012907e+00,\n",
       "          1.80599630e+00, -3.18388449e-01,  1.10513174e+00,\n",
       "         -2.33583598e+00,  7.89320198e-02, -4.57368999e+00,\n",
       "          8.41030766e+00],\n",
       "        [-5.77631914e-02,  3.63403314e-01,  4.64614545e+00,\n",
       "         -1.41837197e+00,  3.42810275e-01,  1.00008419e+00,\n",
       "          8.12705283e+00,  8.87870281e-02,  4.70063610e+00,\n",
       "         -1.07241148e+01],\n",
       "        [ 2.46080364e-01,  1.44682883e-03,  6.14022358e-01,\n",
       "          1.57302941e-01, -8.31850004e-02, -4.06430985e-01,\n",
       "          4.76967791e-01, -2.16770760e-01, -4.08127231e-01,\n",
       "         -1.10809279e+00]]),\n",
       " array([[ 0.58413979],\n",
       "        [-0.18611463],\n",
       "        [-3.9913987 ],\n",
       "        [ 2.26147951],\n",
       "        [ 0.43064842],\n",
       "        [ 1.96698676],\n",
       "        [-3.30768214],\n",
       "        [ 0.60082861],\n",
       "        [-9.72816176],\n",
       "        [ 3.57316429]])]"
      ]
     },
     "execution_count": 32,
     "metadata": {},
     "output_type": "execute_result"
    }
   ],
   "source": [
    "mlp.coefs_\n",
    "#2 x 10 으로 나온다  (  bias=10)   \n",
    "# 아까는 1개였는데 지금은 layer 가 2개! (첫번쨰 array 를 봤을때 2x10 이다, ) \n",
    "\n",
    "\n",
    "# 처음에 x, y 좌표로 했으니까 2 , hidden_layer_sizes=[10,10] 으로 했었음  \n",
    "\n",
    "#변수는 2x10  , 10x10  ->  10으로 나감 \n",
    "\n"
   ]
  },
  {
   "cell_type": "code",
   "execution_count": 33,
   "metadata": {},
   "outputs": [
    {
     "data": {
      "text/plain": [
       "Text(0, 0.5, '특성1')"
      ]
     },
     "execution_count": 33,
     "metadata": {},
     "output_type": "execute_result"
    },
    {
     "name": "stderr",
     "output_type": "stream",
     "text": [
      "C:\\Users\\ICT01_09\\Anaconda3\\lib\\site-packages\\matplotlib\\backends\\backend_agg.py:211: RuntimeWarning: Glyph 53945 missing from current font.\n",
      "  font.set_text(s, 0.0, flags=flags)\n",
      "C:\\Users\\ICT01_09\\Anaconda3\\lib\\site-packages\\matplotlib\\backends\\backend_agg.py:211: RuntimeWarning: Glyph 49457 missing from current font.\n",
      "  font.set_text(s, 0.0, flags=flags)\n",
      "C:\\Users\\ICT01_09\\Anaconda3\\lib\\site-packages\\matplotlib\\backends\\backend_agg.py:180: RuntimeWarning: Glyph 53945 missing from current font.\n",
      "  font.set_text(s, 0, flags=flags)\n",
      "C:\\Users\\ICT01_09\\Anaconda3\\lib\\site-packages\\matplotlib\\backends\\backend_agg.py:180: RuntimeWarning: Glyph 49457 missing from current font.\n",
      "  font.set_text(s, 0, flags=flags)\n"
     ]
    },
    {
     "data": {
      "image/png": "[encoded data removed]",
      "text/plain": [
       "<Figure size 432x288 with 1 Axes>"
      ]
     },
     "metadata": {},
     "output_type": "display_data"
    }
   ],
   "source": [
    "# 5x10 으로 바꾸면?\n",
    "mlp = MLPClassifier(solver= 'lbfgs', random_state= 0, hidden_layer_sizes=[5,10])\n",
    "\n",
    "\n",
    "mlp.fit(X_train, y_train)\n",
    "mglearn.plots.plot_2d_separator(mlp, X_train, fill=True, alpha=.3) \n",
    "mglearn.discrete_scatter(X_train[:,0],X_train[:,1], y_train)       \n",
    "plt.xlabel(\"특성0\")\n",
    "plt.ylabel(\"특성1\")"
   ]
  },
  {
   "cell_type": "code",
   "execution_count": 34,
   "metadata": {},
   "outputs": [
    {
     "data": {
      "text/plain": [
       "[array([[  9.58312525,   8.01326616,   6.38324831, -13.90108441,\n",
       "          -0.14108705],\n",
       "        [ -0.15831136,   3.390681  ,   2.98670712,  -1.16530986,\n",
       "          -0.21540178]]),\n",
       " array([[-1.02891626, -2.33889475,  2.12972828,  0.52897872,  2.23957507,\n",
       "          1.41874928,  0.148644  ,  0.34437075,  7.28226381, -0.48186345],\n",
       "        [-0.81302935, -0.46973462, -0.01110334, -0.25503688, -0.09567239,\n",
       "          1.07167377,  2.44161204,  0.06323068,  3.11978885, -0.63798754],\n",
       "        [-0.40855756, -1.01425374,  1.89146083,  0.85156843,  2.19939312,\n",
       "          1.2517127 , -2.10707856,  0.65408844,  1.40739894,  0.20930688],\n",
       "        [-0.68852893,  2.66493476, -1.5262621 ,  0.33742273, -3.40176253,\n",
       "         -2.50208501, -0.81709543,  3.96204422,  0.37740612, -0.58969023],\n",
       "        [-0.4275745 ,  0.19328921, -0.31145316, -0.04253044, -0.32264591,\n",
       "         -0.43052851, -0.49187581,  0.19735584, -0.45677027, -0.38304485]]),\n",
       " array([[-0.65227553],\n",
       "        [-3.54750216],\n",
       "        [-3.3272718 ],\n",
       "        [-0.47156222],\n",
       "        [-5.51170552],\n",
       "        [-3.49753811],\n",
       "        [ 3.78846162],\n",
       "        [-8.68304399],\n",
       "        [ 4.77606664],\n",
       "        [-0.69262983]])]"
      ]
     },
     "execution_count": 34,
     "metadata": {},
     "output_type": "execute_result"
    }
   ],
   "source": [
    "mlp.coefs_   # 5,10 으로 바꾸면    ->  2x5  5x10 으로 바뀐다 "
   ]
  },
  {
   "cell_type": "code",
   "execution_count": 35,
   "metadata": {},
   "outputs": [
    {
     "data": {
      "text/plain": [
       "Text(0, 0.5, '특성1')"
      ]
     },
     "execution_count": 35,
     "metadata": {},
     "output_type": "execute_result"
    },
    {
     "name": "stderr",
     "output_type": "stream",
     "text": [
      "C:\\Users\\ICT01_09\\Anaconda3\\lib\\site-packages\\matplotlib\\backends\\backend_agg.py:211: RuntimeWarning: Glyph 53945 missing from current font.\n",
      "  font.set_text(s, 0.0, flags=flags)\n",
      "C:\\Users\\ICT01_09\\Anaconda3\\lib\\site-packages\\matplotlib\\backends\\backend_agg.py:211: RuntimeWarning: Glyph 49457 missing from current font.\n",
      "  font.set_text(s, 0.0, flags=flags)\n",
      "C:\\Users\\ICT01_09\\Anaconda3\\lib\\site-packages\\matplotlib\\backends\\backend_agg.py:180: RuntimeWarning: Glyph 53945 missing from current font.\n",
      "  font.set_text(s, 0, flags=flags)\n",
      "C:\\Users\\ICT01_09\\Anaconda3\\lib\\site-packages\\matplotlib\\backends\\backend_agg.py:180: RuntimeWarning: Glyph 49457 missing from current font.\n",
      "  font.set_text(s, 0, flags=flags)\n"
     ]
    },
    {
     "data": {
      "image/png": "[encoded data removed]",
      "text/plain": [
       "<Figure size 432x288 with 1 Axes>"
      ]
     },
     "metadata": {},
     "output_type": "display_data"
    }
   ],
   "source": [
    "mlp = MLPClassifier(solver= 'lbfgs', random_state= 0, hidden_layer_sizes=[10,5,3,2])  # 레이어4개줄수도 있다 (줄여나가는식으로)  #[10,5,10,2] 줄였다 늘렸다 이걸 이해하는 사람은 완벽히 이해한 것 \n",
    "#                                   -> 이렇게 4개로 늘리는것 : svm 의 논리와 같다 ( 고차원으로 데이터를 확대시킴) \n",
    " # svm 은 고차원으로 데이터를 확대시키는 것으로 정확도가 높다/ 과적합을 방지해준다.\n",
    "    # svc (서포트벡터머신으로 만든 classifier ) , svr(서포트 벡터머신으로 만든 regressor)  \n",
    "\n",
    "mlp.fit(X_train, y_train)\n",
    "mglearn.plots.plot_2d_separator(mlp, X_train, fill=True, alpha=.3) # 점들을 다 넣어보라는 것 , fill=true는 색을 채우라는것\n",
    "mglearn.discrete_scatter(X_train[:,0],X_train[:,1], y_train)       \n",
    "plt.xlabel(\"특성0\")\n",
    "plt.ylabel(\"특성1\")\n"
   ]
  },
  {
   "cell_type": "code",
   "execution_count": 36,
   "metadata": {},
   "outputs": [
    {
     "data": {
      "text/plain": [
       "[array([[-1.11997758,  0.77870762,  0.10608173, -0.11192047, -0.10795773,\n",
       "          0.58572127, -0.08825628,  1.18180235,  0.2316036 ,  0.0186587 ],\n",
       "        [ 0.53029127,  0.29828643,  0.10994826,  0.62429293, -0.60658658,\n",
       "         -1.17566978, -0.67844649,  0.26155985,  0.4245725 ,  0.90807333]]),\n",
       " array([[-0.2177162 ,  0.44969659, -0.0968116 ,  0.08801976, -0.52708719,\n",
       "          0.21791137, -0.60181465,  0.29272469,  0.80474194,  0.40248417],\n",
       "        [-0.09087558, -0.05972668,  0.24904654, -0.16609283,  0.1826657 ,\n",
       "          0.2216314 , -0.72279586, -0.43148883, -0.86844636,  0.00945404],\n",
       "        [ 0.09362313, -0.06767749,  0.54453226, -0.38297982, -0.31887797,\n",
       "         -0.36184544,  0.14077892, -0.27101308, -0.15645894, -0.2733035 ],\n",
       "        [-0.30499631, -0.40444603,  0.32847897, -0.45109323, -0.33234447,\n",
       "         -0.09391939, -0.17274468, -0.40968932,  0.5566844 , -0.2580962 ],\n",
       "        [ 0.52188353, -0.03433749,  0.52221391,  0.11484114,  0.26207418,\n",
       "         -0.50474452, -0.2378995 , -0.41601264, -0.22329512, -0.41762152],\n",
       "        [-0.21692478, -0.07269008, -0.77167524,  0.48561193,  0.07295102,\n",
       "         -0.3186115 , -0.14526249, -0.41770293, -0.47806251,  0.72281068],\n",
       "        [-0.19872808,  0.18337073, -0.40330531,  0.23695112, -0.23067123,\n",
       "         -0.34701212,  0.09476079, -0.52564381,  0.36030008, -0.54252522],\n",
       "        [ 0.30641199, -0.26661007,  0.42033447,  0.97472879, -0.2751999 ,\n",
       "          0.15362051, -0.6239218 , -0.00159698, -0.9513202 ,  0.75607268],\n",
       "        [-0.03256418,  0.37920924,  0.25124534, -0.06660049,  0.34371426,\n",
       "         -0.04114297,  0.16013993,  0.08882989,  0.03762063,  0.28632906],\n",
       "        [ 0.33733942,  0.0188767 ,  0.64250618,  0.0895676 , -0.08340436,\n",
       "          0.16477223, -0.68726224, -0.20838476,  0.17520158, -0.21217542]]),\n",
       " array([[ 0.43485608, -0.14506434, -0.05459451,  0.42926412,  0.34351655,\n",
       "          0.29434739, -0.43241795,  0.45755395,  0.23466636,  0.54640543],\n",
       "        [-0.38259741,  0.40259391, -0.36947174,  0.12657663, -0.41322654,\n",
       "          0.46101314,  0.33070539,  0.07568857, -0.10166529, -0.4719072 ],\n",
       "        [ 0.12884212, -0.07688618,  0.01234592,  0.22826978, -0.09297067,\n",
       "          1.39102342, -0.54115094, -0.15648238,  0.07840043, -0.43516252],\n",
       "        [ 0.02304217, -0.48814995, -0.1680454 , -0.52738074,  0.52188246,\n",
       "         -0.57591337, -0.14074201,  0.47761928,  0.22390259, -0.512794  ],\n",
       "        [-0.36727279,  0.13305975,  0.08459131, -0.28709561,  0.47561052,\n",
       "          0.12483109,  0.03902992,  0.0984817 ,  0.2520611 , -0.20598355],\n",
       "        [-0.13175058, -0.33542181, -0.34444001,  0.37024515,  0.16606882,\n",
       "          0.55914093, -0.26195301, -0.26904077, -0.5964463 , -0.14171498],\n",
       "        [-0.62058758,  0.21506223, -0.13161292, -0.43114015, -0.51715239,\n",
       "         -0.08850885,  0.30428041, -0.05071754, -0.10714043, -0.1621189 ],\n",
       "        [ 0.54071287, -0.31014237,  0.18136191, -0.25924168, -0.52241393,\n",
       "          0.36734061, -0.2059829 , -0.12704412,  0.09673697,  0.3653681 ],\n",
       "        [ 0.01214357,  0.29473406, -0.23395725, -0.00520167, -0.73166677,\n",
       "          1.71880115,  0.18236433, -0.31161488,  0.11018783,  0.00195917],\n",
       "        [-1.06338094, -0.32443556,  0.38940832, -0.57318909,  0.3319026 ,\n",
       "         -0.76219713,  0.20253344, -0.016139  , -0.21486834, -1.07560169]]),\n",
       " array([[-0.26894298],\n",
       "        [ 0.6377588 ],\n",
       "        [ 0.22240165],\n",
       "        [ 0.28371512],\n",
       "        [ 0.43016571],\n",
       "        [-2.06342712],\n",
       "        [ 0.12253234],\n",
       "        [ 0.12405955],\n",
       "        [ 0.61892093],\n",
       "        [ 0.95296934]])]"
      ]
     },
     "execution_count": 36,
     "metadata": {},
     "output_type": "execute_result"
    }
   ],
   "source": [
    "mlp.coefs_"
   ]
  },
  {
   "cell_type": "code",
   "execution_count": null,
   "metadata": {},
   "outputs": [],
   "source": [
    "# 위의 숫자들의 의미를 알 수 없다 -> black box 라고 한다 -> 근데 요즘은 이런 black box 의 의미를 파악해서 원인을 규명하려고 시도중 "
   ]
  },
  {
   "cell_type": "code",
   "execution_count": null,
   "metadata": {},
   "outputs": [],
   "source": [
    "# multi rayer 가 되면 무엇을 해결해주나? XOR 문제를 해결해주었다 정확도가 높아지는 것을 발견할수있다 "
   ]
  },
  {
   "cell_type": "code",
   "execution_count": null,
   "metadata": {},
   "outputs": [],
   "source": []
  },
  {
   "cell_type": "code",
   "execution_count": 37,
   "metadata": {},
   "outputs": [
    {
     "data": {
      "image/png": "[encoded data removed]",
      "text/plain": [
       "<Figure size 1440x576 with 8 Axes>"
      ]
     },
     "metadata": {},
     "output_type": "display_data"
    }
   ],
   "source": [
    "fig, axes = plt.subplots(2,4,figsize=(20,8))\n",
    "for axx, n_hidden_nodes in zip(axes, [10,100]):    # [10,100]은 hidden size \n",
    "    for ax, alpha in zip(axx, [0.1, 0.001, 0.0001, 0.00001]):\n",
    "        mlp = MLPClassifier(solver='lbfgs', random_state=0, activation='tanh',\n",
    "                           hidden_layer_sizes=[n_hidden_nodes, n_hidden_nodes], alpha=alpha)\n",
    "        mlp.fit(X_train, y_train)\n",
    "        mglearn.plots.plot_2d_separator(mlp, X_train, fill=True, alpha=.3, ax=ax)  \n",
    "        mglearn.discrete_scatter(X_train[:,0],X_train[:,1], y_train, ax=ax)\n",
    "        ax.set_title('n_hidden=[{}, {}]\\nalpha={:.4f}'.format(n_hidden_nodes, n_hidden_nodes, alpha))"
   ]
  },
  {
   "cell_type": "code",
   "execution_count": null,
   "metadata": {},
   "outputs": [],
   "source": [
    "# alpha 는 규제값이다.(규제란 과적합을 해결하는것) 0.1과 0.001 을 비교해보면 모양이 변한다 -> 규제가 작을수록 과적합되고있다\n",
    "# 규제가 많으면 선처럼 변하고 있는 것을 볼 수 있다\n",
    "# 즉 hidden 값과 alpha 값이 모양을 변하게 하는 것을 확인할 수 있다 \n",
    "\n",
    "# 신경망을 한마디로 비선형회귀 , 즉 다항회귀와 같다고 보자!\n",
    "#layer size 는 한마디로 다항회귀의 차수라고 생각하고 과적합을 해결하는 것이 규제라고 알고있자"
   ]
  },
  {
   "cell_type": "code",
   "execution_count": 38,
   "metadata": {},
   "outputs": [
    {
     "name": "stdout",
     "output_type": "stream",
     "text": [
      "유방암 데이터의 특성별 최대값:\n",
      "[2.811e+01 3.928e+01 1.885e+02 2.501e+03 1.634e-01 3.454e-01 4.268e-01\n",
      " 2.012e-01 3.040e-01 9.744e-02 2.873e+00 4.885e+00 2.198e+01 5.422e+02\n",
      " 3.113e-02 1.354e-01 3.960e-01 5.279e-02 7.895e-02 2.984e-02 3.604e+01\n",
      " 4.954e+01 2.512e+02 4.254e+03 2.226e-01 1.058e+00 1.252e+00 2.910e-01\n",
      " 6.638e-01 2.075e-01]\n"
     ]
    }
   ],
   "source": [
    "from sklearn.datasets import load_breast_cancer\n",
    "cancer = load_breast_cancer()\n",
    "print(\"유방암 데이터의 특성별 최대값:\\n{}\".format(cancer.data.max(axis=0)))"
   ]
  },
  {
   "cell_type": "code",
   "execution_count": 40,
   "metadata": {},
   "outputs": [
    {
     "name": "stdout",
     "output_type": "stream",
     "text": [
      "훈련세트 정확도:0.94\n",
      "테스트 세트 정확도 :0.92\n"
     ]
    },
    {
     "data": {
      "text/plain": [
       "MLPClassifier(activation='relu', alpha=0.0001, batch_size='auto', beta_1=0.9,\n",
       "              beta_2=0.999, early_stopping=False, epsilon=1e-08,\n",
       "              hidden_layer_sizes=(100,), learning_rate='constant',\n",
       "              learning_rate_init=0.001, max_iter=200, momentum=0.9,\n",
       "              n_iter_no_change=10, nesterovs_momentum=True, power_t=0.5,\n",
       "              random_state=42, shuffle=True, solver='adam', tol=0.0001,\n",
       "              validation_fraction=0.1, verbose=False, warm_start=False)"
      ]
     },
     "execution_count": 40,
     "metadata": {},
     "output_type": "execute_result"
    }
   ],
   "source": [
    "X_train, X_test, y_train, y_test = train_test_split(cancer.data, cancer.target, random_state=0)\n",
    "\n",
    "mlp = MLPClassifier(random_state=42)  # 모델인스턴스\n",
    "mlp.fit(X_train, y_train)  # fitting 을 함 -> 피팅을 통해 가중치 결정 ! \n",
    "\n",
    "print('훈련세트 정확도:{:.2f}'.format(mlp.score(X_train, y_train))) \n",
    "print(\"테스트 세트 정확도 :{:.2f}\".format(mlp.score(X_test,y_test)))\n",
    "# 둘이 별차이가 없다  \n",
    "# 과소적합 :\" 훈련세트정확도< 테스트 세트정확도\" -> 해결법 : 데이터를 늘려야한다, 알파값 바꿔보기, 가중치사이즈 바꾸기 ( 이런걸 paramater 튜닝이라고 한다 ) \n",
    "# 과적합 : 훈련세트정확도> 테스트 세트 정확도  (보통 20 퍼센트 차이나면 과적합된다고 생각하자 ) 10이라고 하더라도 변화시키면서 바꿔보자!\n",
    "\n",
    "mlp"
   ]
  },
  {
   "cell_type": "code",
   "execution_count": 42,
   "metadata": {},
   "outputs": [
    {
     "name": "stdout",
     "output_type": "stream",
     "text": [
      "훈련세트 정확도: 0.991\n",
      "테스트 세트 정확도: 0.965\n"
     ]
    },
    {
     "name": "stderr",
     "output_type": "stream",
     "text": [
      "C:\\Users\\ICT01_09\\Anaconda3\\lib\\site-packages\\sklearn\\neural_network\\multilayer_perceptron.py:566: ConvergenceWarning: Stochastic Optimizer: Maximum iterations (200) reached and the optimization hasn't converged yet.\n",
      "  % self.max_iter, ConvergenceWarning)\n"
     ]
    }
   ],
   "source": [
    "# 전처리 특히 scaling 에 민감하다\n",
    "mean_on_train = X_train.mean(axis=0) ## 평균을 구함\n",
    "std_on_train = X_train.std(axis=0)## 표준편차를 구함\n",
    "\n",
    "X_train_scaled = (X_train - mean_on_train) /std_on_train  # 데이터에서 평균빼고 표준편차로 나눈것이 z 점수 표준화!\n",
    "X_test_scaled = (X_test - mean_on_train) / std_on_train   \n",
    "\n",
    "mlp = MLPClassifier(random_state=0) # 인스턴스하고\n",
    "mlp.fit(X_train_scaled,y_train)# 피팅을 시켰더니\n",
    "# 아래와같이 정확도가 나온다 \n",
    "print('훈련세트 정확도: {:.3f}'.format(mlp.score(X_train_scaled, y_train)))##99.1%\n",
    "print(\"테스트 세트 정확도: {:.3f}\".format(mlp.score(X_test_scaled, y_test)))##96.5%"
   ]
  },
  {
   "cell_type": "code",
   "execution_count": 43,
   "metadata": {},
   "outputs": [
    {
     "name": "stdout",
     "output_type": "stream",
     "text": [
      "훈련세트 정확도: 1.000\n",
      "테스트 세트 정확도: 0.972\n"
     ]
    }
   ],
   "source": [
    "# max iteration 을 해보자(반복횟수를 늘려보자)\n",
    "mlp = MLPClassifier(max_iter = 1000, random_state=0)  # 데이터를 돌리는데 1000번을 돌리라는 뜻이다\n",
    "mlp.fit(X_train_scaled, y_train)\n",
    "\n",
    "print('훈련세트 정확도: {:.3f}'.format(mlp.score(X_train_scaled, y_train)))   # 100%\n",
    "print(\"테스트 세트 정확도: {:.3f}\".format(mlp.score(X_test_scaled, y_test)))   # 97.2%"
   ]
  },
  {
   "cell_type": "code",
   "execution_count": 44,
   "metadata": {},
   "outputs": [
    {
     "name": "stdout",
     "output_type": "stream",
     "text": [
      "훈련세트 정확도: 0.988\n",
      "테스트 세트 정확도: 0.972\n"
     ]
    }
   ],
   "source": [
    "mlp = MLPClassifier(max_iter = 1000,alpha=1, random_state=0)  # 이제 규제를 줘봤다\n",
    "mlp.fit(X_train_scaled, y_train)\n",
    "\n",
    "print('훈련세트 정확도: {:.3f}'.format(mlp.score(X_train_scaled, y_train)))  #98.8% \n",
    "print(\"테스트 세트 정확도: {:.3f}\".format(mlp.score(X_test_scaled, y_test)))# 97.2%  -> 둘의 값이 거의 같아졌다 -> 일반화되었다고 말할수있따!!!!!!!!!\n",
    "\n",
    "# 이게 진짜 일반화된것이고 위의 100, 97.2 는 나쁜 것이다\n",
    "# 비슷해야한다"
   ]
  },
  {
   "cell_type": "code",
   "execution_count": 45,
   "metadata": {},
   "outputs": [
    {
     "data": {
      "text/plain": [
       "[array([[ 1.38710846e-02, -2.50121951e-02,  3.66222579e-02, ...,\n",
       "         -3.47572622e-02, -2.24282383e-03, -1.97638723e-02],\n",
       "        [ 1.26462143e-02, -6.82790623e-02,  3.70303247e-02, ...,\n",
       "         -3.34389785e-02, -1.21200193e-02, -6.54680585e-02],\n",
       "        [ 8.50428302e-03, -2.63297307e-02,  2.95094391e-02, ...,\n",
       "         -1.72355685e-02,  1.05053722e-03, -1.30428184e-02],\n",
       "        ...,\n",
       "        [ 3.01969223e-03, -5.25847578e-02,  6.51799188e-02, ...,\n",
       "         -4.07129917e-02, -3.25647552e-03, -3.30615217e-02],\n",
       "        [-1.19219311e-03, -2.78480036e-02,  2.08436140e-02, ...,\n",
       "         -2.74572097e-02,  5.09456645e-05, -2.03324679e-02],\n",
       "        [-2.15747657e-02, -2.94202234e-02,  3.25639515e-02, ...,\n",
       "         -2.14904553e-02, -4.01600447e-03, -2.92891532e-02]]),\n",
       " array([[-0.09540798],\n",
       "        [ 0.23756701],\n",
       "        [-0.19771946],\n",
       "        [ 0.30384496],\n",
       "        [ 0.16202467],\n",
       "        [-0.00111623],\n",
       "        [ 0.18081763],\n",
       "        [ 0.08990004],\n",
       "        [ 0.2707616 ],\n",
       "        [-0.26194311],\n",
       "        [-0.05209011],\n",
       "        [ 0.20382729],\n",
       "        [-0.18331047],\n",
       "        [ 0.27394575],\n",
       "        [-0.01652826],\n",
       "        [-0.09044238],\n",
       "        [-0.14065305],\n",
       "        [ 0.18250251],\n",
       "        [ 0.19683819],\n",
       "        [-0.18195574],\n",
       "        [ 0.23720224],\n",
       "        [ 0.15746087],\n",
       "        [-0.20103266],\n",
       "        [-0.01751928],\n",
       "        [ 0.01634142],\n",
       "        [-0.23900311],\n",
       "        [-0.03765027],\n",
       "        [-0.11241846],\n",
       "        [-0.35535746],\n",
       "        [-0.20010286],\n",
       "        [-0.13776849],\n",
       "        [-0.00860848],\n",
       "        [ 0.13419139],\n",
       "        [ 0.18900764],\n",
       "        [-0.21106494],\n",
       "        [ 0.14613838],\n",
       "        [ 0.03933234],\n",
       "        [ 0.24927712],\n",
       "        [ 0.35829181],\n",
       "        [-0.15230509],\n",
       "        [-0.16605026],\n",
       "        [ 0.20874943],\n",
       "        [-0.3036428 ],\n",
       "        [-0.07467641],\n",
       "        [ 0.23188861],\n",
       "        [ 0.23620018],\n",
       "        [-0.17854493],\n",
       "        [ 0.22343896],\n",
       "        [ 0.0454169 ],\n",
       "        [ 0.14008441],\n",
       "        [ 0.00172307],\n",
       "        [ 0.13886504],\n",
       "        [-0.22051553],\n",
       "        [ 0.14909446],\n",
       "        [-0.23292065],\n",
       "        [-0.08241512],\n",
       "        [-0.08422326],\n",
       "        [ 0.18277938],\n",
       "        [ 0.03457711],\n",
       "        [ 0.30085067],\n",
       "        [ 0.11130794],\n",
       "        [-0.2654791 ],\n",
       "        [-0.12111639],\n",
       "        [-0.15866821],\n",
       "        [-0.31118166],\n",
       "        [-0.00937106],\n",
       "        [ 0.21855607],\n",
       "        [ 0.27409064],\n",
       "        [-0.14964196],\n",
       "        [ 0.14128948],\n",
       "        [ 0.17804569],\n",
       "        [-0.18619982],\n",
       "        [ 0.15170124],\n",
       "        [-0.07942989],\n",
       "        [ 0.08225573],\n",
       "        [-0.11482814],\n",
       "        [-0.09635392],\n",
       "        [-0.15785392],\n",
       "        [-0.15279882],\n",
       "        [-0.22801415],\n",
       "        [-0.11766693],\n",
       "        [-0.0267861 ],\n",
       "        [-0.27060303],\n",
       "        [ 0.19140944],\n",
       "        [ 0.20069192],\n",
       "        [ 0.00156441],\n",
       "        [-0.24046826],\n",
       "        [ 0.13195541],\n",
       "        [-0.31435476],\n",
       "        [-0.15406926],\n",
       "        [-0.18134032],\n",
       "        [-0.0764512 ],\n",
       "        [-0.0205179 ],\n",
       "        [ 0.17301128],\n",
       "        [ 0.19272225],\n",
       "        [ 0.08030601],\n",
       "        [ 0.31360355],\n",
       "        [ 0.17414058],\n",
       "        [ 0.02295324],\n",
       "        [ 0.17066523]])]"
      ]
     },
     "execution_count": 45,
     "metadata": {},
     "output_type": "execute_result"
    }
   ],
   "source": [
    "mlp.coefs_"
   ]
  },
  {
   "cell_type": "code",
   "execution_count": 46,
   "metadata": {},
   "outputs": [
    {
     "data": {
      "text/plain": [
       "<matplotlib.colorbar.Colorbar at 0x2ad036f5bc8>"
      ]
     },
     "execution_count": 46,
     "metadata": {},
     "output_type": "execute_result"
    },
    {
     "name": "stderr",
     "output_type": "stream",
     "text": [
      "C:\\Users\\ICT01_09\\Anaconda3\\lib\\site-packages\\matplotlib\\backends\\backend_agg.py:211: RuntimeWarning: Glyph 51008 missing from current font.\n",
      "  font.set_text(s, 0.0, flags=flags)\n",
      "C:\\Users\\ICT01_09\\Anaconda3\\lib\\site-packages\\matplotlib\\backends\\backend_agg.py:211: RuntimeWarning: Glyph 45769 missing from current font.\n",
      "  font.set_text(s, 0.0, flags=flags)\n",
      "C:\\Users\\ICT01_09\\Anaconda3\\lib\\site-packages\\matplotlib\\backends\\backend_agg.py:211: RuntimeWarning: Glyph 50976 missing from current font.\n",
      "  font.set_text(s, 0.0, flags=flags)\n",
      "C:\\Users\\ICT01_09\\Anaconda3\\lib\\site-packages\\matplotlib\\backends\\backend_agg.py:211: RuntimeWarning: Glyph 45787 missing from current font.\n",
      "  font.set_text(s, 0.0, flags=flags)\n",
      "C:\\Users\\ICT01_09\\Anaconda3\\lib\\site-packages\\matplotlib\\backends\\backend_agg.py:180: RuntimeWarning: Glyph 51008 missing from current font.\n",
      "  font.set_text(s, 0, flags=flags)\n",
      "C:\\Users\\ICT01_09\\Anaconda3\\lib\\site-packages\\matplotlib\\backends\\backend_agg.py:180: RuntimeWarning: Glyph 45769 missing from current font.\n",
      "  font.set_text(s, 0, flags=flags)\n",
      "C:\\Users\\ICT01_09\\Anaconda3\\lib\\site-packages\\matplotlib\\backends\\backend_agg.py:180: RuntimeWarning: Glyph 50976 missing from current font.\n",
      "  font.set_text(s, 0, flags=flags)\n",
      "C:\\Users\\ICT01_09\\Anaconda3\\lib\\site-packages\\matplotlib\\backends\\backend_agg.py:180: RuntimeWarning: Glyph 45787 missing from current font.\n",
      "  font.set_text(s, 0, flags=flags)\n",
      "C:\\Users\\ICT01_09\\Anaconda3\\lib\\site-packages\\matplotlib\\backends\\backend_agg.py:211: RuntimeWarning: Glyph 51077 missing from current font.\n",
      "  font.set_text(s, 0.0, flags=flags)\n",
      "C:\\Users\\ICT01_09\\Anaconda3\\lib\\site-packages\\matplotlib\\backends\\backend_agg.py:211: RuntimeWarning: Glyph 47141 missing from current font.\n",
      "  font.set_text(s, 0.0, flags=flags)\n",
      "C:\\Users\\ICT01_09\\Anaconda3\\lib\\site-packages\\matplotlib\\backends\\backend_agg.py:211: RuntimeWarning: Glyph 53945 missing from current font.\n",
      "  font.set_text(s, 0.0, flags=flags)\n",
      "C:\\Users\\ICT01_09\\Anaconda3\\lib\\site-packages\\matplotlib\\backends\\backend_agg.py:211: RuntimeWarning: Glyph 49457 missing from current font.\n",
      "  font.set_text(s, 0.0, flags=flags)\n",
      "C:\\Users\\ICT01_09\\Anaconda3\\lib\\site-packages\\matplotlib\\backends\\backend_agg.py:180: RuntimeWarning: Glyph 51077 missing from current font.\n",
      "  font.set_text(s, 0, flags=flags)\n",
      "C:\\Users\\ICT01_09\\Anaconda3\\lib\\site-packages\\matplotlib\\backends\\backend_agg.py:180: RuntimeWarning: Glyph 47141 missing from current font.\n",
      "  font.set_text(s, 0, flags=flags)\n",
      "C:\\Users\\ICT01_09\\Anaconda3\\lib\\site-packages\\matplotlib\\backends\\backend_agg.py:180: RuntimeWarning: Glyph 53945 missing from current font.\n",
      "  font.set_text(s, 0, flags=flags)\n",
      "C:\\Users\\ICT01_09\\Anaconda3\\lib\\site-packages\\matplotlib\\backends\\backend_agg.py:180: RuntimeWarning: Glyph 49457 missing from current font.\n",
      "  font.set_text(s, 0, flags=flags)\n"
     ]
    },
    {
     "data": {
      "image/png": "[encoded data removed]",
      "text/plain": [
       "<Figure size 1440x360 with 2 Axes>"
      ]
     },
     "metadata": {
      "needs_background": "light"
     },
     "output_type": "display_data"
    }
   ],
   "source": [
    "# 그래픽화 시켜보자\n",
    "plt.figure(figsize = (20,5))\n",
    "plt.imshow(mlp.coefs_[0], interpolation='none', cmap='viridis')\n",
    "plt.yticks(range(30), cancer.feature_names)\n",
    "plt.xlabel(\"은닉 유닛\")\n",
    "plt.ylabel(\"입력 특성\")\n",
    "plt.colorbar()"
   ]
  },
  {
   "cell_type": "code",
   "execution_count": 51,
   "metadata": {},
   "outputs": [],
   "source": [
    "# 보내주신 wine data 로딩\n",
    "import pandas as pd\n",
    "wine = pd.read_csv(\"wine_data.csv\")"
   ]
  },
  {
   "cell_type": "code",
   "execution_count": 52,
   "metadata": {},
   "outputs": [],
   "source": [
    "wine = pd.read_csv('./wine_data.csv', names = [\"Cultivator\", \"Alchol\", \"Malic_Acid\", \"Ash\",\n",
    "                                             \"Alcalinity_of_Ash\", \"Magnesium\", \"Total_phenols\",\n",
    "                                             \"Falvanoids\", \"Nonflavanoid_phenols\",\n",
    "                                             \"Proanthocyanins\", \"Color_intensity\", \"Hue\",\n",
    "                                             \"OD280\", \"Proline\"], encoding=\"utf-8\") "
   ]
  },
  {
   "cell_type": "code",
   "execution_count": 56,
   "metadata": {},
   "outputs": [
    {
     "data": {
      "text/html": [
       "<div>\n",
       "<style scoped>\n",
       "    .dataframe tbody tr th:only-of-type {\n",
       "        vertical-align: middle;\n",
       "    }\n",
       "\n",
       "    .dataframe tbody tr th {\n",
       "        vertical-align: top;\n",
       "    }\n",
       "\n",
       "    .dataframe thead th {\n",
       "        text-align: right;\n",
       "    }\n",
       "</style>\n",
       "<table border=\"1\" class=\"dataframe\">\n",
       "  <thead>\n",
       "    <tr style=\"text-align: right;\">\n",
       "      <th></th>\n",
       "      <th>Cultivator</th>\n",
       "      <th>Alchol</th>\n",
       "      <th>Malic_Acid</th>\n",
       "      <th>Ash</th>\n",
       "      <th>Alcalinity_of_Ash</th>\n",
       "      <th>Magnesium</th>\n",
       "      <th>Total_phenols</th>\n",
       "      <th>Falvanoids</th>\n",
       "      <th>Nonflavanoid_phenols</th>\n",
       "      <th>Proanthocyanins</th>\n",
       "      <th>Color_intensity</th>\n",
       "      <th>Hue</th>\n",
       "      <th>OD280</th>\n",
       "      <th>Proline</th>\n",
       "    </tr>\n",
       "  </thead>\n",
       "  <tbody>\n",
       "    <tr>\n",
       "      <td>0</td>\n",
       "      <td>1</td>\n",
       "      <td>14.23</td>\n",
       "      <td>1.71</td>\n",
       "      <td>2.43</td>\n",
       "      <td>15.6</td>\n",
       "      <td>127</td>\n",
       "      <td>2.80</td>\n",
       "      <td>3.06</td>\n",
       "      <td>0.28</td>\n",
       "      <td>2.29</td>\n",
       "      <td>5.64</td>\n",
       "      <td>1.04</td>\n",
       "      <td>3.92</td>\n",
       "      <td>1065</td>\n",
       "    </tr>\n",
       "    <tr>\n",
       "      <td>1</td>\n",
       "      <td>1</td>\n",
       "      <td>13.20</td>\n",
       "      <td>1.78</td>\n",
       "      <td>2.14</td>\n",
       "      <td>11.2</td>\n",
       "      <td>100</td>\n",
       "      <td>2.65</td>\n",
       "      <td>2.76</td>\n",
       "      <td>0.26</td>\n",
       "      <td>1.28</td>\n",
       "      <td>4.38</td>\n",
       "      <td>1.05</td>\n",
       "      <td>3.40</td>\n",
       "      <td>1050</td>\n",
       "    </tr>\n",
       "  </tbody>\n",
       "</table>\n",
       "</div>"
      ],
      "text/plain": [
       "   Cultivator  Alchol  Malic_Acid   Ash  Alcalinity_of_Ash  Magnesium  \\\n",
       "0           1   14.23        1.71  2.43               15.6        127   \n",
       "1           1   13.20        1.78  2.14               11.2        100   \n",
       "\n",
       "   Total_phenols  Falvanoids  Nonflavanoid_phenols  Proanthocyanins  \\\n",
       "0           2.80        3.06                  0.28             2.29   \n",
       "1           2.65        2.76                  0.26             1.28   \n",
       "\n",
       "   Color_intensity   Hue  OD280  Proline  \n",
       "0             5.64  1.04   3.92     1065  \n",
       "1             4.38  1.05   3.40     1050  "
      ]
     },
     "execution_count": 56,
     "metadata": {},
     "output_type": "execute_result"
    }
   ],
   "source": [
    "wine.head(2)"
   ]
  },
  {
   "cell_type": "code",
   "execution_count": 106,
   "metadata": {},
   "outputs": [],
   "source": [
    "XX=wine.iloc[:,1:]"
   ]
  },
  {
   "cell_type": "code",
   "execution_count": 107,
   "metadata": {},
   "outputs": [],
   "source": [
    "yy=wine['Cultivator']"
   ]
  },
  {
   "cell_type": "code",
   "execution_count": 108,
   "metadata": {},
   "outputs": [],
   "source": [
    "X_train, X_test, y_train, y_test = train_test_split(XX,yy, stratify=y, random_state=42)"
   ]
  },
  {
   "cell_type": "code",
   "execution_count": 117,
   "metadata": {},
   "outputs": [],
   "source": [
    "mean_on_train = X_train.mean(axis=0) \n",
    "std_on_train = X_train.std(axis=0)\n",
    "X_train_scaled = (X_train - mean_on_train) /std_on_train\n",
    "X_test_scaled = (X_test - mean_on_train) / std_on_train   "
   ]
  },
  {
   "cell_type": "code",
   "execution_count": 134,
   "metadata": {},
   "outputs": [
    {
     "name": "stdout",
     "output_type": "stream",
     "text": [
      "훈련세트 정확도: 0.977\n",
      "테스트 세트 정확도: 0.978\n"
     ]
    },
    {
     "name": "stderr",
     "output_type": "stream",
     "text": [
      "C:\\Users\\ICT01_09\\Anaconda3\\lib\\site-packages\\sklearn\\neural_network\\multilayer_perceptron.py:566: ConvergenceWarning: Stochastic Optimizer: Maximum iterations (50) reached and the optimization hasn't converged yet.\n",
      "  % self.max_iter, ConvergenceWarning)\n"
     ]
    }
   ],
   "source": [
    "mean_on_train = X_train.mean(axis=0) ## 평균을 구함\n",
    "std_on_train = X_train.std(axis=0)## 표준편차를 구함\n",
    "\n",
    "X_train_scaled = (X_train - mean_on_train) /std_on_train  # 데이터에서 평균빼고 표준편차로 나눈것이 z 점수 표준화!\n",
    "X_test_scaled = (X_test - mean_on_train) / std_on_train   \n",
    "\n",
    "mlp = MLPClassifier(max_iter = 50,alpha=1, random_state=0) # 인스턴스하고\n",
    "mlp.fit(X_train_scaled,y_train)# 피팅을 시켰더니\n",
    "# 아래와같이 정확도가 나온다 \n",
    "print('훈련세트 정확도: {:.3f}'.format(mlp.score(X_train_scaled, y_train)))#\n",
    "print(\"테스트 세트 정확도: {:.3f}\".format(mlp.score(X_test_scaled, y_test)))"
   ]
  },
  {
   "cell_type": "code",
   "execution_count": null,
   "metadata": {},
   "outputs": [],
   "source": [
    "# 선생님답 "
   ]
  },
  {
   "cell_type": "code",
   "execution_count": 135,
   "metadata": {},
   "outputs": [
    {
     "data": {
      "text/plain": [
       "(178, 14)"
      ]
     },
     "execution_count": 135,
     "metadata": {},
     "output_type": "execute_result"
    }
   ],
   "source": [
    "wine = pd.read_csv('./wine_data.csv', names = [\"Cultivator\", \"Alchol\", \"Malic_Acid\", \"Ash\",\n",
    "                                             \"Alcalinity_of_Ash\", \"Magnesium\", \"Total_phenols\",\n",
    "                                             \"Falvanoids\", \"Nonflavanoid_phenols\",\n",
    "                                             \"Proanthocyanins\", \"Color_intensity\", \"Hue\",\n",
    "                                             \"OD280\", \"Proline\"], encoding=\"utf-8\") \n",
    "wine.shape  # 관측치 178, 변수14개  \n",
    "#  -> 이게 독립변수와 종속변수를 분류시켜야한다 "
   ]
  },
  {
   "cell_type": "code",
   "execution_count": 138,
   "metadata": {},
   "outputs": [],
   "source": [
    "X=wine.drop('Cultivator',axis=1)  # cultivator 만 제외해서  x 로\n",
    "y=wine['Cultivator']  # cultivator 만 y 로"
   ]
  },
  {
   "cell_type": "code",
   "execution_count": 139,
   "metadata": {},
   "outputs": [],
   "source": [
    "from sklearn.model_selection import train_test_split\n",
    "# train 과 test 를 분리해준다\n",
    "X_train, X_test, y_train,y_test = train_test_split(X,y)  # 75대 25 로 분리해준다!"
   ]
  },
  {
   "cell_type": "code",
   "execution_count": 140,
   "metadata": {},
   "outputs": [
    {
     "name": "stdout",
     "output_type": "stream",
     "text": [
      "[1 2 3]\n"
     ]
    }
   ],
   "source": [
    "# 종류가 궁금하면 unique 를 쓴다\n",
    "print(y.unique())  # 즉 y 는 3가지로 분리되어있다 "
   ]
  },
  {
   "cell_type": "code",
   "execution_count": 142,
   "metadata": {},
   "outputs": [],
   "source": [
    "# 다음단계 : 전처리한다! (실제 이데이터는 훈련에 적합하게 만들어져있으니 다른 데이터의 경우 전처리 잘해주자)\n",
    "from sklearn.preprocessing import StandardScaler\n",
    "scaler = StandardScaler()    # ===>     standardscaelr(copy=true, with_mean=true, with_std = true) 라는 의미가 있다 / copy=true : 원본을 그대로두라,  copy=false : 원본도 수정해라 \n",
    "\n",
    "scaler.fit(X_train) # x_train 데이터를 피팅해준다!!\n",
    "\n",
    "X_train = scaler.transform(X_train)\n",
    "X_test = scaler.transform(X_test)"
   ]
  },
  {
   "cell_type": "code",
   "execution_count": 146,
   "metadata": {},
   "outputs": [
    {
     "data": {
      "text/plain": [
       "MLPClassifier(activation='relu', alpha=0.0001, batch_size='auto', beta_1=0.9,\n",
       "              beta_2=0.999, early_stopping=False, epsilon=1e-08,\n",
       "              hidden_layer_sizes=(30, 30, 30), learning_rate='constant',\n",
       "              learning_rate_init=0.001, max_iter=200, momentum=0.9,\n",
       "              n_iter_no_change=10, nesterovs_momentum=True, power_t=0.5,\n",
       "              random_state=None, shuffle=True, solver='adam', tol=0.0001,\n",
       "              validation_fraction=0.1, verbose=False, warm_start=False)"
      ]
     },
     "execution_count": 146,
     "metadata": {},
     "output_type": "execute_result"
    }
   ],
   "source": [
    "# 이제 신경망을 가동해본다!\n",
    "from sklearn.neural_network import MLPClassifier\n",
    "# hidden_layer_sizes 의 디폴트값은  (100,)임\n",
    "mlp = MLPClassifier(hidden_layer_sizes=(30,30,30)) # 히든 사이즈를 주고 나머지는 디폴트값 그대로\n",
    "mlp.fit(X_train,y_train)  # 모델이 이제 만들어졌으니 평가를 해본다"
   ]
  },
  {
   "cell_type": "code",
   "execution_count": 151,
   "metadata": {},
   "outputs": [
    {
     "name": "stdout",
     "output_type": "stream",
     "text": [
      "[[14  1  0]\n",
      " [ 0 15  0]\n",
      " [ 0  0 15]]\n",
      "              precision    recall  f1-score   support\n",
      "\n",
      "           1       1.00      0.93      0.97        15\n",
      "           2       0.94      1.00      0.97        15\n",
      "           3       1.00      1.00      1.00        15\n",
      "\n",
      "    accuracy                           0.98        45\n",
      "   macro avg       0.98      0.98      0.98        45\n",
      "weighted avg       0.98      0.98      0.98        45\n",
      "\n"
     ]
    }
   ],
   "source": [
    "from sklearn.metrics import classification_report  # 이거 패키지 있으면 precision, recall, f1-score 전부 인쇄됨\n",
    "# precision=정밀도=TP /(TP+FP) =예측을 중심으로 생각  \n",
    "#recall : 재현율 = TP/(TP+TN) = 실제값을 중심으로 생각\n",
    "#f1-score : 2*(precision*recall)  / (precision+recall)\n",
    "\n",
    "from sklearn.metrics import confusion_matrix \n",
    "predictions = mlp.predict(X_test)\n",
    "\n",
    "print(confusion_matrix(y_test,predictions))\n",
    "print(classification_report(y_test,predictions))\n",
    "# 1,2,3 의 의미는 ?  unique한것 (와인품종을 의미)\n",
    "\n",
    "# support : 맞은 개수 \n",
    "# macro avg :  평균\n",
    "# weighted avg :  "
   ]
  },
  {
   "cell_type": "code",
   "execution_count": null,
   "metadata": {},
   "outputs": [],
   "source": [
    "### 그냥 accuracy 만 보자"
   ]
  },
  {
   "cell_type": "markdown",
   "metadata": {},
   "source": []
  },
  {
   "cell_type": "code",
   "execution_count": 154,
   "metadata": {},
   "outputs": [
    {
     "name": "stdout",
     "output_type": "stream",
     "text": [
      "(13, 30)\n",
      "(30, 30)\n",
      "(30, 30)\n"
     ]
    },
    {
     "data": {
      "text/plain": [
       "Text(0, 0.5, '입력 특성')"
      ]
     },
     "execution_count": 154,
     "metadata": {},
     "output_type": "execute_result"
    },
    {
     "data": {
      "image/png": "[encoded data removed]",
      "text/plain": [
       "<Figure size 1440x360 with 1 Axes>"
      ]
     },
     "metadata": {
      "needs_background": "light"
     },
     "output_type": "display_data"
    }
   ],
   "source": [
    "print(mlp.coefs_[0].shape)  # 13x30\n",
    "print(mlp.coefs_[1].shape)  # 30x30\n",
    "print(mlp.coefs_[2].shape)  # 30x30  나가는 놈 30으로 차수 결정된다\n",
    "plt.figure(figsize=(20,5))\n",
    "plt.imshow(mlp.coefs_[0], interpolation='none',cmap='viridis')\n",
    "plt.xlabel(\"은닉 유닛\")\n",
    "plt.ylabel('입력 특성')\n",
    "#plt.colorbar()"
   ]
  },
  {
   "cell_type": "code",
   "execution_count": null,
   "metadata": {},
   "outputs": [],
   "source": []
  },
  {
   "cell_type": "code",
   "execution_count": null,
   "metadata": {},
   "outputs": [],
   "source": [
    "#NMF ( Non-negative matrix factorization) : 비음수 행렬분해\n",
    "#-> PCA 는 음수와 양수의 차이를 상계해서 처리한다 \n",
    "#->NMF 는 양수인 데이터에 적용  (양수인데이터에는 음성데이터, signal 이 있다 ) \n",
    "# "
   ]
  },
  {
   "cell_type": "code",
   "execution_count": 155,
   "metadata": {},
   "outputs": [
    {
     "name": "stderr",
     "output_type": "stream",
     "text": [
      "C:\\Users\\ICT01_09\\Anaconda3\\lib\\site-packages\\matplotlib\\backends\\backend_agg.py:211: RuntimeWarning: Glyph 49884 missing from current font.\n",
      "  font.set_text(s, 0.0, flags=flags)\n",
      "C:\\Users\\ICT01_09\\Anaconda3\\lib\\site-packages\\matplotlib\\backends\\backend_agg.py:211: RuntimeWarning: Glyph 44036 missing from current font.\n",
      "  font.set_text(s, 0.0, flags=flags)\n",
      "C:\\Users\\ICT01_09\\Anaconda3\\lib\\site-packages\\matplotlib\\backends\\backend_agg.py:180: RuntimeWarning: Glyph 49884 missing from current font.\n",
      "  font.set_text(s, 0, flags=flags)\n",
      "C:\\Users\\ICT01_09\\Anaconda3\\lib\\site-packages\\matplotlib\\backends\\backend_agg.py:180: RuntimeWarning: Glyph 44036 missing from current font.\n",
      "  font.set_text(s, 0, flags=flags)\n",
      "C:\\Users\\ICT01_09\\Anaconda3\\lib\\site-packages\\matplotlib\\backends\\backend_agg.py:211: RuntimeWarning: Glyph 49888 missing from current font.\n",
      "  font.set_text(s, 0.0, flags=flags)\n",
      "C:\\Users\\ICT01_09\\Anaconda3\\lib\\site-packages\\matplotlib\\backends\\backend_agg.py:211: RuntimeWarning: Glyph 54840 missing from current font.\n",
      "  font.set_text(s, 0.0, flags=flags)\n",
      "C:\\Users\\ICT01_09\\Anaconda3\\lib\\site-packages\\matplotlib\\backends\\backend_agg.py:180: RuntimeWarning: Glyph 49888 missing from current font.\n",
      "  font.set_text(s, 0, flags=flags)\n",
      "C:\\Users\\ICT01_09\\Anaconda3\\lib\\site-packages\\matplotlib\\backends\\backend_agg.py:180: RuntimeWarning: Glyph 54840 missing from current font.\n",
      "  font.set_text(s, 0, flags=flags)\n"
     ]
    },
    {
     "data": {
      "image/png": "[encoded data removed]",
      "text/plain": [
       "<Figure size 432x72 with 1 Axes>"
      ]
     },
     "metadata": {
      "needs_background": "light"
     },
     "output_type": "display_data"
    }
   ],
   "source": [
    "S=mglearn.datasets.make_signals()\n",
    "plt.figure(figsize=(6,1))\n",
    "plt.plot(S,'-')\n",
    "plt.xlabel(\"시간\")\n",
    "plt.ylabel(\"신호\")\n",
    "plt.margins(0)"
   ]
  },
  {
   "cell_type": "code",
   "execution_count": 156,
   "metadata": {},
   "outputs": [
    {
     "name": "stdout",
     "output_type": "stream",
     "text": [
      "복원한 신호 데이터 형태 : (178, 3)\n"
     ]
    }
   ],
   "source": [
    "# 위의 그림과 같은 데이터가 들어온다 \n"
   ]
  },
  {
   "cell_type": "code",
   "execution_count": 160,
   "metadata": {},
   "outputs": [
    {
     "name": "stdout",
     "output_type": "stream",
     "text": [
      "측정데이터형태 : (2000, 100)\n"
     ]
    }
   ],
   "source": [
    "#아래는  노이즈 : 전송데이터  (노이즈가 섞인 데이터를 보자, )   # 위에서는 원본데이터를 보았다 \n",
    "import numpy as np\n",
    "A = np.random.RandomState(0).uniform(size=(100,3))\n",
    "X=np.dot(S,A.T)\n",
    "print(\"측정데이터형태 : {}\".format(X.shape))"
   ]
  },
  {
   "cell_type": "code",
   "execution_count": 162,
   "metadata": {},
   "outputs": [
    {
     "name": "stdout",
     "output_type": "stream",
     "text": [
      "복원한 신호 데이터 형태 : (2000, 3)\n"
     ]
    }
   ],
   "source": [
    "# NMF 로 처리한 데이터\n",
    "from sklearn.decomposition import NMF, PCA\n",
    "nmf = NMF(n_components=3, random_state=42)\n",
    "S_ = nmf.fit_transform(X)  # 이렇게 하면 복원이 된다 \n",
    "print(\"복원한 신호 데이터 형태 : {}\".format(S_.shape))"
   ]
  },
  {
   "cell_type": "code",
   "execution_count": 163,
   "metadata": {},
   "outputs": [],
   "source": [
    "pca = PCA(n_components=3)  #pca 는 양수데이터의 노이즈를 제거하지 못한다\n",
    "H=pca.fit_transform(X)"
   ]
  },
  {
   "cell_type": "code",
   "execution_count": 169,
   "metadata": {},
   "outputs": [],
   "source": [
    "from matplotlib import font_manager, rc\n",
    "font_name = font_manager.FontProperties(\n",
    "    fname='c:/Windows/Fonts/malgun.ttf').get_name()\n",
    "rc('font',family=font_name)  # 한글 안꺠지려면 이거 해주자"
   ]
  },
  {
   "cell_type": "code",
   "execution_count": 171,
   "metadata": {},
   "outputs": [
    {
     "data": {
      "image/png": "[encoded data removed]",
      "text/plain": [
       "<Figure size 576x576 with 4 Axes>"
      ]
     },
     "metadata": {},
     "output_type": "display_data"
    }
   ],
   "source": [
    "# 원본 =s,노이즈=x, NMF=s_, PCA=H   인데 NMF 로 복원한 이미지는 원본이랑 같다 ( pca로 복원한 이미지는 원본과 같지 않다 )\n",
    "# 즉 PCA 는 양수데이터의 노이즈를 제거하지 못했다 그러므로 NMF 를 쓰는게 좋다 !!\n",
    "\n",
    "models= [S,X,S_,H]\n",
    "names=['측정 신호 (처음3개)', '원본 신호','NMF 로 복원한 신호', 'PCA 로 복원한 신호']\n",
    "fig,axes = plt.subplots(4, figsize=(8,8), gridspec_kw={'hspace':5}, subplot_kw={'xticks':(), 'yticks':()})\n",
    "for model, name, ax in zip(models, names,axes):\n",
    "    ax.set_title(name)\n",
    "    ax.plot(model[:,:3],'-')\n",
    "    ax.margins(0)"
   ]
  },
  {
   "cell_type": "code",
   "execution_count": null,
   "metadata": {},
   "outputs": [],
   "source": []
  },
  {
   "cell_type": "code",
   "execution_count": null,
   "metadata": {},
   "outputs": [],
   "source": [
    "# 군집분석 시각화를 보자"
   ]
  },
  {
   "cell_type": "code",
   "execution_count": null,
   "metadata": {},
   "outputs": [],
   "source": []
  },
  {
   "cell_type": "code",
   "execution_count": null,
   "metadata": {},
   "outputs": [],
   "source": []
  },
  {
   "cell_type": "code",
   "execution_count": null,
   "metadata": {},
   "outputs": [],
   "source": []
  },
  {
   "cell_type": "code",
   "execution_count": null,
   "metadata": {},
   "outputs": [],
   "source": []
  },
  {
   "cell_type": "code",
   "execution_count": null,
   "metadata": {},
   "outputs": [],
   "source": []
  }
 ],
 "metadata": {
  "kernelspec": {
   "display_name": "Python 3",
   "language": "python",
   "name": "python3"
  },
  "language_info": {
   "codemirror_mode": {
    "name": "ipython",
    "version": 3
   },
   "file_extension": ".py",
   "mimetype": "text/x-python",
   "name": "python",
   "nbconvert_exporter": "python",
   "pygments_lexer": "ipython3",
   "version": "3.7.4"
  }
 },
 "nbformat": 4,
 "nbformat_minor": 2
}
