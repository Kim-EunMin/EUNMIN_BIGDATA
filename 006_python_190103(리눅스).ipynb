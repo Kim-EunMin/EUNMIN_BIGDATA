{
 "cells": [
  {
   "cell_type": "code",
   "execution_count": null,
   "metadata": {},
   "outputs": [],
   "source": [
    "#2020-01-03\n",
    "\n",
    "#anaconda prompt 들어가서 pip install pymysql  쓰고 온다.\n",
    "# linux 마우스오른쪽버튼 새로생성 -> (사진)"
   ]
  },
  {
   "cell_type": "code",
   "execution_count": null,
   "metadata": {},
   "outputs": [],
   "source": [
    "import pymysql\n",
    "# 네트워크 접속 은 OS 관리 \n",
    "conn = pymysql.connect(host='192.168.1.249',   #host 에는 내 아이피주소 \n",
    "                user='root',port=3306,password='dmsals0401',db='acconschool',\n",
    "                charset='utf8mb4',use_unicode=True,\n",
    "                       cursorclass=pymysql.cursors.DictCursor)\n",
    "cur = conn.cursor()   # 데이터베이스를 불러오는 것!! \n",
    "\n",
    "\n",
    "\n",
    " #table 하나 만들어보자.\n",
    "cur.execute(\"\"\"CREATE TABLE pet \n",
    "            (id  INT NOT NULL AUTO_INCREMENT,  \n",
    "            name VARCHAR(20), \n",
    "            owner VARCHAR(20),\n",
    "            species VARCHAR(20), \n",
    "             sex CHAR(1), \n",
    "             birth DATE, \n",
    "             death DATE, PRIMARY KEY (id)) ENGINE=InnoDB AUTO_INCREMENT=1\"\"\")\n",
    "print(cur.description)   # pet 이라는 데이터베이스가 만들어진다. \n",
    "conn.close          # 데이터베이스를 닫아줘야한다. "
   ]
  },
  {
   "cell_type": "code",
   "execution_count": null,
   "metadata": {},
   "outputs": [],
   "source": [
    "conn = pymysql.connect(host='192.168.1.249',   #host 에는 내 아이피주소 \n",
    "                user='root',port=3306,password='dmsals0401',db='acconschool',\n",
    "                charset='utf8mb4',use_unicode=True,\n",
    "                       cursorclass=pymysql.cursors.DictCursor)\n",
    "cur = conn.cursor()  # 데이터베이스 연결해준다. \n",
    "\n",
    "\n",
    "# 데이터 집어넣기 \n",
    "\n",
    "sql=\"\"\"INSERT INTO pet (name, owner, species, sex, birth, death)\n",
    "    VALUES (%s, %s, %s,%s,%s,%s) \"\"\"  # sql -> 포맷문자열로 처음에 만들어두면 중복 안되게 편하게 넣을 수 있다. \n",
    "cur.execute(sql, ('유리', 'acorn', '고양이','f','2014-1-1','2016-2-1'))\n",
    "cur.execute(sql, ('귀염', 'acorn', '강아지', 'f','2014-3-1','2016-9-1'))\n",
    "cur.execute(sql, ('들이', 'acorn', '곰', 'f','2014-8-1','2018-2-1'))\n",
    "conn.commit()\n",
    "\n",
    "\n"
   ]
  },
  {
   "cell_type": "code",
   "execution_count": null,
   "metadata": {},
   "outputs": [],
   "source": [
    "#rowcount 로 몇개 영향미치는지 실제 원하는 갯수랑 맞는지 확인가능, 다들어갔는지 확인가능"
   ]
  },
  {
   "cell_type": "code",
   "execution_count": null,
   "metadata": {},
   "outputs": [],
   "source": [
    "# 아래 같은 방법도 있다. (executemary 는 리스트로 데이터 넘겨주면서 여러개입력가능)\n",
    "cur.executemany(  # DB 에서 NULL 은 PYTHON 에서 NONE 이다\n",
    "    \"\"\" INSERT INTO pet(name, owner, species, sex,birth,death) \n",
    "    VALUES (%s, %s, %s,%s,%s,%s)\"\"\",\n",
    "    [('대한','민주','cat','f','2001-02-04',None),\n",
    "     ('민국','자유','cat', 'f', '2010-03-17', None),\n",
    "     ('만세','민주','cat','f','2010-05-13',None),\n",
    "     ('하자','민주','cat','m','2015-08-27',None),\n",
    "     ('성공','자유','cat','m','2017-08-31','2018-04-29'),\n",
    "    ])\n",
    "\n",
    "conn.commit()\n",
    "print(cur.rowcount)  # 5가 나온다. 내가 입력한게 5개였는데 여기서도 값이 5개 나온거니까 잘 쓴것!\n",
    "conn.close    # 실제 Heidisql 가면 데이터채워져있다.  데이터베이스 닫아준다.!"
   ]
  },
  {
   "cell_type": "code",
   "execution_count": null,
   "metadata": {},
   "outputs": [],
   "source": [
    "# 데이터 가져와보자\n",
    "    "
   ]
  },
  {
   "cell_type": "code",
   "execution_count": null,
   "metadata": {},
   "outputs": [],
   "source": [
    "cur = conn.cursor()\n",
    "cur.execute('select * from pet')  #이거 실행하면 recordset 생성됨\n",
    "print (cur.rowcount)   # 8\n",
    "cur.description      # 설명\n",
    "\n",
    "cur.fetchone()  # 1행 을 불러온다. ( fetchone 이 첫번째부터 행 1개씩 불러오는 것이다)\n",
    "cur.fetchone()\n",
    "cur.fetchone()\n",
    "recs = cur.fetchmany(2)  # 2개의 행을 불러오는 것이다(4,5 행 불러오는것)\n",
    "for rec in recs:\n",
    "    print(rec)\n",
    "recs = cur.fetchall()  # 모든 행을 불러오는 것이다. \n",
    "for rec in recs:\n",
    "    print (rec)\n",
    "cur.close()\n",
    "conn.close()"
   ]
  },
  {
   "cell_type": "code",
   "execution_count": null,
   "metadata": {},
   "outputs": [],
   "source": [
    "# 문제 : 생일이 2015-01-01 이후인 pet 을 출력하시오\n",
    "\n",
    "\n",
    "\n",
    "# heidisql 가서 쿼리문 먼저 만든다. \n",
    "\n",
    "## Heidisql 가서 쿼리문 생성해서 아래처럼 입력한다. \n",
    "# 생일이 2015-01-01 이후인 pet 을 출력하시오\n",
    "#SELECT * FROM pet WHERE birth >'2015-01-01';\n"
   ]
  },
  {
   "cell_type": "code",
   "execution_count": null,
   "metadata": {},
   "outputs": [],
   "source": [
    "conn = pymysql.connect(host='192.168.1.249',   \n",
    "                user='root',port=3306,password='dmsals0401',db='acconschool',\n",
    "                charset='utf8mb4',use_unicode=True,\n",
    "                       cursorclass=pymysql.cursors.DictCursor)\n",
    "\n",
    "cur=conn.cursor()\n",
    "\n",
    "cur.execute(\"\"\"SELECT * FROM pet WHERE birth >'2015-01-01';\"\"\")  # 이거 실행하면 recordset 생성됨\n",
    "row = cur.fetchall()\n",
    "for pet in row:\n",
    "    pet_val = list(pet.values())\n",
    "    print(\"ID=%d, Name=%s, 주인=%s\" % (pet_val[0], pet_val[1], pet_val[2]))\n",
    "\n",
    "    "
   ]
  },
  {
   "cell_type": "code",
   "execution_count": null,
   "metadata": {},
   "outputs": [],
   "source": [
    "\n",
    "# 문제 : 초심을 유리로 update 하시오\n",
    "sql = 'update pet set name=%s where name=%s'\n",
    "cur.execute(sql,('초심',\"유리\"))\n",
    "conn.commit()\n",
    "print(cur.rowcount)\n",
    "\n",
    "# 문제 : 유리를 삭제하시오(쿼리를 일반화)\n",
    "sql = 'delete from pet where name=%s'\n",
    "cur.execute(sql, '초심')\n",
    "conn.commit()\n",
    "print(cur.rowcount)\n",
    "cur.close()\n",
    "conn.close()\n",
    "    "
   ]
  },
  {
   "cell_type": "code",
   "execution_count": null,
   "metadata": {},
   "outputs": [],
   "source": [
    "# 지금까지  리눅스 서버에 있는 데이터베이스를 파이썬으로 가져온것!"
   ]
  },
  {
   "cell_type": "code",
   "execution_count": null,
   "metadata": {},
   "outputs": [],
   "source": [
    "\n"
   ]
  },
  {
   "cell_type": "code",
   "execution_count": null,
   "metadata": {},
   "outputs": [],
   "source": [
    "# Heidisql pet 가서 오른쪽 마우스 버튼 누르고 새로새성 - 자동루틴\n",
    "# 루틴 이름 : pet_select\n",
    "# 루틴본문\n",
    "#BEGIN\n",
    "#\tselect * from pet;\n",
    "#END"
   ]
  },
  {
   "cell_type": "code",
   "execution_count": null,
   "metadata": {},
   "outputs": [],
   "source": [
    "#pet_select 라는 자동루틴 실행해보자. (항상 먼저 heidisql 가서 생성해줘야한다)\n",
    "conn = pymysql.connect(host='192.168.1.249',   \n",
    "                user='root',port=3306,password='dmsals0401',db='acconschool',\n",
    "                charset='utf8mb4',use_unicode=True,\n",
    "                       cursorclass=pymysql.cursors.DictCursor)\n",
    "\n",
    "cur=conn.cursor()  # 이거 2개 문장은 항상 쌍으로 다녀야한다. (데이터베이스불러오기)\n",
    "\n",
    "cur.callproc('pet_select')  \n",
    "if(cur.rowcount) :          #가져온데이터가 있으면 fetchall 해라\n",
    "    print(cur.fetchall())\n",
    "cur.close()\n",
    "conn.close()\n",
    "\n"
   ]
  },
  {
   "cell_type": "code",
   "execution_count": null,
   "metadata": {},
   "outputs": [],
   "source": [
    "# 문제 insert 를 하는 프로시저를 생성한 다음\n",
    "# (\"마음이\", \"acorn\",\"백구\",'f', '2018-01-02', '2018-11-04') 데이터를 입력하라"
   ]
  },
  {
   "cell_type": "code",
   "execution_count": null,
   "metadata": {},
   "outputs": [],
   "source": [
    "#항상 먼저 heidisql 가서 생성해줘야한다) -> 매개변수 6개추가해서 만들어주기\n",
    "# 이름 : pet_insert 6개 매개변수 생성하고 본문에 내용 넣자."
   ]
  },
  {
   "cell_type": "code",
   "execution_count": null,
   "metadata": {},
   "outputs": [],
   "source": [
    "conn = pymysql.connect(host='192.168.1.249',   \n",
    "                user='root',port=3306,password='dmsals0401',db='acconschool',\n",
    "                charset='utf8mb4',use_unicode=True,\n",
    "                       cursorclass=pymysql.cursors.DictCursor)\n",
    "\n",
    "cur=conn.cursor() \n",
    "\n",
    "data = (\"마음이\", \"acorn\",\"백구\",'f', '2018-01-02', '2018-11-04')\n",
    "cur.callproc('pet_insert',data)  # 이렇게 하면서 데이터가 추가되는 것이다. \n",
    "\n",
    "conn.commit()  # 이걸 써야 다운이 된다. \n",
    "\n",
    "cur.close()\n",
    "conn.close()"
   ]
  },
  {
   "cell_type": "code",
   "execution_count": null,
   "metadata": {},
   "outputs": [],
   "source": [
    "# 저장프로시저 -> 이름 : pet_update\n",
    "# 매개변수 3개 넣기 ( SERACHNAME, updatename, res ,  res는 문맥 out 지정)\n",
    "\n",
    "#BEGIN\n",
    "#\tDECLARE cnt INT DEFAULT 0; # CNT=0 이고 INT 형을 만들라는 의미이다.\n",
    "#\tSELECT COUNT(*) INTO cnt FROM pet WHERE NAME = searchname; # 같은 놈이 있으면 count 가 올라감\n",
    "#\tIF cnt > 0 then UPDATE pet SET NAME = updatename \n",
    "#\t\tWHERE NAME = searchname;\n",
    "#\t\tSET res = 0;  # 변수에 값을 넣을땐 SET 필수!\n",
    "#\tELSE SET res = 2; # res 를 이용해서 정상이면 0을 return 없는 것이면 res =1 을 return 한다. \n",
    "#\tEND if ; \n",
    "#END"
   ]
  },
  {
   "cell_type": "code",
   "execution_count": null,
   "metadata": {},
   "outputs": [],
   "source": [
    "conn = pymysql.connect(host='192.168.1.249',   \n",
    "                user='root',port=3306,password='dmsals0401',db='acconschool',\n",
    "                charset='utf8mb4',use_unicode=True,\n",
    "                       cursorclass=pymysql.cursors.DictCursor)\n",
    "\n",
    "cur=conn.cursor() \n",
    "\n",
    "date = (\"마음이\",\"마음\",0)  #이거 3개인데 내부적으로  0,1,2 로 정해진다\n",
    "cur.callproc('pet_update',date) \n",
    "cur.execute('SELECT @_pet_update_2')\n",
    "#위에서 2가 return 값이다. 그래서 리턴 부르려면 update_2라고 한다.즉 이름이 결정 \n",
    "result = cur.fetchone()\n",
    "print(result['@_pet_update_2']) # 키이데이터 형식, 2번이면 수정할이름없다로 나옴\n",
    "if result['@_pet_update_2'] == 2:\n",
    "    print(\"수정할 이름이 없다\")\n",
    "else:\n",
    "    print(\"성공적으로 수정되었다\")\n",
    "conn.commit() # 커밋써야 된다. \n",
    "cur.close()\n",
    "conn.close()"
   ]
  },
  {
   "cell_type": "code",
   "execution_count": null,
   "metadata": {},
   "outputs": [],
   "source": [
    "# 삭제하는 저장루틴만들자 ( 이름 : pet_delete)\n",
    "# heidsql 가서 만들고 온다. \n",
    "#BEGIN\n",
    "#\tDECLARE cnt INT DEFAULT 0;\n",
    "#\tSELECT COUNT(*) INTO cnt from pet WHERE NAME = inname;  # count 에 나온값을 cnt 에 넣는다. \n",
    "#\tif cnt > 0 then DELETE FROM pet WHERE NAME = inname;\n",
    "#\t\tset res = 0;\n",
    "#\tELSE SET res = 2;\n",
    "#\tEND if;\n",
    "#END\n"
   ]
  },
  {
   "cell_type": "code",
   "execution_count": null,
   "metadata": {},
   "outputs": [],
   "source": [
    "conn = pymysql.connect(host='192.168.1.249',   \n",
    "                user='root',port=3306,password='dmsals0401',db='acconschool',\n",
    "                charset='utf8mb4',use_unicode=True,\n",
    "                       cursorclass=pymysql.cursors.DictCursor)\n",
    "\n",
    "cur=conn.cursor() \n",
    "\n",
    "date = ('귀염', 0)\n",
    "cur.callproc('pet_delete',date)\n",
    "cur.execute('SELECT @_pet_delete_1')\n",
    "result = cur.fetchone()\n",
    "print(result['@_pet_delete_1'])\n",
    "if result['@_pet_delete_1'] == 2:\n",
    "    print(\"삭제할 이름이 없다\")\n",
    "else:\n",
    "    print(\"성공적으로 삭제했다\")\n",
    "    \n",
    "    \n",
    "conn.commit()\n",
    "cur.close()\n",
    "conn.close()"
   ]
  },
  {
   "cell_type": "code",
   "execution_count": null,
   "metadata": {},
   "outputs": [],
   "source": [
    "conn = pymysql.connect(host='192.168.1.249',   \n",
    "                user='root',port=3306,password='dmsals0401',db='acconschool',\n",
    "                charset='utf8mb4',use_unicode=True,\n",
    "                       cursorclass=pymysql.cursors.DictCursor)\n",
    "\n",
    "cur=conn.cursor() \n",
    "\n",
    "try:  #Exception : 예외처리 : 프로그램은 지속적으로 실행되어야하므로 \n",
    "    date = ('귀염', 0)\n",
    "    cur.callproc('pet_delete',date)\n",
    "    cur.execute('SELECT @_pet_delete_1')\n",
    "    result = cur.fetchone()\n",
    "    print(result['@_pet_delete_1'])\n",
    "    if result['@_pet_delete_1'] == 2:\n",
    "        print(\"삭제할 이름이 없다\")\n",
    "    else:\n",
    "        print(\"성공적으로 삭제했다\")\n",
    "except:\n",
    "    conn.db.rollback()\n",
    "cur.close()\n",
    "conn.close()"
   ]
  },
  {
   "cell_type": "code",
   "execution_count": null,
   "metadata": {},
   "outputs": [],
   "source": [
    "# 시도했다 ->> 실행했는데 error 가 걸리면 except문으로 간다. (예외 처리)\n",
    "# 프로그램은 지속적으로 실행되어야 하므로 try - except 문을 사용한다. \n",
    "\n",
    "# 즉 except 문에 롤백을 썼으므로 실행하다 error 가 나면 데이터 실행전으로 돌아간다. "
   ]
  },
  {
   "cell_type": "code",
   "execution_count": null,
   "metadata": {},
   "outputs": [],
   "source": [
    "#hgybid sql 에 student 만들기\n",
    "# 저장루틴만든다 sungjuk_insert  (매개변수4)\n",
    "# 저장루틴 : sungjuk_select \n",
    "# 저장루틴 : sungjuk_update (매개변수 6)\n",
    "# 저장루틴 : sungjuk_delete\n"
   ]
  },
  {
   "cell_type": "code",
   "execution_count": null,
   "metadata": {},
   "outputs": [],
   "source": [
    "# 도서관리 프로그램, 게시판, 전화부관리 등등"
   ]
  },
  {
   "cell_type": "code",
   "execution_count": 24,
   "metadata": {},
   "outputs": [],
   "source": [
    "import pymysql\n",
    "class Student:\n",
    "    def __init__(self):\n",
    "        self.bunho = 0\n",
    "        self.name =''\n",
    "        self.kor = 0\n",
    "        self.eng = 0\n",
    "        self.mat = 0\n",
    "        self.total = 0\n",
    "        self.average = 0\n",
    "        self.grade = \"\"\n",
    "    def inputData(self):\n",
    "        self.name = input(\"이름을 입력하세요\")\n",
    "        self.kor = eval(input(\"국어 점수:\"))\n",
    "        self.eng = eval(input(\"영어 점수:\"))\n",
    "        self.mat = eval(input(\"수학 점수:\"))\n",
    "    def calc_total_average(self):\n",
    "        self.total = self.kor + self.mat + self.eng\n",
    "        self.average = round(self.total/3,2)\n",
    "        self.grade =self.calcSemGrade()\n",
    "    def calcSemGrade(self):\n",
    "        if self.average >= 90:\n",
    "            return \"A\"\n",
    "        elif self.average >= 80:\n",
    "            return \"B\"\n",
    "        elif self.average >= 70:\n",
    "            return \"C\"\n",
    "        elif self.average >= 60:\n",
    "            return \"D\"\n",
    "        else:\n",
    "            return \"F\"\n",
    "        \n",
    "    def __str__(self):           \n",
    "        return '%5s %5s %6s %6s %6s %7s %7s %s' %(self.bunho,self.name, self.kor, self.mat, self.eng, self.total, self.average, self.grade)\n",
    "    def __cmp__(self,other):\n",
    "        return self.name == other.name\n",
    "    def __call__(self,other):  # 클래스를 함수처럼 사용하고자 할때 오버라이딩\n",
    "        st = []\n",
    "        for student in other:\n",
    "            stp = Student()\n",
    "            stp.name=student[0]\n",
    "            stp.kor = student[1]\n",
    "            stp.eng = student[2]\n",
    "            stp.mat = student[3]\n",
    "            st.append(stp)\n",
    "        return st"
   ]
  },
  {
   "cell_type": "code",
   "execution_count": 25,
   "metadata": {},
   "outputs": [],
   "source": [
    "class maria:\n",
    "    schoolname = \"에이콘 아카데미\"\n",
    "    def __init__(self):\n",
    "        self.conn = pymysql.connect(host='192.168.1.249', port=3306, user='root',\n",
    "                           password='dmsals0401',db='acconschool', charset='utf8',\n",
    "                                    autocommit=True)\n",
    "        cor = self.conn.cursor()\n",
    "        cor.execute(\"SHOW TABLES\") \n",
    "        tables = cor.fetchall()\n",
    "        c = []\n",
    "        for i in tables:\n",
    "            if  i == ('sungjuk',):  # 콤마가 없으면 error 가 난다. \n",
    "                c.append(i)\n",
    "        if len(c) != 0:\n",
    "            sungjuk_table = \"SELECT * FROM sungjuk\"\n",
    "            cor.execute(sungjuk_table)\n",
    "            print('테이블이 있습니다. ')\n",
    "        else:\n",
    "            cor.execute(\"CREATE TABLE sungjuk (name VARCHAR(20), kor INTEGER(20),  mat INTEGER(20),eng INTEGER(20))\")\n",
    "            print('sungjuk테이블을 생성하였습니다. ')\n",
    "    def __del__(self):\n",
    "        self.conn.close()\n",
    "\n",
    "    def selectdb(self ):   \n",
    "        cur = self.conn.cursor()\n",
    "        cur.callproc(\"sungjuk_select\")\n",
    "        if (cur.rowcount):\n",
    "            stu = list(cur.fetchall())\n",
    "        else :\n",
    "            stu = 0;\n",
    "        cur.close()\n",
    "        return stu\n",
    "   \n",
    "    def insertdb(self,name, kor, mat, eng):\n",
    "        cur = self.conn.cursor()\n",
    "        args = (name, kor, mat, eng)\n",
    "        cur.callproc(\"sungjuk_insert\",args)\n",
    "        cur.close()\n",
    "       \n",
    "    def updatedb(self, in_name, up_name):\n",
    "        cur = self.conn.cursor()\n",
    "        args = (in_name, up_name, 0)\n",
    "        cur.callproc(\"sungjuk_update\", args)\n",
    "        cur.execute('SELECT @_sungjuk_update_2')\n",
    "        result = cur.fetchone()\n",
    "        if result==2 :\n",
    "            print(\"수정할 이름이 없습니다.\")\n",
    "        else :\n",
    "            print(\"성공적으로 수정하였습니다. \")\n",
    "        cur.close()\n",
    "        return result \n",
    "   \n",
    "    def deletedb(self,in_name):\n",
    "        cur = self.conn.cursor()\n",
    "        args = (in_name, 0)\n",
    "        cur.callproc(\"sungjuk_delete\", args)\n",
    "        cur.execute('SELECT @_sungjuk_delete_1')\n",
    "        result = cur.fetchone()\n",
    "        if result==2 :\n",
    "            print(\"삭제할 이름이 없습니다.\")\n",
    "        else :\n",
    "            print(\"성공적으로 삭제하였습니다. \")\n",
    "        cur.close()\n",
    "        return result\n",
    "             "
   ]
  },
  {
   "cell_type": "code",
   "execution_count": 26,
   "metadata": {},
   "outputs": [],
   "source": [
    "from math import  *\n",
    "from statistics import *\n",
    "\n",
    "class Management:\n",
    "    def __init__(self):\n",
    "        self.maria = maria()\n",
    "    def M_select(self):\n",
    "        data = self.maria.selectdb()\n",
    "        st = []\n",
    "        if (data):\n",
    "            for student in data:\n",
    "                stp = Student()\n",
    "                stp.name = student[0]\n",
    "                stp.kor = student[1]\n",
    "                stp.eng = student[2]\n",
    "                stp.mat = student[3]\n",
    "                st.append(stp)                    \n",
    "            # studdata=Student((data))\n",
    "            print(maria.schoolname + \"  성적 계산표 \")\n",
    "            print('%5s %5s %6s %6s %6s %6s  %6s %6s' % ('번 호', '이 름', '국 어',\n",
    "                    '수 학', '영  어', '총 점', '평 균', '학 점' ))      \n",
    "            for stud in st:\n",
    "                print( stud)                     \n",
    "        else :\n",
    "            print(\"데이터가 없습니다. . \")\n",
    "           \n",
    "    def M_insert(self):\n",
    "        stu = Student()          # 데이터 입력\n",
    "        stu.inputData()\n",
    "        self.maria.insertdb(stu.name, stu.kor, stu.mat, stu.eng)\n",
    "    def M_update(self):\n",
    "        name = input(\"검색할 이름을 입력하시요\")\n",
    "        replace_name = input(\"수정할 이름을 입력하시요\") \n",
    "        # 이름 찾아서 다른 과목도 바꿀거면 sql 가서 매개변수 추가한다.\n",
    "        #replace_kor = eval(input(\"국어\"))\n",
    "        #replace_mat = eval(input(\"수학\"))\n",
    "        #replace_eng = eval(input(\"영어\"))\n",
    "        #result=self.maria.updatedb(name, replace_name,replace_kor,replace_mat,replace_eng)\n",
    "        # 라고 하면 된다.  replace_kor 가 매개변수의 in_kor 랑 맵핑이 된다. \n",
    "        result=self.maria.updatedb(name, replace_name)  \n",
    "    def M_delete(self):       \n",
    "        name = input(\"검색할 이름을 입력하시요\")\n",
    "        self.maria.deletedb(name)     "
   ]
  },
  {
   "cell_type": "code",
   "execution_count": 27,
   "metadata": {},
   "outputs": [],
   "source": [
    "#전화번호 만들거나  등등 과제내개"
   ]
  },
  {
   "cell_type": "code",
   "execution_count": 28,
   "metadata": {},
   "outputs": [
    {
     "name": "stdout",
     "output_type": "stream",
     "text": [
      "테이블이 있습니다. \n",
      "테이블이 있습니다. \n",
      "['전체검색(1), 입력(2), 수정(3), 삭제(4), 종료(9)']1\n",
      "에이콘 아카데미  성적 계산표 \n",
      "  번 호   이 름    국 어    수 학   영  어    총 점     평 균    학 점\n",
      "    0     1    김은민     40     20       0       0 \n",
      "['전체검색(1), 입력(2), 수정(3), 삭제(4), 종료(9)']2\n",
      "이름을 입력하세요김은민\n",
      "국어 점수:20\n",
      "영어 점수:30\n",
      "수학 점수:40\n",
      "['전체검색(1), 입력(2), 수정(3), 삭제(4), 종료(9)']1\n",
      "에이콘 아카데미  성적 계산표 \n",
      "  번 호   이 름    국 어    수 학   영  어    총 점     평 균    학 점\n",
      "    0     1    김은민     40     20       0       0 \n",
      "    0     2    김은민     40     20       0       0 \n",
      "['전체검색(1), 입력(2), 수정(3), 삭제(4), 종료(9)']3\n",
      "검색할 이름을 입력하시요김은민\n",
      "수정할 이름을 입력하시요김은민민\n",
      "성공적으로 수정하였습니다. \n",
      "['전체검색(1), 입력(2), 수정(3), 삭제(4), 종료(9)']1\n",
      "에이콘 아카데미  성적 계산표 \n",
      "  번 호   이 름    국 어    수 학   영  어    총 점     평 균    학 점\n",
      "    0     1   김은민민     40     20       0       0 \n",
      "    0     2   김은민민     40     20       0       0 \n",
      "['전체검색(1), 입력(2), 수정(3), 삭제(4), 종료(9)']4\n",
      "검색할 이름을 입력하시요김은민민\n",
      "성공적으로 삭제하였습니다. \n",
      "['전체검색(1), 입력(2), 수정(3), 삭제(4), 종료(9)']1\n",
      "데이터가 없습니다. . \n",
      "['전체검색(1), 입력(2), 수정(3), 삭제(4), 종료(9)']9\n"
     ]
    },
    {
     "ename": "SystemExit",
     "evalue": "",
     "output_type": "error",
     "traceback": [
      "An exception has occurred, use %tb to see the full traceback.\n",
      "\u001b[1;31mSystemExit\u001b[0m\n"
     ]
    },
    {
     "name": "stderr",
     "output_type": "stream",
     "text": [
      "C:\\Users\\ICT01_17\\Anaconda3\\lib\\site-packages\\IPython\\core\\interactiveshell.py:3334: UserWarning: To exit: use 'exit', 'quit', or Ctrl-D.\n",
      "  warn(\"To exit: use 'exit', 'quit', or Ctrl-D.\", stacklevel=1)\n"
     ]
    }
   ],
   "source": [
    "import sys\n",
    "class Menu():\n",
    "    def __init__(self):\n",
    "        self.manage = Management()\n",
    "       \n",
    "    def work(self):\n",
    "        menu = [ \"전체검색(1), 입력(2), 수정(3), 삭제(4), 종료(9)\"]\n",
    "        manage = Management()\n",
    "        while 1:\n",
    "            sel = input(menu)\n",
    "            if  sel == \"1\":\n",
    "                manage.M_select()\n",
    "                continue\n",
    "            elif sel == \"2\":\n",
    "                manage.M_insert()\n",
    "                continue       \n",
    "            elif sel ==\"3\":\n",
    "                manage.M_update()\n",
    "                continue\n",
    "            elif sel ==\"4\":\n",
    "                manage.M_delete()\n",
    "            elif sel ==\"9\":\n",
    "                del(manage)\n",
    "                sys.exit()\n",
    "            else :\n",
    "                print(\"잘못된 입력입니다. 다시입력 하시요\")\n",
    "                continue\n",
    "           \n",
    "menu = Menu()\n",
    "menu.work() "
   ]
  },
  {
   "cell_type": "code",
   "execution_count": null,
   "metadata": {},
   "outputs": [],
   "source": []
  },
  {
   "cell_type": "code",
   "execution_count": null,
   "metadata": {},
   "outputs": [],
   "source": []
  },
  {
   "cell_type": "code",
   "execution_count": null,
   "metadata": {},
   "outputs": [],
   "source": [
    "#pycharm 다운받기(커뮤니티하자)\n",
    "#w3schools 라고 구글검색 (html example 에 쓰인 것과같이 쓰여야한다. ) -> 공부사이트 \n",
    "#image, table, link, javascript 가 중요\n",
    "# # bootstrap \n",
    "#인프런 html ,css 이거 보자. "
   ]
  },
  {
   "cell_type": "code",
   "execution_count": null,
   "metadata": {},
   "outputs": [],
   "source": [
    "#pycharm  다운\n",
    "# add launchers dir to the path 체크\n",
    " \n",
    "    #실행\n",
    "설치하고 나서\n",
    "anaconda prompt 에 pip install flask 해주기 "
   ]
  },
  {
   "cell_type": "code",
   "execution_count": null,
   "metadata": {},
   "outputs": [],
   "source": []
  },
  {
   "cell_type": "code",
   "execution_count": null,
   "metadata": {},
   "outputs": [],
   "source": []
  },
  {
   "cell_type": "code",
   "execution_count": null,
   "metadata": {},
   "outputs": [],
   "source": []
  },
  {
   "cell_type": "code",
   "execution_count": null,
   "metadata": {},
   "outputs": [],
   "source": []
  }
 ],
 "metadata": {
  "kernelspec": {
   "display_name": "Python 3",
   "language": "python",
   "name": "python3"
  },
  "language_info": {
   "codemirror_mode": {
    "name": "ipython",
    "version": 3
   },
   "file_extension": ".py",
   "mimetype": "text/x-python",
   "name": "python",
   "nbconvert_exporter": "python",
   "pygments_lexer": "ipython3",
   "version": "3.7.4"
  }
 },
 "nbformat": 4,
 "nbformat_minor": 2
}
