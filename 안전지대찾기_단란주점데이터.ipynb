{
 "cells": [
  {
   "cell_type": "code",
   "execution_count": 1,
   "metadata": {},
   "outputs": [],
   "source": [
    "import pandas as pd"
   ]
  },
  {
   "cell_type": "code",
   "execution_count": 107,
   "metadata": {},
   "outputs": [],
   "source": [
    "jeju = pd.read_excel('C:/Users/ICT01_14/Desktop/제주특별자치도_제주시_단란주점현황_20180430.xlsx')\n",
    "segi = pd.read_excel('C:/Users/ICT01_14/Desktop/제주특별자치도_서귀포시_단란주점현황_20180630.xlsx')"
   ]
  },
  {
   "cell_type": "code",
   "execution_count": 108,
   "metadata": {},
   "outputs": [],
   "source": [
    "needs = ['업종명', '업소명', '소재지(도로명)']"
   ]
  },
  {
   "cell_type": "code",
   "execution_count": 109,
   "metadata": {},
   "outputs": [],
   "source": [
    "jeju = jeju[needs]\n",
    "segi = segi[needs]"
   ]
  },
  {
   "cell_type": "code",
   "execution_count": 110,
   "metadata": {},
   "outputs": [],
   "source": [
    "jeju_alcohol = pd.concat([jeju, segi], axis=0)"
   ]
  },
  {
   "cell_type": "code",
   "execution_count": 114,
   "metadata": {},
   "outputs": [],
   "source": [
    "jeju_alcohol.reset_index(drop=True, inplace=True)"
   ]
  },
  {
   "cell_type": "code",
   "execution_count": 116,
   "metadata": {},
   "outputs": [],
   "source": [
    "# 미리 읍면동 만들어서 값 채워두기\n",
    "jeju_alcohol['읍면동'] = '읍면동'"
   ]
  },
  {
   "cell_type": "code",
   "execution_count": 97,
   "metadata": {
    "scrolled": true
   },
   "outputs": [],
   "source": [
    "# 해당하는 동으로 값 바꿔주기"
   ]
  },
  {
   "cell_type": "code",
   "execution_count": 118,
   "metadata": {},
   "outputs": [],
   "source": [
    "index = jeju_alcohol[jeju_alcohol['소재지(도로명)'].str.contains('서귀동') == True].index\n",
    "jeju_alcohol.loc[index, '읍면동'] = '서귀동'"
   ]
  },
  {
   "cell_type": "code",
   "execution_count": 120,
   "metadata": {},
   "outputs": [],
   "source": [
    "index = jeju_alcohol[jeju_alcohol['소재지(도로명)'].str.contains('강정동') == True].index\n",
    "jeju_alcohol.loc[index, '읍면동'] = '강정동'\n",
    "\n",
    "index = jeju_alcohol[jeju_alcohol['소재지(도로명)'].str.contains('건입동') == True].index\n",
    "jeju_alcohol.loc[index, '읍면동'] = '건입동'\n",
    "\n",
    "index = jeju_alcohol[jeju_alcohol['소재지(도로명)'].str.contains('구좌읍') == True].index\n",
    "jeju_alcohol.loc[index, '읍면동'] = '구좌읍'\n",
    "\n",
    "index = jeju_alcohol[jeju_alcohol['소재지(도로명)'].str.contains('남원읍') == True].index\n",
    "jeju_alcohol.loc[index, '읍면동'] = '남원읍'\n",
    "\n",
    "index = jeju_alcohol[jeju_alcohol['소재지(도로명)'].str.contains('내도동') == True].index\n",
    "jeju_alcohol.loc[index, '읍면동'] = '내도동'\n",
    "\n",
    "index = jeju_alcohol[jeju_alcohol['소재지(도로명)'].str.contains('노형동') == True].index\n",
    "jeju_alcohol.loc[index, '읍면동'] = '노형동'\n",
    "\n",
    "index = jeju_alcohol[jeju_alcohol['소재지(도로명)'].str.contains('대정읍') == True].index\n",
    "jeju_alcohol.loc[index, '읍면동'] = '대정읍'\n",
    "\n",
    "index = jeju_alcohol[jeju_alcohol['소재지(도로명)'].str.contains('대포동') == True].index\n",
    "jeju_alcohol.loc[index, '읍면동'] = '대포동'\n",
    "\n",
    "index = jeju_alcohol[jeju_alcohol['소재지(도로명)'].str.contains('도남동') == True].index\n",
    "jeju_alcohol.loc[index, '읍면동'] = '도남동'"
   ]
  },
  {
   "cell_type": "code",
   "execution_count": 123,
   "metadata": {},
   "outputs": [],
   "source": [
    "index = jeju_alcohol[jeju_alcohol['소재지(도로명)'].str.contains('도두이동') == True].index\n",
    "jeju_alcohol.loc[index, '읍면동'] = '도두이동'\n",
    "\n",
    "index = jeju_alcohol[jeju_alcohol['소재지(도로명)'].str.contains('도두일동') == True].index\n",
    "jeju_alcohol.loc[index, '읍면동'] = '도두일동'\n",
    "\n",
    "index = jeju_alcohol[jeju_alcohol['소재지(도로명)'].str.contains('도련이동') == True].index\n",
    "jeju_alcohol.loc[index, '읍면동'] = '도련이동'\n",
    "\n",
    "index = jeju_alcohol[jeju_alcohol['소재지(도로명)'].str.contains('도련일동') == True].index\n",
    "jeju_alcohol.loc[index, '읍면동'] = '도련일동'\n",
    "\n",
    "index = jeju_alcohol[jeju_alcohol['소재지(도로명)'].str.contains('도순동') == True].index\n",
    "jeju_alcohol.loc[index, '읍면동'] = '도순동'\n",
    "\n",
    "index = jeju_alcohol[jeju_alcohol['소재지(도로명)'].str.contains('도평동') == True].index\n",
    "jeju_alcohol.loc[index, '읍면동'] = '도평동'\n",
    "\n",
    "index = jeju_alcohol[jeju_alcohol['소재지(도로명)'].str.contains('동홍동') == True].index\n",
    "jeju_alcohol.loc[index, '읍면동'] = '동홍동'"
   ]
  },
  {
   "cell_type": "code",
   "execution_count": 124,
   "metadata": {},
   "outputs": [],
   "source": [
    "index = jeju_alcohol[jeju_alcohol['소재지(도로명)'].str.contains('법환동') == True].index\n",
    "jeju_alcohol.loc[index, '읍면동'] = '법환동'\n",
    "\n",
    "index = jeju_alcohol[jeju_alcohol['소재지(도로명)'].str.contains('보목동') == True].index\n",
    "jeju_alcohol.loc[index, '읍면동'] = '보목동'\n",
    "\n",
    "index = jeju_alcohol[jeju_alcohol['소재지(도로명)'].str.contains('봉개동') == True].index\n",
    "jeju_alcohol.loc[index, '읍면동'] = '봉개동'"
   ]
  },
  {
   "cell_type": "code",
   "execution_count": 125,
   "metadata": {},
   "outputs": [],
   "source": [
    "index = jeju_alcohol[jeju_alcohol['소재지(도로명)'].str.contains('삼도이동') == True].index\n",
    "jeju_alcohol.loc[index, '읍면동'] = '삼도이동'\n",
    "\n",
    "index = jeju_alcohol[jeju_alcohol['소재지(도로명)'].str.contains('삼도일동') == True].index\n",
    "jeju_alcohol.loc[index, '읍면동'] = '삼도일동'\n",
    "\n",
    "index = jeju_alcohol[jeju_alcohol['소재지(도로명)'].str.contains('삼양삼동') == True].index\n",
    "jeju_alcohol.loc[index, '읍면동'] = '삼양삼동'\n",
    "\n",
    "index = jeju_alcohol[jeju_alcohol['소재지(도로명)'].str.contains('삼양이동') == True].index\n",
    "jeju_alcohol.loc[index, '읍면동'] = '삼양이동'\n",
    "\n",
    "index = jeju_alcohol[jeju_alcohol['소재지(도로명)'].str.contains('삼양일동') == True].index\n",
    "jeju_alcohol.loc[index, '읍면동'] = '삼양일동'"
   ]
  },
  {
   "cell_type": "code",
   "execution_count": 126,
   "metadata": {},
   "outputs": [],
   "source": [
    "index = jeju_alcohol[jeju_alcohol['소재지(도로명)'].str.contains('상예동') == True].index\n",
    "jeju_alcohol.loc[index, '읍면동'] = '상예동'\n",
    "\n",
    "index = jeju_alcohol[jeju_alcohol['소재지(도로명)'].str.contains('상효동') == True].index\n",
    "jeju_alcohol.loc[index, '읍면동'] = '상효동'\n",
    "\n",
    "index = jeju_alcohol[jeju_alcohol['소재지(도로명)'].str.contains('색달동') == True].index\n",
    "jeju_alcohol.loc[index, '읍면동'] = '색달동'\n",
    "\n",
    "index = jeju_alcohol[jeju_alcohol['소재지(도로명)'].str.contains('서귀동') == True].index\n",
    "jeju_alcohol.loc[index, '읍면동'] = '서귀동'\n",
    "\n",
    "index = jeju_alcohol[jeju_alcohol['소재지(도로명)'].str.contains('서호동') == True].index\n",
    "jeju_alcohol.loc[index, '읍면동'] = '서호동'\n",
    "\n",
    "index = jeju_alcohol[jeju_alcohol['소재지(도로명)'].str.contains('성산읍') == True].index\n",
    "jeju_alcohol.loc[index, '읍면동'] = '성산읍'\n",
    "\n",
    "index = jeju_alcohol[jeju_alcohol['소재지(도로명)'].str.contains('봉개동') == True].index\n",
    "jeju_alcohol.loc[index, '읍면동'] = '봉개동'\n",
    "\n",
    "index = jeju_alcohol[jeju_alcohol['소재지(도로명)'].str.contains('삼도이동') == True].index\n",
    "jeju_alcohol.loc[index, '읍면동'] = '삼도이동'\n",
    "\n",
    "index = jeju_alcohol[jeju_alcohol['소재지(도로명)'].str.contains('삼도일동') == True].index\n",
    "jeju_alcohol.loc[index, '읍면동'] = '삼도일동'\n",
    "\n",
    "index = jeju_alcohol[jeju_alcohol['소재지(도로명)'].str.contains('삼양삼동') == True].index\n",
    "jeju_alcohol.loc[index, '읍면동'] = '삼양삼동'\n",
    "\n",
    "index = jeju_alcohol[jeju_alcohol['소재지(도로명)'].str.contains('삼양이동') == True].index\n",
    "jeju_alcohol.loc[index, '읍면동'] = '삼양이동'\n",
    "\n",
    "\n",
    "index = jeju_alcohol[jeju_alcohol['소재지(도로명)'].str.contains('상예동') == True].index\n",
    "jeju_alcohol.loc[index, '읍면동'] = '상예동'\n",
    "\n",
    "\n",
    "index = jeju_alcohol[jeju_alcohol['소재지(도로명)'].str.contains('상효동') == True].index\n",
    "jeju_alcohol.loc[index, '읍면동'] = '상효동'\n",
    "\n",
    "\n",
    "index = jeju_alcohol[jeju_alcohol['소재지(도로명)'].str.contains('색달동') == True].index\n",
    "jeju_alcohol.loc[index, '읍면동'] = '색달동'\n",
    "\n",
    "\n",
    "index = jeju_alcohol[jeju_alcohol['소재지(도로명)'].str.contains('서귀동') == True].index\n",
    "jeju_alcohol.loc[index, '읍면동'] = '서귀동'"
   ]
  },
  {
   "cell_type": "code",
   "execution_count": 127,
   "metadata": {},
   "outputs": [],
   "source": [
    "index = jeju_alcohol[jeju_alcohol['소재지(도로명)'].str.contains('서호동') == True].index\n",
    "jeju_alcohol.loc[index, '읍면동'] = '서호동'\n",
    "\n",
    "index = jeju_alcohol[jeju_alcohol['소재지(도로명)'].str.contains('서홍동') == True].index\n",
    "jeju_alcohol.loc[index, '읍면동'] = '서홍동'\n",
    "\n",
    "index = jeju_alcohol[jeju_alcohol['소재지(도로명)'].str.contains('성산읍') == True].index\n",
    "jeju_alcohol.loc[index, '읍면동'] = '성산읍'\n",
    "\n",
    "index = jeju_alcohol[jeju_alcohol['소재지(도로명)'].str.contains('신효동') == True].index\n",
    "jeju_alcohol.loc[index, '읍면동'] = '신효동'\n",
    "\n",
    "\n",
    "index = jeju_alcohol[jeju_alcohol['소재지(도로명)'].str.contains('아라이동') == True].index\n",
    "jeju_alcohol.loc[index, '읍면동'] = '아라이동'\n",
    "\n",
    "index = jeju_alcohol[jeju_alcohol['소재지(도로명)'].str.contains('아라일동') == True].index\n",
    "jeju_alcohol.loc[index, '읍면동'] = '아라일동'\n",
    "\n",
    "index = jeju_alcohol[jeju_alcohol['소재지(도로명)'].str.contains('안덕면') == True].index\n",
    "jeju_alcohol.loc[index, '읍면동'] = '안덕면'\n",
    "\n",
    "index = jeju_alcohol[jeju_alcohol['소재지(도로명)'].str.contains('애월읍') == True].index\n",
    "jeju_alcohol.loc[index, '읍면동'] = '애월읍'\n",
    "\n",
    "index = jeju_alcohol[jeju_alcohol['소재지(도로명)'].str.contains('연동') == True].index\n",
    "jeju_alcohol.loc[index, '읍면동'] = '연동'\n",
    "\n",
    "\n",
    "index = jeju_alcohol[jeju_alcohol['소재지(도로명)'].str.contains('영남동') == True].index\n",
    "jeju_alcohol.loc[index, '읍면동'] = '영남동'\n",
    "\n",
    "index = jeju_alcohol[jeju_alcohol['소재지(도로명)'].str.contains('영평동') == True].index\n",
    "jeju_alcohol.loc[index, '읍면동'] = '영평동'\n",
    "\n",
    "index = jeju_alcohol[jeju_alcohol['소재지(도로명)'].str.contains('오등동') == True].index\n",
    "jeju_alcohol.loc[index, '읍면동'] = '오등동'"
   ]
  },
  {
   "cell_type": "code",
   "execution_count": 128,
   "metadata": {},
   "outputs": [],
   "source": [
    "index = jeju_alcohol[jeju_alcohol['소재지(도로명)'].str.contains('오라삼동') == True].index\n",
    "jeju_alcohol.loc[index, '읍면동'] = '오라삼동'"
   ]
  },
  {
   "cell_type": "code",
   "execution_count": 129,
   "metadata": {},
   "outputs": [],
   "source": [
    "index = jeju_alcohol[jeju_alcohol['소재지(도로명)'].str.contains('오라이동') == True].index\n",
    "jeju_alcohol.loc[index, '읍면동'] = '오라이동'\n",
    "\n",
    "index = jeju_alcohol[jeju_alcohol['소재지(도로명)'].str.contains('오라일동') == True].index\n",
    "jeju_alcohol.loc[index, '읍면동'] = '오라일동'\n",
    "\n",
    "index = jeju_alcohol[jeju_alcohol['소재지(도로명)'].str.contains('외도이동') == True].index\n",
    "jeju_alcohol.loc[index, '읍면동'] = '외도이동'"
   ]
  },
  {
   "cell_type": "code",
   "execution_count": 130,
   "metadata": {},
   "outputs": [],
   "source": [
    "index = jeju_alcohol[jeju_alcohol['소재지(도로명)'].str.contains('외도일동') == True].index\n",
    "jeju_alcohol.loc[index, '읍면동'] = '외도일동'\n",
    "\n",
    "index = jeju_alcohol[jeju_alcohol['소재지(도로명)'].str.contains('용강동') == True].index\n",
    "jeju_alcohol.loc[index, '읍면동'] = '용강동'\n",
    "\n",
    "index = jeju_alcohol[jeju_alcohol['소재지(도로명)'].str.contains('용담삼동') == True].index\n",
    "jeju_alcohol.loc[index, '읍면동'] = '용담삼동'\n",
    "\n",
    "index = jeju_alcohol[jeju_alcohol['소재지(도로명)'].str.contains('용담이동') == True].index\n",
    "jeju_alcohol.loc[index, '읍면동'] = '용담이동'\n",
    "\n",
    "index = jeju_alcohol[jeju_alcohol['소재지(도로명)'].str.contains('용담일동') == True].index\n",
    "jeju_alcohol.loc[index, '읍면동'] = '용담일동'\n",
    "\n",
    "index = jeju_alcohol[jeju_alcohol['소재지(도로명)'].str.contains('우도면') == True].index\n",
    "jeju_alcohol.loc[index, '읍면동'] = '우도면'\n",
    "\n",
    "index = jeju_alcohol[jeju_alcohol['소재지(도로명)'].str.contains('월평동') == True].index\n",
    "jeju_alcohol.loc[index, '읍면동'] = '월평동'\n",
    "\n",
    "index = jeju_alcohol[jeju_alcohol['소재지(도로명)'].str.contains('이도이동') == True].index\n",
    "jeju_alcohol.loc[index, '읍면동'] = '이도이동'\n",
    "\n",
    "\n",
    "index = jeju_alcohol[jeju_alcohol['소재지(도로명)'].str.contains('이도일동') == True].index\n",
    "jeju_alcohol.loc[index, '읍면동'] = '이도일동'\n",
    "\n",
    "index = jeju_alcohol[jeju_alcohol['소재지(도로명)'].str.contains('이호이동') == True].index\n",
    "jeju_alcohol.loc[index, '읍면동'] = '이호이동'\n",
    "                                                        "
   ]
  },
  {
   "cell_type": "code",
   "execution_count": 131,
   "metadata": {},
   "outputs": [],
   "source": [
    "index = jeju_alcohol[jeju_alcohol['소재지(도로명)'].str.contains('이호일동') == True].index\n",
    "jeju_alcohol.loc[index, '읍면동'] = '이호일동'\n",
    "\n",
    "index = jeju_alcohol[jeju_alcohol['소재지(도로명)'].str.contains('일도이동') == True].index\n",
    "jeju_alcohol.loc[index, '읍면동'] = '일도이동'\n",
    "\n",
    "index = jeju_alcohol[jeju_alcohol['소재지(도로명)'].str.contains('일도일동') == True].index\n",
    "jeju_alcohol.loc[index, '읍면동'] = '일도일동'\n",
    "\n",
    "index = jeju_alcohol[jeju_alcohol['소재지(도로명)'].str.contains('조천읍') == True].index\n",
    "jeju_alcohol.loc[index, '읍면동'] = '조천읍'\n",
    "\n",
    "index = jeju_alcohol[jeju_alcohol['소재지(도로명)'].str.contains('중문동') == True].index\n",
    "jeju_alcohol.loc[index, '읍면동'] = '중문동'\n",
    "\n",
    "index = jeju_alcohol[jeju_alcohol['소재지(도로명)'].str.contains('추자면') == True].index\n",
    "jeju_alcohol.loc[index, '읍면동'] = '추자면'\n",
    "\n",
    "index = jeju_alcohol[jeju_alcohol['소재지(도로명)'].str.contains('토평동') == True].index\n",
    "jeju_alcohol.loc[index, '읍면동'] = '토평동'\n",
    "\n",
    "index = jeju_alcohol[jeju_alcohol['소재지(도로명)'].str.contains('표선면') == True].index\n",
    "jeju_alcohol.loc[index, '읍면동'] = '표선면'\n",
    "\n",
    "index = jeju_alcohol[jeju_alcohol['소재지(도로명)'].str.contains('하예동') == True].index\n",
    "jeju_alcohol.loc[index, '읍면동'] = '하예동'"
   ]
  },
  {
   "cell_type": "code",
   "execution_count": 132,
   "metadata": {},
   "outputs": [],
   "source": [
    "index = jeju_alcohol[jeju_alcohol['소재지(도로명)'].str.contains('하원동') == True].index\n",
    "jeju_alcohol.loc[index, '읍면동'] = '하원동'\n",
    "\n",
    "index = jeju_alcohol[jeju_alcohol['소재지(도로명)'].str.contains('하효동') == True].index\n",
    "jeju_alcohol.loc[index, '읍면동'] = '하효동'\n",
    "\n",
    "index = jeju_alcohol[jeju_alcohol['소재지(도로명)'].str.contains('한경면') == True].index\n",
    "jeju_alcohol.loc[index, '읍면동'] = '한경면'\n",
    "\n",
    "index = jeju_alcohol[jeju_alcohol['소재지(도로명)'].str.contains('한림읍') == True].index\n",
    "jeju_alcohol.loc[index, '읍면동'] = '한림읍'\n",
    "\n",
    "index = jeju_alcohol[jeju_alcohol['소재지(도로명)'].str.contains('해안동') == True].index\n",
    "jeju_alcohol.loc[index, '읍면동'] = '해안동'\n",
    "\n",
    "index = jeju_alcohol[jeju_alcohol['소재지(도로명)'].str.contains('호근동') == True].index\n",
    "jeju_alcohol.loc[index, '읍면동'] = '호근동'\n",
    "\n",
    "index = jeju_alcohol[jeju_alcohol['소재지(도로명)'].str.contains('화북이동') == True].index\n",
    "jeju_alcohol.loc[index, '읍면동'] = '화북이동'\n",
    "\n",
    "index = jeju_alcohol[jeju_alcohol['소재지(도로명)'].str.contains('화북일동') == True].index\n",
    "jeju_alcohol.loc[index, '읍면동'] = '화북일동'\n",
    "\n",
    "index = jeju_alcohol[jeju_alcohol['소재지(도로명)'].str.contains('회수동') == True].index\n",
    "jeju_alcohol.loc[index, '읍면동'] = '회수동'\n",
    "\n",
    "index = jeju_alcohol[jeju_alcohol['소재지(도로명)'].str.contains('회천동') == True].index\n",
    "jeju_alcohol.loc[index, '읍면동'] = '회천동'"
   ]
  },
  {
   "cell_type": "code",
   "execution_count": 133,
   "metadata": {},
   "outputs": [],
   "source": [
    "jeju_alcohol.to_excel(\"alc.xlsx\")"
   ]
  },
  {
   "cell_type": "code",
   "execution_count": null,
   "metadata": {},
   "outputs": [],
   "source": []
  }
 ],
 "metadata": {
  "kernelspec": {
   "display_name": "Python 3",
   "language": "python",
   "name": "python3"
  },
  "language_info": {
   "codemirror_mode": {
    "name": "ipython",
    "version": 3
   },
   "file_extension": ".py",
   "mimetype": "text/x-python",
   "name": "python",
   "nbconvert_exporter": "python",
   "pygments_lexer": "ipython3",
   "version": "3.7.4"
  }
 },
 "nbformat": 4,
 "nbformat_minor": 2
}
