{
 "cells": [
  {
   "cell_type": "code",
   "execution_count": null,
   "metadata": {},
   "outputs": [],
   "source": []
  },
  {
   "cell_type": "code",
   "execution_count": null,
   "metadata": {},
   "outputs": [],
   "source": [
    "#함수 ( function )\n",
    "#- 함수이름은 중복이 되면 안됨 ( 오버로딩은 default 매개변수로 해결 )\n",
    "#- required arguments ( 매개변수를 순서적으로 입력 )\n",
    "#- keyword arguments ( 키이 매개변수의 순서 변경이 가능 )\n",
    "#- default arguments ( 오버로딩 해결 )\n",
    "#- variable - length arguments ( 변동매개변수 : * -> list, **-> dict )"
   ]
  },
  {
   "cell_type": "code",
   "execution_count": null,
   "metadata": {},
   "outputs": [],
   "source": [
    "a=10\n",
    "b=20\n",
    "result=a+b\n",
    "print(result)\n",
    "\n",
    "a=10\n",
    "b=20\n",
    "result=a+b\n",
    "print(result)\n",
    "\n",
    "#이렇게 수십개 쓰는 것 보다는 함수를 만드는 것이 편리하다.\n",
    "# 사용자 정의 함수\n",
    "def addvalue(a,b):            #a,b 는 매개변수,  \n",
    "    return a+b               #return 으로 출력\n",
    "print(addvalue(10,20))\n",
    "print(addvalue(30,40))\n",
    "\n",
    "                              #ab, bd 는 매개변수, return 으로 출력한다. \n",
    "def addvalue(ab,bd):        #ab=10, bd=20 주소값만 전달 ( call by reference 라고 한다)\n",
    "    return ab+bd\n",
    "print(addvalue(10,20))     # 호출 시 데이터는 힙에 저장된다 -> 주소값만 전달함\n",
    "print(addvalue(30,40)) \n",
    "\n"
   ]
  },
  {
   "cell_type": "code",
   "execution_count": null,
   "metadata": {},
   "outputs": [],
   "source": [
    "#회귀분석\n",
    "# y = ax+b   (a=기울기 계수 /  b= bias, 절편)"
   ]
  },
  {
   "cell_type": "code",
   "execution_count": null,
   "metadata": {},
   "outputs": [],
   "source": [
    "def reg(a,b,x):\n",
    "    return a*x+b\n",
    "reg(10,30,100)\n",
    "\n",
    "\n",
    "def reg(x):\n",
    "    a=10\n",
    "    b=30\n",
    "    return a*x+b\n",
    "print(reg(100))\n",
    "# reg(10,30,100) ->  이걸 여기다 쓰면 error 가 난다. 이유 : 함수 이름이 같기 때문이다. -> 함수 이름이 같으면 안된다."
   ]
  },
  {
   "cell_type": "code",
   "execution_count": null,
   "metadata": {},
   "outputs": [],
   "source": [
    "# 두 수를 더한 값이 10보다 큰지 확인하시요\n",
    "a=10\n",
    "b=20\n",
    "result = a+b\n",
    "if result >=10:\n",
    "    result = \"10보다 크다\"\n",
    "else:\n",
    "    result = \"10보다 작다\"\n",
    "result\n",
    "\n",
    "  #a,b 가 어떤 값이 들어오는 지 모름 -> 일반화 시켜야한다. "
   ]
  },
  {
   "cell_type": "code",
   "execution_count": null,
   "metadata": {},
   "outputs": [],
   "source": [
    "# 위랑 같다. \n",
    "def sum_1(a,b):\n",
    "    result=a+b\n",
    "    if result>=10:\n",
    "        result = \"10보다 크다\"\n",
    "    else:\n",
    "        result = \"10보다 작다\"\n",
    "    return result\n",
    "sum_1(10,20)"
   ]
  },
  {
   "cell_type": "code",
   "execution_count": null,
   "metadata": {},
   "outputs": [],
   "source": [
    "a=10\n",
    "b=20\n",
    "# 함수를 이용해서 a 와  b값을 바꿔라. \n",
    "# 내가 푼 것\n",
    "def reverse(a,b):\n",
    "    return print(b,a)\n",
    "reverse(10,20)\n",
    "\n"
   ]
  },
  {
   "cell_type": "code",
   "execution_count": null,
   "metadata": {},
   "outputs": [],
   "source": [
    "# 선생님이 푸신 것\n",
    "def swap(x,y):      # 함수는 여러개의 값을 리턴할 수 있다.\n",
    "    return y,x\n",
    "a,b = swap(a,b)    # 두 개로 받아도 되고\n",
    "x= swap(a,b)  # 1개로 받아도 된다. (x의 타입은 tuple)이다. 함수가 리턴하는 값은 튜플이다!\n",
    "print(x)\n",
    "type(x)"
   ]
  },
  {
   "cell_type": "code",
   "execution_count": null,
   "metadata": {},
   "outputs": [],
   "source": [
    "# 두 수를 입력받아 +,-,* 하는 함수 3개를 작성하시요\n",
    "# 함수 이름은 add, subtract, multiply 로 한다.\n"
   ]
  },
  {
   "cell_type": "code",
   "execution_count": null,
   "metadata": {},
   "outputs": [],
   "source": [
    "def add(x,y):\n",
    "    return x+y\n",
    "def subtract(x,y):\n",
    "    return x-y\n",
    "def multiply(x,y):\n",
    "    return x*y\n",
    "print(add(10,20));print(subtract(10,20));print(multiply(10,20))\n",
    "# 함수는 일급 함수이다 \n",
    "# 일급 함수 : 함수가 매개변수로 전달 할 수 있고, 리턴값으로도 가능 한 것\n",
    "\n",
    "def changefun(g,a,b):\n",
    "    return g(a,b)\n",
    "print(\"결과:\", changefun(add,10,20))        # sort (key 함수 전달)\n",
    "print(\"결과:\", changefun(subtract,10,20))\n",
    "print(\"결과:\", changefun(multiply,10,20))\n",
    "\n"
   ]
  },
  {
   "cell_type": "markdown",
   "metadata": {},
   "source": [
    "# 다시\n",
    "def changeme(mylist):  # mylist = mylist 주소  (이건 changeme 안에 있는 mylist 이다)\n",
    "    mylist.append([1,2,3,4]);\n",
    "    print(\"함수 내부에서 출력:\", mylist)\n",
    "    return\n",
    "mylist=[10,20,30];  #heap 에 저장, 주소값이 넘어갔기 때문(call by reference 라고 한다)\n",
    "changeme(mylist);\n",
    "print(\"함수 외부에서 출력: \",mylist)"
   ]
  },
  {
   "cell_type": "markdown",
   "metadata": {},
   "source": [
    "# 다시\n",
    "def changeme(mylist): \n",
    "    mylist=[1,2,3,4];           #왼쪽처럼 대입이 벌어지면 이건 call by value \n",
    "    print(\"함수 내부에서 출력:\", mylist)\n",
    "    return\n",
    "mylist=[10,20,30];     # call by reference \n",
    "changeme(mylist);\n",
    "print(\"함수 외부에서 출력: \",mylist)"
   ]
  },
  {
   "cell_type": "markdown",
   "metadata": {},
   "source": [
    "# 다시\n",
    "def changeme(mylist):  \n",
    "    mylist.append([1,2,3,4]);\n",
    "    print(\"함수 내부에서 출력:\", mylist)\n",
    "    return\n",
    "\n",
    "#그렇다면 중괄호에 담으면 호출이 되나? \n",
    "mylist = {10,20,30};  # 리스트 말고 딕셔너리를 집어넣으면??\n",
    "changeme(mylist);   # 안된다. -> 실행이 안되는 이유?: 데이터 타입이 다르기 때문이다. -> 데이터 타입을 구분해야 하는 것은 프로그래머의 책임이다. \n",
    "print(\"함수 외부에서 출력:\",mylist)"
   ]
  },
  {
   "cell_type": "markdown",
   "metadata": {},
   "source": [
    "# 다시 \n",
    "#변동 매개변수 :\n",
    "def func1(*args):        #list\n",
    "    for i in args:\n",
    "        print(i,end=\", \")\n",
    "    print()\n",
    "print(\"시작\")\n",
    "func1(1,2,3)\n",
    "func1(1,2,3,4,5)\n",
    "\n"
   ]
  },
  {
   "cell_type": "markdown",
   "metadata": {},
   "source": [
    "# 다시\n",
    "def say__hello_then_call(f,*args,**kwargs): #-> 3개의 매개변수를 받는다(함수, 리스트변동매개변수, 딕셔너리변동매개변수를 받는다)\n",
    "    print(\"args is\", args)\n",
    "    print(\"kwargs is\", kwargs)\n",
    "    print(\"Hello Now I'm going to call %s\" % f)  # 함수의 주소값이 출력된다. \n",
    "    return f(*args, **kwargs) #return 값은 = 전달되는 함수에 리스트와  dic 값을 말하는 것\n",
    "def g(x,y,z=1):  #디폴트 매개변수\n",
    "    print(x)\n",
    "    print(y)\n",
    "    print(z)\n",
    "    return (x+y)/z\n",
    "say__hello_then_call(g,1,2,z=5)      #f 는 g, / 1,2는 args 에 / z 는 kwargs 에 들어간다."
   ]
  },
  {
   "cell_type": "code",
   "execution_count": null,
   "metadata": {},
   "outputs": [],
   "source": [
    "def func_test2(a,b=0):\n",
    "    print(a,b)\n",
    "func_test2(1)  #a=1,b=0\n",
    "func_test2(1,2)#a=1,b=2\n",
    "func_test2(b=2,a=1)#이걸 키이 매개변수라고 한다. (순서바꿔서 가능)\n",
    "\n"
   ]
  },
  {
   "cell_type": "code",
   "execution_count": null,
   "metadata": {},
   "outputs": [],
   "source": [
    "def func_test4():\n",
    "    pass # 몸통을 미지정 -> return 값이 없다 -> 그래서 None 을 리턴한다. (None 은 객체이다 )"
   ]
  },
  {
   "cell_type": "code",
   "execution_count": null,
   "metadata": {},
   "outputs": [],
   "source": [
    "result = func_test4()         # 원래 같다고 표현할때는 == 라고 썼었다. 근데 ==는 숫자나 문자에 쓴다./ 객체를 비교할때는 is 를 쓴다\n",
    "result is None\n",
    "#result == None 는 원칙상 error 다. 지금은 error 가 안나타남 ㅋㅋ\n"
   ]
  },
  {
   "cell_type": "code",
   "execution_count": null,
   "metadata": {},
   "outputs": [],
   "source": [
    "result.__class__         #nonetype 으로 만들어진 class 이다.\n",
    "                       #__class__ 처럼 앞뒤에 언더바 2개 붙은 변수는 ' 시스템에서 생성한 변수' 로 멤버변수이다. \n",
    "                "
   ]
  },
  {
   "cell_type": "code",
   "execution_count": null,
   "metadata": {},
   "outputs": [],
   "source": [
    "func_test4.__class__ \n"
   ]
  },
  {
   "cell_type": "code",
   "execution_count": null,
   "metadata": {},
   "outputs": [],
   "source": [
    "def func_test3(a,b):\n",
    "    return a+b,a-b,a*b\n",
    "a,b,c=func_test3(10,5)\n",
    "print(a,b,c)\n",
    "print(type(func_test3)) # 함수도 곧 객체다! "
   ]
  },
  {
   "cell_type": "markdown",
   "metadata": {},
   "source": [
    "# https://www.w3schools.com/python/ref_list_sort.asp"
   ]
  },
  {
   "cell_type": "code",
   "execution_count": null,
   "metadata": {},
   "outputs": [],
   "source": [
    "# 커링 : 아래처럼 감싸는 것을 의미한다. \n",
    "def all_number(x,y):  # 매개변수 2개인 함수\n",
    "    return x+y\n",
    "add_five=lambda y: all_number(5,y)  # 람다라는 무명함수를 이용해서 y 를 매개변수로 한다. y 가 하는 일은 all_number의 첫번째 를 고정함 -> 그래서 이것들을 add_five 라는 유명함수로 함\n",
    "print(add_five(10)) # 10 이 y  로 들어간다. "
   ]
  },
  {
   "cell_type": "code",
   "execution_count": null,
   "metadata": {},
   "outputs": [],
   "source": [
    "# 문제 : 두 점 사이의 거리값을 구하는 함수를 작성하시오\n",
    "# root =>\n",
    "import math\n",
    "# math.sqrt() 쓰면 된다. "
   ]
  },
  {
   "cell_type": "code",
   "execution_count": null,
   "metadata": {},
   "outputs": [],
   "source": []
  },
  {
   "cell_type": "code",
   "execution_count": null,
   "metadata": {},
   "outputs": [],
   "source": [
    "# 내가 한 것\n",
    "import math\n",
    "def distance(a,b,c ,d):\n",
    "    return math.sqrt(((a-c)**2 + (b-d)**2))\n",
    "distance(1,2,3,4)\n",
    "\n",
    "\n",
    "    "
   ]
  },
  {
   "cell_type": "code",
   "execution_count": null,
   "metadata": {},
   "outputs": [],
   "source": [
    "#선생님\n",
    "def distance_between_points(x1,y1,x2,y2):\n",
    "    \"\"\" 두점 사이의 거리를 구하는 함수. \"\"\"  #\"\"\" \"\"\" 가 들어오면 입력되어지는 대로 출력된다.\n",
    "    dx=x1-x2\n",
    "    dy=y1-y2\n",
    "    dist = math.sqrt(dx**2+dy**2)\n",
    "    return dist\n",
    "print(distance_between_points(1,2,3,4))\n",
    "?distance_between_points             #? 는 밑에 상자 나오게한다."
   ]
  },
  {
   "cell_type": "code",
   "execution_count": null,
   "metadata": {},
   "outputs": [],
   "source": [
    "# 수학에서 factorial\n",
    "def factorial(n):\n",
    "    sum=1         # 이걸 항등원이라고 한다. = 덧셈의 항등원은 0, 곱셈의 항등원은 1. 행렬의 항등원은 단위행렬\n",
    "    for i in range(n,1,-1):\n",
    "        sum*=i\n",
    "    return sum\n",
    "factorial(5)"
   ]
  },
  {
   "cell_type": "markdown",
   "metadata": {},
   "source": [
    "# 아래 하기"
   ]
  },
  {
   "cell_type": "code",
   "execution_count": null,
   "metadata": {},
   "outputs": [],
   "source": [
    "# 재귀함수        :  함수가 자기자신 함수를 호출한다. -> 계속 호출하다보면 overflow (무한루프가 걸리면서 overflow 가 일어난다) -> 종료조건이 와야한다. \n",
    "def factorial(n,stop=1):       #1. n 은 처음에 5, \n",
    "    if n <= stop or n <=0:                         # n을 보다 작게넣지 말라고 넣은 것이다. (n<=0) 음수론 팩토리얼 못 만드니까)\n",
    "        return 1\n",
    "    return n*factorial(n-1,stop)  #2. 5*factorial(4,stop) 이 된다. 이게 반복 \n",
    "factorial(5)\n"
   ]
  },
  {
   "cell_type": "code",
   "execution_count": null,
   "metadata": {},
   "outputs": [],
   "source": [
    "# power 함수를 구현하시오 \n",
    "def power(r,n):\n",
    "    value = 1\n",
    "    for i in range(1, n+1):\n",
    "        value = r*value\n",
    "    return value\n",
    "print(power(2,3))"
   ]
  },
  {
   "cell_type": "code",
   "execution_count": null,
   "metadata": {},
   "outputs": [],
   "source": [
    "# 내가 한 것\n",
    "def power(r,n,stop=1):\n",
    "    if n<stop or n<=0:\n",
    "        return 1\n",
    "    return r*power(r,n-1,stop)\n",
    "power(2,4)"
   ]
  },
  {
   "cell_type": "code",
   "execution_count": null,
   "metadata": {},
   "outputs": [],
   "source": [
    "# 선생님\n",
    "def power(r,n):\n",
    "    if n ==1:\n",
    "        return r\n",
    "    else:\n",
    "        return r * power(r,n-1)\n",
    "print(power(2,3))"
   ]
  },
  {
   "cell_type": "code",
   "execution_count": null,
   "metadata": {},
   "outputs": [],
   "source": [
    "# 내부함수 : 함수안에 함수가 있음\n",
    "def outer():\n",
    "    def inner():\n",
    "        print('inner')\n",
    "    inner()\n",
    "def inner():\n",
    "    print(\"global inner\")\n",
    "outer()  #그래도 inner 가 인쇄된다."
   ]
  },
  {
   "cell_type": "code",
   "execution_count": null,
   "metadata": {},
   "outputs": [],
   "source": [
    "# generator     \n",
    "# for in 하고 in 뒤에 올 수 있는 것은 ? collections? = list tuple set() /    iterator? ranges,/        generator,/ eneumerate \n",
    "import random\n",
    "def gaus_dist(n):\n",
    "    while n>0:     #n=0 이 되는 순간에 종료된다. \n",
    "        yield random.random()       #yield - > 비동기 호출함수 yield ( 비동기니까 평소에는 멈춰있다)\n",
    "        n-=1\n",
    "gd= gaus_dist(5) \n",
    "for i in gd:                                                        # 5가 아니라 백만이면 공간 너무 많이 차지한다.           \n",
    "    print(i)    # 리스트가 아니라 실시간으로 만들어짐 (yield 덕분) ->  gd 대신 range 라고 해도 되는데 이렇게 하면서 메모리 공간을 아낀다"
   ]
  },
  {
   "cell_type": "code",
   "execution_count": null,
   "metadata": {},
   "outputs": [],
   "source": [
    "#  함수가 값을 저장할 수 있는가? \n",
    "# clouser 을 만들어야 저장할 수 있다.\n",
    "# clouser 는 자바스크립트에서 사용하던 방식인데 파이썬으로 넘어왔다.\n",
    "def cookbook(name): \n",
    "    def recipe(no):                            #\"\",\"\" , 로 연결하는게 번거롭다 그래서 쓰는 게 퍼센트\n",
    "        print(\"%s's recipe no.%d\" % (name,no))  # %s : 문자 / %d 는 숫자, / %() 뒤에 순서대로 넣어줘야 한다. 그러므로 %(문자, 숫자) 임\n",
    "    return recipe         #함수는 원래 값을 저장하지 않는다. 그래서 return 이 끝나면 사라진다. (=지역변수라 저장이 불가능함)\n",
    "                  #cookbook 함수는 내부에 정의된 recipe 란 함수를 return 하는 것이다!!\n",
    "python_recipe = cookbook(\"python\") #name 에 python 이 들어간다. \n",
    "perl_recipe = cookbook(\"perl\")    \n",
    "python_recipe(1) #1은 recipe 로 들어간다. -> no 에 1이 들어간다.  \n",
    "perl_recipe(2)                                   \n",
    "id(python_recipe),id(perl_recipe)  # -> 값을 저장한다. -> 그래서 위치도 다르다. \n",
    "    "
   ]
  },
  {
   "cell_type": "code",
   "execution_count": null,
   "metadata": {},
   "outputs": [],
   "source": [
    "# clouser 클로저의 응용(장식자 : decorator)\n",
    "def format_and_pad(template, space):\n",
    "    def formatter(x):\n",
    "        return (template % x ).rjust(space)  # rjust 아마 공백을 의미할 것이다 찾아보자. \n",
    "    return formatter\n",
    "                                           #str,int,float 3개\n",
    "fmt=format_and_pad('%.4f',15)    # s 는 string /d 는 digit 정수/ \n",
    "print(fmt(1.756))                #15는 앞에 빈공간 15칸, %.4f 에서 f 는 float 로 소수점 4자리\n",
    "print(fmt(2.222))\n",
    "fmt2=format_and_pad('%d',15)      # d는 정수여서 정수만 가져옴\n",
    "print(fmt2(1.756))"
   ]
  },
  {
   "cell_type": "markdown",
   "metadata": {},
   "source": [
    "# 여기까지 해야한다. "
   ]
  },
  {
   "cell_type": "code",
   "execution_count": null,
   "metadata": {},
   "outputs": [],
   "source": [
    "# 데이터를 입력받아\n",
    "# 삼각형의 넓이 ( 밑변*높이)\n",
    "# 사각형의 넓이 ( 밑변, 높이)\n",
    "# 원의 넓이를 계산하는 함수를 작성해 보시오(반지름)\n",
    "# 내가 한 것\n",
    "\n",
    "def tri(x,h):\n",
    "    return x*h/2\n",
    "def rec(x,h):\n",
    "    return x*h\n",
    "def cir(r):\n",
    "    return r*r*3.14\n",
    "\n",
    "print(tri(1,2))\n",
    "print(rec(2,3))\n",
    "print(cir(1))\n",
    "#변수는 의미있는 단어로 쓰자!!!!!!!"
   ]
  },
  {
   "cell_type": "code",
   "execution_count": null,
   "metadata": {},
   "outputs": [],
   "source": [
    "# 선생님이 하신것\n",
    "import math\n",
    "def calculate_traingle(mylist):\n",
    "    return mylist[0]*mylist[1]/2\n",
    "def calculate_rectangle(mylist):\n",
    "    return mylist[0]*mylist[1]\n",
    "def calculate_circle(mylist):\n",
    "    return math.pi * (mylist[0]**2)\n",
    "mylist = []\n",
    "width = eval(input(\"밑변이나 반지름으로 사용할 값을 입력하시오 \"))\n",
    "height = eval(input(\"삼각형이나 사각형의 높이를 입력하시오\"))\n",
    "mylist.append(width)\n",
    "mylist.append(height)\n",
    "print(\"삼각형의 넓이는 \", calculate_traingle(mylist))\n",
    "print(\"사각형의 넓이는 \", calculate_rectangle(mylist))\n",
    "print(\"원의 넓이는 \", calculate_circle(mylist))"
   ]
  },
  {
   "cell_type": "code",
   "execution_count": null,
   "metadata": {},
   "outputs": [],
   "source": [
    "# 시간과 시간당 급여를 입력받아 주급을 계산하는 프로그램을 작성하시오\n",
    "# 조건 : 40시간이 넘으면 1.5배 하여 지급합니다. \n",
    "# 매개변수 (시간, 시간당급여)\n",
    "\n",
    "hour = int(input(\"일한 시간을 입력하시오 :\"))\n",
    "money = int(input(\"시간당 급여를 입력하시오 : \"))\n",
    "\n",
    "def earn_money(hour, money):\n",
    "    result = hour * money\n",
    "    if hour >= 40:\n",
    "        result *= 1.5\n",
    "    else :\n",
    "        result\n",
    "    return result\n",
    "\n",
    "#print(result)  print result 를 하면 함수를 불러오지를 않았기 때문에 틀림 아래처럼 print(earn_money(hour,money)) 라고 해야한다. \n",
    "\n",
    "print(earn_money(hour,money))"
   ]
  },
  {
   "cell_type": "code",
   "execution_count": null,
   "metadata": {},
   "outputs": [],
   "source": [
    "# 선생님 답\n",
    "basictime = 40           # 상수인 경우는 이렇게 변수화 하는 게 좋다. 40,40 이렇게 다 쓰면 나중에 50으로 바꾸라 할 때 힘들기 때문 변수화하자!!!!!!\n",
    "def pay (wage, hours):             # 처음에 어려우면 40으로 일단 다 써두고 나중에 최적화할때 변수만들어서 뺴주자!\n",
    "    if hours <= basictime:\n",
    "        amount = wage * hours\n",
    "    else:\n",
    "        amount = (wage * basictime) + ((1.5)*wage*(hours-basictime))\n",
    "    return amount\n",
    "hourlyWage = eval(input(\"시간당급여는:\"))\n",
    "hoursWorked = eval(input(\"주간 총 근무시간: \"))\n",
    "earnings = pay(hourlyWage, hoursWorked)\n",
    "print(\"주간 수입은 : {0:,.2f}원\".format(earnings)) #0:, ===> format 안에 있는  earnings 의 값을 전부 가져와라\n",
    "                                                  #.2f  ----> 소수점2째자리까지\n"
   ]
  },
  {
   "cell_type": "markdown",
   "metadata": {},
   "source": [
    "# 여기아래부터 하기~끝까지"
   ]
  },
  {
   "cell_type": "code",
   "execution_count": null,
   "metadata": {},
   "outputs": [],
   "source": [
    "# 이자율이 주어졌을 때 기간거치후의 총액과 이자수익을 출력하시오\n",
    "# 복리계산 = (원가1+이율 0.04) ** 거치년수\n",
    "\n",
    "# 매개변수 = 원금, 거치기간 \n",
    "\n",
    "# 단서 조건 : 입력 함수, 계산 함수, 출력함수로 분리해서 작성하시요 (3개 함수로 분리해랴)\n",
    "INTEREST_RATE = 0.04  #로 주어졌다.\n"
   ]
  },
  {
   "cell_type": "code",
   "execution_count": null,
   "metadata": {},
   "outputs": [],
   "source": [
    "# 내가 푼 것\n",
    "\n",
    "# 1. 입력함수\n",
    "\n",
    "def input_step():\n",
    "    money = eval(input(\"원금은?\"))\n",
    "    year = eval(input(\"거치기간은?\"))\n",
    "    return(money, year)\n",
    "\n",
    "print(input_step())\n",
    "\n",
    "    #2. 계산 함수\n",
    "INTEREST_RATE = 0.04\n",
    "\n",
    "def calculate_step(money, year):\n",
    "    return money * ((1+INTEREST_RATE)** year)\n",
    "                                              #name 'money' is not defined -> 계산 함수에서 money 를 못찾음 불러온것이 없으니까 \n",
    "calculate_step(*(input_step()))             # * 는 주소로 찾아가주겠다. input_step 에서 만든 money 와 year 을 가져오는 것\n",
    "\n",
    "#3. 출력함수\n",
    "def output_step():\n",
    "    return(calculate_step(*(input_step())))\n",
    "     \n",
    "output_step()"
   ]
  },
  {
   "cell_type": "code",
   "execution_count": null,
   "metadata": {},
   "outputs": [],
   "source": [
    "# 선생님 답\n",
    "INTEREST_RATE = 0.04\n",
    "def getinput():                             # 입력\n",
    "    principal = eval(input(\"예금액:\"))\n",
    "    numberOfYears = eval(input(\"기간:\"))\n",
    "    return(principal, numberOfYears)\n",
    "\n",
    "def balanceAndInterest(prin,numYears):    # 처리\n",
    "    balance = prin * ((1+INTEREST_RATE) ** numYears) # d원금포함 이자포함 계산액\n",
    "    interestEarned = balance - prin                 # 순수이자액\n",
    "    return (balance, interestEarned)\n",
    "\n",
    "def displayOutput(bal, intEarned):#출력\n",
    "    print(\"예금 총액 : ${0:,.2f}  이자 총액 : ${1:,.2f}\".format(bal,intEarned))\n",
    "\n",
    "def main():\n",
    "    principal, numberOfYears = getinput()\n",
    "    bal,intEarned = balanceAndInterest(principal, numberOfYears)\n",
    "    displayOutput(bal, intEarned)\n",
    "    # displayOutput(*(balanceAndInterest(*(getinput()))))  3줄을 대체한다\n",
    "\n",
    "main()\n",
    "    \n",
    "    "
   ]
  },
  {
   "cell_type": "code",
   "execution_count": null,
   "metadata": {},
   "outputs": [],
   "source": [
    "INTEREST_RATE = 0.04\n",
    "def getinput():                             # 입력\n",
    "    principal = eval(input(\"예금액:\"))\n",
    "    numberOfYears = eval(input(\"기간:\"))\n",
    "    return(principal, numberOfYears)\n",
    "\n",
    "def balanceAndInterest(prin,numYears):    # 처리\n",
    "    balance = prin * ((1+INTEREST_RATE) ** numYears) # d원금포함 이자포함 계산액\n",
    "    interestEarned = balance - prin                 # 순수이자액\n",
    "    return (balance, interestEarned)\n",
    "\n",
    "def displayOutput(bal, intEarned):#출력\n",
    "    print(\"예금 총액 : ${0:,.2f}  이자 총액 : ${1:,.2f}\".format(bal,intEarned))\n",
    "def main():\n",
    "    displayOutput(*(balanceAndInterest(*(getinput())))) # 3줄을 대체한다\n",
    "\n",
    "main()"
   ]
  },
  {
   "cell_type": "code",
   "execution_count": null,
   "metadata": {},
   "outputs": [],
   "source": [
    "# 함수화 프로그래밍  for + 함수를 적용\n",
    "# lambda 함수를 이용한 처리가 많음.\n"
   ]
  },
  {
   "cell_type": "code",
   "execution_count": null,
   "metadata": {},
   "outputs": [],
   "source": [
    "(lambda x: x*x)(10)  #10 이 x 로 들어가고 엑스와 엑스를 곱한 값이 출력된다  # 람다 뒤에 실행할 함수가 나온다. "
   ]
  },
  {
   "cell_type": "code",
   "execution_count": null,
   "metadata": {},
   "outputs": [],
   "source": [
    "incr = lambda x, incr=1: x+incr       # 디폴트 값을 줄 수 있다. (incr =1처럼 )  \n",
    "print(incr(10))                                    #그리고 람다함수를 변수에 대입하면 무명함수가 유명함수가 된다 (incr 이라는 유명함수가 된다)\n",
    "incr(10,5)"
   ]
  },
  {
   "cell_type": "code",
   "execution_count": null,
   "metadata": {},
   "outputs": [],
   "source": [
    "strings=['foo','card','bar','aaaa','abab']\n",
    "strings.sort(key=lambda x:len(set(list(x))))  # 중복되지 않는 데이터 갯수에 따라 \n",
    "print(strings)\n",
    "\n",
    "#처음에 foo 를 가져와서 list 하고 set 하고 len 한다. 그다음 card, bar, aaaa 쭉쭉 나간다. \n",
    "#sort 의 key는 원래 옵션인 것이다. )  -> 정렬기준을 key 에 함수로 전달 \n",
    "#set : 중복되지 않는다. \n",
    "\n",
    "#aaaa는 중복되는 것 4개, foo 는 2개"
   ]
  },
  {
   "cell_type": "code",
   "execution_count": null,
   "metadata": {},
   "outputs": [],
   "source": [
    "m = map(lambda x:x*x, [3,4,5]) #map -> 각데이터 하나하나에 함수를 적용하게 한다. 3이 엑스로 들어가서 9가 되고 그다음 4가들어가서 4*4 =16이 나온다.\n",
    "    #map 은 디폴트가 없기 때문에 바로 함수를 썼다.                                 \n",
    "\n",
    "print(m)                         # map 해서 계산된 결과는 바로 볼 수 없다.  print(m) 하면 안 나온다. \n",
    "print(list(m))                   # list 로 캐스팅해야 출력된다. "
   ]
  },
  {
   "cell_type": "code",
   "execution_count": null,
   "metadata": {},
   "outputs": [],
   "source": [
    "list(map(lambda x: x*x, range(5)))"
   ]
  },
  {
   "cell_type": "code",
   "execution_count": null,
   "metadata": {},
   "outputs": [],
   "source": [
    "sqr = lambda x: x*x\n",
    "list(map(sqr,range(5)))"
   ]
  },
  {
   "cell_type": "code",
   "execution_count": null,
   "metadata": {},
   "outputs": [],
   "source": [
    "def sqr2(x):\n",
    "    return x*x\n",
    "list(map(sqr2,range(5)))"
   ]
  },
  {
   "cell_type": "code",
   "execution_count": null,
   "metadata": {},
   "outputs": [],
   "source": [
    "# 문제 : e다음 출근 시간 데이터에 대하여 기본금 10000원 시간당 7500 원의 급여를 계산\n",
    "# lamda 함수와 map 함수를 이용하여 구하시오."
   ]
  },
  {
   "cell_type": "code",
   "execution_count": null,
   "metadata": {},
   "outputs": [],
   "source": [
    "total_time = [160,150,120,170,300,400]\n",
    "calc = lambda x: 10000+7500*x\n",
    "pay =list(map(calc,total_time))\n",
    "print(pay)"
   ]
  },
  {
   "cell_type": "code",
   "execution_count": null,
   "metadata": {},
   "outputs": [],
   "source": [
    "pay=list(map(lambda x: 10000+7500*x, total_time))\n",
    "print(pay)"
   ]
  },
  {
   "cell_type": "code",
   "execution_count": null,
   "metadata": {},
   "outputs": [],
   "source": [
    "def odd(p):\n",
    "    return [i for i in p if i%2]  # 홀수만 출력\n",
    "odd(range(10))"
   ]
  },
  {
   "cell_type": "code",
   "execution_count": null,
   "metadata": {},
   "outputs": [],
   "source": [
    "def odd(k):\n",
    "    return k%2      \n",
    "list(filter(odd,range(10)))    #filter 다음에 오는 함수는 true/false 를 리턴하는 함수여야 한다. 그래서 그걸 필터링 해준다. \n"
   ]
  },
  {
   "cell_type": "code",
   "execution_count": null,
   "metadata": {},
   "outputs": [],
   "source": []
  },
  {
   "cell_type": "code",
   "execution_count": null,
   "metadata": {},
   "outputs": [],
   "source": [
    "def odd(k):\n",
    "    return k%2     #1이면 true 다. \n",
    "print(list(filter(odd,range(100))),end=\",\")"
   ]
  },
  {
   "cell_type": "code",
   "execution_count": null,
   "metadata": {},
   "outputs": [],
   "source": [
    "# filter 도 list 로 캐스팅 해줘야하나? 그렇다. /  %2 가 왜 홀수 출력인가?  1이면 true 기 때문이다. "
   ]
  },
  {
   "cell_type": "code",
   "execution_count": null,
   "metadata": {},
   "outputs": [],
   "source": [
    "# 문제 : 1부터 99사이의 데이터 중 3으로 나누어 떨어지는 데이터를 filter 를 이용해 구하라. "
   ]
  },
  {
   "cell_type": "code",
   "execution_count": null,
   "metadata": {},
   "outputs": [],
   "source": [
    "def number(k):\n",
    "    return k%3 == 0\n",
    "print(list(filter(number,range(1,100))),end=\",\")"
   ]
  },
  {
   "cell_type": "code",
   "execution_count": null,
   "metadata": {},
   "outputs": [],
   "source": [
    "#reduce (분산처리시 값을 계산할 때 사용)\n",
    "from functools import reduce\n",
    "reduce(lambda x, y: x+y, range(11))     #10까지 더하려면 11을 준다. \n",
    "                            #이전에 계산된 값이 엑스로 온다. 새로운 값은 y f로 들어간다. \n",
    "    #range 하면 0부터 11까지 인데 x 가 0, y=1,-> 합치면 1 -> 그럼 x 로 1이 들어감, y=2 가 들어감, 합친 3이 x 로 들어감"
   ]
  },
  {
   "cell_type": "code",
   "execution_count": null,
   "metadata": {},
   "outputs": [],
   "source": [
    "reduce(lambda x,y: x*y, range(1,10))"
   ]
  },
  {
   "cell_type": "code",
   "execution_count": null,
   "metadata": {},
   "outputs": [],
   "source": [
    "reduce(lambda x, y : y+x, \"abced\")  # 거ㅏ꾸러 출력된다. \n"
   ]
  },
  {
   "cell_type": "code",
   "execution_count": null,
   "metadata": {},
   "outputs": [],
   "source": [
    "# 함수 배열\n",
    "func_choice = [lambda x,y : x**y, lambda x,y: x/y]\n",
    "print(func_choice[0](10,2))\n",
    "print(func_choice[1](10,2))\n"
   ]
  },
  {
   "cell_type": "code",
   "execution_count": null,
   "metadata": {},
   "outputs": [],
   "source": [
    "# a.문제1) 다음 데이터에서 4 q보다 큰 수만 출력하도록 filltering 해보시오\n",
    "data = [1,2,3,4,5,6,7,8,3,4,2,1]\n",
    "\n",
    "\n",
    "fil = list(filter(lambda x: x>4, data))\n",
    "print(fil)"
   ]
  },
  {
   "cell_type": "code",
   "execution_count": null,
   "metadata": {},
   "outputs": [],
   "source": [
    "#문제 2) 숫자를 입력받아서 홀수 인 경우는 '나는 행복합니다.\" 라고 출력하고\n",
    "# 짝수인 경우는 's나는 귀중한 사람이다' 라고 출력하는 함수선택을 구현해보시오.\n",
    "# 람다함수에 매개변수가 없어도 된다.(아래처럼)\n",
    "mod_choice = [lambda : print(\" 나는 귀중한 사람입니다\"), lambda : print(\"나는 행복합니다\")]\n",
    "\n",
    "\n"
   ]
  },
  {
   "cell_type": "code",
   "execution_count": null,
   "metadata": {},
   "outputs": [],
   "source": [
    "condition = eval(input('숫자입력:'))\n",
    "condition %=2            #0이면 인덱스 첫번쨰, 1이면 인덱스 2번째로 가는 것이다. \n",
    "mod_choice[condition]()"
   ]
  },
  {
   "cell_type": "code",
   "execution_count": null,
   "metadata": {},
   "outputs": [],
   "source": [
    "#성적프로그램을 입력 , 처리, 출력 함수를 이용해서 구현하시오.\n",
    "# 이름, 국어, 영어, 수학을 입력받고  총점, 평균을 계산한다."
   ]
  },
  {
   "cell_type": "code",
   "execution_count": null,
   "metadata": {},
   "outputs": [],
   "source": [
    "#songjuk=[] # 전역적으로 선언하고 구현"
   ]
  },
  {
   "cell_type": "code",
   "execution_count": null,
   "metadata": {},
   "outputs": [],
   "source": []
  },
  {
   "cell_type": "code",
   "execution_count": 12,
   "metadata": {},
   "outputs": [],
   "source": [
    "#입력(12/29)\n",
    "sungjuk=[]\n",
    "def one_step():\n",
    "    name = input(\"이름\")\n",
    "    Kor = int(input(\"국어\"))\n",
    "    Eng = int(input(\"영어\"))\n",
    "    Math = int(input(\"수학\"))\n",
    "    sungjuk.append(name)\n",
    "    sungjuk.append(Kor)\n",
    "    sungjuk.append(Eng)\n",
    "    sungjuk.append(Math)\n",
    "        \n",
    "    \n",
    "    return Kor,Eng,Math\n",
    "\n",
    "def two_step(KOR,ENG,MATH):\n",
    "    TOT = KOR+ENG+MATH\n",
    "    MEAN = TOT/3\n",
    "    return TOT, MEAN\n",
    "#two_step(*(one_step()))\n",
    "\n",
    "def three_step(tot,mean): \n",
    "    print(\"이름은\",sungjuk[0])\n",
    "    print(\"국어점수는\",sungjuk[1])\n",
    "    print(\"영어점수는\",sungjuk[2])\n",
    "    print(\"수학점수는\",sungjuk[3])\n",
    "    print(\"총점은\",tot)\n",
    "    print(\"평균은\",mean)\n",
    "\n",
    "three_step(*(two_step(*(one_step()))))"
   ]
  },
  {
   "cell_type": "code",
   "execution_count": null,
   "metadata": {},
   "outputs": [],
   "source": [
    "# 동현오빠 (1명일때)\n",
    "songjuk=[]\n",
    "def get_input_():\n",
    "    name = input(\" 이름을 입력하세요 :\")\n",
    "    kor = eval(input(\" 국어 성적을 입력하세요 :\"))\n",
    "    eng = eval(input(\" 영어 성적을 입력하세요 :\"))\n",
    "    math = eval(input(\" 수학 성적을 입력하세요 :\"))\n",
    "    \n",
    "    songjuk.append(kor)\n",
    "    songjuk.append(eng)\n",
    "    songjuk.append(math)\n",
    "    \n",
    "    return(name,songjuk)\n",
    "\n",
    "def sung_(name,sung):\n",
    "    total=sum(sung)     # get_input_ 에서 return 되는 값은 name 과 점수를 리스트해둔 songjuk 이다. \n",
    "                          # sung_ 함수의 name 에는 get_input_ 의 name 이 들어가고, sung_ 함수의 sung 에는 get_input_ 의 songjuk 이 들어간다.\n",
    "    avg=round(total/len(songjuk),2)\n",
    "    \n",
    "    return(name,songjuk,total,avg)\n",
    "\n",
    "def outPut_(name,sung,tot,avg):\n",
    "    print(\"이름은:\",name)\n",
    "    print(\"국어 점수:\", sung[0])\n",
    "    print(\"영어 점수:\", sung[1])\n",
    "    print(\"수학 점수:\", sung[2])\n",
    "    print(\"총점:\", tot)\n",
    "    print(\"평균:\", avg)\n",
    "    \n",
    "def main_():\n",
    "    #outPut_(*(sung_(*(get_input_()))))\n",
    "    name, sungjuk = get_input_()\n",
    "    name, sung, tot, avg = sung_(name,sungjuk)\n",
    "    outPut_(name,sung,tot,avg)\n",
    "\n",
    "main_()"
   ]
  },
  {
   "cell_type": "code",
   "execution_count": null,
   "metadata": {},
   "outputs": [],
   "source": []
  },
  {
   "cell_type": "code",
   "execution_count": null,
   "metadata": {},
   "outputs": [],
   "source": []
  }
 ],
 "metadata": {
  "kernelspec": {
   "display_name": "Python 3",
   "language": "python",
   "name": "python3"
  },
  "language_info": {
   "codemirror_mode": {
    "name": "ipython",
    "version": 3
   },
   "file_extension": ".py",
   "mimetype": "text/x-python",
   "name": "python",
   "nbconvert_exporter": "python",
   "pygments_lexer": "ipython3",
   "version": "3.7.4"
  }
 },
 "nbformat": 4,
 "nbformat_minor": 2
}
