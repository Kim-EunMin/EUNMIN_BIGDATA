{
 "cells": [
  {
   "cell_type": "code",
   "execution_count": null,
   "metadata": {},
   "outputs": [],
   "source": [
    "# pandas 가 나타내는 자료구조 : Series, DataFrame, Panel\n",
    "# pandas 의 base 는 numpy 로 numpy 방식의 인덱싱이 가능 \n",
    "# + numpy 에 dict 를 더하면서 중복을 허용하고 순서를 보장하면서 데이터를 처리한다."
   ]
  },
  {
   "cell_type": "code",
   "execution_count": 160,
   "metadata": {},
   "outputs": [
    {
     "name": "stdout",
     "output_type": "stream",
     "text": [
      "0.0\n",
      "0.0\n",
      "nan\n"
     ]
    },
    {
     "data": {
      "text/plain": [
       "[1.0, 2.0, nan, 0.0]"
      ]
     },
     "execution_count": 160,
     "metadata": {},
     "output_type": "execute_result"
    }
   ],
   "source": [
    "import pandas as pd\n",
    "data = {'a':0. , 'b':1.,'c' :2.}  # dict 형태로 초기화하고 있다. \n",
    "s=pd.Series(data)  # s 는 series 가 됐다. -> 넘파이, 딕셔너리 형식으로 인덱싱이 가능하다. s 는 1차원이다. \n",
    "\n",
    "print(s['a']) # 키이 인덱싱이 가능하다. \n",
    "s=pd.Series(data,index=['b','c','d','a']) # 키이가 인덱스로 변하고 인덱스는 행이름이 된다. \n",
    "\n",
    "print(s['a'])  \n",
    "print(s['d']) # d 는 데이터가 없다 -> nan 이 나온다. \n",
    "list(s)"
   ]
  },
  {
   "cell_type": "code",
   "execution_count": 189,
   "metadata": {},
   "outputs": [
    {
     "name": "stdout",
     "output_type": "stream",
     "text": [
      "a     1\n",
      "b     2\n",
      "c     3\n",
      "d     4\n",
      "e     5\n",
      "f    10\n",
      "dtype: int64\n",
      "\n",
      "\n",
      "a     2\n",
      "b     4\n",
      "c     6\n",
      "d     8\n",
      "e    10\n",
      "f    20\n",
      "dtype: int64\n"
     ]
    }
   ],
   "source": [
    "s=pd.Series([1,2,3,4,5],index=['a','b','c','d','e'])\n",
    "\n",
    "s['f']=10\n",
    "print(s)\n",
    "print()\n",
    "print()\n",
    "print(s*2)"
   ]
  },
  {
   "cell_type": "code",
   "execution_count": 7,
   "metadata": {},
   "outputs": [
    {
     "name": "stdout",
     "output_type": "stream",
     "text": [
      "인덱스에 의한 출력 1\n",
      "1\n",
      "a    1\n",
      "b    2\n",
      "c    3\n",
      "dtype: int64\n",
      "음수 c    3\n",
      "d    4\n",
      "e    5\n",
      "dtype: int64\n",
      "100\n",
      "10\n",
      "filtering 에 의한 춣력 a    100\n",
      "e      5\n",
      "f     10\n",
      "dtype: int64\n",
      "a    100\n",
      "b      2\n",
      "c      3\n",
      "d      4\n",
      "e      5\n",
      "f     10\n",
      "dtype: int64\n",
      "a    200\n",
      "b      4\n",
      "c      6\n",
      "d      8\n",
      "e     10\n",
      "f     20\n",
      "dtype: int64\n"
     ]
    }
   ],
   "source": [
    "s =pd.Series([1,2,3,4,5],index = ['a','b','c','d','e'] ) # d위에선 딕셔너리로 데이터를 뒀는데 이번엔 1,2,3,4,5 의 리스트를 넣었다.\n",
    "# a=1, b=2, ...e=5 가 된다. \n",
    " \n",
    "print(\"인덱스에 의한 출력\",s[0])   # 순서에 의한 인덱싱도 가능하고\n",
    "print(s['a'])  #키이에 의한 인덱싱도 가능하다. \n",
    "\n",
    "print(s[:3]) # 처음부터 3번까지 ( 넘파이에 쓰던 것 으로 넘파이에 쓰던 것을 판다스에서도 쓸 수 있다 ) \n",
    "print(\"음수\",s[-3:])\n",
    "s['a']=100 # 값을 update \n",
    "\n",
    "print(s['a'])\n",
    "s['f']=10 # f 라는 것 추가 \n",
    "print(s['f'])\n",
    "\n",
    "print(\"filtering 에 의한 춣력\", s[s>4])  # boolean 인덱스 (F,F,F,T)\n",
    "print(s)\n",
    "print(s*2)  # 각요소에 2 곱해진것\n",
    "        "
   ]
  },
  {
   "cell_type": "code",
   "execution_count": 10,
   "metadata": {},
   "outputs": [
    {
     "name": "stdout",
     "output_type": "stream",
     "text": [
      "시리즈 데이터 ['a' 'b' 'c' 'd']\n",
      "시리즈 인덱스 RangeIndex(start=0, stop=4, step=1)\n",
      "시리즈 초기화 0    a\n",
      "1    b\n",
      "2    c\n",
      "3    d\n",
      "dtype: object\n",
      "시리즈 인덱스의 값 [0 1 2 3]\n",
      "a\n",
      "0    a\n",
      "1    b\n",
      "2    c\n",
      "3    d\n",
      "dtype: object\n",
      "b    1\n",
      "a    1\n",
      "d    1\n",
      "c    1\n",
      "dtype: int64\n",
      "b    0.25\n",
      "a    0.25\n",
      "d    0.25\n",
      "c    0.25\n",
      "dtype: float64\n",
      "count     4\n",
      "unique    4\n",
      "top       b\n",
      "freq      1\n",
      "dtype: object\n",
      "데이터 타입은: object\n",
      "차원 1\n",
      "차수 (4,)\n"
     ]
    }
   ],
   "source": [
    "\n",
    "import numpy as np\n",
    "data = np.array(['a','b','c','d'])  # data 를 ndarray 로 초기화\n",
    "\n",
    "# Rangeindex 객체가 자동으로 생성된다. \n",
    "# range 의 결과값 -> 리스트\n",
    "# arange 의 결과값 -> ndarray\n",
    "# RangeIndex -> index\n",
    "\n",
    "s=pd.Series(data)  # ndarray 로 series 를 만들었다. \n",
    "print(\"시리즈 데이터\",s.values) # s.values 하게 되면 값들만 출력이 된다. (index 는 출력이 안된다) \n",
    "print(\"시리즈 인덱스\",s.index)  # rangeindex 라고 나온다. \n",
    "print(\"시리즈 초기화\" ,s)\n",
    "print(\"시리즈 인덱스의 값\",s.index.values)\n",
    "print(s[0])\n",
    "print(s.head())\n",
    "print(s.value_counts()) # 도수  분포표  \n",
    "print(s.value_counts(normalize=True)) # 사이즈 1로 -> 상대도수 분포표가 된다. \n",
    "print(s.describe()) # 숫자변수에 대해서만 출력하라!! , 문자열-> object\n",
    "\n",
    "print(\"데이터 타입은:\" , s.dtypes)\n",
    "print(\"차원\",s.ndim)\n",
    "print(\"차수\",s.shape)"
   ]
  },
  {
   "cell_type": "code",
   "execution_count": 254,
   "metadata": {},
   "outputs": [
    {
     "name": "stdout",
     "output_type": "stream",
     "text": [
      "Ohio      35000\n",
      "Texas     71000\n",
      "Oregon    16000\n",
      "Utah       5000\n",
      "dtype: int64\n",
      "\n",
      "California        NaN\n",
      "Ohio          35000.0\n",
      "Oregon        16000.0\n",
      "Texas         71000.0\n",
      "dtype: float64\n",
      "\n",
      "California    False\n",
      "Ohio           True\n",
      "Oregon         True\n",
      "Texas          True\n",
      "dtype: bool\n",
      "\n",
      "객체 출력\n",
      "\n",
      "California         NaN\n",
      "Ohio           70000.0\n",
      "Oregon         32000.0\n",
      "Texas         142000.0\n",
      "Utah               NaN\n",
      "dtype: float64\n"
     ]
    }
   ],
   "source": [
    "sdata = {'Ohio' : 35000, \"Texas\" : 71000, \"Oregon\" : 16000, \"Utah\" : 5000}\n",
    "obj3 = pd.Series(sdata)\n",
    "print(obj3)\n",
    "print()\n",
    "states=['California',\"Ohio\",\"Oregon\",\"Texas\"]\n",
    "obj4 = pd.Series(sdata,index=states)\n",
    "print(obj4)\n",
    "print()\n",
    "print(pd.notnull(obj4))\n",
    "print()\n",
    "print(\"객체 출력\")\n",
    "print()\n",
    "print(obj3 + obj4)"
   ]
  },
  {
   "cell_type": "code",
   "execution_count": 11,
   "metadata": {},
   "outputs": [
    {
     "name": "stdout",
     "output_type": "stream",
     "text": [
      "Ohio      35000\n",
      "Texas     71000\n",
      "Oregon    16000\n",
      "Utah       5000\n",
      "dtype: int64\n",
      "(4,)\n",
      "California        NaN\n",
      "Ohio          35000.0\n",
      "Oregon        16000.0\n",
      "Texas         71000.0\n",
      "dtype: float64\n",
      "시리즈 인덱스 Index(['Ohio', 'Texas', 'Oregon', 'Utah'], dtype='object')\n",
      "시리즈 인덱스 Index(['California', 'Ohio', 'Oregon', 'Texas'], dtype='object')\n",
      "null이 있는가 California     True\n",
      "Ohio          False\n",
      "Oregon        False\n",
      "Texas         False\n",
      "dtype: bool\n",
      "결측치가 있는가 California    False\n",
      "Ohio           True\n",
      "Oregon         True\n",
      "Texas          True\n",
      "dtype: bool\n",
      "객체 출력\n",
      "obj3 을 출력합니다. Ohio      35000\n",
      "Texas     71000\n",
      "Oregon    16000\n",
      "Utah       5000\n",
      "dtype: int64\n",
      "obj4 을 출력합니다. California        NaN\n",
      "Ohio          35000.0\n",
      "Oregon        16000.0\n",
      "Texas         71000.0\n",
      "dtype: float64\n",
      "연산결과를 출력합니다 California         NaN\n",
      "Ohio           70000.0\n",
      "Oregon         32000.0\n",
      "Texas         142000.0\n",
      "Utah               NaN\n",
      "dtype: float64\n"
     ]
    }
   ],
   "source": [
    "sdata={'Ohio':35000, \"Texas\":71000, \"Oregon\":16000,\"Utah\":5000}  # dict 데이터를 가지고 초기화했음\n",
    "obj3 = pd.Series(sdata)\n",
    "print(obj3)\n",
    "print(obj3.shape) #4개 (series 는 1차원) \n",
    "states = ['California','Ohio',\"Oregon\",\"Texas\"]  # 캘리포니아 -> nan 이 될 것 (데이터가 없으니까 ) \n",
    "obj4 = pd.Series(sdata, index = states)\n",
    "print(obj4)\n",
    "print(\"시리즈 인덱스\",obj3.index) # range index 가 아니라 그냥 index 이다. \n",
    "print(\"시리즈 인덱스\",obj4.index)# 이것도 그냥 index  -> 이때 데이터 타입은 object ( =문자열 ) \n",
    "print(\"null이 있는가\",pd.isnull(obj4)) # 데이터가 null 인가?\n",
    "\n",
    "\n",
    "\n",
    "print(\"결측치가 있는가\",pd.notnull(obj4)) # 값이 있을때 true \n",
    "print(\"객체 출력\")\n",
    "print(\"obj3 을 출력합니다.\",obj3)\n",
    "print(\"obj4 을 출력합니다.\",obj4)\n",
    "# 짝이 맞지 않으면 연산이 불가능 (index 가 다름 )  -> 근데 연산이 됨 -> 짝이 없는건 NaN ( pandas 연산의 특징이다 ) -> \n",
    "# pandas 연산 : 짝이맞지않아도 연산이 가능하나, 짝이 없는건 NaN\n",
    "print(\"연산결과를 출력합니다\",obj3+obj4)"
   ]
  },
  {
   "cell_type": "code",
   "execution_count": 12,
   "metadata": {},
   "outputs": [
    {
     "data": {
      "text/plain": [
       "0    0.0\n",
       "1    0.0\n",
       "2    2.0\n",
       "3    2.0\n",
       "4    NaN\n",
       "5    0.0\n",
       "6    1.0\n",
       "dtype: float64"
      ]
     },
     "execution_count": 12,
     "metadata": {},
     "output_type": "execute_result"
    }
   ],
   "source": [
    "s=pd.Series(['A','B','Aaba',\"Baca\",np.nan,'CABA',\"cat\"])\n",
    "# series 는 내부적으로 string 함수도 지원한다. \n",
    "s.str.count('a')\n",
    "# count 함수로 a 의' 개수를 센다 "
   ]
  },
  {
   "cell_type": "code",
   "execution_count": 14,
   "metadata": {},
   "outputs": [
    {
     "data": {
      "image/png": "[encoded data removed]",
      "text/plain": [
       "<Figure size 432x288 with 1 Axes>"
      ]
     },
     "metadata": {
      "needs_background": "light"
     },
     "output_type": "display_data"
    }
   ],
   "source": [
    "import matplotlib.pyplot as plt\n",
    "s=pd.Series([1,2,2.5, 3, 3.5, 4,5])\n",
    "s.plot.kde() # kernel density estimate ->실제데이터는 7개인데  부드러운 곡선으로 그려진다. \n",
    "plt.show()  # -> 어떻게 부드럽게 그려지나? 데이터가 없는 부분은 kernel 로 예측한다. \n",
    "                #kernel 이 여기서는 디폴트로 가우시안 분포\n",
    "\n",
    "# https://darkpgmr.tistory.com/147"
   ]
  },
  {
   "cell_type": "code",
   "execution_count": 271,
   "metadata": {},
   "outputs": [
    {
     "data": {
      "image/png": "[encoded data removed]",
      "text/plain": [
       "<Figure size 432x288 with 1 Axes>"
      ]
     },
     "metadata": {
      "needs_background": "light"
     },
     "output_type": "display_data"
    }
   ],
   "source": [
    "s.plot.kde(bw_method=0.003) # 숫자조금줬다-> 조금조금씩 예측한다 ->  과적합 된다. -> 굴곡이 일어난다. \n",
    "# 넓게 예측하라는 건 뭉떵하게 예측, 조금씩 예측하는 건 당연히 굴곡이 생기게 된다. (0.3 대신 3 넣어봐라)\n",
    "plt.show()"
   ]
  },
  {
   "cell_type": "code",
   "execution_count": 273,
   "metadata": {},
   "outputs": [
    {
     "data": {
      "text/html": [
       "<div>\n",
       "<style scoped>\n",
       "    .dataframe tbody tr th:only-of-type {\n",
       "        vertical-align: middle;\n",
       "    }\n",
       "\n",
       "    .dataframe tbody tr th {\n",
       "        vertical-align: top;\n",
       "    }\n",
       "\n",
       "    .dataframe thead th {\n",
       "        text-align: right;\n",
       "    }\n",
       "</style>\n",
       "<table border=\"1\" class=\"dataframe\">\n",
       "  <thead>\n",
       "    <tr style=\"text-align: right;\">\n",
       "      <th></th>\n",
       "      <th>year</th>\n",
       "      <th>GDP rate</th>\n",
       "      <th>GDP</th>\n",
       "    </tr>\n",
       "  </thead>\n",
       "  <tbody>\n",
       "    <tr>\n",
       "      <td>0</td>\n",
       "      <td>2016</td>\n",
       "      <td>2.8</td>\n",
       "      <td>1.637M</td>\n",
       "    </tr>\n",
       "    <tr>\n",
       "      <td>1</td>\n",
       "      <td>2017</td>\n",
       "      <td>3.1</td>\n",
       "      <td>1.73M</td>\n",
       "    </tr>\n",
       "    <tr>\n",
       "      <td>2</td>\n",
       "      <td>2018</td>\n",
       "      <td>3.0</td>\n",
       "      <td>1.83M</td>\n",
       "    </tr>\n",
       "  </tbody>\n",
       "</table>\n",
       "</div>"
      ],
      "text/plain": [
       "   year  GDP rate     GDP\n",
       "0  2016       2.8  1.637M\n",
       "1  2017       3.1   1.73M\n",
       "2  2018       3.0   1.83M"
      ]
     },
     "execution_count": 273,
     "metadata": {},
     "output_type": "execute_result"
    }
   ],
   "source": [
    "import pandas as pd\n",
    " \n",
    "data = {\n",
    "    'year': [2016, 2017, 2018],\n",
    "    'GDP rate': [2.8, 3.1, 3.0],\n",
    "    'GDP': ['1.637M', '1.73M', '1.83M']\n",
    "}\n",
    " \n",
    "df = pd.DataFrame(data)\n",
    "df"
   ]
  },
  {
   "cell_type": "code",
   "execution_count": 388,
   "metadata": {},
   "outputs": [
    {
     "data": {
      "text/plain": [
       "[Index(['California', 'Texas', 'New York', 'Florida', 'Illinois'], dtype='object'),\n",
       " Index(['area', 'pop'], dtype='object')]"
      ]
     },
     "execution_count": 388,
     "metadata": {},
     "output_type": "execute_result"
    }
   ],
   "source": [
    "import pandas as pd\n",
    "# 데이터프레임은 행인덱스와 열인덱스 \n",
    "area = pd.Series({'California': 423967, 'Texas': 695662, # series 는 행인덱스를 줬었다. \n",
    "                  'New York': 141297, 'Florida': 170312,\n",
    "                  'Illinois': 149995})\n",
    "pop = pd.Series({'California': 38332521, 'Texas': 26448193,\n",
    "                 'New York': 19651127, 'Florida': 19552860,\n",
    "                 'Illinois': 12882135})\n",
    "data = pd.DataFrame({'area':area, 'pop':pop})  #'area' 는 열이름으로 쓰이고 있고, area 는 값으로 쓰이고 있다. \n",
    "data \n",
    "\n",
    "data.axes"
   ]
  },
  {
   "cell_type": "code",
   "execution_count": 23,
   "metadata": {},
   "outputs": [
    {
     "data": {
      "text/plain": [
       "California    423967\n",
       "Texas         695662\n",
       "New York      141297\n",
       "Florida       170312\n",
       "Illinois      149995\n",
       "Name: area, dtype: int64"
      ]
     },
     "execution_count": 23,
     "metadata": {},
     "output_type": "execute_result"
    }
   ],
   "source": [
    "data['area'] # area 가 열이름이다. \n",
    "data.area   # 데이터.필드이름 으로 접근해도 같다. 위의 인덱스방식이랑 같은 것이다. "
   ]
  },
  {
   "cell_type": "code",
   "execution_count": 288,
   "metadata": {},
   "outputs": [
    {
     "data": {
      "text/plain": [
       "True"
      ]
     },
     "execution_count": 288,
     "metadata": {},
     "output_type": "execute_result"
    }
   ],
   "source": [
    " # 객체 비교( is  를 이용)  앞에서 is None 일때 썼었음\n",
    "data.area is data['area']"
   ]
  },
  {
   "cell_type": "code",
   "execution_count": 305,
   "metadata": {},
   "outputs": [
    {
     "data": {
      "text/html": [
       "<div>\n",
       "<style scoped>\n",
       "    .dataframe tbody tr th:only-of-type {\n",
       "        vertical-align: middle;\n",
       "    }\n",
       "\n",
       "    .dataframe tbody tr th {\n",
       "        vertical-align: top;\n",
       "    }\n",
       "\n",
       "    .dataframe thead th {\n",
       "        text-align: right;\n",
       "    }\n",
       "</style>\n",
       "<table border=\"1\" class=\"dataframe\">\n",
       "  <thead>\n",
       "    <tr style=\"text-align: right;\">\n",
       "      <th></th>\n",
       "      <th>area</th>\n",
       "      <th>pop</th>\n",
       "    </tr>\n",
       "  </thead>\n",
       "  <tbody>\n",
       "    <tr>\n",
       "      <td>Texas</td>\n",
       "      <td>695662</td>\n",
       "      <td>26448193</td>\n",
       "    </tr>\n",
       "  </tbody>\n",
       "</table>\n",
       "</div>"
      ],
      "text/plain": [
       "         area       pop\n",
       "Texas  695662  26448193"
      ]
     },
     "execution_count": 305,
     "metadata": {},
     "output_type": "execute_result"
    }
   ],
   "source": [
    "data[data['area']>600000]\n"
   ]
  },
  {
   "cell_type": "code",
   "execution_count": 371,
   "metadata": {},
   "outputs": [
    {
     "ename": "KeyError",
     "evalue": "'pop'",
     "output_type": "error",
     "traceback": [
      "\u001b[1;31m---------------------------------------------------------------------------\u001b[0m",
      "\u001b[1;31mKeyError\u001b[0m                                  Traceback (most recent call last)",
      "\u001b[1;32m~\\Anaconda3\\lib\\site-packages\\pandas\\core\\indexes\\base.py\u001b[0m in \u001b[0;36mget_loc\u001b[1;34m(self, key, method, tolerance)\u001b[0m\n\u001b[0;32m   2896\u001b[0m             \u001b[1;32mtry\u001b[0m\u001b[1;33m:\u001b[0m\u001b[1;33m\u001b[0m\u001b[1;33m\u001b[0m\u001b[0m\n\u001b[1;32m-> 2897\u001b[1;33m                 \u001b[1;32mreturn\u001b[0m \u001b[0mself\u001b[0m\u001b[1;33m.\u001b[0m\u001b[0m_engine\u001b[0m\u001b[1;33m.\u001b[0m\u001b[0mget_loc\u001b[0m\u001b[1;33m(\u001b[0m\u001b[0mkey\u001b[0m\u001b[1;33m)\u001b[0m\u001b[1;33m\u001b[0m\u001b[1;33m\u001b[0m\u001b[0m\n\u001b[0m\u001b[0;32m   2898\u001b[0m             \u001b[1;32mexcept\u001b[0m \u001b[0mKeyError\u001b[0m\u001b[1;33m:\u001b[0m\u001b[1;33m\u001b[0m\u001b[1;33m\u001b[0m\u001b[0m\n",
      "\u001b[1;32mpandas\\_libs\\index.pyx\u001b[0m in \u001b[0;36mpandas._libs.index.IndexEngine.get_loc\u001b[1;34m()\u001b[0m\n",
      "\u001b[1;32mpandas\\_libs\\index.pyx\u001b[0m in \u001b[0;36mpandas._libs.index.IndexEngine.get_loc\u001b[1;34m()\u001b[0m\n",
      "\u001b[1;32mpandas\\_libs\\hashtable_class_helper.pxi\u001b[0m in \u001b[0;36mpandas._libs.hashtable.PyObjectHashTable.get_item\u001b[1;34m()\u001b[0m\n",
      "\u001b[1;32mpandas\\_libs\\hashtable_class_helper.pxi\u001b[0m in \u001b[0;36mpandas._libs.hashtable.PyObjectHashTable.get_item\u001b[1;34m()\u001b[0m\n",
      "\u001b[1;31mKeyError\u001b[0m: 'pop'",
      "\nDuring handling of the above exception, another exception occurred:\n",
      "\u001b[1;31mKeyError\u001b[0m                                  Traceback (most recent call last)",
      "\u001b[1;32m<ipython-input-371-3c8d53ba5c40>\u001b[0m in \u001b[0;36m<module>\u001b[1;34m\u001b[0m\n\u001b[0;32m      1\u001b[0m \u001b[1;31m# 객체에서 변수를 실시간으로 추가하는 것이 가능하다.\u001b[0m\u001b[1;33m\u001b[0m\u001b[1;33m\u001b[0m\u001b[1;33m\u001b[0m\u001b[0m\n\u001b[0;32m      2\u001b[0m \u001b[1;31m# 리스트는 append 로 추가했음\u001b[0m\u001b[1;33m\u001b[0m\u001b[1;33m\u001b[0m\u001b[1;33m\u001b[0m\u001b[0m\n\u001b[1;32m----> 3\u001b[1;33m \u001b[0mdata\u001b[0m\u001b[1;33m[\u001b[0m\u001b[1;34m'density'\u001b[0m\u001b[1;33m]\u001b[0m \u001b[1;33m=\u001b[0m \u001b[0mdata\u001b[0m\u001b[1;33m[\u001b[0m\u001b[1;34m'pop'\u001b[0m\u001b[1;33m]\u001b[0m\u001b[1;33m/\u001b[0m\u001b[0mdata\u001b[0m\u001b[1;33m[\u001b[0m\u001b[1;34m'area'\u001b[0m\u001b[1;33m]\u001b[0m\u001b[1;33m\u001b[0m\u001b[1;33m\u001b[0m\u001b[0m\n\u001b[0m\u001b[0;32m      4\u001b[0m \u001b[0mdata\u001b[0m\u001b[1;33m\u001b[0m\u001b[1;33m\u001b[0m\u001b[0m\n",
      "\u001b[1;32m~\\Anaconda3\\lib\\site-packages\\pandas\\core\\frame.py\u001b[0m in \u001b[0;36m__getitem__\u001b[1;34m(self, key)\u001b[0m\n\u001b[0;32m   2978\u001b[0m             \u001b[1;32mif\u001b[0m \u001b[0mself\u001b[0m\u001b[1;33m.\u001b[0m\u001b[0mcolumns\u001b[0m\u001b[1;33m.\u001b[0m\u001b[0mnlevels\u001b[0m \u001b[1;33m>\u001b[0m \u001b[1;36m1\u001b[0m\u001b[1;33m:\u001b[0m\u001b[1;33m\u001b[0m\u001b[1;33m\u001b[0m\u001b[0m\n\u001b[0;32m   2979\u001b[0m                 \u001b[1;32mreturn\u001b[0m \u001b[0mself\u001b[0m\u001b[1;33m.\u001b[0m\u001b[0m_getitem_multilevel\u001b[0m\u001b[1;33m(\u001b[0m\u001b[0mkey\u001b[0m\u001b[1;33m)\u001b[0m\u001b[1;33m\u001b[0m\u001b[1;33m\u001b[0m\u001b[0m\n\u001b[1;32m-> 2980\u001b[1;33m             \u001b[0mindexer\u001b[0m \u001b[1;33m=\u001b[0m \u001b[0mself\u001b[0m\u001b[1;33m.\u001b[0m\u001b[0mcolumns\u001b[0m\u001b[1;33m.\u001b[0m\u001b[0mget_loc\u001b[0m\u001b[1;33m(\u001b[0m\u001b[0mkey\u001b[0m\u001b[1;33m)\u001b[0m\u001b[1;33m\u001b[0m\u001b[1;33m\u001b[0m\u001b[0m\n\u001b[0m\u001b[0;32m   2981\u001b[0m             \u001b[1;32mif\u001b[0m \u001b[0mis_integer\u001b[0m\u001b[1;33m(\u001b[0m\u001b[0mindexer\u001b[0m\u001b[1;33m)\u001b[0m\u001b[1;33m:\u001b[0m\u001b[1;33m\u001b[0m\u001b[1;33m\u001b[0m\u001b[0m\n\u001b[0;32m   2982\u001b[0m                 \u001b[0mindexer\u001b[0m \u001b[1;33m=\u001b[0m \u001b[1;33m[\u001b[0m\u001b[0mindexer\u001b[0m\u001b[1;33m]\u001b[0m\u001b[1;33m\u001b[0m\u001b[1;33m\u001b[0m\u001b[0m\n",
      "\u001b[1;32m~\\Anaconda3\\lib\\site-packages\\pandas\\core\\indexes\\base.py\u001b[0m in \u001b[0;36mget_loc\u001b[1;34m(self, key, method, tolerance)\u001b[0m\n\u001b[0;32m   2897\u001b[0m                 \u001b[1;32mreturn\u001b[0m \u001b[0mself\u001b[0m\u001b[1;33m.\u001b[0m\u001b[0m_engine\u001b[0m\u001b[1;33m.\u001b[0m\u001b[0mget_loc\u001b[0m\u001b[1;33m(\u001b[0m\u001b[0mkey\u001b[0m\u001b[1;33m)\u001b[0m\u001b[1;33m\u001b[0m\u001b[1;33m\u001b[0m\u001b[0m\n\u001b[0;32m   2898\u001b[0m             \u001b[1;32mexcept\u001b[0m \u001b[0mKeyError\u001b[0m\u001b[1;33m:\u001b[0m\u001b[1;33m\u001b[0m\u001b[1;33m\u001b[0m\u001b[0m\n\u001b[1;32m-> 2899\u001b[1;33m                 \u001b[1;32mreturn\u001b[0m \u001b[0mself\u001b[0m\u001b[1;33m.\u001b[0m\u001b[0m_engine\u001b[0m\u001b[1;33m.\u001b[0m\u001b[0mget_loc\u001b[0m\u001b[1;33m(\u001b[0m\u001b[0mself\u001b[0m\u001b[1;33m.\u001b[0m\u001b[0m_maybe_cast_indexer\u001b[0m\u001b[1;33m(\u001b[0m\u001b[0mkey\u001b[0m\u001b[1;33m)\u001b[0m\u001b[1;33m)\u001b[0m\u001b[1;33m\u001b[0m\u001b[1;33m\u001b[0m\u001b[0m\n\u001b[0m\u001b[0;32m   2900\u001b[0m         \u001b[0mindexer\u001b[0m \u001b[1;33m=\u001b[0m \u001b[0mself\u001b[0m\u001b[1;33m.\u001b[0m\u001b[0mget_indexer\u001b[0m\u001b[1;33m(\u001b[0m\u001b[1;33m[\u001b[0m\u001b[0mkey\u001b[0m\u001b[1;33m]\u001b[0m\u001b[1;33m,\u001b[0m \u001b[0mmethod\u001b[0m\u001b[1;33m=\u001b[0m\u001b[0mmethod\u001b[0m\u001b[1;33m,\u001b[0m \u001b[0mtolerance\u001b[0m\u001b[1;33m=\u001b[0m\u001b[0mtolerance\u001b[0m\u001b[1;33m)\u001b[0m\u001b[1;33m\u001b[0m\u001b[1;33m\u001b[0m\u001b[0m\n\u001b[0;32m   2901\u001b[0m         \u001b[1;32mif\u001b[0m \u001b[0mindexer\u001b[0m\u001b[1;33m.\u001b[0m\u001b[0mndim\u001b[0m \u001b[1;33m>\u001b[0m \u001b[1;36m1\u001b[0m \u001b[1;32mor\u001b[0m \u001b[0mindexer\u001b[0m\u001b[1;33m.\u001b[0m\u001b[0msize\u001b[0m \u001b[1;33m>\u001b[0m \u001b[1;36m1\u001b[0m\u001b[1;33m:\u001b[0m\u001b[1;33m\u001b[0m\u001b[1;33m\u001b[0m\u001b[0m\n",
      "\u001b[1;32mpandas\\_libs\\index.pyx\u001b[0m in \u001b[0;36mpandas._libs.index.IndexEngine.get_loc\u001b[1;34m()\u001b[0m\n",
      "\u001b[1;32mpandas\\_libs\\index.pyx\u001b[0m in \u001b[0;36mpandas._libs.index.IndexEngine.get_loc\u001b[1;34m()\u001b[0m\n",
      "\u001b[1;32mpandas\\_libs\\hashtable_class_helper.pxi\u001b[0m in \u001b[0;36mpandas._libs.hashtable.PyObjectHashTable.get_item\u001b[1;34m()\u001b[0m\n",
      "\u001b[1;32mpandas\\_libs\\hashtable_class_helper.pxi\u001b[0m in \u001b[0;36mpandas._libs.hashtable.PyObjectHashTable.get_item\u001b[1;34m()\u001b[0m\n",
      "\u001b[1;31mKeyError\u001b[0m: 'pop'"
     ]
    }
   ],
   "source": [
    "# 객체에서 변수를 실시간으로 추가하는 것이 가능하다.\n",
    "# 리스트는 append 로 추가했음\n",
    "data['density'] = data['pop']/data['area']  \n",
    "data"
   ]
  },
  {
   "cell_type": "code",
   "execution_count": 370,
   "metadata": {},
   "outputs": [
    {
     "name": "stdout",
     "output_type": "stream",
     "text": [
      "[RangeIndex(start=0, stop=8, step=1), Index(['Name', 'Age', 'Rating'], dtype='object')]\n"
     ]
    }
   ],
   "source": [
    "data.values  #  ( 값만 가져온다. )=> ndarray 가 나온다 -> numpy 의 함수로 처리\n",
    "data.index\n",
    "data.columns     \n",
    "print(data.axes)"
   ]
  },
  {
   "cell_type": "code",
   "execution_count": 323,
   "metadata": {},
   "outputs": [
    {
     "data": {
      "text/html": [
       "<div>\n",
       "<style scoped>\n",
       "    .dataframe tbody tr th:only-of-type {\n",
       "        vertical-align: middle;\n",
       "    }\n",
       "\n",
       "    .dataframe tbody tr th {\n",
       "        vertical-align: top;\n",
       "    }\n",
       "\n",
       "    .dataframe thead th {\n",
       "        text-align: right;\n",
       "    }\n",
       "</style>\n",
       "<table border=\"1\" class=\"dataframe\">\n",
       "  <thead>\n",
       "    <tr style=\"text-align: right;\">\n",
       "      <th></th>\n",
       "      <th>California</th>\n",
       "      <th>Texas</th>\n",
       "      <th>New York</th>\n",
       "      <th>Florida</th>\n",
       "      <th>Illinois</th>\n",
       "    </tr>\n",
       "  </thead>\n",
       "  <tbody>\n",
       "    <tr>\n",
       "      <td>area</td>\n",
       "      <td>4.239670e+05</td>\n",
       "      <td>6.956620e+05</td>\n",
       "      <td>1.412970e+05</td>\n",
       "      <td>1.703120e+05</td>\n",
       "      <td>1.499950e+05</td>\n",
       "    </tr>\n",
       "    <tr>\n",
       "      <td>pop</td>\n",
       "      <td>3.833252e+07</td>\n",
       "      <td>2.644819e+07</td>\n",
       "      <td>1.965113e+07</td>\n",
       "      <td>1.955286e+07</td>\n",
       "      <td>1.288214e+07</td>\n",
       "    </tr>\n",
       "    <tr>\n",
       "      <td>density</td>\n",
       "      <td>9.041393e+01</td>\n",
       "      <td>3.801874e+01</td>\n",
       "      <td>1.390767e+02</td>\n",
       "      <td>1.148061e+02</td>\n",
       "      <td>8.588376e+01</td>\n",
       "    </tr>\n",
       "  </tbody>\n",
       "</table>\n",
       "</div>"
      ],
      "text/plain": [
       "           California         Texas      New York       Florida      Illinois\n",
       "area     4.239670e+05  6.956620e+05  1.412970e+05  1.703120e+05  1.499950e+05\n",
       "pop      3.833252e+07  2.644819e+07  1.965113e+07  1.955286e+07  1.288214e+07\n",
       "density  9.041393e+01  3.801874e+01  1.390767e+02  1.148061e+02  8.588376e+01"
      ]
     },
     "execution_count": 323,
     "metadata": {},
     "output_type": "execute_result"
    }
   ],
   "source": [
    "data.T"
   ]
  },
  {
   "cell_type": "code",
   "execution_count": 27,
   "metadata": {},
   "outputs": [
    {
     "data": {
      "text/html": [
       "<div>\n",
       "<style scoped>\n",
       "    .dataframe tbody tr th:only-of-type {\n",
       "        vertical-align: middle;\n",
       "    }\n",
       "\n",
       "    .dataframe tbody tr th {\n",
       "        vertical-align: top;\n",
       "    }\n",
       "\n",
       "    .dataframe thead th {\n",
       "        text-align: right;\n",
       "    }\n",
       "</style>\n",
       "<table border=\"1\" class=\"dataframe\">\n",
       "  <thead>\n",
       "    <tr style=\"text-align: right;\">\n",
       "      <th></th>\n",
       "      <th>California</th>\n",
       "      <th>Texas</th>\n",
       "      <th>New York</th>\n",
       "      <th>Florida</th>\n",
       "      <th>Illinois</th>\n",
       "    </tr>\n",
       "  </thead>\n",
       "  <tbody>\n",
       "    <tr>\n",
       "      <td>area</td>\n",
       "      <td>4.239670e+05</td>\n",
       "      <td>6.956620e+05</td>\n",
       "      <td>1.412970e+05</td>\n",
       "      <td>1.703120e+05</td>\n",
       "      <td>1.499950e+05</td>\n",
       "    </tr>\n",
       "    <tr>\n",
       "      <td>pop</td>\n",
       "      <td>3.833252e+07</td>\n",
       "      <td>2.644819e+07</td>\n",
       "      <td>1.965113e+07</td>\n",
       "      <td>1.955286e+07</td>\n",
       "      <td>1.288214e+07</td>\n",
       "    </tr>\n",
       "    <tr>\n",
       "      <td>density</td>\n",
       "      <td>9.041393e+01</td>\n",
       "      <td>3.801874e+01</td>\n",
       "      <td>1.390767e+02</td>\n",
       "      <td>1.148061e+02</td>\n",
       "      <td>8.588376e+01</td>\n",
       "    </tr>\n",
       "  </tbody>\n",
       "</table>\n",
       "</div>"
      ],
      "text/plain": [
       "           California         Texas      New York       Florida      Illinois\n",
       "area     4.239670e+05  6.956620e+05  1.412970e+05  1.703120e+05  1.499950e+05\n",
       "pop      3.833252e+07  2.644819e+07  1.965113e+07  1.955286e+07  1.288214e+07\n",
       "density  9.041393e+01  3.801874e+01  1.390767e+02  1.148061e+02  8.588376e+01"
      ]
     },
     "execution_count": 27,
     "metadata": {},
     "output_type": "execute_result"
    }
   ],
   "source": [
    " data.T  # 전치"
   ]
  },
  {
   "cell_type": "code",
   "execution_count": 28,
   "metadata": {},
   "outputs": [
    {
     "data": {
      "text/plain": [
       "array([4.23967000e+05, 3.83325210e+07, 9.04139261e+01])"
      ]
     },
     "execution_count": 28,
     "metadata": {},
     "output_type": "execute_result"
    }
   ],
   "source": [
    "data.values[0] # 행값을 가져온다 # 이렇게 쓰면 행인지 열인지 헷갈려서 iloc 를 만든다. "
   ]
  },
  {
   "cell_type": "code",
   "execution_count": 348,
   "metadata": {},
   "outputs": [
    {
     "data": {
      "text/html": [
       "<div>\n",
       "<style scoped>\n",
       "    .dataframe tbody tr th:only-of-type {\n",
       "        vertical-align: middle;\n",
       "    }\n",
       "\n",
       "    .dataframe tbody tr th {\n",
       "        vertical-align: top;\n",
       "    }\n",
       "\n",
       "    .dataframe thead th {\n",
       "        text-align: right;\n",
       "    }\n",
       "</style>\n",
       "<table border=\"1\" class=\"dataframe\">\n",
       "  <thead>\n",
       "    <tr style=\"text-align: right;\">\n",
       "      <th></th>\n",
       "      <th>area</th>\n",
       "      <th>pop</th>\n",
       "      <th>density</th>\n",
       "    </tr>\n",
       "  </thead>\n",
       "  <tbody>\n",
       "    <tr>\n",
       "      <td>California</td>\n",
       "      <td>423967</td>\n",
       "      <td>38332521</td>\n",
       "      <td>90.413926</td>\n",
       "    </tr>\n",
       "    <tr>\n",
       "      <td>Texas</td>\n",
       "      <td>695662</td>\n",
       "      <td>26448193</td>\n",
       "      <td>38.018740</td>\n",
       "    </tr>\n",
       "    <tr>\n",
       "      <td>New York</td>\n",
       "      <td>141297</td>\n",
       "      <td>19651127</td>\n",
       "      <td>139.076746</td>\n",
       "    </tr>\n",
       "    <tr>\n",
       "      <td>Florida</td>\n",
       "      <td>170312</td>\n",
       "      <td>19552860</td>\n",
       "      <td>114.806121</td>\n",
       "    </tr>\n",
       "    <tr>\n",
       "      <td>Illinois</td>\n",
       "      <td>149995</td>\n",
       "      <td>12882135</td>\n",
       "      <td>85.883763</td>\n",
       "    </tr>\n",
       "  </tbody>\n",
       "</table>\n",
       "</div>"
      ],
      "text/plain": [
       "              area       pop     density\n",
       "California  423967  38332521   90.413926\n",
       "Texas       695662  26448193   38.018740\n",
       "New York    141297  19651127  139.076746\n",
       "Florida     170312  19552860  114.806121\n",
       "Illinois    149995  12882135   85.883763"
      ]
     },
     "execution_count": 348,
     "metadata": {},
     "output_type": "execute_result"
    }
   ],
   "source": [
    "data"
   ]
  },
  {
   "cell_type": "code",
   "execution_count": 344,
   "metadata": {},
   "outputs": [
    {
     "data": {
      "text/html": [
       "<div>\n",
       "<style scoped>\n",
       "    .dataframe tbody tr th:only-of-type {\n",
       "        vertical-align: middle;\n",
       "    }\n",
       "\n",
       "    .dataframe tbody tr th {\n",
       "        vertical-align: top;\n",
       "    }\n",
       "\n",
       "    .dataframe thead th {\n",
       "        text-align: right;\n",
       "    }\n",
       "</style>\n",
       "<table border=\"1\" class=\"dataframe\">\n",
       "  <thead>\n",
       "    <tr style=\"text-align: right;\">\n",
       "      <th></th>\n",
       "      <th>area</th>\n",
       "      <th>pop</th>\n",
       "    </tr>\n",
       "  </thead>\n",
       "  <tbody>\n",
       "    <tr>\n",
       "      <td>California</td>\n",
       "      <td>423967</td>\n",
       "      <td>38332521</td>\n",
       "    </tr>\n",
       "    <tr>\n",
       "      <td>Texas</td>\n",
       "      <td>695662</td>\n",
       "      <td>26448193</td>\n",
       "    </tr>\n",
       "    <tr>\n",
       "      <td>New York</td>\n",
       "      <td>141297</td>\n",
       "      <td>19651127</td>\n",
       "    </tr>\n",
       "  </tbody>\n",
       "</table>\n",
       "</div>"
      ],
      "text/plain": [
       "              area       pop\n",
       "California  423967  38332521\n",
       "Texas       695662  26448193\n",
       "New York    141297  19651127"
      ]
     },
     "execution_count": 344,
     "metadata": {},
     "output_type": "execute_result"
    }
   ],
   "source": [
    "data.iloc[:3,:2] #숫자로 인덱싱 할때는  iloc / 키이로 인덱싱할때는 loc  # 행과열로 입력한다. "
   ]
  },
  {
   "cell_type": "code",
   "execution_count": 351,
   "metadata": {},
   "outputs": [
    {
     "data": {
      "text/html": [
       "<div>\n",
       "<style scoped>\n",
       "    .dataframe tbody tr th:only-of-type {\n",
       "        vertical-align: middle;\n",
       "    }\n",
       "\n",
       "    .dataframe tbody tr th {\n",
       "        vertical-align: top;\n",
       "    }\n",
       "\n",
       "    .dataframe thead th {\n",
       "        text-align: right;\n",
       "    }\n",
       "</style>\n",
       "<table border=\"1\" class=\"dataframe\">\n",
       "  <thead>\n",
       "    <tr style=\"text-align: right;\">\n",
       "      <th></th>\n",
       "      <th>area</th>\n",
       "      <th>pop</th>\n",
       "    </tr>\n",
       "  </thead>\n",
       "  <tbody>\n",
       "    <tr>\n",
       "      <td>California</td>\n",
       "      <td>423967</td>\n",
       "      <td>38332521</td>\n",
       "    </tr>\n",
       "    <tr>\n",
       "      <td>Texas</td>\n",
       "      <td>695662</td>\n",
       "      <td>26448193</td>\n",
       "    </tr>\n",
       "    <tr>\n",
       "      <td>New York</td>\n",
       "      <td>141297</td>\n",
       "      <td>19651127</td>\n",
       "    </tr>\n",
       "    <tr>\n",
       "      <td>Florida</td>\n",
       "      <td>170312</td>\n",
       "      <td>19552860</td>\n",
       "    </tr>\n",
       "    <tr>\n",
       "      <td>Illinois</td>\n",
       "      <td>149995</td>\n",
       "      <td>12882135</td>\n",
       "    </tr>\n",
       "  </tbody>\n",
       "</table>\n",
       "</div>"
      ],
      "text/plain": [
       "              area       pop\n",
       "California  423967  38332521\n",
       "Texas       695662  26448193\n",
       "New York    141297  19651127\n",
       "Florida     170312  19552860\n",
       "Illinois    149995  12882135"
      ]
     },
     "execution_count": 351,
     "metadata": {},
     "output_type": "execute_result"
    }
   ],
   "source": [
    "data.loc[:'Illinois',:'pop']  # 키이가 순서가 보장이 안되는데 판다스에서는 보장이 된다. "
   ]
  },
  {
   "cell_type": "code",
   "execution_count": 358,
   "metadata": {},
   "outputs": [
    {
     "data": {
      "text/html": [
       "<div>\n",
       "<style scoped>\n",
       "    .dataframe tbody tr th:only-of-type {\n",
       "        vertical-align: middle;\n",
       "    }\n",
       "\n",
       "    .dataframe tbody tr th {\n",
       "        vertical-align: top;\n",
       "    }\n",
       "\n",
       "    .dataframe thead th {\n",
       "        text-align: right;\n",
       "    }\n",
       "</style>\n",
       "<table border=\"1\" class=\"dataframe\">\n",
       "  <thead>\n",
       "    <tr style=\"text-align: right;\">\n",
       "      <th></th>\n",
       "      <th>area</th>\n",
       "      <th>pop</th>\n",
       "      <th>density</th>\n",
       "    </tr>\n",
       "  </thead>\n",
       "  <tbody>\n",
       "    <tr>\n",
       "      <td>Florida</td>\n",
       "      <td>170312</td>\n",
       "      <td>19552860</td>\n",
       "      <td>114.806121</td>\n",
       "    </tr>\n",
       "    <tr>\n",
       "      <td>Illinois</td>\n",
       "      <td>149995</td>\n",
       "      <td>12882135</td>\n",
       "      <td>85.883763</td>\n",
       "    </tr>\n",
       "  </tbody>\n",
       "</table>\n",
       "</div>"
      ],
      "text/plain": [
       "            area       pop     density\n",
       "Florida   170312  19552860  114.806121\n",
       "Illinois  149995  12882135   85.883763"
      ]
     },
     "execution_count": 358,
     "metadata": {},
     "output_type": "execute_result"
    }
   ],
   "source": [
    "data['Florida':'Illinois']"
   ]
  },
  {
   "cell_type": "code",
   "execution_count": 410,
   "metadata": {},
   "outputs": [],
   "source": [
    "import pandas as pd\n",
    "import numpy as np\n",
    "\n",
    "d = {'Name':pd.Series(['김하나','이하나','삼하나','사하나','오하나','육하나','칠하나', '팔하나']),\n",
    "   'Age':pd.Series([25,26,25,23,30,29,23]),\n",
    "   'Rating':pd.Series([4.23,3.24,3.98,2.56,3.20,4.6,3.8])}\n",
    "\n"
   ]
  },
  {
   "cell_type": "code",
   "execution_count": 414,
   "metadata": {},
   "outputs": [
    {
     "data": {
      "text/html": [
       "<div>\n",
       "<style scoped>\n",
       "    .dataframe tbody tr th:only-of-type {\n",
       "        vertical-align: middle;\n",
       "    }\n",
       "\n",
       "    .dataframe tbody tr th {\n",
       "        vertical-align: top;\n",
       "    }\n",
       "\n",
       "    .dataframe thead th {\n",
       "        text-align: right;\n",
       "    }\n",
       "</style>\n",
       "<table border=\"1\" class=\"dataframe\">\n",
       "  <thead>\n",
       "    <tr style=\"text-align: right;\">\n",
       "      <th></th>\n",
       "      <th>Name</th>\n",
       "      <th>Age</th>\n",
       "      <th>Rating</th>\n",
       "    </tr>\n",
       "  </thead>\n",
       "  <tbody>\n",
       "    <tr>\n",
       "      <td>0</td>\n",
       "      <td>김하나</td>\n",
       "      <td>25.0</td>\n",
       "      <td>4.23</td>\n",
       "    </tr>\n",
       "    <tr>\n",
       "      <td>1</td>\n",
       "      <td>이하나</td>\n",
       "      <td>26.0</td>\n",
       "      <td>3.24</td>\n",
       "    </tr>\n",
       "    <tr>\n",
       "      <td>2</td>\n",
       "      <td>삼하나</td>\n",
       "      <td>25.0</td>\n",
       "      <td>3.98</td>\n",
       "    </tr>\n",
       "    <tr>\n",
       "      <td>3</td>\n",
       "      <td>사하나</td>\n",
       "      <td>23.0</td>\n",
       "      <td>2.56</td>\n",
       "    </tr>\n",
       "    <tr>\n",
       "      <td>4</td>\n",
       "      <td>오하나</td>\n",
       "      <td>30.0</td>\n",
       "      <td>3.20</td>\n",
       "    </tr>\n",
       "    <tr>\n",
       "      <td>5</td>\n",
       "      <td>육하나</td>\n",
       "      <td>29.0</td>\n",
       "      <td>4.60</td>\n",
       "    </tr>\n",
       "    <tr>\n",
       "      <td>6</td>\n",
       "      <td>칠하나</td>\n",
       "      <td>23.0</td>\n",
       "      <td>3.80</td>\n",
       "    </tr>\n",
       "    <tr>\n",
       "      <td>7</td>\n",
       "      <td>팔하나</td>\n",
       "      <td>NaN</td>\n",
       "      <td>NaN</td>\n",
       "    </tr>\n",
       "  </tbody>\n",
       "</table>\n",
       "</div>"
      ],
      "text/plain": [
       "  Name   Age  Rating\n",
       "0  김하나  25.0    4.23\n",
       "1  이하나  26.0    3.24\n",
       "2  삼하나  25.0    3.98\n",
       "3  사하나  23.0    2.56\n",
       "4  오하나  30.0    3.20\n",
       "5  육하나  29.0    4.60\n",
       "6  칠하나  23.0    3.80\n",
       "7  팔하나   NaN     NaN"
      ]
     },
     "execution_count": 414,
     "metadata": {},
     "output_type": "execute_result"
    }
   ],
   "source": [
    "df"
   ]
  },
  {
   "cell_type": "code",
   "execution_count": null,
   "metadata": {},
   "outputs": [],
   "source": []
  },
  {
   "cell_type": "code",
   "execution_count": null,
   "metadata": {},
   "outputs": [],
   "source": []
  },
  {
   "cell_type": "code",
   "execution_count": null,
   "metadata": {},
   "outputs": [],
   "source": []
  },
  {
   "cell_type": "code",
   "execution_count": null,
   "metadata": {},
   "outputs": [],
   "source": []
  },
  {
   "cell_type": "code",
   "execution_count": 394,
   "metadata": {},
   "outputs": [
    {
     "name": "stdout",
     "output_type": "stream",
     "text": [
      "  Name   Age  Rating\n",
      "0  김하나  25.0    4.23\n",
      "1  이하나  26.0    3.24\n",
      "2  삼하나  25.0    3.98\n",
      "3  사하나  23.0    2.56\n",
      "4  오하나  30.0    3.20\n",
      "5  육하나  29.0    4.60\n",
      "6  칠하나  23.0    3.80\n",
      "7  팔하나   NaN     NaN\n",
      "축 [RangeIndex(start=0, stop=8, step=1), Index(['Name', 'Age', 'Rating'], dtype='object')]\n",
      "데이터 타입 Name       object\n",
      "Age       float64\n",
      "Rating    float64\n",
      "dtype: object\n",
      "데이터 타입 <bound method NDFrame.get_dtype_counts of   Name   Age  Rating\n",
      "0  김하나  25.0    4.23\n",
      "1  이하나  26.0    3.24\n",
      "2  삼하나  25.0    3.98\n",
      "3  사하나  23.0    2.56\n",
      "4  오하나  30.0    3.20\n",
      "5  육하나  29.0    4.60\n",
      "6  칠하나  23.0    3.80\n",
      "7  팔하나   NaN     NaN>\n",
      "비었나 False\n",
      "차원 2\n",
      "차수 (8, 3)\n",
      "사이즈 24\n",
      "값 [['김하나' 25.0 4.23]\n",
      " ['이하나' 26.0 3.24]\n",
      " ['삼하나' 25.0 3.98]\n",
      " ['사하나' 23.0 2.56]\n",
      " ['오하나' 30.0 3.2]\n",
      " ['육하나' 29.0 4.6]\n",
      " ['칠하나' 23.0 3.8]\n",
      " ['팔하나' nan nan]]\n",
      "  Name   Age  Rating\n",
      "0  김하나  25.0    4.23\n",
      "1  이하나  26.0    3.24\n",
      "  Name   Age  Rating\n",
      "6  칠하나  23.0     3.8\n",
      "7  팔하나   NaN     NaN\n"
     ]
    }
   ],
   "source": [
    "df = pd.DataFrame(d)\n",
    "print(df)\n",
    "print('축',df.axes)\n",
    "print(\"데이터 타입\",df.dtypes)\n",
    "print(\"데이터 타입\",df.get_dtype_counts) # get_dtype_counts 하면 unique ( 중복무)-> 중복이 없다. \n",
    "print(\"비었나\",df.empty)  # 데이터가 비었니? \n",
    "print(\"차원\",df.ndim)\n",
    "print(\"차수\",df.shape)\n",
    "print(\"사이즈\",df.size)\n",
    "print('값',df.values)\n",
    "print(df.head(2))\n",
    "print(df.tail(2))"
   ]
  },
  {
   "cell_type": "code",
   "execution_count": 421,
   "metadata": {},
   "outputs": [
    {
     "data": {
      "text/html": [
       "<div>\n",
       "<style scoped>\n",
       "    .dataframe tbody tr th:only-of-type {\n",
       "        vertical-align: middle;\n",
       "    }\n",
       "\n",
       "    .dataframe tbody tr th {\n",
       "        vertical-align: top;\n",
       "    }\n",
       "\n",
       "    .dataframe thead th {\n",
       "        text-align: right;\n",
       "    }\n",
       "</style>\n",
       "<table border=\"1\" class=\"dataframe\">\n",
       "  <thead>\n",
       "    <tr style=\"text-align: right;\">\n",
       "      <th></th>\n",
       "      <th>Name</th>\n",
       "      <th>Age</th>\n",
       "      <th>Rating</th>\n",
       "    </tr>\n",
       "  </thead>\n",
       "  <tbody>\n",
       "    <tr>\n",
       "      <td>0</td>\n",
       "      <td>김하나</td>\n",
       "      <td>25.0</td>\n",
       "      <td>4.23</td>\n",
       "    </tr>\n",
       "    <tr>\n",
       "      <td>1</td>\n",
       "      <td>이하나</td>\n",
       "      <td>26.0</td>\n",
       "      <td>3.24</td>\n",
       "    </tr>\n",
       "    <tr>\n",
       "      <td>2</td>\n",
       "      <td>삼하나</td>\n",
       "      <td>25.0</td>\n",
       "      <td>3.98</td>\n",
       "    </tr>\n",
       "    <tr>\n",
       "      <td>3</td>\n",
       "      <td>사하나</td>\n",
       "      <td>23.0</td>\n",
       "      <td>2.56</td>\n",
       "    </tr>\n",
       "    <tr>\n",
       "      <td>4</td>\n",
       "      <td>오하나</td>\n",
       "      <td>30.0</td>\n",
       "      <td>3.20</td>\n",
       "    </tr>\n",
       "    <tr>\n",
       "      <td>5</td>\n",
       "      <td>육하나</td>\n",
       "      <td>29.0</td>\n",
       "      <td>4.60</td>\n",
       "    </tr>\n",
       "    <tr>\n",
       "      <td>6</td>\n",
       "      <td>칠하나</td>\n",
       "      <td>23.0</td>\n",
       "      <td>3.80</td>\n",
       "    </tr>\n",
       "    <tr>\n",
       "      <td>7</td>\n",
       "      <td>팔하나</td>\n",
       "      <td>NaN</td>\n",
       "      <td>NaN</td>\n",
       "    </tr>\n",
       "  </tbody>\n",
       "</table>\n",
       "</div>"
      ],
      "text/plain": [
       "  Name   Age  Rating\n",
       "0  김하나  25.0    4.23\n",
       "1  이하나  26.0    3.24\n",
       "2  삼하나  25.0    3.98\n",
       "3  사하나  23.0    2.56\n",
       "4  오하나  30.0    3.20\n",
       "5  육하나  29.0    4.60\n",
       "6  칠하나  23.0    3.80\n",
       "7  팔하나   NaN     NaN"
      ]
     },
     "execution_count": 421,
     "metadata": {},
     "output_type": "execute_result"
    }
   ],
   "source": [
    "df"
   ]
  },
  {
   "cell_type": "code",
   "execution_count": 431,
   "metadata": {},
   "outputs": [
    {
     "name": "stdout",
     "output_type": "stream",
     "text": [
      "       Name        Age    Rating\n",
      "count     8   7.000000  7.000000\n",
      "unique    8        NaN       NaN\n",
      "top     사하나        NaN       NaN\n",
      "freq      1        NaN       NaN\n",
      "mean    NaN  25.857143  3.658571\n",
      "std     NaN   2.734262  0.698628\n",
      "min     NaN  23.000000  2.560000\n",
      "25%     NaN  24.000000  3.220000\n",
      "50%     NaN  25.000000  3.800000\n",
      "75%     NaN  27.500000  4.105000\n",
      "max     NaN  30.000000  4.600000\n"
     ]
    }
   ],
   "source": [
    "print(df.describe(include='all'))"
   ]
  },
  {
   "cell_type": "code",
   "execution_count": 35,
   "metadata": {},
   "outputs": [
    {
     "name": "stdout",
     "output_type": "stream",
     "text": [
      "합계 Name      김하나이하나삼하나사하나오하나육하나칠하나팔하나\n",
      "Age                            181\n",
      "Rating                       25.61\n",
      "dtype: object\n",
      "Age       25.857143\n",
      "Rating     3.658571\n",
      "dtype: float64\n",
      "Age       2.734262\n",
      "Rating    0.698628\n",
      "dtype: float64\n",
      "             Age    Rating\n",
      "count   7.000000  7.000000\n",
      "mean   25.857143  3.658571\n",
      "std     2.734262  0.698628\n",
      "min    23.000000  2.560000\n",
      "25%    24.000000  3.220000\n",
      "50%    25.000000  3.800000\n",
      "75%    27.500000  4.105000\n",
      "max    30.000000  4.600000\n",
      "오브젝트        Name\n",
      "count     8\n",
      "unique    8\n",
      "top     사하나\n",
      "freq      1\n",
      "       Name        Age    Rating\n",
      "count     8   7.000000  7.000000\n",
      "unique    8        NaN       NaN\n",
      "top     사하나        NaN       NaN\n",
      "freq      1        NaN       NaN\n",
      "mean    NaN  25.857143  3.658571\n",
      "std     NaN   2.734262  0.698628\n",
      "min     NaN  23.000000  2.560000\n",
      "25%     NaN  24.000000  3.220000\n",
      "50%     NaN  25.000000  3.800000\n",
      "75%     NaN  27.500000  4.105000\n",
      "max     NaN  30.000000  4.600000\n"
     ]
    }
   ],
   "source": [
    "print(\"합계\",df.sum()) # 전체데이터합\n",
    "print(df.mean()) # 숫자만 적용\n",
    "print(df.std()) # standard deviation 표준편차 \n",
    "print(df.describe()) # 숫자만 적용\n",
    "print('오브젝트',df.describe(include=['object'])) # 문자\n",
    "print(df.describe(include='all')) # unique, top, freq 가 추가돼서 출력된다. "
   ]
  },
  {
   "cell_type": "code",
   "execution_count": null,
   "metadata": {},
   "outputs": [],
   "source": []
  },
  {
   "cell_type": "code",
   "execution_count": null,
   "metadata": {},
   "outputs": [],
   "source": [
    "# 1) state 만 출력하시오\n",
    "# 2) debt 열을 추가하고 모든 값을 16.5 로 입력하시오\n",
    "# 3) debt 를  pd.Series([-1.2, -1.5, -1.7], index =['two','four','five']) 로 수정하시오\n",
    "# 4) 파생변수 'estern' 에 주소가 서울인가를 따져 서울은 true 아니면 false 가 입력되게 하시오\n"
   ]
  },
  {
   "cell_type": "code",
   "execution_count": 436,
   "metadata": {},
   "outputs": [
    {
     "data": {
      "text/html": [
       "<div>\n",
       "<style scoped>\n",
       "    .dataframe tbody tr th:only-of-type {\n",
       "        vertical-align: middle;\n",
       "    }\n",
       "\n",
       "    .dataframe tbody tr th {\n",
       "        vertical-align: top;\n",
       "    }\n",
       "\n",
       "    .dataframe thead th {\n",
       "        text-align: right;\n",
       "    }\n",
       "</style>\n",
       "<table border=\"1\" class=\"dataframe\">\n",
       "  <thead>\n",
       "    <tr style=\"text-align: right;\">\n",
       "      <th></th>\n",
       "      <th>state</th>\n",
       "      <th>year</th>\n",
       "      <th>pop</th>\n",
       "    </tr>\n",
       "  </thead>\n",
       "  <tbody>\n",
       "    <tr>\n",
       "      <td>one</td>\n",
       "      <td>경기</td>\n",
       "      <td>2000</td>\n",
       "      <td>1.5</td>\n",
       "    </tr>\n",
       "    <tr>\n",
       "      <td>two</td>\n",
       "      <td>강원</td>\n",
       "      <td>2001</td>\n",
       "      <td>1.7</td>\n",
       "    </tr>\n",
       "    <tr>\n",
       "      <td>three</td>\n",
       "      <td>서울</td>\n",
       "      <td>2002</td>\n",
       "      <td>3.6</td>\n",
       "    </tr>\n",
       "    <tr>\n",
       "      <td>four</td>\n",
       "      <td>충북</td>\n",
       "      <td>2001</td>\n",
       "      <td>2.4</td>\n",
       "    </tr>\n",
       "    <tr>\n",
       "      <td>five</td>\n",
       "      <td>인천</td>\n",
       "      <td>2002</td>\n",
       "      <td>2.9</td>\n",
       "    </tr>\n",
       "  </tbody>\n",
       "</table>\n",
       "</div>"
      ],
      "text/plain": [
       "      state  year  pop\n",
       "one      경기  2000  1.5\n",
       "two      강원  2001  1.7\n",
       "three    서울  2002  3.6\n",
       "four     충북  2001  2.4\n",
       "five     인천  2002  2.9"
      ]
     },
     "execution_count": 436,
     "metadata": {},
     "output_type": "execute_result"
    }
   ],
   "source": [
    "data={'state': ['경기','강원','서울','충북','인천'],\n",
    "     'year' : [2000,2001,2002,2001,2002],\n",
    "     'pop': [1.5 , 1.7, 3.6, 2.4, 2.9]}\n",
    "frame2 = pd.DataFrame(data, index=['one','two','three','four','five'])\n",
    "frame2"
   ]
  },
  {
   "cell_type": "code",
   "execution_count": 43,
   "metadata": {},
   "outputs": [
    {
     "data": {
      "text/html": [
       "<div>\n",
       "<style scoped>\n",
       "    .dataframe tbody tr th:only-of-type {\n",
       "        vertical-align: middle;\n",
       "    }\n",
       "\n",
       "    .dataframe tbody tr th {\n",
       "        vertical-align: top;\n",
       "    }\n",
       "\n",
       "    .dataframe thead th {\n",
       "        text-align: right;\n",
       "    }\n",
       "</style>\n",
       "<table border=\"1\" class=\"dataframe\">\n",
       "  <thead>\n",
       "    <tr style=\"text-align: right;\">\n",
       "      <th></th>\n",
       "      <th>year</th>\n",
       "      <th>state</th>\n",
       "      <th>pop</th>\n",
       "      <th>debt</th>\n",
       "    </tr>\n",
       "  </thead>\n",
       "  <tbody>\n",
       "    <tr>\n",
       "      <td>one</td>\n",
       "      <td>2000</td>\n",
       "      <td>경기</td>\n",
       "      <td>1.5</td>\n",
       "      <td>NaN</td>\n",
       "    </tr>\n",
       "    <tr>\n",
       "      <td>two</td>\n",
       "      <td>2001</td>\n",
       "      <td>강원</td>\n",
       "      <td>1.7</td>\n",
       "      <td>NaN</td>\n",
       "    </tr>\n",
       "    <tr>\n",
       "      <td>three</td>\n",
       "      <td>2002</td>\n",
       "      <td>서울</td>\n",
       "      <td>3.6</td>\n",
       "      <td>NaN</td>\n",
       "    </tr>\n",
       "    <tr>\n",
       "      <td>four</td>\n",
       "      <td>2001</td>\n",
       "      <td>충북</td>\n",
       "      <td>2.4</td>\n",
       "      <td>NaN</td>\n",
       "    </tr>\n",
       "    <tr>\n",
       "      <td>five</td>\n",
       "      <td>2002</td>\n",
       "      <td>인천</td>\n",
       "      <td>2.9</td>\n",
       "      <td>NaN</td>\n",
       "    </tr>\n",
       "  </tbody>\n",
       "</table>\n",
       "</div>"
      ],
      "text/plain": [
       "       year state  pop debt\n",
       "one    2000    경기  1.5  NaN\n",
       "two    2001    강원  1.7  NaN\n",
       "three  2002    서울  3.6  NaN\n",
       "four   2001    충북  2.4  NaN\n",
       "five   2002    인천  2.9  NaN"
      ]
     },
     "execution_count": 43,
     "metadata": {},
     "output_type": "execute_result"
    }
   ],
   "source": [
    "data={'state': ['경기', '강원', '서울', '충북', '인천'],\n",
    "      'year':[2000,2001,2002,2001,2002],\n",
    "      'pop':[1.5,1.7,3.6,2.4,2.9]}\n",
    "\n",
    "frame2=pd.DataFrame(data, columns=['year', 'state', 'pop', 'debt'],\n",
    "                 index=['one', 'two', 'three', 'four', 'five']) \n",
    "frame2\n"
   ]
  },
  {
   "cell_type": "code",
   "execution_count": 70,
   "metadata": {},
   "outputs": [
    {
     "name": "stdout",
     "output_type": "stream",
     "text": [
      "one      경기\n",
      "two      강원\n",
      "three    서울\n",
      "four     충북\n",
      "five     인천\n",
      "Name: state, dtype: object\n",
      "one      경기\n",
      "two      강원\n",
      "three    서울\n",
      "four     충북\n",
      "five     인천\n",
      "Name: state, dtype: object\n"
     ]
    }
   ],
   "source": [
    "#1번 :  state 는 열이니까 아래처럼 접근한다. \n",
    "print(frame2['state'])\n",
    "print(frame2.state)"
   ]
  },
  {
   "cell_type": "code",
   "execution_count": 72,
   "metadata": {},
   "outputs": [
    {
     "name": "stdout",
     "output_type": "stream",
     "text": [
      "debt 값 적용후        year state  pop  debt\n",
      "one    2000    경기  1.5  16.5\n",
      "two    2001    강원  1.7  16.5\n",
      "three  2002    서울  3.6  16.5\n",
      "four   2001    충북  2.4  16.5\n",
      "five   2002    인천  2.9  16.5\n"
     ]
    }
   ],
   "source": [
    "#2) 키이데이터식으로 넣어주면 된다. \n",
    "\n",
    "frame2['debt'] = 16.5 \n",
    "print(\"debt 값 적용후\",frame2)"
   ]
  },
  {
   "cell_type": "code",
   "execution_count": 73,
   "metadata": {},
   "outputs": [
    {
     "name": "stdout",
     "output_type": "stream",
     "text": [
      "       year state  pop  debt\n",
      "one    2000    경기  1.5   NaN\n",
      "two    2001    강원  1.7  -1.2\n",
      "three  2002    서울  3.6   NaN\n",
      "four   2001    충북  2.4  -1.5\n",
      "five   2002    인천  2.9  -1.7\n"
     ]
    }
   ],
   "source": [
    "#3 # 2,4,5 에만 값을 바꿔봐라. \n",
    "\n",
    "val = pd.Series([-1.2, -1.5, -1.7], index =['two','four','five'])\n",
    "frame2['debt']=val\n",
    "print(frame2)\n"
   ]
  },
  {
   "cell_type": "code",
   "execution_count": 437,
   "metadata": {},
   "outputs": [
    {
     "name": "stdout",
     "output_type": "stream",
     "text": [
      "Index(['state', 'year', 'pop', 'estern'], dtype='object')\n"
     ]
    }
   ],
   "source": [
    "#4. \n",
    "frame2['estern']=frame2.state==\"서울\"\n",
    "#자동으로 하나씩 가져와서 비교한다. \n",
    "print(frame2.columns)"
   ]
  },
  {
   "cell_type": "code",
   "execution_count": 81,
   "metadata": {},
   "outputs": [],
   "source": [
    "# 만약 지우고싶다면\n",
    "del frame2['estern']"
   ]
  },
  {
   "cell_type": "code",
   "execution_count": 82,
   "metadata": {},
   "outputs": [
    {
     "data": {
      "text/html": [
       "<div>\n",
       "<style scoped>\n",
       "    .dataframe tbody tr th:only-of-type {\n",
       "        vertical-align: middle;\n",
       "    }\n",
       "\n",
       "    .dataframe tbody tr th {\n",
       "        vertical-align: top;\n",
       "    }\n",
       "\n",
       "    .dataframe thead th {\n",
       "        text-align: right;\n",
       "    }\n",
       "</style>\n",
       "<table border=\"1\" class=\"dataframe\">\n",
       "  <thead>\n",
       "    <tr style=\"text-align: right;\">\n",
       "      <th></th>\n",
       "      <th>year</th>\n",
       "      <th>state</th>\n",
       "      <th>pop</th>\n",
       "      <th>debt</th>\n",
       "    </tr>\n",
       "  </thead>\n",
       "  <tbody>\n",
       "    <tr>\n",
       "      <td>one</td>\n",
       "      <td>2000</td>\n",
       "      <td>경기</td>\n",
       "      <td>1.5</td>\n",
       "      <td>NaN</td>\n",
       "    </tr>\n",
       "    <tr>\n",
       "      <td>two</td>\n",
       "      <td>2001</td>\n",
       "      <td>강원</td>\n",
       "      <td>1.7</td>\n",
       "      <td>-1.2</td>\n",
       "    </tr>\n",
       "    <tr>\n",
       "      <td>three</td>\n",
       "      <td>2002</td>\n",
       "      <td>서울</td>\n",
       "      <td>3.6</td>\n",
       "      <td>NaN</td>\n",
       "    </tr>\n",
       "    <tr>\n",
       "      <td>four</td>\n",
       "      <td>2001</td>\n",
       "      <td>충북</td>\n",
       "      <td>2.4</td>\n",
       "      <td>-1.5</td>\n",
       "    </tr>\n",
       "    <tr>\n",
       "      <td>five</td>\n",
       "      <td>2002</td>\n",
       "      <td>인천</td>\n",
       "      <td>2.9</td>\n",
       "      <td>-1.7</td>\n",
       "    </tr>\n",
       "  </tbody>\n",
       "</table>\n",
       "</div>"
      ],
      "text/plain": [
       "       year state  pop  debt\n",
       "one    2000    경기  1.5   NaN\n",
       "two    2001    강원  1.7  -1.2\n",
       "three  2002    서울  3.6   NaN\n",
       "four   2001    충북  2.4  -1.5\n",
       "five   2002    인천  2.9  -1.7"
      ]
     },
     "execution_count": 82,
     "metadata": {},
     "output_type": "execute_result"
    }
   ],
   "source": [
    "frame2"
   ]
  },
  {
   "cell_type": "code",
   "execution_count": 83,
   "metadata": {},
   "outputs": [
    {
     "name": "stdout",
     "output_type": "stream",
     "text": [
      "2000\n"
     ]
    }
   ],
   "source": [
    "# 행열로 데이터 ㅊ ㅏㅈ을때 열이 먼저온다.\n",
    "print(frame2['year']['one'])  \n"
   ]
  },
  {
   "cell_type": "code",
   "execution_count": 84,
   "metadata": {},
   "outputs": [
    {
     "name": "stdout",
     "output_type": "stream",
     "text": [
      "2000\n"
     ]
    }
   ],
   "source": [
    "# 우리는 행,열순이 편하다. 그럴땐 loc / iloc\n",
    "print(frame2.loc['one','year'])"
   ]
  },
  {
   "cell_type": "code",
   "execution_count": null,
   "metadata": {},
   "outputs": [],
   "source": []
  },
  {
   "cell_type": "code",
   "execution_count": 85,
   "metadata": {},
   "outputs": [],
   "source": [
    "# \\시간함수\n",
    "# 리눅스 : timestamp  (1970.1.1 이후로 경과된 mili 초로 표현)\n",
    "\n",
    "# 판다스에서 내부적으로 데이터를 저장할때는 timestamp 형식으로 저장한다. \n",
    "# pandas 에서는 nano 초까지 표현한다. \n",
    "# 시간인덱스 : 시계열분석 : Datatimeindex, periodindex주기값을 지원한다. \n",
    "\n",
    "# 타임패키지의 타임은 파이썬에서 사용하는 것\n",
    "# time.time() : 2000.1.1 부터 경과된 mili 초로 표현\n",
    "#datatime(날짜와 시간을 표현) "
   ]
  },
  {
   "cell_type": "code",
   "execution_count": 93,
   "metadata": {},
   "outputs": [
    {
     "name": "stdout",
     "output_type": "stream",
     "text": [
      "1578383617.0959148\n",
      "time.struct_time(tm_year=2020, tm_mon=1, tm_mday=7, tm_hour=16, tm_min=53, tm_sec=37, tm_wday=1, tm_yday=7, tm_isdst=0)\n",
      "time.struct_time(tm_year=2020, tm_mon=1, tm_mday=6, tm_hour=16, tm_min=53, tm_sec=37, tm_wday=0, tm_yday=6, tm_isdst=0)\n"
     ]
    },
    {
     "data": {
      "text/plain": [
       "'2020 01 07'"
      ]
     },
     "execution_count": 93,
     "metadata": {},
     "output_type": "execute_result"
    }
   ],
   "source": [
    "import time\n",
    "print(time.time()) # 밀리초로 표현 (. 앞이 시분초/ . 뒤가 밀리초이다 ) \n",
    "print(time.localtime())  # 연월일, 시분초로 바꿔준다. \n",
    "yesterday = time.localtime(time.time()-60*60*24)  # --> 이런식으로 시간 연산도 가능하다. \n",
    "yesterday\n",
    "print(yesterday)\n",
    "time.strftime('%Y %m %d')  # time.strftime  을 쓰면 괄호뒤의 포맷으로 출력된다 (문자열로 변경됨) "
   ]
  },
  {
   "cell_type": "code",
   "execution_count": 97,
   "metadata": {},
   "outputs": [
    {
     "name": "stdout",
     "output_type": "stream",
     "text": [
      "2020-01-07 16:55:17.072071\n"
     ]
    },
    {
     "data": {
      "text/plain": [
       "1578383717.072071"
      ]
     },
     "execution_count": 97,
     "metadata": {},
     "output_type": "execute_result"
    }
   ],
   "source": [
    "from datetime import date, time, datetime, timedelta    # 시간차\n",
    "now = datetime.now()  # now 를 붙여주면 연, 월, 일 시분초를 출력한다.               \n",
    "print(now)\n",
    "now.year, now.month, now.day\n",
    "now.timestamp() # 시간을 밀리초로 표현하고 싶을 때, timestamp 를 호출한다. \n",
    "\n",
    "# 연월일로 출력되고 있다가 timestamp 에 의해서 밀리초로 표현\n"
   ]
  },
  {
   "cell_type": "code",
   "execution_count": 108,
   "metadata": {},
   "outputs": [
    {
     "name": "stdout",
     "output_type": "stream",
     "text": [
      "2020-01-07 16:55;17\n"
     ]
    }
   ],
   "source": [
    "now_str = now.strftime('%Y-%m-%d %H:%M;%S')# 이런형식으로 문자열을 만든다 (년월일시분초로 표현)\n",
    "print(now_str)  # 문자열이다. "
   ]
  },
  {
   "cell_type": "code",
   "execution_count": 106,
   "metadata": {},
   "outputs": [
    {
     "data": {
      "text/plain": [
       "datetime.datetime(2020, 1, 7, 16, 55, 17)"
      ]
     },
     "execution_count": 106,
     "metadata": {},
     "output_type": "execute_result"
    }
   ],
   "source": [
    "# 문자열로 들어오는 것 을 파싱한다. ('2019-11-01 11:49:09\" 와 같은 것을 날짜형식으로 변환해준다. )\n",
    "datetime.strptime(now_str, '%Y-%m-%d %H:%M;%S') "
   ]
  },
  {
   "cell_type": "code",
   "execution_count": 104,
   "metadata": {},
   "outputs": [],
   "source": [
    "delta = datetime(2015,1,7) -datetime(2010,6,24,8,14)"
   ]
  },
  {
   "cell_type": "code",
   "execution_count": 105,
   "metadata": {},
   "outputs": [
    {
     "name": "stdout",
     "output_type": "stream",
     "text": [
      "시간차는= 1657 days, 15:46:00 1657 56760\n"
     ]
    }
   ],
   "source": [
    "print(\"시간차는=\",delta,delta.days,delta.seconds)  # 초로표현하면 56760 만큼 차이나고, ??"
   ]
  },
  {
   "cell_type": "code",
   "execution_count": 109,
   "metadata": {},
   "outputs": [
    {
     "name": "stdout",
     "output_type": "stream",
     "text": [
      "시간차는= 1657 days, 15:46:00\n"
     ]
    }
   ],
   "source": [
    "print(\"시간차는=\",delta)"
   ]
  },
  {
   "cell_type": "code",
   "execution_count": 110,
   "metadata": {},
   "outputs": [
    {
     "name": "stdout",
     "output_type": "stream",
     "text": [
      "2019-01-19 00:00:00\n"
     ]
    }
   ],
   "source": [
    "start = datetime(2019,1,7)\n",
    "print(start+timedelta(12)) # 기본이 날짜로 12일 이후의 날짜를 출력해준다"
   ]
  },
  {
   "cell_type": "code",
   "execution_count": 111,
   "metadata": {},
   "outputs": [
    {
     "data": {
      "text/plain": [
       "datetime.datetime(2019, 1, 6, 19, 0)"
      ]
     },
     "execution_count": 111,
     "metadata": {},
     "output_type": "execute_result"
    }
   ],
   "source": [
    "start + timedelta(hours=-5) # 5시간 전을 표현해준다. "
   ]
  },
  {
   "cell_type": "code",
   "execution_count": 112,
   "metadata": {},
   "outputs": [
    {
     "name": "stdout",
     "output_type": "stream",
     "text": [
      "2020-01-07 17:06:57.969308\n",
      "2017-03-01 00:00:00\n",
      "2020-04-24 00:14:15\n"
     ]
    }
   ],
   "source": [
    "# 판다스에서 시간\n",
    "import pandas as pd\n",
    "print(pd.datetime.now())\n",
    "print(pd.Timestamp('2017-03-01'))\n",
    "print(pd.Timestamp(1587687255,unit='s'))\n"
   ]
  },
  {
   "cell_type": "code",
   "execution_count": 115,
   "metadata": {},
   "outputs": [
    {
     "name": "stdout",
     "output_type": "stream",
     "text": [
      "DatetimeIndex(['2020-01-07 11:00:00', '2020-01-07 11:30:00',\n",
      "               '2020-01-07 12:00:00', '2020-01-07 12:30:00',\n",
      "               '2020-01-07 13:00:00', '2020-01-07 13:30:00'],\n",
      "              dtype='datetime64[ns]', freq='30T')\n",
      "시간으로 [datetime.time(11, 0) datetime.time(11, 30) datetime.time(12, 0)\n",
      " datetime.time(12, 30) datetime.time(13, 0) datetime.time(13, 30)]\n",
      "DatetimeIndex(['2020-01-07 11:00:00', '2020-01-07 12:00:00',\n",
      "               '2020-01-07 13:00:00'],\n",
      "              dtype='datetime64[ns]', freq='H')\n"
     ]
    }
   ],
   "source": [
    "# 행을 지시하는 DatetimeIndex  만들어보자.      \n",
    "print(pd.date_range(\"11:00\",\"13:30\",freq=\"30min\")) # data_range 는 datetimeindex 를 생성한다.\n",
    "# 행은 인덱스, 열키는 colunms 라고 했다. \n",
    "#11시부터 1시30분까지 30분 단위로 만든다.\n",
    "\n",
    "\n",
    "\n",
    "print(\"시간으로\", pd.date_range(\"11:00\",\"13:30\",freq=\"30min\").time) # 그중 시간만 빼겠다\n",
    "\n",
    "print(pd.date_range(\"11:00\",\"13:30\",freq=\"H\")) # hour"
   ]
  },
  {
   "cell_type": "code",
   "execution_count": null,
   "metadata": {},
   "outputs": [],
   "source": [
    "\n"
   ]
  },
  {
   "cell_type": "code",
   "execution_count": 117,
   "metadata": {},
   "outputs": [
    {
     "name": "stdout",
     "output_type": "stream",
     "text": [
      "0   2009-07-31\n",
      "1   2010-01-10\n",
      "2          NaT\n",
      "dtype: datetime64[ns]\n",
      "DatetimeIndex(['2005-11-23', '2010-12-31', 'NaT'], dtype='datetime64[ns]', freq=None)\n"
     ]
    }
   ],
   "source": [
    "# 지정된 시간을 DatetimeIndex 로 생성\n",
    "print(pd.to_datetime(pd.Series(['Jul 31, 2009','2010-01-10',None])))\n",
    "print(pd.to_datetime(['2005/11/23','2010.12.31', None]))"
   ]
  },
  {
   "cell_type": "code",
   "execution_count": 118,
   "metadata": {},
   "outputs": [
    {
     "name": "stdout",
     "output_type": "stream",
     "text": [
      "DatetimeIndex(['2017-01-01', '2017-01-02', '2017-01-03', '2017-01-04',\n",
      "               '2017-01-05'],\n",
      "              dtype='datetime64[ns]', freq='D')\n"
     ]
    }
   ],
   "source": [
    "print(pd.date_range('1/1/2017',periods=5))  # 기본주기는 일간격이다. "
   ]
  },
  {
   "cell_type": "code",
   "execution_count": 119,
   "metadata": {},
   "outputs": [
    {
     "name": "stdout",
     "output_type": "stream",
     "text": [
      "DatetimeIndex(['2017-01-31', '2017-02-28', '2017-03-31', '2017-04-30',\n",
      "               '2017-05-31'],\n",
      "              dtype='datetime64[ns]', freq='M')\n"
     ]
    }
   ],
   "source": [
    "print(pd.date_range('1/1/2017',periods=5,freq=\"M\"))"
   ]
  },
  {
   "cell_type": "code",
   "execution_count": 122,
   "metadata": {},
   "outputs": [
    {
     "data": {
      "text/plain": [
       "<matplotlib.axes._subplots.AxesSubplot at 0x2138eadccc8>"
      ]
     },
     "execution_count": 122,
     "metadata": {},
     "output_type": "execute_result"
    },
    {
     "data": {
      "image/png": "[encoded data removed]",
      "text/plain": [
       "<Figure size 432x288 with 1 Axes>"
      ]
     },
     "metadata": {
      "needs_background": "light"
     },
     "output_type": "display_data"
    },
    {
     "data": {
      "image/png": "[encoded data removed]",
      "text/plain": [
       "<Figure size 432x288 with 1 Axes>"
      ]
     },
     "metadata": {
      "needs_background": "light"
     },
     "output_type": "display_data"
    },
    {
     "data": {
      "image/png": "[encoded data removed]",
      "text/plain": [
       "<Figure size 432x288 with 1 Axes>"
      ]
     },
     "metadata": {
      "needs_background": "light"
     },
     "output_type": "display_data"
    }
   ],
   "source": [
    "ts=pd.Series(np.random.randn(1000), index = pd.date_range('1/1/2000',periods=1000)) # 1000일에 대해서 \n",
    "# 날짜별로 np.random.randn(1000) 이 출력이 된다. \n",
    "ts=ts.cumsum()    \n",
    "ts.plot()\n",
    "\n",
    "df=pd.DataFrame(np.random.randn(1000,4),index=ts.index, columns=list('ABCD')) #index=ts.index --->  ts 에 있는 index 를 그대로 사용해라 \n",
    "# 1000x 4 로 이름은 A,B,C,D 인 데이터가 만들어진다. \n",
    "df=df.cumsum()\n",
    "df.plot()\n",
    "df.plot.bar()"
   ]
  },
  {
   "cell_type": "code",
   "execution_count": 128,
   "metadata": {},
   "outputs": [
    {
     "data": {
      "text/html": [
       "<div>\n",
       "<style scoped>\n",
       "    .dataframe tbody tr th:only-of-type {\n",
       "        vertical-align: middle;\n",
       "    }\n",
       "\n",
       "    .dataframe tbody tr th {\n",
       "        vertical-align: top;\n",
       "    }\n",
       "\n",
       "    .dataframe thead th {\n",
       "        text-align: right;\n",
       "    }\n",
       "</style>\n",
       "<table border=\"1\" class=\"dataframe\">\n",
       "  <thead>\n",
       "    <tr style=\"text-align: right;\">\n",
       "      <th></th>\n",
       "      <th>year</th>\n",
       "      <th>state</th>\n",
       "      <th>pop</th>\n",
       "      <th>debt</th>\n",
       "    </tr>\n",
       "  </thead>\n",
       "  <tbody>\n",
       "    <tr>\n",
       "      <td>one</td>\n",
       "      <td>2000</td>\n",
       "      <td>경기</td>\n",
       "      <td>1.5</td>\n",
       "      <td>NaN</td>\n",
       "    </tr>\n",
       "    <tr>\n",
       "      <td>two</td>\n",
       "      <td>2001</td>\n",
       "      <td>강원</td>\n",
       "      <td>1.7</td>\n",
       "      <td>NaN</td>\n",
       "    </tr>\n",
       "    <tr>\n",
       "      <td>three</td>\n",
       "      <td>2002</td>\n",
       "      <td>서울</td>\n",
       "      <td>3.6</td>\n",
       "      <td>NaN</td>\n",
       "    </tr>\n",
       "    <tr>\n",
       "      <td>four</td>\n",
       "      <td>2001</td>\n",
       "      <td>충북</td>\n",
       "      <td>2.4</td>\n",
       "      <td>NaN</td>\n",
       "    </tr>\n",
       "    <tr>\n",
       "      <td>five</td>\n",
       "      <td>2002</td>\n",
       "      <td>인천</td>\n",
       "      <td>2.9</td>\n",
       "      <td>NaN</td>\n",
       "    </tr>\n",
       "  </tbody>\n",
       "</table>\n",
       "</div>"
      ],
      "text/plain": [
       "       year state  pop debt\n",
       "one    2000    경기  1.5  NaN\n",
       "two    2001    강원  1.7  NaN\n",
       "three  2002    서울  3.6  NaN\n",
       "four   2001    충북  2.4  NaN\n",
       "five   2002    인천  2.9  NaN"
      ]
     },
     "execution_count": 128,
     "metadata": {},
     "output_type": "execute_result"
    }
   ],
   "source": [
    "data={'state': ['경기', '강원', '서울', '충북', '인천'],\n",
    "      'year':[2000,2001,2002,2001,2002],\n",
    "      'pop':[1.5,1.7,3.6,2.4,2.9]}\n",
    "\n",
    "frame2=pd.DataFrame(data, columns=['year', 'state', 'pop', 'debt'],\n",
    "                 index=['one', 'two', 'three', 'four', 'five']) \n",
    "frame2"
   ]
  },
  {
   "cell_type": "code",
   "execution_count": null,
   "metadata": {},
   "outputs": [],
   "source": [
    "# 문제 다음 데이터를 데이터프레임에 저장하시요\n",
    "#         지역  2018     2017   2016     2015 2015-2018증가율\n",
    "# 서울 수도권  9904312 9631482 9762546 9853972    0.0283\n",
    "# 부산 경상권  3448737 3393191 3512547 3655437    0.0163\n",
    "# 인천 수도권  2890451 2632035 2517680 2466338    0.0982\n",
    "# 대구 경상권  2466052 2431774 2456016 2473990    0.0141 "
   ]
  },
  {
   "cell_type": "code",
   "execution_count": 130,
   "metadata": {},
   "outputs": [],
   "source": [
    "# 컬림 이름과 INDEX 이름은 다음과 같을 때 문제를 풀어라.\n",
    "columns = ['지역','2015','2016','2017','2018','2015-2018 증가율']\n",
    "index = ['서울','부산','인천','대구']"
   ]
  },
  {
   "cell_type": "code",
   "execution_count": 131,
   "metadata": {},
   "outputs": [],
   "source": [
    "# 문제 : '2015-2018 증가율' 을 % 로 변경하시오\n",
    "# 문제 : 2015-2017 의 증가율을 구해서 변수를 추가하시오\n",
    "#   ( 열이름 : '2015-2017 증가율')"
   ]
  },
  {
   "cell_type": "code",
   "execution_count": 136,
   "metadata": {},
   "outputs": [
    {
     "data": {
      "text/html": [
       "<div>\n",
       "<style scoped>\n",
       "    .dataframe tbody tr th:only-of-type {\n",
       "        vertical-align: middle;\n",
       "    }\n",
       "\n",
       "    .dataframe tbody tr th {\n",
       "        vertical-align: top;\n",
       "    }\n",
       "\n",
       "    .dataframe thead th {\n",
       "        text-align: right;\n",
       "    }\n",
       "</style>\n",
       "<table border=\"1\" class=\"dataframe\">\n",
       "  <thead>\n",
       "    <tr style=\"text-align: right;\">\n",
       "      <th></th>\n",
       "      <th>지역</th>\n",
       "      <th>2015</th>\n",
       "      <th>2016</th>\n",
       "      <th>2017</th>\n",
       "      <th>2018</th>\n",
       "      <th>2015-2018 증가율</th>\n",
       "    </tr>\n",
       "  </thead>\n",
       "  <tbody>\n",
       "    <tr>\n",
       "      <td>서울</td>\n",
       "      <td>수도권</td>\n",
       "      <td>9853972</td>\n",
       "      <td>9762546</td>\n",
       "      <td>9631482</td>\n",
       "      <td>9904312</td>\n",
       "      <td>0.0283</td>\n",
       "    </tr>\n",
       "    <tr>\n",
       "      <td>부산</td>\n",
       "      <td>경상권</td>\n",
       "      <td>3655437</td>\n",
       "      <td>3512547</td>\n",
       "      <td>3393191</td>\n",
       "      <td>3448737</td>\n",
       "      <td>0.0163</td>\n",
       "    </tr>\n",
       "    <tr>\n",
       "      <td>인천</td>\n",
       "      <td>수도권</td>\n",
       "      <td>2466338</td>\n",
       "      <td>2517680</td>\n",
       "      <td>2632035</td>\n",
       "      <td>2890451</td>\n",
       "      <td>0.0982</td>\n",
       "    </tr>\n",
       "    <tr>\n",
       "      <td>대구</td>\n",
       "      <td>경상권</td>\n",
       "      <td>2473990</td>\n",
       "      <td>2456016</td>\n",
       "      <td>2431774</td>\n",
       "      <td>2644052</td>\n",
       "      <td>0.0141</td>\n",
       "    </tr>\n",
       "  </tbody>\n",
       "</table>\n",
       "</div>"
      ],
      "text/plain": [
       "     지역     2015     2016     2017     2018  2015-2018 증가율\n",
       "서울  수도권  9853972  9762546  9631482  9904312         0.0283\n",
       "부산  경상권  3655437  3512547  3393191  3448737         0.0163\n",
       "인천  수도권  2466338  2517680  2632035  2890451         0.0982\n",
       "대구  경상권  2473990  2456016  2431774  2644052         0.0141"
      ]
     },
     "execution_count": 136,
     "metadata": {},
     "output_type": "execute_result"
    }
   ],
   "source": [
    "data={'2016' : [9762546,3512547,2517680,2456016],\n",
    "      '2017' : [9631482,3393191,2632035,2431774],\n",
    "      '2018' : [9904312,3448737,2890451,2644052],\n",
    "      '2015' : [9853972,3655437,2466338,2473990],\n",
    "      '2015-2018 증가율' : [0.0283,0.0163,0.0982,0.0141],\n",
    "      '지역' : ['수도권','경상권', '수도권', '경상권']}\n",
    "\n",
    "df = pd.DataFrame(data,columns=['지역','2015','2016','2017','2018','2015-2018 증가율'],\n",
    "                 index=['서울','부산','인천','대구'])\n",
    "\n",
    "  \n",
    "df\n"
   ]
  },
  {
   "cell_type": "code",
   "execution_count": 146,
   "metadata": {},
   "outputs": [
    {
     "data": {
      "text/html": [
       "<div>\n",
       "<style scoped>\n",
       "    .dataframe tbody tr th:only-of-type {\n",
       "        vertical-align: middle;\n",
       "    }\n",
       "\n",
       "    .dataframe tbody tr th {\n",
       "        vertical-align: top;\n",
       "    }\n",
       "\n",
       "    .dataframe thead th {\n",
       "        text-align: right;\n",
       "    }\n",
       "</style>\n",
       "<table border=\"1\" class=\"dataframe\">\n",
       "  <thead>\n",
       "    <tr style=\"text-align: right;\">\n",
       "      <th></th>\n",
       "      <th>지역</th>\n",
       "      <th>2015</th>\n",
       "      <th>2016</th>\n",
       "      <th>2017</th>\n",
       "      <th>2018</th>\n",
       "      <th>2015-2018 증가율</th>\n",
       "    </tr>\n",
       "  </thead>\n",
       "  <tbody>\n",
       "    <tr>\n",
       "      <td>서울</td>\n",
       "      <td>수도권</td>\n",
       "      <td>9853972</td>\n",
       "      <td>9762546</td>\n",
       "      <td>9631482</td>\n",
       "      <td>9904312</td>\n",
       "      <td>2.83</td>\n",
       "    </tr>\n",
       "    <tr>\n",
       "      <td>부산</td>\n",
       "      <td>경상권</td>\n",
       "      <td>3655437</td>\n",
       "      <td>3512547</td>\n",
       "      <td>3393191</td>\n",
       "      <td>3448737</td>\n",
       "      <td>1.63</td>\n",
       "    </tr>\n",
       "    <tr>\n",
       "      <td>인천</td>\n",
       "      <td>수도권</td>\n",
       "      <td>2466338</td>\n",
       "      <td>2517680</td>\n",
       "      <td>2632035</td>\n",
       "      <td>2890451</td>\n",
       "      <td>9.82</td>\n",
       "    </tr>\n",
       "    <tr>\n",
       "      <td>대구</td>\n",
       "      <td>경상권</td>\n",
       "      <td>2473990</td>\n",
       "      <td>2456016</td>\n",
       "      <td>2431774</td>\n",
       "      <td>2644052</td>\n",
       "      <td>1.41</td>\n",
       "    </tr>\n",
       "  </tbody>\n",
       "</table>\n",
       "</div>"
      ],
      "text/plain": [
       "     지역     2015     2016     2017     2018  2015-2018 증가율\n",
       "서울  수도권  9853972  9762546  9631482  9904312           2.83\n",
       "부산  경상권  3655437  3512547  3393191  3448737           1.63\n",
       "인천  수도권  2466338  2517680  2632035  2890451           9.82\n",
       "대구  경상권  2473990  2456016  2431774  2644052           1.41"
      ]
     },
     "execution_count": 146,
     "metadata": {},
     "output_type": "execute_result"
    }
   ],
   "source": [
    "#1번\n",
    "df['2015-2018 증가율']=df['2015-2018 증가율']*100\n",
    "df"
   ]
  },
  {
   "cell_type": "code",
   "execution_count": 152,
   "metadata": {},
   "outputs": [
    {
     "data": {
      "text/html": [
       "<div>\n",
       "<style scoped>\n",
       "    .dataframe tbody tr th:only-of-type {\n",
       "        vertical-align: middle;\n",
       "    }\n",
       "\n",
       "    .dataframe tbody tr th {\n",
       "        vertical-align: top;\n",
       "    }\n",
       "\n",
       "    .dataframe thead th {\n",
       "        text-align: right;\n",
       "    }\n",
       "</style>\n",
       "<table border=\"1\" class=\"dataframe\">\n",
       "  <thead>\n",
       "    <tr style=\"text-align: right;\">\n",
       "      <th></th>\n",
       "      <th>지역</th>\n",
       "      <th>2015</th>\n",
       "      <th>2016</th>\n",
       "      <th>2017</th>\n",
       "      <th>2018</th>\n",
       "      <th>2015-2018 증가율</th>\n",
       "      <th>2015-2017 증가율</th>\n",
       "    </tr>\n",
       "  </thead>\n",
       "  <tbody>\n",
       "    <tr>\n",
       "      <td>서울</td>\n",
       "      <td>수도권</td>\n",
       "      <td>9853972</td>\n",
       "      <td>9762546</td>\n",
       "      <td>9631482</td>\n",
       "      <td>9904312</td>\n",
       "      <td>2.83</td>\n",
       "      <td>0.022579</td>\n",
       "    </tr>\n",
       "    <tr>\n",
       "      <td>부산</td>\n",
       "      <td>경상권</td>\n",
       "      <td>3655437</td>\n",
       "      <td>3512547</td>\n",
       "      <td>3393191</td>\n",
       "      <td>3448737</td>\n",
       "      <td>1.63</td>\n",
       "      <td>0.071741</td>\n",
       "    </tr>\n",
       "    <tr>\n",
       "      <td>인천</td>\n",
       "      <td>수도권</td>\n",
       "      <td>2466338</td>\n",
       "      <td>2517680</td>\n",
       "      <td>2632035</td>\n",
       "      <td>2890451</td>\n",
       "      <td>9.82</td>\n",
       "      <td>-0.067183</td>\n",
       "    </tr>\n",
       "    <tr>\n",
       "      <td>대구</td>\n",
       "      <td>경상권</td>\n",
       "      <td>2473990</td>\n",
       "      <td>2456016</td>\n",
       "      <td>2431774</td>\n",
       "      <td>2644052</td>\n",
       "      <td>1.41</td>\n",
       "      <td>0.017064</td>\n",
       "    </tr>\n",
       "  </tbody>\n",
       "</table>\n",
       "</div>"
      ],
      "text/plain": [
       "     지역     2015     2016     2017     2018  2015-2018 증가율  2015-2017 증가율\n",
       "서울  수도권  9853972  9762546  9631482  9904312           2.83       0.022579\n",
       "부산  경상권  3655437  3512547  3393191  3448737           1.63       0.071741\n",
       "인천  수도권  2466338  2517680  2632035  2890451           9.82      -0.067183\n",
       "대구  경상권  2473990  2456016  2431774  2644052           1.41       0.017064"
      ]
     },
     "execution_count": 152,
     "metadata": {},
     "output_type": "execute_result"
    }
   ],
   "source": [
    "#2번\n",
    "df['2015-2017 증가율'] = (df['2015']-df['2017'])/df['2015']\n",
    "df"
   ]
  },
  {
   "cell_type": "code",
   "execution_count": null,
   "metadata": {},
   "outputs": [],
   "source": []
  },
  {
   "cell_type": "code",
   "execution_count": null,
   "metadata": {},
   "outputs": [],
   "source": []
  }
 ],
 "metadata": {
  "kernelspec": {
   "display_name": "Python 3",
   "language": "python",
   "name": "python3"
  },
  "language_info": {
   "codemirror_mode": {
    "name": "ipython",
    "version": 3
   },
   "file_extension": ".py",
   "mimetype": "text/x-python",
   "name": "python",
   "nbconvert_exporter": "python",
   "pygments_lexer": "ipython3",
   "version": "3.7.4"
  }
 },
 "nbformat": 4,
 "nbformat_minor": 2
}
